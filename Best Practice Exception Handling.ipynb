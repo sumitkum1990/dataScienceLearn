{
 "cells": [
  {
   "cell_type": "code",
   "execution_count": 2,
   "id": "164a6c6e-f512-473b-8abc-89a9e3568e55",
   "metadata": {},
   "outputs": [
    {
     "name": "stdout",
     "output_type": "stream",
     "text": [
      "division by zero\n"
     ]
    }
   ],
   "source": [
    "# use always a specific exception\n",
    "try:\n",
    "    10/0\n",
    "except Exception as e:\n",
    "    print(e)"
   ]
  },
  {
   "cell_type": "code",
   "execution_count": 3,
   "id": "f3ff79c8-d184-478e-a064-1ec12be0a34a",
   "metadata": {},
   "outputs": [
    {
     "name": "stdout",
     "output_type": "stream",
     "text": [
      "division by zero\n"
     ]
    }
   ],
   "source": [
    "try:\n",
    "    10/0\n",
    "except ZeroDivisionError as e:\n",
    "    print(e)"
   ]
  },
  {
   "cell_type": "code",
   "execution_count": 4,
   "id": "c1ce45ea-2ff7-44f6-96b9-05e3c30dc6be",
   "metadata": {},
   "outputs": [
    {
     "name": "stdout",
     "output_type": "stream",
     "text": [
      "this is my divison by Zero , i am handling division by zero\n"
     ]
    }
   ],
   "source": [
    "#print always a valid message\n",
    "try:\n",
    "    10/0\n",
    "except ZeroDivisionError as e:\n",
    "    print(\"this is my divison by Zero , i am handling\",e)"
   ]
  },
  {
   "cell_type": "code",
   "execution_count": 10,
   "id": "e72cebf2-5b17-4f68-b492-16cf5c7356b1",
   "metadata": {},
   "outputs": [],
   "source": [
    "#always try to log\n",
    "import logging\n",
    "logging.basicConfig(filename = \"error1.log\", level = logging.ERROR)\n",
    "try:\n",
    "    10/0\n",
    "except  ZeroDivisionError as e:\n",
    "    logging.error(\"this is my divison by Zero , i am handling\".format(e))\n",
    "    "
   ]
  },
  {
   "cell_type": "code",
   "execution_count": 12,
   "id": "cd48ac59-f67a-4a0b-894c-883ca5776950",
   "metadata": {},
   "outputs": [],
   "source": [
    "#always try to log\n",
    "import logging\n",
    "logging.basicConfig(filename = \"error1.log\", level = logging.ERROR)\n",
    "try:\n",
    "    10/0\n",
    "except  ZeroDivisionError as e:\n",
    "    logging.error(\"this is my divison by Zero , i am handling\".format(e))\n",
    "    logging.error(\"this is my custme error\".format(e))\n",
    "    "
   ]
  },
  {
   "cell_type": "code",
   "execution_count": 14,
   "id": "795bb398-e576-4361-b93b-be18e76686c6",
   "metadata": {},
   "outputs": [],
   "source": [
    "#Always avoid to write multiple exception handling\n",
    "try:\n",
    "    10/0\n",
    "except FileNotFoundError as e:\n",
    "    logging.error(\"this is my file not found error {}\".format(e))\n",
    "except AttributeError as e:\n",
    "    logging.error(\"this is my Attribute error {}\".format(e))\n",
    "except  ZeroDivisionError as e:\n",
    "    logging.error(\"this is my divison by Zero , i am handling {}\".format(e))"
   ]
  },
  {
   "cell_type": "code",
   "execution_count": 15,
   "id": "442706b3-ea9e-4f09-8907-2e78a38f3a0e",
   "metadata": {},
   "outputs": [],
   "source": [
    "#always try to prepare proper documentation with proper meaningful information"
   ]
  },
  {
   "cell_type": "code",
   "execution_count": 16,
   "id": "a92ab0cf-3a81-4661-9c4f-67cb5b9256f7",
   "metadata": {},
   "outputs": [],
   "source": [
    "#cleanup all the resources\n",
    "\n",
    "try :\n",
    "    with open(\"test.txt\", \"w\") as f:\n",
    "        f.write(\"this is my msg to file\")\n",
    "except FileNotFoundError as e:\n",
    "    logging.error(\"this is file not found {}\".format(e))\n",
    "    \n",
    "finally :\n",
    "    f.close()"
   ]
  },
  {
   "cell_type": "code",
   "execution_count": null,
   "id": "654a133d-1de7-4955-8227-a3957336bc53",
   "metadata": {},
   "outputs": [],
   "source": []
  }
 ],
 "metadata": {
  "kernelspec": {
   "display_name": "Python 3 (ipykernel)",
   "language": "python",
   "name": "python3"
  },
  "language_info": {
   "codemirror_mode": {
    "name": "ipython",
    "version": 3
   },
   "file_extension": ".py",
   "mimetype": "text/x-python",
   "name": "python",
   "nbconvert_exporter": "python",
   "pygments_lexer": "ipython3",
   "version": "3.10.8"
  }
 },
 "nbformat": 4,
 "nbformat_minor": 5
}
