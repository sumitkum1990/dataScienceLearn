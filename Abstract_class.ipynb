{
 "cells": [
  {
   "cell_type": "code",
   "execution_count": 2,
   "id": "48f64b09-5fa3-4d0d-8b1d-2410e0b62ea6",
   "metadata": {},
   "outputs": [],
   "source": [
    "class pwskills :\n",
    "    pass"
   ]
  },
  {
   "cell_type": "code",
   "execution_count": 5,
   "id": "a516c6ea-386c-453e-97df-3a5e476399f2",
   "metadata": {},
   "outputs": [],
   "source": [
    "import abc\n",
    "\n",
    "class pwskills :\n",
    "    \n",
    "    abc.abstractmethod\n",
    "    def student_details(self):\n",
    "        pass\n",
    "    abc.abstractmethod\n",
    "    def student_assinment(self):\n",
    "        pass\n",
    "    abc.abstractmethod\n",
    "    def student_marks(self):\n",
    "        pass"
   ]
  },
  {
   "cell_type": "code",
   "execution_count": 7,
   "id": "771c2eae-aeaa-4d7b-8c6d-47637c5f459c",
   "metadata": {},
   "outputs": [],
   "source": [
    "class data_science(pwskills):\n",
    "    \n",
    "    def student_details(self):\n",
    "        return \"it will try to return a detais of data science masters\"\n",
    "    \n",
    "    def student_assinment(self):\n",
    "        return \" it will try to return a assinment of data science masters\"\n",
    "    "
   ]
  },
  {
   "cell_type": "code",
   "execution_count": 8,
   "id": "76ecdca9-83ed-42ae-9725-a79ab56702f3",
   "metadata": {},
   "outputs": [],
   "source": [
    "class web_dev(pwskills):\n",
    "    \n",
    "    def student_details(self):\n",
    "        return \"this will return a details of web dev\"\n",
    "    \n",
    "    def student_marks(self):\n",
    "        return \"this will return a marks of web dev class\"\n",
    "    "
   ]
  },
  {
   "cell_type": "code",
   "execution_count": 9,
   "id": "8757a8fd-b74b-41b4-a80f-e0a3155fc74d",
   "metadata": {},
   "outputs": [
    {
     "data": {
      "text/plain": [
       "'it will try to return a detais of data science masters'"
      ]
     },
     "execution_count": 9,
     "metadata": {},
     "output_type": "execute_result"
    }
   ],
   "source": [
    "ds = data_science()\n",
    "ds.student_details()"
   ]
  },
  {
   "cell_type": "code",
   "execution_count": 10,
   "id": "51fcbc4e-21d6-4fc1-b311-d1a09f83c056",
   "metadata": {},
   "outputs": [
    {
     "data": {
      "text/plain": [
       "'this will return a details of web dev'"
      ]
     },
     "execution_count": 10,
     "metadata": {},
     "output_type": "execute_result"
    }
   ],
   "source": [
    "wb = web_dev()\n",
    "wb.student_details()"
   ]
  },
  {
   "cell_type": "code",
   "execution_count": 11,
   "id": "d6d98ef0-d8fc-4d69-b55f-864b9cf6bc21",
   "metadata": {},
   "outputs": [],
   "source": [
    "wb.student_assinment()"
   ]
  },
  {
   "cell_type": "code",
   "execution_count": null,
   "id": "94cc2cf6-6284-493b-baa6-3803b1ff8d75",
   "metadata": {},
   "outputs": [],
   "source": []
  }
 ],
 "metadata": {
  "kernelspec": {
   "display_name": "Python 3 (ipykernel)",
   "language": "python",
   "name": "python3"
  },
  "language_info": {
   "codemirror_mode": {
    "name": "ipython",
    "version": 3
   },
   "file_extension": ".py",
   "mimetype": "text/x-python",
   "name": "python",
   "nbconvert_exporter": "python",
   "pygments_lexer": "ipython3",
   "version": "3.10.8"
  }
 },
 "nbformat": 4,
 "nbformat_minor": 5
}
