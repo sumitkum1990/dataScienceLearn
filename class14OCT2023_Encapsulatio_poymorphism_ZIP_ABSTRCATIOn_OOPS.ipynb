{
 "cells": [
  {
   "cell_type": "code",
   "execution_count": 1,
   "id": "de861f6b-befe-4ffa-acb4-bfb26f1e410f",
   "metadata": {},
   "outputs": [],
   "source": [
    "#polymorphism"
   ]
  },
  {
   "cell_type": "code",
   "execution_count": 4,
   "id": "86be9a4e-b517-41f7-9870-ba23d2ab32a0",
   "metadata": {},
   "outputs": [],
   "source": [
    "def test(a,b):\n",
    "    return a+b"
   ]
  },
  {
   "cell_type": "code",
   "execution_count": 5,
   "id": "42548e9d-200e-4432-b801-bd9f78af5953",
   "metadata": {},
   "outputs": [
    {
     "data": {
      "text/plain": [
       "7"
      ]
     },
     "execution_count": 5,
     "metadata": {},
     "output_type": "execute_result"
    }
   ],
   "source": [
    "test(3,4)"
   ]
  },
  {
   "cell_type": "code",
   "execution_count": 6,
   "id": "122eee4b-3af8-44c7-b77b-f71b8e148078",
   "metadata": {},
   "outputs": [
    {
     "data": {
      "text/plain": [
       "'SumitKumar'"
      ]
     },
     "execution_count": 6,
     "metadata": {},
     "output_type": "execute_result"
    }
   ],
   "source": [
    "test(\"Sumit\",\"Kumar\")"
   ]
  },
  {
   "cell_type": "code",
   "execution_count": 9,
   "id": "36ab1975-aecc-4383-8b18-8259a16e2ebe",
   "metadata": {},
   "outputs": [
    {
     "name": "stdout",
     "output_type": "stream",
     "text": [
      "this will give details for Data science student \n",
      "this will give details for Big Data  student \n"
     ]
    }
   ],
   "source": [
    "\n",
    "#Polymorphism with Method Overriding\n",
    "class pwskills:\n",
    "    def student(self):\n",
    "        pass\n",
    "\n",
    "class datascience(pwskills):\n",
    "    def student(self):\n",
    "        print(\"this will give details for Data science student \")\n",
    "        \n",
    "class bigdata(pwskills):\n",
    "    def student(self):\n",
    "        print(\"this will give details for Big Data  student \")\n",
    "        \n",
    "yash = datascience()\n",
    "farhana = bigdata()\n",
    "\n",
    "yash.student()\n",
    "farhana.student()\n",
    "        \n",
    "        "
   ]
  },
  {
   "cell_type": "code",
   "execution_count": 10,
   "id": "405438a2-e093-4c6f-8d55-1380bddb8a01",
   "metadata": {},
   "outputs": [],
   "source": [
    "pw = pwskills()\n",
    "pw.student()"
   ]
  },
  {
   "cell_type": "code",
   "execution_count": 12,
   "id": "2481b084-3e83-49d0-a5b6-c74a75449010",
   "metadata": {},
   "outputs": [
    {
     "name": "stdout",
     "output_type": "stream",
     "text": [
      "3 22\n"
     ]
    }
   ],
   "source": [
    "\n",
    "#Polymorphism with Method Overloading\n",
    "\n",
    "class bigdata:\n",
    "    def __init__(self, number_of_class,number_of_student):\n",
    "        self.number_of_class = number_of_class\n",
    "        self.number_of_student = number_of_student\n",
    "        \n",
    "    def __add__(self, other):\n",
    "        return bigdata(self.number_of_class+ other.number_of_class,self.number_of_student+other.number_of_student)\n",
    "\n",
    "c1 = bigdata(1,10)\n",
    "c2 = bigdata(2,12)\n",
    "        \n",
    "result = c1+c2\n",
    "print(result.number_of_class,result.number_of_student)"
   ]
  },
  {
   "cell_type": "code",
   "execution_count": 13,
   "id": "a3fd6381-ddca-446b-98e4-1490d093df83",
   "metadata": {},
   "outputs": [
    {
     "name": "stdout",
     "output_type": "stream",
     "text": [
      "<__main__.bigdata object at 0x7fdd9d2a6980>\n"
     ]
    }
   ],
   "source": [
    "print(c1)"
   ]
  },
  {
   "cell_type": "code",
   "execution_count": 14,
   "id": "447756d2-c0c9-4cd7-9b90-a3acf4c00f0a",
   "metadata": {},
   "outputs": [
    {
     "name": "stdout",
     "output_type": "stream",
     "text": [
      "<__main__.bigdata object at 0x7fdd9d2a79a0>\n"
     ]
    }
   ],
   "source": [
    "print(c2)"
   ]
  },
  {
   "cell_type": "code",
   "execution_count": 15,
   "id": "9670d51d-3cc4-419c-865b-93724d77d3bf",
   "metadata": {},
   "outputs": [
    {
     "name": "stdout",
     "output_type": "stream",
     "text": [
      "<__main__.bigdata object at 0x7fdd9d2a6680>\n"
     ]
    }
   ],
   "source": [
    "print(result)"
   ]
  },
  {
   "cell_type": "code",
   "execution_count": 17,
   "id": "4112617e-784c-40ca-8154-9797b6618035",
   "metadata": {},
   "outputs": [
    {
     "name": "stdout",
     "output_type": "stream",
     "text": [
      "5 34\n"
     ]
    }
   ],
   "source": [
    "\n",
    "#Polymorphism with Method Overloading\n",
    "\n",
    "class bigdata:\n",
    "    def __init__(self, number_of_class,number_of_student):\n",
    "        self.number_of_class = number_of_class\n",
    "        self.number_of_student = number_of_student\n",
    "        \n",
    "    def __add__(self, other):#method overload\n",
    "        return bigdata(self.number_of_class+ other.number_of_class,self.number_of_student+other.number_of_student)\n",
    "\n",
    "c1 = bigdata(1,10)\n",
    "c2 = bigdata(2,12)\n",
    "c3 = bigdata(2,12)\n",
    "result = c1+c2+c3\n",
    "print(result.number_of_class,result.number_of_student)"
   ]
  },
  {
   "cell_type": "code",
   "execution_count": 18,
   "id": "bfb8dafc-2c89-4165-bdf7-2ab625132af4",
   "metadata": {},
   "outputs": [],
   "source": [
    "class datascience():\n",
    "    def student(self):\n",
    "        print(\"this will give details for Data science student \")"
   ]
  },
  {
   "cell_type": "code",
   "execution_count": 19,
   "id": "452c56cf-6067-49eb-b24a-acfb008d3a7a",
   "metadata": {},
   "outputs": [
    {
     "ename": "TypeError",
     "evalue": "unsupported operand type(s) for +: 'datascience' and 'datascience'",
     "output_type": "error",
     "traceback": [
      "\u001b[0;31m---------------------------------------------------------------------------\u001b[0m",
      "\u001b[0;31mTypeError\u001b[0m                                 Traceback (most recent call last)",
      "Cell \u001b[0;32mIn[19], line 4\u001b[0m\n\u001b[1;32m      2\u001b[0m e2 \u001b[38;5;241m=\u001b[39m datascience()\n\u001b[1;32m      3\u001b[0m e3 \u001b[38;5;241m=\u001b[39m datascience()\n\u001b[0;32m----> 4\u001b[0m r \u001b[38;5;241m=\u001b[39m \u001b[43me1\u001b[49m\u001b[38;5;241;43m+\u001b[39;49m\u001b[43me3\u001b[49m\u001b[38;5;241m+\u001b[39me3\n",
      "\u001b[0;31mTypeError\u001b[0m: unsupported operand type(s) for +: 'datascience' and 'datascience'"
     ]
    }
   ],
   "source": [
    "e1 = datascience()\n",
    "e2 = datascience()\n",
    "e3 = datascience()\n",
    "r = e1+e3+e3"
   ]
  },
  {
   "cell_type": "code",
   "execution_count": 20,
   "id": "9ef25139-a959-4d6b-87b7-6d5527891535",
   "metadata": {},
   "outputs": [],
   "source": [
    "\n",
    "#Polymorphism by ducktyping\n",
    "class datascience:\n",
    "    def student(self):\n",
    "        print(\"this will give details for Data science student \")\n",
    "        \n",
    "class bigdata:\n",
    "    def student(self):\n",
    "        print(\"this will give details for Big Data  student \")\n",
    "\n",
    "def output_class(class_obj):\n",
    "    return class_obj.student()\n",
    "\n",
    "        "
   ]
  },
  {
   "cell_type": "code",
   "execution_count": 21,
   "id": "57dd7257-17d3-4888-afa0-f3036e49c3bc",
   "metadata": {},
   "outputs": [],
   "source": [
    "sesha = datascience()\n",
    "sashi = bigdata()\n"
   ]
  },
  {
   "cell_type": "code",
   "execution_count": 22,
   "id": "a8dd8fb4-7300-4904-9bbb-73f040d6bc1f",
   "metadata": {},
   "outputs": [
    {
     "name": "stdout",
     "output_type": "stream",
     "text": [
      "this will give details for Data science student \n"
     ]
    }
   ],
   "source": [
    "output_class(sesha)"
   ]
  },
  {
   "cell_type": "code",
   "execution_count": 23,
   "id": "4194edfb-c4e8-4082-9357-2ca62e5b55b9",
   "metadata": {},
   "outputs": [
    {
     "name": "stdout",
     "output_type": "stream",
     "text": [
      "this will give details for Big Data  student \n"
     ]
    }
   ],
   "source": [
    "output_class(sashi)"
   ]
  },
  {
   "cell_type": "code",
   "execution_count": 27,
   "id": "51e03025-7358-466a-8d4c-5a0ba69f6736",
   "metadata": {},
   "outputs": [],
   "source": [
    "class pwsklls:\n",
    "    def student(self):\n",
    "        print(\"this is pwskills student \")\n",
    "        \n",
    "class datascience(pwskills):\n",
    "    def student(self):\n",
    "        print(\"this will give details for  Data scinece  student \")"
   ]
  },
  {
   "cell_type": "code",
   "execution_count": 28,
   "id": "75143dbe-e582-4f49-992e-04195e110c4c",
   "metadata": {},
   "outputs": [
    {
     "name": "stdout",
     "output_type": "stream",
     "text": [
      "this will give details for  Data scinece  student \n"
     ]
    }
   ],
   "source": [
    "ujwal = datascience()\n",
    "ujwal.student()"
   ]
  },
  {
   "cell_type": "code",
   "execution_count": 29,
   "id": "df1bd869-8227-4ea0-aa9f-0f44fa9c64e5",
   "metadata": {},
   "outputs": [
    {
     "data": {
      "text/plain": [
       "5"
      ]
     },
     "execution_count": 29,
     "metadata": {},
     "output_type": "execute_result"
    }
   ],
   "source": [
    "len(\"Sumit\")"
   ]
  },
  {
   "cell_type": "code",
   "execution_count": 30,
   "id": "d65a4287-6a62-4083-b326-8287d73453fe",
   "metadata": {},
   "outputs": [
    {
     "data": {
      "text/plain": [
       "4"
      ]
     },
     "execution_count": 30,
     "metadata": {},
     "output_type": "execute_result"
    }
   ],
   "source": [
    "len([1,2,3,4])"
   ]
  },
  {
   "cell_type": "code",
   "execution_count": 31,
   "id": "9bda0e1f-7924-41fb-8f7d-1f6b723eeecc",
   "metadata": {},
   "outputs": [],
   "source": [
    "#Encapsulation"
   ]
  },
  {
   "cell_type": "code",
   "execution_count": 32,
   "id": "a7e16012-2a35-401b-b98f-9eb5432c75d5",
   "metadata": {},
   "outputs": [],
   "source": [
    "class test:\n",
    "    def __init__(self):\n",
    "        self.x = \"sumit\""
   ]
  },
  {
   "cell_type": "code",
   "execution_count": 33,
   "id": "44aced2f-fb53-4931-8f6c-8cac24999454",
   "metadata": {},
   "outputs": [],
   "source": [
    "t1 = test()"
   ]
  },
  {
   "cell_type": "code",
   "execution_count": 34,
   "id": "23ac0d8b-5fed-4d47-990b-bbcd49e2fa19",
   "metadata": {},
   "outputs": [
    {
     "data": {
      "text/plain": [
       "'sumit'"
      ]
     },
     "execution_count": 34,
     "metadata": {},
     "output_type": "execute_result"
    }
   ],
   "source": [
    "t1.x"
   ]
  },
  {
   "cell_type": "code",
   "execution_count": 35,
   "id": "e9ad4a70-e7bd-494f-9397-77870c33fca1",
   "metadata": {},
   "outputs": [],
   "source": [
    "class test:\n",
    "    def __init__(self):\n",
    "        self._x = \"sumit\""
   ]
  },
  {
   "cell_type": "code",
   "execution_count": 36,
   "id": "6eb34f29-0175-4c76-bb23-fa7b0de4e26c",
   "metadata": {},
   "outputs": [],
   "source": [
    "t1 =test()"
   ]
  },
  {
   "cell_type": "code",
   "execution_count": 37,
   "id": "438a9aab-e2dc-40d2-a6ff-ee9619dad6bc",
   "metadata": {},
   "outputs": [
    {
     "ename": "AttributeError",
     "evalue": "'test' object has no attribute 'x'",
     "output_type": "error",
     "traceback": [
      "\u001b[0;31m---------------------------------------------------------------------------\u001b[0m",
      "\u001b[0;31mAttributeError\u001b[0m                            Traceback (most recent call last)",
      "Cell \u001b[0;32mIn[37], line 1\u001b[0m\n\u001b[0;32m----> 1\u001b[0m \u001b[43mt1\u001b[49m\u001b[38;5;241;43m.\u001b[39;49m\u001b[43mx\u001b[49m\n",
      "\u001b[0;31mAttributeError\u001b[0m: 'test' object has no attribute 'x'"
     ]
    }
   ],
   "source": [
    "t1.x"
   ]
  },
  {
   "cell_type": "code",
   "execution_count": 38,
   "id": "53afeb67-d670-4b36-8b47-a4de7a86ef89",
   "metadata": {},
   "outputs": [],
   "source": [
    "class test:\n",
    "    def __init__(self):\n",
    "        self.__x = \"sumit\""
   ]
  },
  {
   "cell_type": "code",
   "execution_count": 39,
   "id": "45f3a1ca-1db6-4797-a667-c03506d25134",
   "metadata": {},
   "outputs": [],
   "source": [
    "t1 = test()"
   ]
  },
  {
   "cell_type": "code",
   "execution_count": 40,
   "id": "326f9295-2d04-4d14-ba71-77fd886b22fc",
   "metadata": {},
   "outputs": [
    {
     "ename": "AttributeError",
     "evalue": "'test' object has no attribute 'x'",
     "output_type": "error",
     "traceback": [
      "\u001b[0;31m---------------------------------------------------------------------------\u001b[0m",
      "\u001b[0;31mAttributeError\u001b[0m                            Traceback (most recent call last)",
      "Cell \u001b[0;32mIn[40], line 1\u001b[0m\n\u001b[0;32m----> 1\u001b[0m \u001b[43mt1\u001b[49m\u001b[38;5;241;43m.\u001b[39;49m\u001b[43mx\u001b[49m\n",
      "\u001b[0;31mAttributeError\u001b[0m: 'test' object has no attribute 'x'"
     ]
    }
   ],
   "source": [
    "t1.x"
   ]
  },
  {
   "cell_type": "code",
   "execution_count": 41,
   "id": "772d072e-afa3-4590-992c-91aac3ae2109",
   "metadata": {},
   "outputs": [
    {
     "ename": "AttributeError",
     "evalue": "'test' object has no attribute '__x'",
     "output_type": "error",
     "traceback": [
      "\u001b[0;31m---------------------------------------------------------------------------\u001b[0m",
      "\u001b[0;31mAttributeError\u001b[0m                            Traceback (most recent call last)",
      "Cell \u001b[0;32mIn[41], line 1\u001b[0m\n\u001b[0;32m----> 1\u001b[0m \u001b[43mt1\u001b[49m\u001b[38;5;241;43m.\u001b[39;49m\u001b[43m__x\u001b[49m\n",
      "\u001b[0;31mAttributeError\u001b[0m: 'test' object has no attribute '__x'"
     ]
    }
   ],
   "source": [
    "t1.__x"
   ]
  },
  {
   "cell_type": "code",
   "execution_count": 43,
   "id": "724fe8a3-7a69-4ffa-a358-a55d2aefc2ae",
   "metadata": {},
   "outputs": [
    {
     "data": {
      "text/plain": [
       "'sumit'"
      ]
     },
     "execution_count": 43,
     "metadata": {},
     "output_type": "execute_result"
    }
   ],
   "source": [
    "t1._test__x"
   ]
  },
  {
   "cell_type": "code",
   "execution_count": 80,
   "id": "a6b6ddf7-1d9e-4732-bc91-d419b314cc3c",
   "metadata": {},
   "outputs": [],
   "source": [
    "class test:\n",
    "    def __init__(self):\n",
    "        self.__x = \"sumit\"\n",
    "        \n",
    "    def __test_meth(self):\n",
    "        return \"this is just a test\""
   ]
  },
  {
   "cell_type": "code",
   "execution_count": 81,
   "id": "0f379dc3-3ca9-47fc-a65e-5231c77122de",
   "metadata": {},
   "outputs": [],
   "source": [
    "t1 = test()\n"
   ]
  },
  {
   "cell_type": "code",
   "execution_count": 82,
   "id": "55b39bb7-e04a-4b8d-b654-d07413849624",
   "metadata": {},
   "outputs": [
    {
     "data": {
      "text/plain": [
       "'sumit'"
      ]
     },
     "execution_count": 82,
     "metadata": {},
     "output_type": "execute_result"
    }
   ],
   "source": [
    "t1._test__x"
   ]
  },
  {
   "cell_type": "code",
   "execution_count": 83,
   "id": "0d0eee46-669d-49f9-9f15-d482ae8901f8",
   "metadata": {},
   "outputs": [
    {
     "data": {
      "text/plain": [
       "'this is just a test'"
      ]
     },
     "execution_count": 83,
     "metadata": {},
     "output_type": "execute_result"
    }
   ],
   "source": [
    "t1._test__test_meth()"
   ]
  },
  {
   "cell_type": "code",
   "execution_count": 76,
   "id": "f0b9a36f-b990-4ab9-9e85-fd737d523c4c",
   "metadata": {},
   "outputs": [],
   "source": [
    "class test:\n",
    "    def __init__(self):\n",
    "        self.__x = \"sumit\"\n",
    "        self.y=\"kumar\"\n",
    "        self.z=\"pwskills\"\n",
    "        \n",
    "    def __test_meth(self):\n",
    "        return \"this is just a test\"\n",
    "    \n",
    "    \n",
    "    def access_var(self):\n",
    "        return self.__x"
   ]
  },
  {
   "cell_type": "code",
   "execution_count": 77,
   "id": "98ad87ca-d824-4e16-85a2-c8a90a59ed53",
   "metadata": {},
   "outputs": [],
   "source": [
    "t1 = test()"
   ]
  },
  {
   "cell_type": "code",
   "execution_count": 78,
   "id": "e65f1cb0-5f6e-43ab-9f5e-8984fac4070f",
   "metadata": {},
   "outputs": [
    {
     "data": {
      "text/plain": [
       "'sumit'"
      ]
     },
     "execution_count": 78,
     "metadata": {},
     "output_type": "execute_result"
    }
   ],
   "source": [
    "t1.access_var()"
   ]
  },
  {
   "cell_type": "code",
   "execution_count": 79,
   "id": "d6942ae4-90be-424f-b451-363261f59079",
   "metadata": {},
   "outputs": [
    {
     "data": {
      "text/plain": [
       "'this is just a test'"
      ]
     },
     "execution_count": 79,
     "metadata": {},
     "output_type": "execute_result"
    }
   ],
   "source": [
    "t1._test__test_meth()"
   ]
  },
  {
   "cell_type": "code",
   "execution_count": 73,
   "id": "9301f4b7-153f-4f91-91fe-ca642e0fb9b8",
   "metadata": {},
   "outputs": [],
   "source": [
    "class test:\n",
    "    def __init__(self):\n",
    "        self.__x = \"sumit\"\n",
    "        self.y=\"kumar\"\n",
    "        self.z=\"pwskills\"\n",
    "        \n",
    "    def __test_meth(self):\n",
    "        return \"this is just a test\"\n",
    "    \n",
    "    \n",
    "    def access_var(self):\n",
    "        return self.__x\n",
    "    \n",
    "    def update_var(self, data):\n",
    "        self.__x = data"
   ]
  },
  {
   "cell_type": "code",
   "execution_count": 74,
   "id": "b8eccbdd-3852-4c21-959a-c8f629ad309c",
   "metadata": {},
   "outputs": [],
   "source": [
    "t1 = test()\n",
    "t1.update_var(234)"
   ]
  },
  {
   "cell_type": "code",
   "execution_count": 75,
   "id": "79f4615a-1075-4a7c-bb0b-c2e28c3074a4",
   "metadata": {},
   "outputs": [
    {
     "data": {
      "text/plain": [
       "234"
      ]
     },
     "execution_count": 75,
     "metadata": {},
     "output_type": "execute_result"
    }
   ],
   "source": [
    "t1.access_var()"
   ]
  },
  {
   "cell_type": "code",
   "execution_count": 89,
   "id": "e0146da6-86ff-44f5-aa61-58deac8775c1",
   "metadata": {},
   "outputs": [
    {
     "data": {
      "text/plain": [
       "3455"
      ]
     },
     "execution_count": 89,
     "metadata": {},
     "output_type": "execute_result"
    }
   ],
   "source": [
    "class bank:\n",
    "    def __init__(self, account_number, balance):\n",
    "        self._account_number = account_number\n",
    "        self.__balance = balance\n",
    "    \n",
    "    def check_balance(self, password):\n",
    "        if password == \"mysecurepass\":\n",
    "            return self.__balance\n",
    "        else:\n",
    "            return \"incorrect password\"\n",
    "        \n",
    "sumit = bank(2344, 3455)\n",
    "sumit.check_balance(\"mysecurepass\")\n",
    "\n",
    "    "
   ]
  },
  {
   "cell_type": "code",
   "execution_count": 98,
   "id": "549737e4-5a3d-4e95-a077-e115a7c08b9f",
   "metadata": {},
   "outputs": [],
   "source": [
    "class queue:\n",
    "    def __init__(self):\n",
    "        self._queue = []\n",
    "        \n",
    "    def enqueue(self, data):\n",
    "        self._queue.append(data)\n",
    "        \n",
    "    def dequeue(self):\n",
    "        if self._queue:\n",
    "            return self._queue.pop(0)\n",
    "        else:\n",
    "            print(\"its empty\")\n",
    "            \n",
    "    def showdata(self):\n",
    "        return self._queue"
   ]
  },
  {
   "cell_type": "code",
   "execution_count": 99,
   "id": "97b6dc4e-0aa8-4891-9c71-04b528935466",
   "metadata": {},
   "outputs": [],
   "source": [
    "q = queue()"
   ]
  },
  {
   "cell_type": "code",
   "execution_count": 94,
   "id": "cbf4c09d-595a-4055-9fa2-933829902d09",
   "metadata": {},
   "outputs": [
    {
     "name": "stdout",
     "output_type": "stream",
     "text": [
      "its empty\n"
     ]
    }
   ],
   "source": [
    "q.dequeue()"
   ]
  },
  {
   "cell_type": "code",
   "execution_count": 102,
   "id": "5b03890a-befc-43b8-a85b-41b4bd9a3b7d",
   "metadata": {},
   "outputs": [],
   "source": [
    "q.enqueue(56)"
   ]
  },
  {
   "cell_type": "code",
   "execution_count": 97,
   "id": "dd59f32c-f00e-4076-bdea-e07f2f44ebfc",
   "metadata": {},
   "outputs": [
    {
     "data": {
      "text/plain": [
       "[40]"
      ]
     },
     "execution_count": 97,
     "metadata": {},
     "output_type": "execute_result"
    }
   ],
   "source": [
    "q._queue"
   ]
  },
  {
   "cell_type": "code",
   "execution_count": 103,
   "id": "7450a3cc-fbd1-4c3a-b2aa-2ffe5380c2c4",
   "metadata": {},
   "outputs": [
    {
     "data": {
      "text/plain": [
       "[443, 56]"
      ]
     },
     "execution_count": 103,
     "metadata": {},
     "output_type": "execute_result"
    }
   ],
   "source": [
    "q.showdata()"
   ]
  },
  {
   "cell_type": "code",
   "execution_count": 104,
   "id": "af9d2ea1-3e8d-43b5-ba62-a644403232e2",
   "metadata": {},
   "outputs": [],
   "source": [
    "l = [89,7,8,6,9]"
   ]
  },
  {
   "cell_type": "code",
   "execution_count": 105,
   "id": "4d51742d-4032-43ea-b17a-c162bfac4a24",
   "metadata": {},
   "outputs": [
    {
     "data": {
      "text/plain": [
       "[89, 7, 8, 6, 9]"
      ]
     },
     "execution_count": 105,
     "metadata": {},
     "output_type": "execute_result"
    }
   ],
   "source": [
    "l"
   ]
  },
  {
   "cell_type": "code",
   "execution_count": 106,
   "id": "5ddb434b-b0c7-40cd-9b48-b491d3457474",
   "metadata": {},
   "outputs": [
    {
     "data": {
      "text/plain": [
       "9"
      ]
     },
     "execution_count": 106,
     "metadata": {},
     "output_type": "execute_result"
    }
   ],
   "source": [
    "l.pop()"
   ]
  },
  {
   "cell_type": "code",
   "execution_count": 107,
   "id": "175db3bc-3139-48be-888b-63e400dc3649",
   "metadata": {},
   "outputs": [
    {
     "data": {
      "text/plain": [
       "[89, 7, 8, 6]"
      ]
     },
     "execution_count": 107,
     "metadata": {},
     "output_type": "execute_result"
    }
   ],
   "source": [
    "l"
   ]
  },
  {
   "cell_type": "code",
   "execution_count": 109,
   "id": "6c96e8ea-7570-49df-bd77-0425b59f1a79",
   "metadata": {},
   "outputs": [
    {
     "ename": "AttributeError",
     "evalue": "'list' object has no attribute 'push'",
     "output_type": "error",
     "traceback": [
      "\u001b[0;31m---------------------------------------------------------------------------\u001b[0m",
      "\u001b[0;31mAttributeError\u001b[0m                            Traceback (most recent call last)",
      "Cell \u001b[0;32mIn[109], line 1\u001b[0m\n\u001b[0;32m----> 1\u001b[0m \u001b[43ml\u001b[49m\u001b[38;5;241;43m.\u001b[39;49m\u001b[43mpush\u001b[49m([\u001b[38;5;241m90\u001b[39m])\n",
      "\u001b[0;31mAttributeError\u001b[0m: 'list' object has no attribute 'push'"
     ]
    }
   ],
   "source": [
    "l.push([90])"
   ]
  },
  {
   "cell_type": "code",
   "execution_count": 110,
   "id": "d6d90afe-7011-4df7-bb96-ce0e8a974e68",
   "metadata": {},
   "outputs": [
    {
     "data": {
      "text/plain": [
       "89"
      ]
     },
     "execution_count": 110,
     "metadata": {},
     "output_type": "execute_result"
    }
   ],
   "source": [
    "l.pop(0)"
   ]
  },
  {
   "cell_type": "code",
   "execution_count": 111,
   "id": "2c4a49c0-e913-4d64-9d8d-1a25cf5d247a",
   "metadata": {},
   "outputs": [],
   "source": [
    "l.append(56)"
   ]
  },
  {
   "cell_type": "code",
   "execution_count": 112,
   "id": "b9c4529f-1694-4990-a00a-5263835bfc7e",
   "metadata": {},
   "outputs": [
    {
     "data": {
      "text/plain": [
       "[7, 8, 6, 56]"
      ]
     },
     "execution_count": 112,
     "metadata": {},
     "output_type": "execute_result"
    }
   ],
   "source": [
    "l"
   ]
  },
  {
   "cell_type": "code",
   "execution_count": 113,
   "id": "7f65cac5-a27c-4f37-9385-da618f1bd190",
   "metadata": {},
   "outputs": [],
   "source": [
    "#Abstraction"
   ]
  },
  {
   "cell_type": "code",
   "execution_count": 114,
   "id": "459bbd4d-2668-4871-9581-3214dec9e34d",
   "metadata": {},
   "outputs": [],
   "source": [
    "class pwskills:\n",
    "    def student_details(self):\n",
    "        return \"this will give student details\""
   ]
  },
  {
   "cell_type": "code",
   "execution_count": 120,
   "id": "9b7b58bc-22d7-4bfe-b4ae-9333ff41bb36",
   "metadata": {},
   "outputs": [],
   "source": [
    "from abc import  abstractmethod\n",
    "class pwskills:\n",
    "    \n",
    "    #@abstractmethod\n",
    "    def databaseconnect(self):\n",
    "        pass\n",
    "    #@abstractmethod\n",
    "    def checkuserenrollment(self, user_mailid):\n",
    "        pass\n",
    "    #@abstractmethod\n",
    "    def check_completed_lecture(self, user_id, class_id):\n",
    "        pass\n",
    "    #@abstractmethod\n",
    "    def check_lab_usases(self, user_id):\n",
    "        pass\n",
    "    #@abstractmethods\n",
    "    def check_internship(self, user_id):\n",
    "        pass"
   ]
  },
  {
   "cell_type": "code",
   "execution_count": 121,
   "id": "9389cd59-f222-4298-b3d9-7d3f84cd006e",
   "metadata": {},
   "outputs": [],
   "source": [
    "class databaseconnect(pwskills):\n",
    "    def databaseconnect(self):\n",
    "        print(\"this is implmentataion of databse connect\")"
   ]
  },
  {
   "cell_type": "code",
   "execution_count": 122,
   "id": "f2ce5923-5e32-4b02-84e6-4782175a8c9e",
   "metadata": {},
   "outputs": [],
   "source": [
    "db1 = databaseconnect()"
   ]
  },
  {
   "cell_type": "code",
   "execution_count": 123,
   "id": "1627c6f6-fced-454e-b3e3-32d7eea5e58c",
   "metadata": {},
   "outputs": [
    {
     "name": "stdout",
     "output_type": "stream",
     "text": [
      "this is implmentataion of databse connect\n"
     ]
    }
   ],
   "source": [
    "db1.databaseconnect()"
   ]
  },
  {
   "cell_type": "code",
   "execution_count": 128,
   "id": "939def11-4115-4003-a2ec-321e1c0b2b38",
   "metadata": {},
   "outputs": [],
   "source": [
    "from abc import  ABC, abstractmethod\n",
    "class pwskills(ABC):\n",
    "    \n",
    "    @abstractmethod\n",
    "    def databaseconnect(self):\n",
    "        pass\n",
    "    @abstractmethod\n",
    "    def checkuserenrollment(self, user_mailid):\n",
    "        pass\n",
    "    @abstractmethod\n",
    "    def check_completed_lecture(self, user_id, class_id):\n",
    "        pass\n",
    "    @abstractmethod\n",
    "    def check_lab_usases(self, user_id):\n",
    "        pass\n",
    "    @abstractmethod\n",
    "    def check_internship(self, user_id):\n",
    "        pass"
   ]
  },
  {
   "cell_type": "code",
   "execution_count": null,
   "id": "93128609-e06a-4426-87ed-59fb0c223730",
   "metadata": {},
   "outputs": [],
   "source": [
    "class databaseconnect(pwskills):\n",
    "    def databaseconnect(self):\n",
    "        print(\"this is implementaiof for database connect\")\n",
    "        \n",
    "        \n",
    "    def check_lab_usases(self, user_id):\n",
    "        return \"test\"\n",
    "    \n",
    "    def check_lab_usases(self, user_id):\n",
    "        return \"test\"\n",
    "    \n",
    "    \n",
    "    ......"
   ]
  },
  {
   "cell_type": "code",
   "execution_count": 135,
   "id": "85f3d1ee-35cd-4bf8-828a-c98256f93c82",
   "metadata": {},
   "outputs": [],
   "source": [
    "class calculation:\n",
    "    def add(x,y):\n",
    "        return x+y\n",
    "    \n",
    "    def sub(x,y):\n",
    "        return x-y\n",
    "           \n",
    "    def divide(self, x,y):\n",
    "        return x/y"
   ]
  },
  {
   "cell_type": "code",
   "execution_count": 136,
   "id": "64455353-1ee1-4f27-a93b-bfc97d4426eb",
   "metadata": {},
   "outputs": [],
   "source": [
    "a = calculation()\n"
   ]
  },
  {
   "cell_type": "code",
   "execution_count": 132,
   "id": "2871725d-5231-40fe-9573-244d73aa040d",
   "metadata": {},
   "outputs": [
    {
     "ename": "TypeError",
     "evalue": "calculation.add() takes 2 positional arguments but 3 were given",
     "output_type": "error",
     "traceback": [
      "\u001b[0;31m---------------------------------------------------------------------------\u001b[0m",
      "\u001b[0;31mTypeError\u001b[0m                                 Traceback (most recent call last)",
      "Cell \u001b[0;32mIn[132], line 1\u001b[0m\n\u001b[0;32m----> 1\u001b[0m \u001b[43ma\u001b[49m\u001b[38;5;241;43m.\u001b[39;49m\u001b[43madd\u001b[49m\u001b[43m(\u001b[49m\u001b[38;5;241;43m3\u001b[39;49m\u001b[43m,\u001b[49m\u001b[38;5;241;43m4\u001b[39;49m\u001b[43m)\u001b[49m\n",
      "\u001b[0;31mTypeError\u001b[0m: calculation.add() takes 2 positional arguments but 3 were given"
     ]
    }
   ],
   "source": [
    "a.add(3,4)"
   ]
  },
  {
   "cell_type": "code",
   "execution_count": 137,
   "id": "45be7d7a-ae71-4f6a-990e-508860909e61",
   "metadata": {},
   "outputs": [
    {
     "data": {
      "text/plain": [
       "0.8"
      ]
     },
     "execution_count": 137,
     "metadata": {},
     "output_type": "execute_result"
    }
   ],
   "source": [
    "a.divide(4,5)"
   ]
  },
  {
   "cell_type": "code",
   "execution_count": 139,
   "id": "f86ef752-67f0-415c-b9f5-8d72df6332d8",
   "metadata": {},
   "outputs": [
    {
     "data": {
      "text/plain": [
       "0.5714285714285714"
      ]
     },
     "execution_count": 139,
     "metadata": {},
     "output_type": "execute_result"
    }
   ],
   "source": [
    "b = calculation()\n",
    "b.divide(4,7)"
   ]
  },
  {
   "cell_type": "code",
   "execution_count": 140,
   "id": "94b4555a-f573-40aa-8128-2beb5c2d37f4",
   "metadata": {},
   "outputs": [
    {
     "data": {
      "text/plain": [
       "9"
      ]
     },
     "execution_count": 140,
     "metadata": {},
     "output_type": "execute_result"
    }
   ],
   "source": [
    "calculation.add(4,5)"
   ]
  },
  {
   "cell_type": "code",
   "execution_count": 143,
   "id": "0ef104bc-7e65-4d73-99ea-1db9bde5c1b3",
   "metadata": {},
   "outputs": [
    {
     "ename": "TypeError",
     "evalue": "calculation.divide() missing 1 required positional argument: 'y'",
     "output_type": "error",
     "traceback": [
      "\u001b[0;31m---------------------------------------------------------------------------\u001b[0m",
      "\u001b[0;31mTypeError\u001b[0m                                 Traceback (most recent call last)",
      "Cell \u001b[0;32mIn[143], line 1\u001b[0m\n\u001b[0;32m----> 1\u001b[0m \u001b[43mcalculation\u001b[49m\u001b[38;5;241;43m.\u001b[39;49m\u001b[43mdivide\u001b[49m\u001b[43m(\u001b[49m\u001b[38;5;241;43m7\u001b[39;49m\u001b[43m,\u001b[49m\u001b[38;5;241;43m8\u001b[39;49m\u001b[43m)\u001b[49m\n",
      "\u001b[0;31mTypeError\u001b[0m: calculation.divide() missing 1 required positional argument: 'y'"
     ]
    }
   ],
   "source": [
    "calculation.divide(7,8)"
   ]
  },
  {
   "cell_type": "code",
   "execution_count": 144,
   "id": "bfcd69d4-26ff-4e8b-bebb-e08e1c0dcf68",
   "metadata": {},
   "outputs": [
    {
     "data": {
      "text/plain": [
       "0.875"
      ]
     },
     "execution_count": 144,
     "metadata": {},
     "output_type": "execute_result"
    }
   ],
   "source": [
    "calculation.divide(3,7,8)"
   ]
  },
  {
   "cell_type": "code",
   "execution_count": 145,
   "id": "78157c95-e516-4b6f-8416-428c89ad4653",
   "metadata": {},
   "outputs": [],
   "source": [
    "class calculation:\n",
    "    \n",
    "    @staticmethod\n",
    "    def add(x,y):\n",
    "        return x+y\n",
    "    \n",
    "    @staticmethod\n",
    "    def sub(x,y):\n",
    "        return x-y\n",
    "           \n",
    "    def divide(self, x,y):\n",
    "        return x/y"
   ]
  },
  {
   "cell_type": "code",
   "execution_count": 146,
   "id": "4b32bd0c-16b1-4ac6-92f2-8115b27fe0d5",
   "metadata": {},
   "outputs": [
    {
     "data": {
      "text/plain": [
       "15"
      ]
     },
     "execution_count": 146,
     "metadata": {},
     "output_type": "execute_result"
    }
   ],
   "source": [
    "calculation.add(7,8)"
   ]
  },
  {
   "cell_type": "code",
   "execution_count": 148,
   "id": "8eb4d3a5-72df-48c7-8afb-b9e5b6ef1248",
   "metadata": {},
   "outputs": [
    {
     "data": {
      "text/plain": [
       "2.0"
      ]
     },
     "execution_count": 148,
     "metadata": {},
     "output_type": "execute_result"
    }
   ],
   "source": [
    "calculation.divide(_,8,4)"
   ]
  },
  {
   "cell_type": "code",
   "execution_count": 149,
   "id": "36913e44-d9cc-44d5-b050-3f0fd7a4969a",
   "metadata": {},
   "outputs": [],
   "source": [
    "class cal(calculation):\n",
    "    pass\n"
   ]
  },
  {
   "cell_type": "code",
   "execution_count": 150,
   "id": "a18cfba0-bc8e-4abf-8125-fa502c77e8cb",
   "metadata": {},
   "outputs": [
    {
     "data": {
      "text/plain": [
       "7"
      ]
     },
     "execution_count": 150,
     "metadata": {},
     "output_type": "execute_result"
    }
   ],
   "source": [
    "c1 = cal()\n",
    "c1.add(3,4)"
   ]
  },
  {
   "cell_type": "code",
   "execution_count": 151,
   "id": "5542a147-3825-4203-b85f-04b62ed1307a",
   "metadata": {},
   "outputs": [
    {
     "data": {
      "text/plain": [
       "17"
      ]
     },
     "execution_count": 151,
     "metadata": {},
     "output_type": "execute_result"
    }
   ],
   "source": [
    "cal.add(8,9)"
   ]
  },
  {
   "cell_type": "code",
   "execution_count": 154,
   "id": "7102ef8f-b3c7-4d3e-a870-4af7872ce9e6",
   "metadata": {},
   "outputs": [],
   "source": [
    "class cal(calculation):\n",
    "    def add(x,y):\n",
    "        return x+y\n",
    "    \n",
    "    "
   ]
  },
  {
   "cell_type": "code",
   "execution_count": 160,
   "id": "73330e6d-61f5-4def-a126-f3e9d767a637",
   "metadata": {},
   "outputs": [],
   "source": [
    "class file_ops:\n",
    "    def __init__(self, filename):\n",
    "        self.filename = filename\n",
    "        \n",
    "    def read_file(self):\n",
    "        with open(self.filename, 'r'):\n",
    "            return file.read()\n",
    "        \n",
    "    def write_file(self, data):\n",
    "        with open (self.filename, 'w') as file:\n",
    "            file.write(data)"
   ]
  },
  {
   "cell_type": "code",
   "execution_count": 161,
   "id": "80c4bcaa-b287-43d1-b4a3-d7d3b72b73f8",
   "metadata": {},
   "outputs": [],
   "source": [
    "sudh_op_file = file_ops(\"sudh.txt\")\n",
    "sudh_op_file.write_file(\" Hi hello\")\n"
   ]
  },
  {
   "cell_type": "code",
   "execution_count": 162,
   "id": "2a6505ac-e42a-4af6-b703-dc0af807321d",
   "metadata": {},
   "outputs": [],
   "source": [
    "kapil = file_ops(\"kapil.txt\")\n",
    "kapil.write_file(\"kites\")"
   ]
  },
  {
   "cell_type": "code",
   "execution_count": 166,
   "id": "8b75e7e4-73ca-43ee-b5a7-66a09c11f93f",
   "metadata": {},
   "outputs": [],
   "source": [
    "#COMPOSITION"
   ]
  },
  {
   "cell_type": "code",
   "execution_count": 163,
   "id": "fe3bb9c8-f40a-4b75-80b5-c1e61eee6007",
   "metadata": {},
   "outputs": [],
   "source": [
    "\n",
    "\n",
    "class pwskills:\n",
    "    def student(self):\n",
    "        return \"student details\"\n",
    "    \n",
    "class datacience:\n",
    "    def __init__(self):\n",
    "        self.student = pwskills()"
   ]
  },
  {
   "cell_type": "code",
   "execution_count": 164,
   "id": "ccecb00e-fa2a-42ab-90bb-68d50c4b1c79",
   "metadata": {},
   "outputs": [],
   "source": [
    "ds  = datacience()"
   ]
  },
  {
   "cell_type": "code",
   "execution_count": 165,
   "id": "b7091023-e73b-49e0-ac6a-17ba48bd304a",
   "metadata": {},
   "outputs": [
    {
     "data": {
      "text/plain": [
       "'student details'"
      ]
     },
     "execution_count": 165,
     "metadata": {},
     "output_type": "execute_result"
    }
   ],
   "source": [
    "ds.student.student()"
   ]
  },
  {
   "cell_type": "code",
   "execution_count": 179,
   "id": "97b252fe-905f-4536-b848-92214d0d00bb",
   "metadata": {},
   "outputs": [],
   "source": [
    "class data:\n",
    "    def __init__(self, mentor_name):\n",
    "        self.mentor_name = mentor_name\n",
    "        \n",
    "class webdev :\n",
    "    def __init__(self, mentor, lecture_name):\n",
    "        self.mentor = mentor\n",
    "        self.lecture_name = lecture_name"
   ]
  },
  {
   "cell_type": "code",
   "execution_count": 180,
   "id": "5ec423e6-150e-4042-9dbd-838dde653084",
   "metadata": {},
   "outputs": [],
   "source": [
    "d = data(\"sumit\")\n",
    "w = webdev('krish', 'css')"
   ]
  },
  {
   "cell_type": "code",
   "execution_count": 175,
   "id": "12287475-2447-4519-ba5e-a82b30881053",
   "metadata": {},
   "outputs": [
    {
     "data": {
      "text/plain": [
       "'sumit'"
      ]
     },
     "execution_count": 175,
     "metadata": {},
     "output_type": "execute_result"
    }
   ],
   "source": [
    "d.mentor_name"
   ]
  },
  {
   "cell_type": "code",
   "execution_count": 176,
   "id": "e680f1bc-6575-43e0-b0c2-04c744c79799",
   "metadata": {},
   "outputs": [
    {
     "data": {
      "text/plain": [
       "'krish'"
      ]
     },
     "execution_count": 176,
     "metadata": {},
     "output_type": "execute_result"
    }
   ],
   "source": [
    "w.mentor"
   ]
  },
  {
   "cell_type": "code",
   "execution_count": 177,
   "id": "b14fc11d-6cd4-40ba-9009-23ca6c78a91a",
   "metadata": {},
   "outputs": [
    {
     "data": {
      "text/plain": [
       "'css'"
      ]
     },
     "execution_count": 177,
     "metadata": {},
     "output_type": "execute_result"
    }
   ],
   "source": [
    "w.lecture_name"
   ]
  },
  {
   "cell_type": "code",
   "execution_count": 181,
   "id": "487173a1-92cf-4c6e-8d1b-38df2860a413",
   "metadata": {},
   "outputs": [
    {
     "ename": "AttributeError",
     "evalue": "'str' object has no attribute 'mentor_name'",
     "output_type": "error",
     "traceback": [
      "\u001b[0;31m---------------------------------------------------------------------------\u001b[0m",
      "\u001b[0;31mAttributeError\u001b[0m                            Traceback (most recent call last)",
      "Cell \u001b[0;32mIn[181], line 1\u001b[0m\n\u001b[0;32m----> 1\u001b[0m \u001b[43mw\u001b[49m\u001b[38;5;241;43m.\u001b[39;49m\u001b[43mmentor\u001b[49m\u001b[38;5;241;43m.\u001b[39;49m\u001b[43mmentor_name\u001b[49m\n",
      "\u001b[0;31mAttributeError\u001b[0m: 'str' object has no attribute 'mentor_name'"
     ]
    }
   ],
   "source": [
    "w.mentor.mentor_name"
   ]
  },
  {
   "cell_type": "code",
   "execution_count": 185,
   "id": "8ec0d4cf-bb4f-489f-9d1c-a7926bd4497b",
   "metadata": {},
   "outputs": [
    {
     "data": {
      "text/plain": [
       "[(2, 5), (3, 6), (4, 7), (5, 8)]"
      ]
     },
     "execution_count": 185,
     "metadata": {},
     "output_type": "execute_result"
    }
   ],
   "source": [
    "l = [2,3,4,5]\n",
    "l1 = [5,6,7,8]\n",
    "\n",
    "list(zip(l,l1))"
   ]
  },
  {
   "cell_type": "code",
   "execution_count": 186,
   "id": "002249e4-0ad6-4ec3-b40d-d2f790f0ef65",
   "metadata": {},
   "outputs": [
    {
     "data": {
      "text/plain": [
       "[(2, 5), (3, 6), (4, 7), (5, 8)]"
      ]
     },
     "execution_count": 186,
     "metadata": {},
     "output_type": "execute_result"
    }
   ],
   "source": [
    "l = [2,3,4,5]\n",
    "l1 = [5,6,7,8]\n",
    "l3 = [\"sumit\", \"kumar\", \"pwskills\",\"krish\"]\n",
    "\n"
   ]
  },
  {
   "cell_type": "code",
   "execution_count": 189,
   "id": "ad75a71b-f856-4b95-9450-e30d936f570c",
   "metadata": {},
   "outputs": [],
   "source": [
    "#ZIP"
   ]
  },
  {
   "cell_type": "code",
   "execution_count": 187,
   "id": "218071cb-dec7-4024-8d97-c90ac6ffe886",
   "metadata": {},
   "outputs": [
    {
     "data": {
      "text/plain": [
       "[(2, 5, 'sumit'), (3, 6, 'kumar'), (4, 7, 'pwskills'), (5, 8, 'krish')]"
      ]
     },
     "execution_count": 187,
     "metadata": {},
     "output_type": "execute_result"
    }
   ],
   "source": [
    "list(zip(l,l1,l3))"
   ]
  },
  {
   "cell_type": "code",
   "execution_count": 188,
   "id": "c7f5e1a3-54d3-4d30-9023-fe0fd1c6171f",
   "metadata": {},
   "outputs": [
    {
     "data": {
      "text/plain": [
       "[(5, 'sumit', 2), (6, 'kumar', 3), (7, 'pwskills', 4), (8, 'krish', 5)]"
      ]
     },
     "execution_count": 188,
     "metadata": {},
     "output_type": "execute_result"
    }
   ],
   "source": [
    "list(zip(l1,l3,l))"
   ]
  },
  {
   "cell_type": "code",
   "execution_count": 190,
   "id": "bff23ab3-6ffc-4106-9d02-47e55795eb29",
   "metadata": {},
   "outputs": [],
   "source": [
    "#ENUMERATION"
   ]
  },
  {
   "cell_type": "code",
   "execution_count": 191,
   "id": "4d922018-56ab-443c-99c9-01aeeb701463",
   "metadata": {},
   "outputs": [
    {
     "data": {
      "text/plain": [
       "['sumit', 'kumar', 'pwskills', 'krish']"
      ]
     },
     "execution_count": 191,
     "metadata": {},
     "output_type": "execute_result"
    }
   ],
   "source": [
    "l3"
   ]
  },
  {
   "cell_type": "code",
   "execution_count": 192,
   "id": "10d8fdc2-e105-42df-8edb-88b5b777b537",
   "metadata": {},
   "outputs": [
    {
     "name": "stdout",
     "output_type": "stream",
     "text": [
      "0   sumit\n",
      "1   kumar\n",
      "2   pwskills\n",
      "3   krish\n"
     ]
    }
   ],
   "source": [
    "for index, data in enumerate(l3):\n",
    "    print(index, \" \", data)"
   ]
  },
  {
   "cell_type": "code",
   "execution_count": null,
   "id": "45a3ae19-eba6-43b3-992a-3d5f48c941e1",
   "metadata": {},
   "outputs": [],
   "source": []
  }
 ],
 "metadata": {
  "kernelspec": {
   "display_name": "Python 3 (ipykernel)",
   "language": "python",
   "name": "python3"
  },
  "language_info": {
   "codemirror_mode": {
    "name": "ipython",
    "version": 3
   },
   "file_extension": ".py",
   "mimetype": "text/x-python",
   "name": "python",
   "nbconvert_exporter": "python",
   "pygments_lexer": "ipython3",
   "version": "3.10.8"
  }
 },
 "nbformat": 4,
 "nbformat_minor": 5
}
