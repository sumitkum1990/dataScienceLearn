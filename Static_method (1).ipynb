{
 "cells": [
  {
   "cell_type": "code",
   "execution_count": 7,
   "id": "7812a016-a592-47d1-a051-00f381c650f4",
   "metadata": {},
   "outputs": [],
   "source": [
    "class pwskills:\n",
    "    def student_details(self, name, email_id, number):\n",
    "        print (name, email_id , number)"
   ]
  },
  {
   "cell_type": "code",
   "execution_count": 8,
   "id": "d1a3a5b7-d4e2-44c0-aca7-8191f7d3dfc3",
   "metadata": {},
   "outputs": [
    {
     "name": "stdout",
     "output_type": "stream",
     "text": [
      "Sumit Kumar sumit@gmaill.com 90909090\n"
     ]
    }
   ],
   "source": [
    "pw = pwskills()\n",
    "pw.student_details(\"Sumit Kumar\",\"sumit@gmaill.com\",90909090)"
   ]
  },
  {
   "cell_type": "code",
   "execution_count": 9,
   "id": "730d93b9-230a-4ddf-8b31-27803fa18224",
   "metadata": {},
   "outputs": [],
   "source": [
    "class pwskills1:\n",
    "    def student_details(self, name, email_id, number): # instance method\n",
    "        print (name, email_id , number)\n",
    "        \n",
    "    @staticmethod\n",
    "    def mentor_class(list_mentor): # static method\n",
    "        print(list_mentor)\n",
    "        "
   ]
  },
  {
   "cell_type": "code",
   "execution_count": 11,
   "id": "33c7ca87-2fd3-4ebc-8869-aacc483d7c7c",
   "metadata": {},
   "outputs": [
    {
     "name": "stdout",
     "output_type": "stream",
     "text": [
      "['Sumit', 'Sudh', 'Krish']\n"
     ]
    }
   ],
   "source": [
    "pwskills1.mentor_class([\"Sumit\", \"Sudh\", \"Krish\"])"
   ]
  },
  {
   "cell_type": "code",
   "execution_count": 13,
   "id": "43e4e144-79a8-4cc3-861a-028b6aed73ce",
   "metadata": {},
   "outputs": [],
   "source": [
    "class pwskills2:\n",
    "    def student_details(self, name, email_id, number):\n",
    "        print (name, email_id , number)\n",
    "        \n",
    "    @staticmethod\n",
    "    def mentor_class(list_mentor):\n",
    "        print(list_mentor)\n",
    "        \n",
    "    def mentor(self, mentor_list):\n",
    "        print(mentor_list)\n",
    "        "
   ]
  },
  {
   "cell_type": "code",
   "execution_count": 14,
   "id": "bdf8f361-f6a8-409b-ab4c-634751e68156",
   "metadata": {},
   "outputs": [
    {
     "name": "stdout",
     "output_type": "stream",
     "text": [
      "['Sumit', 'Sudh', 'Krish']\n"
     ]
    }
   ],
   "source": [
    "pwskills2.mentor_class([\"Sumit\", \"Sudh\", \"Krish\"])"
   ]
  },
  {
   "cell_type": "code",
   "execution_count": 15,
   "id": "4b95e738-6d2a-42fc-ac1d-0a8258ac72ce",
   "metadata": {},
   "outputs": [
    {
     "ename": "TypeError",
     "evalue": "pwskills2.mentor() missing 1 required positional argument: 'mentor_list'",
     "output_type": "error",
     "traceback": [
      "\u001b[0;31m---------------------------------------------------------------------------\u001b[0m",
      "\u001b[0;31mTypeError\u001b[0m                                 Traceback (most recent call last)",
      "Cell \u001b[0;32mIn[15], line 1\u001b[0m\n\u001b[0;32m----> 1\u001b[0m \u001b[43mpwskills2\u001b[49m\u001b[38;5;241;43m.\u001b[39;49m\u001b[43mmentor\u001b[49m\u001b[43m(\u001b[49m\u001b[43m[\u001b[49m\u001b[38;5;124;43m\"\u001b[39;49m\u001b[38;5;124;43mSumit\u001b[39;49m\u001b[38;5;124;43m\"\u001b[39;49m\u001b[43m,\u001b[49m\u001b[43m \u001b[49m\u001b[38;5;124;43m\"\u001b[39;49m\u001b[38;5;124;43mSudh\u001b[39;49m\u001b[38;5;124;43m\"\u001b[39;49m\u001b[43m,\u001b[49m\u001b[43m \u001b[49m\u001b[38;5;124;43m\"\u001b[39;49m\u001b[38;5;124;43mKrish\u001b[39;49m\u001b[38;5;124;43m\"\u001b[39;49m\u001b[43m]\u001b[49m\u001b[43m)\u001b[49m\n",
      "\u001b[0;31mTypeError\u001b[0m: pwskills2.mentor() missing 1 required positional argument: 'mentor_list'"
     ]
    }
   ],
   "source": [
    "pwskills2.mentor([\"Sumit\", \"Sudh\", \"Krish\"])"
   ]
  },
  {
   "cell_type": "code",
   "execution_count": 17,
   "id": "431f7481-4f44-4f22-a4be-28a6dfffca1e",
   "metadata": {},
   "outputs": [],
   "source": [
    "pw2 = pwskills2()"
   ]
  },
  {
   "cell_type": "code",
   "execution_count": 18,
   "id": "f5432abf-b2da-469f-af84-d2439090bf5b",
   "metadata": {},
   "outputs": [
    {
     "name": "stdout",
     "output_type": "stream",
     "text": [
      "['Sumit', 'Sudh', 'Krish']\n"
     ]
    }
   ],
   "source": [
    "pw2.mentor([\"Sumit\", \"Sudh\", \"Krish\"])"
   ]
  },
  {
   "cell_type": "code",
   "execution_count": 34,
   "id": "ee158e35-d46a-45ba-9736-478bfe37fde7",
   "metadata": {},
   "outputs": [],
   "source": [
    "class pwskills3:\n",
    "    def student_details(self, name, email_id, number):\n",
    "        print (name, email_id , number)\n",
    "  \n",
    "    \n",
    "    @staticmethod\n",
    "    def mentor_mail_id(mail_id):\n",
    "        print(mail_id)\n",
    "        \n",
    "    @staticmethod\n",
    "    def mentor_class(list_mentor):\n",
    "        print(list_mentor)\n",
    "        pwskills3.mentor_mail_id([\"umit@gmail.com\", \"ud@gmail.com\"])\n",
    "        \n",
    "    @classmethod\n",
    "    def class_name(cls, class_name):\n",
    "        cls.mentor_class([\"Sumit\", \"Kumar\"])\n",
    "        \n",
    "    def mentor(self, mentor_list):\n",
    "        print(mentor_list)\n",
    "        self.mentor_class([\"Sumit\", \"Krish\", \"Sudh\"])"
   ]
  },
  {
   "cell_type": "code",
   "execution_count": 36,
   "id": "822f7dfb-fb67-4d41-a9be-53ba08e07fed",
   "metadata": {},
   "outputs": [],
   "source": [
    "pw3 = pwskills3()"
   ]
  },
  {
   "cell_type": "code",
   "execution_count": 27,
   "id": "628a582b-eec3-4882-8ca4-a6005252cff2",
   "metadata": {},
   "outputs": [
    {
     "name": "stdout",
     "output_type": "stream",
     "text": [
      "Sumit Sumit@gmail.com 900909\n"
     ]
    }
   ],
   "source": [
    "pw3.student_details(\"Sumit\", \"Sumit@gmail.com\",900909)"
   ]
  },
  {
   "cell_type": "code",
   "execution_count": 29,
   "id": "fe20a589-6bd8-4fe5-8600-709fa24f00e9",
   "metadata": {},
   "outputs": [
    {
     "name": "stdout",
     "output_type": "stream",
     "text": [
      "['sumit123@gmail.com']\n"
     ]
    }
   ],
   "source": [
    "pw3.mentor_mail_id([\"sumit123@gmail.com\"])"
   ]
  },
  {
   "cell_type": "code",
   "execution_count": 37,
   "id": "577acfc2-aec4-4121-a093-2b1543ccb241",
   "metadata": {},
   "outputs": [
    {
     "name": "stdout",
     "output_type": "stream",
     "text": [
      "['Sumit', 'Kumar']\n",
      "['umit@gmail.com', 'ud@gmail.com']\n"
     ]
    }
   ],
   "source": [
    "pw3.class_name(\"data science\")"
   ]
  },
  {
   "cell_type": "code",
   "execution_count": null,
   "id": "a7d97c24-9ea1-4e47-9049-23fad6a4caa8",
   "metadata": {},
   "outputs": [],
   "source": []
  }
 ],
 "metadata": {
  "kernelspec": {
   "display_name": "Python 3 (ipykernel)",
   "language": "python",
   "name": "python3"
  },
  "language_info": {
   "codemirror_mode": {
    "name": "ipython",
    "version": 3
   },
   "file_extension": ".py",
   "mimetype": "text/x-python",
   "name": "python",
   "nbconvert_exporter": "python",
   "pygments_lexer": "ipython3",
   "version": "3.10.8"
  }
 },
 "nbformat": 4,
 "nbformat_minor": 5
}
