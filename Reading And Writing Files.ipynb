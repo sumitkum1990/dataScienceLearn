{
 "cells": [
  {
   "cell_type": "code",
   "execution_count": 1,
   "id": "098314d9-7daa-4b83-8192-0dbeb337f7a4",
   "metadata": {},
   "outputs": [],
   "source": [
    "data = {\n",
    "    \"name\" : \"Sumit\",\n",
    "    \"email\" : \"gmail.com\",\n",
    "    \"phone\": 909090,\n",
    "    \"subject\": [\"Data Scienec\", \"DSA\", \"Big Data\", \" Data Anlytics\"]\n",
    "}"
   ]
  },
  {
   "cell_type": "code",
   "execution_count": 2,
   "id": "faebd385-6b71-40f8-9c81-72ea5f6cf5a7",
   "metadata": {},
   "outputs": [],
   "source": [
    "import json"
   ]
  },
  {
   "cell_type": "code",
   "execution_count": 3,
   "id": "135daeda-96e7-46d6-bb64-7aaa2a35de25",
   "metadata": {},
   "outputs": [],
   "source": [
    "with open(\"test1.json\",\"w\") as f:\n",
    "    json.dump(data,f) # write"
   ]
  },
  {
   "cell_type": "code",
   "execution_count": 6,
   "id": "3c3ba736-5e14-4e3f-8aee-2ead8e11c060",
   "metadata": {},
   "outputs": [],
   "source": [
    "with open(\"test1.json\", 'r') as f:\n",
    "    data1 =  json.load(f) # read"
   ]
  },
  {
   "cell_type": "code",
   "execution_count": 7,
   "id": "6610b7d3-ee1e-42b6-87cf-aa82e8e6e20e",
   "metadata": {},
   "outputs": [
    {
     "data": {
      "text/plain": [
       "{'name': 'Sumit',\n",
       " 'email': 'gmail.com',\n",
       " 'phone': 909090,\n",
       " 'subject': ['Data Scienec', 'DSA', 'Big Data', ' Data Anlytics']}"
      ]
     },
     "execution_count": 7,
     "metadata": {},
     "output_type": "execute_result"
    }
   ],
   "source": [
    "data1"
   ]
  },
  {
   "cell_type": "code",
   "execution_count": 8,
   "id": "2cc1ac08-ca9d-4ea6-a47e-807f812143e8",
   "metadata": {},
   "outputs": [
    {
     "data": {
      "text/plain": [
       "['Data Scienec', 'DSA', 'Big Data', ' Data Anlytics']"
      ]
     },
     "execution_count": 8,
     "metadata": {},
     "output_type": "execute_result"
    }
   ],
   "source": [
    "data1['subject']"
   ]
  },
  {
   "cell_type": "code",
   "execution_count": 9,
   "id": "6057cc63-d74c-4fd8-bc9c-5fd3235d2f77",
   "metadata": {},
   "outputs": [],
   "source": [
    "data  = [[\"name\", \"emai_id\", \"number\"],\n",
    "        [\"Sumit\", \"Sumit@gmail.com\", 990909],\n",
    "        [\"Sudh\",\"Sudh@gmail.com\",89898]\n",
    "        ]"
   ]
  },
  {
   "cell_type": "code",
   "execution_count": 10,
   "id": "73630c8b-018c-4ab1-99df-771e8ec314a7",
   "metadata": {},
   "outputs": [],
   "source": [
    "import csv"
   ]
  },
  {
   "cell_type": "code",
   "execution_count": 14,
   "id": "e4867d68-6b0e-4352-b63e-1bd4148fad59",
   "metadata": {},
   "outputs": [],
   "source": [
    "with open(\"test3.csv\",'w') as f:\n",
    "    w = csv.writer(f)\n",
    "    for i in data:\n",
    "        w.writerow(i)"
   ]
  },
  {
   "cell_type": "code",
   "execution_count": 15,
   "id": "a49c3e42-2886-4766-a2dc-8ca657fddfef",
   "metadata": {},
   "outputs": [
    {
     "name": "stdout",
     "output_type": "stream",
     "text": [
      "['name', 'emai_id', 'number']\n",
      "['Sumit', 'Sumit@gmail.com', '990909']\n",
      "['Sudh', 'Sudh@gmail.com', '89898']\n"
     ]
    }
   ],
   "source": [
    "with open(\"test3.csv\", 'r') as f:\n",
    "    read = csv.reader(f)\n",
    "    for i in read:\n",
    "        print(i)"
   ]
  },
  {
   "cell_type": "code",
   "execution_count": 16,
   "id": "bfc799fc-c303-4020-9db4-3943bc9333e7",
   "metadata": {},
   "outputs": [],
   "source": [
    "with open(\"test4.bin\",'wb') as f :\n",
    "    f.write(b\"\\x01\\x02\\x03\")"
   ]
  },
  {
   "cell_type": "code",
   "execution_count": 17,
   "id": "be437a1c-3e51-4f5a-ae41-61c0b0d1cf05",
   "metadata": {},
   "outputs": [
    {
     "name": "stdout",
     "output_type": "stream",
     "text": [
      "b'\\x01\\x02\\x03'\n"
     ]
    }
   ],
   "source": [
    "with open (\"test4.bin\", \"rb\") as f:\n",
    "    print(f.read())"
   ]
  },
  {
   "cell_type": "code",
   "execution_count": null,
   "id": "825e6685-3628-4e5d-88f6-5c57d8e0db5e",
   "metadata": {},
   "outputs": [],
   "source": []
  }
 ],
 "metadata": {
  "kernelspec": {
   "display_name": "Python 3 (ipykernel)",
   "language": "python",
   "name": "python3"
  },
  "language_info": {
   "codemirror_mode": {
    "name": "ipython",
    "version": 3
   },
   "file_extension": ".py",
   "mimetype": "text/x-python",
   "name": "python",
   "nbconvert_exporter": "python",
   "pygments_lexer": "ipython3",
   "version": "3.10.8"
  }
 },
 "nbformat": 4,
 "nbformat_minor": 5
}
