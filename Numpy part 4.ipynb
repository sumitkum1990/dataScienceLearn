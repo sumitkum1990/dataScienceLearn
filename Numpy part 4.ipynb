{
 "cells": [
  {
   "cell_type": "code",
   "execution_count": 1,
   "id": "16be1a16-dc38-4201-a1a1-a7ff363cd0e1",
   "metadata": {},
   "outputs": [],
   "source": [
    "import numpy as np"
   ]
  },
  {
   "cell_type": "code",
   "execution_count": 2,
   "id": "9207ad3d-615e-4c5e-8a9d-d060e1e39c4a",
   "metadata": {},
   "outputs": [],
   "source": [
    "#Sort, search & counting function"
   ]
  },
  {
   "cell_type": "code",
   "execution_count": 6,
   "id": "82239d03-cfa7-4e6d-9800-8df796f93a48",
   "metadata": {},
   "outputs": [],
   "source": [
    "arr = np.array([4,2,3,4,5,4,65,6,7,89,76,51])"
   ]
  },
  {
   "cell_type": "markdown",
   "id": "2c750870-3f4c-46a1-9695-8d46ef21f27f",
   "metadata": {},
   "source": [
    "arr"
   ]
  },
  {
   "cell_type": "code",
   "execution_count": 7,
   "id": "8d523b07-7626-416f-8b72-265220176008",
   "metadata": {},
   "outputs": [
    {
     "data": {
      "text/plain": [
       "array([ 2,  3,  4,  4,  4,  5,  6,  7, 51, 65, 76, 89])"
      ]
     },
     "execution_count": 7,
     "metadata": {},
     "output_type": "execute_result"
    }
   ],
   "source": [
    "np.sort(arr)"
   ]
  },
  {
   "cell_type": "code",
   "execution_count": 8,
   "id": "ae692b9b-228a-4482-b33f-fb636beea6a0",
   "metadata": {},
   "outputs": [
    {
     "data": {
      "text/plain": [
       "6"
      ]
     },
     "execution_count": 8,
     "metadata": {},
     "output_type": "execute_result"
    }
   ],
   "source": [
    "np.searchsorted(arr,6)"
   ]
  },
  {
   "cell_type": "code",
   "execution_count": 13,
   "id": "d2d2c82c-dc0e-4787-9e05-481b13adbe0a",
   "metadata": {},
   "outputs": [],
   "source": [
    "arr1= np.array([0,324,543,65,7,8,9,0,0,0,0,0,9,345])"
   ]
  },
  {
   "cell_type": "code",
   "execution_count": 15,
   "id": "72f64b1c-38f3-4f95-b5ab-2efd5c5bbf53",
   "metadata": {},
   "outputs": [
    {
     "data": {
      "text/plain": [
       "8"
      ]
     },
     "execution_count": 15,
     "metadata": {},
     "output_type": "execute_result"
    }
   ],
   "source": [
    "np.count_nonzero(arr1)"
   ]
  },
  {
   "cell_type": "code",
   "execution_count": 20,
   "id": "feafb3c3-4991-4917-a07b-a0e92a8b10e9",
   "metadata": {},
   "outputs": [
    {
     "data": {
      "text/plain": [
       "(array([ 1,  2,  3,  4,  5,  6, 12, 13]),)"
      ]
     },
     "execution_count": 20,
     "metadata": {},
     "output_type": "execute_result"
    }
   ],
   "source": [
    "np.where(arr1 > 0)"
   ]
  },
  {
   "cell_type": "code",
   "execution_count": 26,
   "id": "e5a43c44-6182-4453-bc06-63c2cf59e689",
   "metadata": {},
   "outputs": [
    {
     "data": {
      "text/plain": [
       "array([324, 543,  65,   7,   8,   9,   9, 345])"
      ]
     },
     "execution_count": 26,
     "metadata": {},
     "output_type": "execute_result"
    }
   ],
   "source": [
    "np.extract(arr1>2,arr1)"
   ]
  },
  {
   "cell_type": "code",
   "execution_count": 23,
   "id": "deb56fbc-24eb-4bb6-b752-0fa7010dce53",
   "metadata": {},
   "outputs": [],
   "source": [
    "#Numpy- Byte Swaping"
   ]
  },
  {
   "cell_type": "code",
   "execution_count": 24,
   "id": "19d96f1a-0ad4-47c4-afe1-07d2f3505868",
   "metadata": {},
   "outputs": [
    {
     "data": {
      "text/plain": [
       "array([  0, 324, 543,  65,   7,   8,   9,   0,   0,   0,   0,   0,   9,\n",
       "       345])"
      ]
     },
     "execution_count": 24,
     "metadata": {},
     "output_type": "execute_result"
    }
   ],
   "source": [
    "arr1"
   ]
  },
  {
   "cell_type": "code",
   "execution_count": 27,
   "id": "64945ca9-5ada-4a15-8ed7-26ee816e6a0d",
   "metadata": {},
   "outputs": [
    {
     "data": {
      "text/plain": [
       "array([                  0, 4900197869555810304, 2234348365129187328,\n",
       "       4683743612465315840,  504403158265495552,  576460752303423488,\n",
       "        648518346341351424,                   0,                   0,\n",
       "                         0,                   0,                   0,\n",
       "        648518346341351424, 6413407344352296960])"
      ]
     },
     "execution_count": 27,
     "metadata": {},
     "output_type": "execute_result"
    }
   ],
   "source": [
    "arr1.byteswap()"
   ]
  },
  {
   "cell_type": "code",
   "execution_count": 29,
   "id": "5408c177-1000-43e2-bdff-f3dc924d0ded",
   "metadata": {},
   "outputs": [
    {
     "data": {
      "text/plain": [
       "array([ 288230376151711744,  144115188075855872,  216172782113783808,\n",
       "        288230376151711744,  360287970189639680,  288230376151711744,\n",
       "       4683743612465315840,  432345564227567616,  504403158265495552,\n",
       "       6413125869375586304, 5476377146882523136, 3674937295934324736])"
      ]
     },
     "execution_count": 29,
     "metadata": {},
     "output_type": "execute_result"
    }
   ],
   "source": [
    "arr.byteswap()"
   ]
  },
  {
   "cell_type": "code",
   "execution_count": 30,
   "id": "39bc3501-05ba-4273-8d49-744c118408a7",
   "metadata": {},
   "outputs": [],
   "source": [
    "#numpy: Copies & Views"
   ]
  },
  {
   "cell_type": "code",
   "execution_count": 31,
   "id": "1fabb3bb-a0fb-4d6b-b90d-7611143a6b3c",
   "metadata": {},
   "outputs": [
    {
     "data": {
      "text/plain": [
       "array([  0, 324, 543,  65,   7,   8,   9,   0,   0,   0,   0,   0,   9,\n",
       "       345])"
      ]
     },
     "execution_count": 31,
     "metadata": {},
     "output_type": "execute_result"
    }
   ],
   "source": [
    "arr1"
   ]
  },
  {
   "cell_type": "code",
   "execution_count": 33,
   "id": "100b4da4-4ee2-4dbe-86ff-0cd51bfbb7e8",
   "metadata": {},
   "outputs": [],
   "source": [
    "a = np.copy(arr1)"
   ]
  },
  {
   "cell_type": "code",
   "execution_count": 34,
   "id": "8214cd8d-880f-4e3c-a9ed-747330d3d91f",
   "metadata": {},
   "outputs": [],
   "source": [
    "b = arr1.view()"
   ]
  },
  {
   "cell_type": "code",
   "execution_count": 35,
   "id": "02ec7208-eb4c-41c3-bda3-597081356a54",
   "metadata": {},
   "outputs": [
    {
     "data": {
      "text/plain": [
       "array([  0, 324, 543,  65,   7,   8,   9,   0,   0,   0,   0,   0,   9,\n",
       "       345])"
      ]
     },
     "execution_count": 35,
     "metadata": {},
     "output_type": "execute_result"
    }
   ],
   "source": [
    "b"
   ]
  },
  {
   "cell_type": "code",
   "execution_count": 36,
   "id": "54b76207-b391-4c3d-8bb5-ba3b3e310d1f",
   "metadata": {},
   "outputs": [
    {
     "data": {
      "text/plain": [
       "array([  0, 324, 543,  65,   7,   8,   9,   0,   0,   0,   0,   0,   9,\n",
       "       345])"
      ]
     },
     "execution_count": 36,
     "metadata": {},
     "output_type": "execute_result"
    }
   ],
   "source": [
    "a"
   ]
  },
  {
   "cell_type": "code",
   "execution_count": 37,
   "id": "a56c3be2-1023-4119-8fb7-8994c0e0adc7",
   "metadata": {},
   "outputs": [],
   "source": [
    "b[0]= 234"
   ]
  },
  {
   "cell_type": "code",
   "execution_count": 38,
   "id": "895188f5-bfd4-42c5-a30f-9775ffefb496",
   "metadata": {},
   "outputs": [
    {
     "data": {
      "text/plain": [
       "array([234, 324, 543,  65,   7,   8,   9,   0,   0,   0,   0,   0,   9,\n",
       "       345])"
      ]
     },
     "execution_count": 38,
     "metadata": {},
     "output_type": "execute_result"
    }
   ],
   "source": [
    "b"
   ]
  },
  {
   "cell_type": "code",
   "execution_count": 39,
   "id": "912b7bc8-5c7d-43b7-84c4-03c211f351c0",
   "metadata": {},
   "outputs": [
    {
     "data": {
      "text/plain": [
       "array([234, 324, 543,  65,   7,   8,   9,   0,   0,   0,   0,   0,   9,\n",
       "       345])"
      ]
     },
     "execution_count": 39,
     "metadata": {},
     "output_type": "execute_result"
    }
   ],
   "source": [
    "arr1"
   ]
  },
  {
   "cell_type": "code",
   "execution_count": 40,
   "id": "e2179368-3b82-4e25-899a-a3a822cdd37d",
   "metadata": {},
   "outputs": [],
   "source": [
    "#Numpy matrix library"
   ]
  },
  {
   "cell_type": "code",
   "execution_count": 41,
   "id": "0d0fbeb6-7ac0-4d58-aa80-fb77feb6af24",
   "metadata": {},
   "outputs": [],
   "source": [
    "import numpy.matlib  as nm"
   ]
  },
  {
   "cell_type": "code",
   "execution_count": 42,
   "id": "193c7b42-11cf-4f0d-bb87-3f8e4d975e01",
   "metadata": {},
   "outputs": [
    {
     "data": {
      "text/plain": [
       "matrix([[0., 0., 0., 0., 0.]])"
      ]
     },
     "execution_count": 42,
     "metadata": {},
     "output_type": "execute_result"
    }
   ],
   "source": [
    "nm.zeros(5)"
   ]
  },
  {
   "cell_type": "code",
   "execution_count": 44,
   "id": "949b1865-a7c7-461f-8d10-dcb4dc2d1659",
   "metadata": {},
   "outputs": [
    {
     "data": {
      "text/plain": [
       "matrix([[1., 1., 1., 1.],\n",
       "        [1., 1., 1., 1.],\n",
       "        [1., 1., 1., 1.]])"
      ]
     },
     "execution_count": 44,
     "metadata": {},
     "output_type": "execute_result"
    }
   ],
   "source": [
    "nm.ones((3,4))"
   ]
  },
  {
   "cell_type": "code",
   "execution_count": 45,
   "id": "d376e9a7-72da-424f-ad20-9d97883eba83",
   "metadata": {},
   "outputs": [
    {
     "data": {
      "text/plain": [
       "matrix([[1., 0., 0., 0.],\n",
       "        [0., 1., 0., 0.],\n",
       "        [0., 0., 1., 0.],\n",
       "        [0., 0., 0., 1.]])"
      ]
     },
     "execution_count": 45,
     "metadata": {},
     "output_type": "execute_result"
    }
   ],
   "source": [
    "nm.eye(4)"
   ]
  },
  {
   "cell_type": "code",
   "execution_count": 46,
   "id": "b34fa60b-90e0-418c-af45-e6121ad8ff94",
   "metadata": {},
   "outputs": [],
   "source": [
    "#Numpy : Linear alzebra"
   ]
  },
  {
   "cell_type": "code",
   "execution_count": 47,
   "id": "1c56ea21-2169-49d1-abc3-6585caa2e332",
   "metadata": {},
   "outputs": [
    {
     "data": {
      "text/plain": [
       "array([234, 324, 543,  65,   7,   8,   9,   0,   0,   0,   0,   0,   9,\n",
       "       345])"
      ]
     },
     "execution_count": 47,
     "metadata": {},
     "output_type": "execute_result"
    }
   ],
   "source": [
    "arr1"
   ]
  },
  {
   "cell_type": "code",
   "execution_count": 49,
   "id": "14dee14f-d7ab-468f-a85b-b62626557e85",
   "metadata": {},
   "outputs": [],
   "source": [
    "arr1=np.random.randint([[2,3],[4,5]])"
   ]
  },
  {
   "cell_type": "code",
   "execution_count": 50,
   "id": "d26a574a-35a0-4d52-a487-a569b2bcdb7e",
   "metadata": {},
   "outputs": [],
   "source": [
    "arr2=np.random.randint([[2,3],[4,5]])"
   ]
  },
  {
   "cell_type": "code",
   "execution_count": 51,
   "id": "cbebba19-844e-4650-9389-ff542201081d",
   "metadata": {},
   "outputs": [
    {
     "data": {
      "text/plain": [
       "array([[0, 2],\n",
       "       [1, 1]])"
      ]
     },
     "execution_count": 51,
     "metadata": {},
     "output_type": "execute_result"
    }
   ],
   "source": [
    "arr1"
   ]
  },
  {
   "cell_type": "code",
   "execution_count": 52,
   "id": "34ad00c6-9ad5-4f35-b790-d9d151a4e2ac",
   "metadata": {},
   "outputs": [
    {
     "data": {
      "text/plain": [
       "array([[0, 0],\n",
       "       [0, 1]])"
      ]
     },
     "execution_count": 52,
     "metadata": {},
     "output_type": "execute_result"
    }
   ],
   "source": [
    "arr2"
   ]
  },
  {
   "cell_type": "code",
   "execution_count": 53,
   "id": "669f4c9d-f056-4fe5-8b5a-3b1b9cc1b2bf",
   "metadata": {},
   "outputs": [
    {
     "data": {
      "text/plain": [
       "array([[0, 2],\n",
       "       [0, 1]])"
      ]
     },
     "execution_count": 53,
     "metadata": {},
     "output_type": "execute_result"
    }
   ],
   "source": [
    "np.dot(arr1,arr2)"
   ]
  },
  {
   "cell_type": "code",
   "execution_count": 54,
   "id": "7add9ce0-f668-4a39-a36b-c8b3bf585af4",
   "metadata": {},
   "outputs": [
    {
     "data": {
      "text/plain": [
       "array([[0, 2],\n",
       "       [0, 1]])"
      ]
     },
     "execution_count": 54,
     "metadata": {},
     "output_type": "execute_result"
    }
   ],
   "source": [
    "arr1@arr2"
   ]
  },
  {
   "cell_type": "code",
   "execution_count": null,
   "id": "b90d5c4b-7588-4adc-9b11-c7802823ca28",
   "metadata": {},
   "outputs": [],
   "source": []
  }
 ],
 "metadata": {
  "kernelspec": {
   "display_name": "Python 3 (ipykernel)",
   "language": "python",
   "name": "python3"
  },
  "language_info": {
   "codemirror_mode": {
    "name": "ipython",
    "version": 3
   },
   "file_extension": ".py",
   "mimetype": "text/x-python",
   "name": "python",
   "nbconvert_exporter": "python",
   "pygments_lexer": "ipython3",
   "version": "3.10.8"
  }
 },
 "nbformat": 4,
 "nbformat_minor": 5
}
