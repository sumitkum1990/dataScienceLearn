{
 "cells": [
  {
   "cell_type": "code",
   "execution_count": 6,
   "id": "1cca13da-debf-43b1-be53-bf5ca7298ce8",
   "metadata": {},
   "outputs": [
    {
     "name": "stdout",
     "output_type": "stream",
     "text": [
      "zero\n",
      "Always print this\n"
     ]
    }
   ],
   "source": [
    "number = False\n",
    "\n",
    "if number > 0 :\n",
    "    print(\"positive number\")\n",
    "elif number == 0:\n",
    "    print(\"zero\")\n",
    "else:\n",
    "    print(\"negative number\")\n",
    "    \n",
    "print(\"Always print this\")"
   ]
  },
  {
   "cell_type": "code",
   "execution_count": 8,
   "id": "ca03c74e-9738-4b10-810a-792a36aaffe8",
   "metadata": {},
   "outputs": [
    {
     "name": "stdout",
     "output_type": "stream",
     "text": [
      "0\n",
      "1\n",
      "2\n",
      "3\n",
      "4\n",
      "5\n"
     ]
    }
   ],
   "source": [
    "for i in range(6):\n",
    "    print(i)"
   ]
  },
  {
   "cell_type": "code",
   "execution_count": 9,
   "id": "1f3c3843-ed0e-49ae-8bf6-02b5ca9f20a5",
   "metadata": {},
   "outputs": [
    {
     "name": "stdout",
     "output_type": "stream",
     "text": [
      "today is mon\n",
      "today is tues\n",
      "today is wed\n",
      "today is thurs\n",
      "today is fri\n",
      "today is sat\n",
      "today is sun\n"
     ]
    }
   ],
   "source": [
    "days = 0\n",
    "week = ['mon','tues','wed','thurs','fri','sat','sun']\n",
    "\n",
    "while days<7:\n",
    "    print(\"today is \"+week[days])\n",
    "    days+=1"
   ]
  },
  {
   "cell_type": "code",
   "execution_count": 11,
   "id": "83ae8838-beed-4bbf-8932-a8a0df594c14",
   "metadata": {},
   "outputs": [
    {
     "name": "stdout",
     "output_type": "stream",
     "text": [
      "today is mon\n",
      "today is tues\n",
      "today is wed\n",
      "today is thurs\n",
      "today is fri\n",
      "today is sat\n",
      "today is sun\n"
     ]
    }
   ],
   "source": [
    "days = 0\n",
    "week = ['mon','tues','wed','thurs','fri','sat','sun']\n",
    "\n",
    "for days in range(7):\n",
    "    print(\"today is \"+week[days])\n",
    "    days+=1\n"
   ]
  },
  {
   "cell_type": "code",
   "execution_count": 12,
   "id": "0e934db6-a738-4ec3-9ffe-c14efecdfa72",
   "metadata": {},
   "outputs": [
    {
     "data": {
      "text/plain": [
       "['i', 'write', 'code']"
      ]
     },
     "execution_count": 12,
     "metadata": {},
     "output_type": "execute_result"
    }
   ],
   "source": [
    "text = \"i write code\"\n",
    "text.split()"
   ]
  },
  {
   "cell_type": "code",
   "execution_count": 14,
   "id": "06077c4b-6ab7-46cf-ac70-1f341fa1cd65",
   "metadata": {},
   "outputs": [
    {
     "data": {
      "text/plain": [
       "['', ' wr', 'te code']"
      ]
     },
     "execution_count": 14,
     "metadata": {},
     "output_type": "execute_result"
    }
   ],
   "source": [
    "text = \"i write code\"\n",
    "text.split('i')"
   ]
  },
  {
   "cell_type": "code",
   "execution_count": 15,
   "id": "80113c73-b03e-4c44-95b8-3469bc97b427",
   "metadata": {},
   "outputs": [
    {
     "data": {
      "text/plain": [
       "['I', 'love', 'phython']"
      ]
     },
     "execution_count": 15,
     "metadata": {},
     "output_type": "execute_result"
    }
   ],
   "source": [
    "text = 'I love phython'\n",
    "text.split()"
   ]
  },
  {
   "cell_type": "code",
   "execution_count": 16,
   "id": "e2e98545-b9dd-4e53-91fc-eed298d29b63",
   "metadata": {},
   "outputs": [
    {
     "name": "stdin",
     "output_type": "stream",
     "text": [
      "enter 3 word message welcome to pwskills\n"
     ]
    }
   ],
   "source": [
    "x = input('enter 3 word message')"
   ]
  },
  {
   "cell_type": "code",
   "execution_count": 17,
   "id": "d2349553-b807-4676-aa0f-ad57d9fed4c7",
   "metadata": {},
   "outputs": [],
   "source": [
    "y = 1\n",
    "y,w = 4,5"
   ]
  },
  {
   "cell_type": "code",
   "execution_count": 18,
   "id": "c8354a6a-5dac-4933-867e-ac2308fb702d",
   "metadata": {},
   "outputs": [],
   "source": [
    "word1 , word2, word3 = x.split()"
   ]
  },
  {
   "cell_type": "code",
   "execution_count": 19,
   "id": "66b25b0e-fc06-49f1-8188-abbb48809469",
   "metadata": {},
   "outputs": [
    {
     "data": {
      "text/plain": [
       "'welcome'"
      ]
     },
     "execution_count": 19,
     "metadata": {},
     "output_type": "execute_result"
    }
   ],
   "source": [
    "word1"
   ]
  },
  {
   "cell_type": "code",
   "execution_count": 20,
   "id": "4a9f75f8-cdb9-4d4e-88e8-811889bc1dca",
   "metadata": {},
   "outputs": [
    {
     "data": {
      "text/plain": [
       "'pwskills'"
      ]
     },
     "execution_count": 20,
     "metadata": {},
     "output_type": "execute_result"
    }
   ],
   "source": [
    "word3"
   ]
  },
  {
   "cell_type": "code",
   "execution_count": 21,
   "id": "fa2ccacf-d690-4487-9b90-eabbc3a6159b",
   "metadata": {},
   "outputs": [
    {
     "name": "stdin",
     "output_type": "stream",
     "text": [
      "enter first number 4\n",
      "enter first number 5\n"
     ]
    },
    {
     "name": "stdout",
     "output_type": "stream",
     "text": [
      "9\n"
     ]
    }
   ],
   "source": [
    "a = int(input(\"enter first number\"))\n",
    "b = int(input(\"enter first number\"))\n",
    "print(a + b)"
   ]
  },
  {
   "cell_type": "code",
   "execution_count": 28,
   "id": "0ed4e8cc-a2a5-47aa-9c80-3c9c5268ca04",
   "metadata": {},
   "outputs": [
    {
     "name": "stdin",
     "output_type": "stream",
     "text": [
      "enter 2 number 89 76\n"
     ]
    },
    {
     "name": "stdout",
     "output_type": "stream",
     "text": [
      "165\n"
     ]
    }
   ],
   "source": [
    "a, b = input(\"enter 2 number\").split()\n",
    "c = int(a)+int(b)\n",
    "\n",
    "print(c)"
   ]
  },
  {
   "cell_type": "code",
   "execution_count": 26,
   "id": "c92f082d-1d98-4eae-974f-e7a829ec5adc",
   "metadata": {},
   "outputs": [
    {
     "name": "stdin",
     "output_type": "stream",
     "text": [
      "enter rol no., name and percentage 67 Sumit 89\n"
     ]
    },
    {
     "name": "stdout",
     "output_type": "stream",
     "text": [
      "roll67\n",
      "nameSumit\n",
      "percentage89\n"
     ]
    }
   ],
   "source": [
    "s = input(\"enter rol no., name and percentage\")\n",
    "roll, name,percent = s.split()\n",
    "print(\"roll\" + roll)\n",
    "print(\"name\" + name )\n",
    "print(\"percentage\" + percent)"
   ]
  },
  {
   "cell_type": "code",
   "execution_count": 32,
   "id": "f1ef415d-5310-4c44-a1b3-dd0530a1faf1",
   "metadata": {},
   "outputs": [
    {
     "name": "stdout",
     "output_type": "stream",
     "text": [
      "['A', 'B', 'C', 'D', 'E', 'F', 'G', 'H ']\n"
     ]
    }
   ],
   "source": [
    "s1 = \"A B C D E F G H \"\n",
    "print(s1.split(' ',7))"
   ]
  },
  {
   "cell_type": "code",
   "execution_count": 33,
   "id": "45609b79-e5b4-4e28-b162-8cc704872b64",
   "metadata": {},
   "outputs": [
    {
     "name": "stdout",
     "output_type": "stream",
     "text": [
      "['hi', 'hi', 'hi', 'hi']\n"
     ]
    }
   ],
   "source": [
    "s1 = \"hi@hi@hi@hi\"\n",
    "print(s1.split('@',5))"
   ]
  },
  {
   "cell_type": "code",
   "execution_count": 34,
   "id": "5a882de1-eb03-49d6-963e-981d90b341c3",
   "metadata": {},
   "outputs": [
    {
     "name": "stdout",
     "output_type": "stream",
     "text": [
      "['hi', 'hi', 'hi', 'hi']\n"
     ]
    }
   ],
   "source": [
    "s1 = \"hi@hi@hi@hi\"\n",
    "print(s1.split('@'))"
   ]
  },
  {
   "cell_type": "code",
   "execution_count": 35,
   "id": "2501d045-1f63-49ef-a179-215deddaccb8",
   "metadata": {},
   "outputs": [
    {
     "name": "stdout",
     "output_type": "stream",
     "text": [
      "['hi', 'hi', 'hi@hi']\n"
     ]
    }
   ],
   "source": [
    "s1 = \"hi@hi@hi@hi\"\n",
    "print(s1.split('@',2))"
   ]
  },
  {
   "cell_type": "code",
   "execution_count": 36,
   "id": "2a94cc36-8c51-4d12-8a24-ce7a52dade6e",
   "metadata": {},
   "outputs": [
    {
     "name": "stdout",
     "output_type": "stream",
     "text": [
      "letter p\n",
      "letter w\n",
      "letter s\n",
      "letter k\n",
      "letter i\n",
      "letter l\n",
      "letter l\n",
      "letter s\n"
     ]
    }
   ],
   "source": [
    "for letter in \"pwskills\":\n",
    "    print('letter' ,letter)"
   ]
  },
  {
   "cell_type": "code",
   "execution_count": 47,
   "id": "437644f7-046d-462b-8470-ba12514814fc",
   "metadata": {},
   "outputs": [
    {
     "name": "stdout",
     "output_type": "stream",
     "text": [
      "letter p\n",
      "letter w\n",
      "letter s\n",
      "letter k\n",
      "letter i\n"
     ]
    }
   ],
   "source": [
    "for letter in \"pwskills\":\n",
    "    if letter == 'l':\n",
    "        break # exit the loop\n",
    "    print('letter' ,letter)"
   ]
  },
  {
   "cell_type": "code",
   "execution_count": 38,
   "id": "c54cabb7-8a3e-4327-8892-68b91b6e449a",
   "metadata": {},
   "outputs": [
    {
     "name": "stdout",
     "output_type": "stream",
     "text": [
      "0\n",
      "1\n",
      "2\n"
     ]
    }
   ],
   "source": [
    "for i in range(5):\n",
    "    if i == 3:\n",
    "        break\n",
    "    print(i)"
   ]
  },
  {
   "cell_type": "code",
   "execution_count": 39,
   "id": "2014c967-f920-4769-99a8-987b80a47a14",
   "metadata": {},
   "outputs": [
    {
     "data": {
      "text/plain": [
       "[0, 1, 2, 3, 4]"
      ]
     },
     "execution_count": 39,
     "metadata": {},
     "output_type": "execute_result"
    }
   ],
   "source": [
    "list(range(5))"
   ]
  },
  {
   "cell_type": "code",
   "execution_count": 41,
   "id": "12b9c418-4ce5-4f4c-8a7b-5970b9ef8524",
   "metadata": {},
   "outputs": [
    {
     "name": "stdout",
     "output_type": "stream",
     "text": [
      "1\n",
      "2\n",
      "3\n",
      "4\n",
      "5\n"
     ]
    }
   ],
   "source": [
    "i  = 1\n",
    "\n",
    "while i<=10:\n",
    "    print(i)\n",
    "    \n",
    "    if i >= 5:\n",
    "        break\n",
    "    i+=1"
   ]
  },
  {
   "cell_type": "code",
   "execution_count": 43,
   "id": "22aa23fe-83a0-40b6-90b4-0f4ba9531d19",
   "metadata": {},
   "outputs": [
    {
     "name": "stdout",
     "output_type": "stream",
     "text": [
      "10\n",
      "20\n"
     ]
    }
   ],
   "source": [
    "numbers = [10,20,30,40,890]\n",
    "\n",
    "for i in numbers:\n",
    "    if i>23:\n",
    "        break\n",
    "    print(i)"
   ]
  },
  {
   "cell_type": "code",
   "execution_count": 44,
   "id": "0d41cb10-ffcc-404c-9f17-4e1f6212479c",
   "metadata": {},
   "outputs": [
    {
     "name": "stdout",
     "output_type": "stream",
     "text": [
      "h\n",
      "e\n",
      "l\n",
      "l\n",
      "o\n",
      " \n",
      "w\n",
      "o\n",
      "r\n",
      "l\n",
      "d\n"
     ]
    }
   ],
   "source": [
    "s = \"hello world\"\n",
    "for char in s:\n",
    "    print(char)\n",
    "    \n",
    "    if char == ',':\n",
    "        break"
   ]
  },
  {
   "cell_type": "code",
   "execution_count": 45,
   "id": "66825e2b-654b-4742-a219-b6a5ee5c5332",
   "metadata": {},
   "outputs": [
    {
     "name": "stdout",
     "output_type": "stream",
     "text": [
      "h\n",
      "e\n",
      "l\n",
      "l\n",
      "o\n",
      ",\n"
     ]
    }
   ],
   "source": [
    "s = \"hello, world\"\n",
    "for char in s:\n",
    "    print(char)\n",
    "    \n",
    "    if char == ',':\n",
    "        break"
   ]
  },
  {
   "cell_type": "code",
   "execution_count": 46,
   "id": "2d638e5b-6280-4e30-a941-c11b909baaf4",
   "metadata": {},
   "outputs": [
    {
     "name": "stdout",
     "output_type": "stream",
     "text": [
      "p\n",
      "w\n",
      "s\n",
      "k\n",
      "l\n",
      "l\n",
      "s\n"
     ]
    }
   ],
   "source": [
    "for letter in \"pwskills\":\n",
    "    if letter == 'i':\n",
    "        continue # skip particular iteration\n",
    "    print(letter)"
   ]
  },
  {
   "cell_type": "code",
   "execution_count": 48,
   "id": "723bc1e7-8d3b-4c63-a38c-c029c35575f0",
   "metadata": {},
   "outputs": [
    {
     "ename": "SyntaxError",
     "evalue": "invalid syntax (3447926948.py, line 1)",
     "output_type": "error",
     "traceback": [
      "\u001b[0;36m  Cell \u001b[0;32mIn[48], line 1\u001b[0;36m\u001b[0m\n\u001b[0;31m    for i range(5)\u001b[0m\n\u001b[0m          ^\u001b[0m\n\u001b[0;31mSyntaxError\u001b[0m\u001b[0;31m:\u001b[0m invalid syntax\n"
     ]
    }
   ],
   "source": [
    "for i range(5)"
   ]
  },
  {
   "cell_type": "code",
   "execution_count": 50,
   "id": "b72691fc-7eb9-447d-b272-e04a9c53e193",
   "metadata": {},
   "outputs": [
    {
     "name": "stdout",
     "output_type": "stream",
     "text": [
      "0\n",
      "1\n",
      "2\n",
      "4\n"
     ]
    }
   ],
   "source": [
    "for i in range (5):\n",
    "    if i == 3:\n",
    "        continue\n",
    "    print(i)"
   ]
  },
  {
   "cell_type": "code",
   "execution_count": 51,
   "id": "ef80369a-a6a8-4930-a290-d9beda90af8d",
   "metadata": {},
   "outputs": [],
   "source": [
    "#write a program to print odd number 1 to 10"
   ]
  },
  {
   "cell_type": "code",
   "execution_count": 2,
   "id": "19487e43-2e91-461c-8667-69fd65dfa5b0",
   "metadata": {},
   "outputs": [
    {
     "name": "stdout",
     "output_type": "stream",
     "text": [
      "1\n",
      "3\n",
      "5\n",
      "7\n",
      "9\n"
     ]
    }
   ],
   "source": [
    "for h  in range (1,11):\n",
    "    if  h % 2 == 0:\n",
    "        continue\n",
    "    print(h)"
   ]
  },
  {
   "cell_type": "code",
   "execution_count": 10,
   "id": "909be696-2b38-4ca9-b1e5-ba6bd9490454",
   "metadata": {},
   "outputs": [
    {
     "name": "stdout",
     "output_type": "stream",
     "text": [
      "6.0\n"
     ]
    }
   ],
   "source": [
    "for k in range(11):\n",
    "     k = (k/2)+1\n",
    "print(k)"
   ]
  },
  {
   "cell_type": "code",
   "execution_count": 7,
   "id": "05594bd2-9f4f-44d5-8012-952f13cdaa52",
   "metadata": {},
   "outputs": [
    {
     "name": "stdout",
     "output_type": "stream",
     "text": [
      "hello\n"
     ]
    }
   ],
   "source": [
    "n = 10\n",
    "\n",
    "if n>10:\n",
    "    pass\n",
    "\n",
    "print(\"hello\")"
   ]
  },
  {
   "cell_type": "code",
   "execution_count": 11,
   "id": "b48507ad-c4b2-4e29-94cd-0a2508a0c9e6",
   "metadata": {},
   "outputs": [],
   "source": [
    "for i in range(5):\n",
    "    pass"
   ]
  },
  {
   "cell_type": "code",
   "execution_count": 12,
   "id": "a740e4cb-d615-4798-aaf4-21bef11c0b7e",
   "metadata": {},
   "outputs": [
    {
     "name": "stdout",
     "output_type": "stream",
     "text": [
      "p\n",
      "w\n",
      "s\n",
      "k\n",
      "i\n",
      "l\n",
      "l\n",
      "s\n"
     ]
    }
   ],
   "source": [
    "for letter in \"pwskills\":\n",
    "    if letter == 'i':\n",
    "        pass\n",
    "    print(letter)"
   ]
  },
  {
   "cell_type": "code",
   "execution_count": 14,
   "id": "f3ed487f-db30-4b25-aae7-b489d9716fe1",
   "metadata": {},
   "outputs": [],
   "source": [
    "#functions\n"
   ]
  },
  {
   "cell_type": "code",
   "execution_count": 15,
   "id": "47a93e41-a2e1-4baf-b5eb-ef240dc310a3",
   "metadata": {},
   "outputs": [
    {
     "name": "stdout",
     "output_type": "stream",
     "text": [
      "100\n"
     ]
    }
   ],
   "source": [
    "a = 10\n",
    "b = 90\n",
    "print(a + b)"
   ]
  },
  {
   "cell_type": "code",
   "execution_count": 25,
   "id": "2ea2c914-6da2-43e2-944a-fa5a2466d4ba",
   "metadata": {},
   "outputs": [
    {
     "name": "stdin",
     "output_type": "stream",
     "text": [
      " 10\n",
      " 20\n"
     ]
    }
   ],
   "source": [
    "a = input()\n",
    "b = input()\n",
    "\n",
    "def add(a,b):\n",
    "    return a + b\n",
    "\n",
    "    "
   ]
  },
  {
   "cell_type": "code",
   "execution_count": 22,
   "id": "91be0d90-205e-430b-a379-c2d0c6dd18e7",
   "metadata": {},
   "outputs": [],
   "source": [
    "def greet():\n",
    "    print(\"hello world\")"
   ]
  },
  {
   "cell_type": "code",
   "execution_count": 23,
   "id": "981dc68f-7c56-4d68-b2fe-6114931fde23",
   "metadata": {},
   "outputs": [
    {
     "name": "stdout",
     "output_type": "stream",
     "text": [
      "hello world\n"
     ]
    }
   ],
   "source": [
    "greet()"
   ]
  },
  {
   "cell_type": "code",
   "execution_count": 24,
   "id": "8716ebce-22fc-431f-9e61-569c0feeccd7",
   "metadata": {},
   "outputs": [
    {
     "ename": "TypeError",
     "evalue": "add() missing 2 required positional arguments: 'a' and 'b'",
     "output_type": "error",
     "traceback": [
      "\u001b[0;31m---------------------------------------------------------------------------\u001b[0m",
      "\u001b[0;31mTypeError\u001b[0m                                 Traceback (most recent call last)",
      "Cell \u001b[0;32mIn[24], line 1\u001b[0m\n\u001b[0;32m----> 1\u001b[0m \u001b[43madd\u001b[49m\u001b[43m(\u001b[49m\u001b[43m)\u001b[49m\n",
      "\u001b[0;31mTypeError\u001b[0m: add() missing 2 required positional arguments: 'a' and 'b'"
     ]
    }
   ],
   "source": [
    "add()"
   ]
  },
  {
   "cell_type": "code",
   "execution_count": 27,
   "id": "057f14a9-4140-4620-b4fe-611c8dd92d94",
   "metadata": {},
   "outputs": [
    {
     "data": {
      "text/plain": [
       "32"
      ]
     },
     "execution_count": 27,
     "metadata": {},
     "output_type": "execute_result"
    }
   ],
   "source": [
    "add(12,20)"
   ]
  },
  {
   "cell_type": "code",
   "execution_count": 29,
   "id": "ad6e2722-ce5e-4b7f-a991-77e60998efa1",
   "metadata": {},
   "outputs": [],
   "source": [
    "def addnum():\n",
    "    a = 10\n",
    "    b = 78\n",
    "    c = a+b\n",
    "    print(c)"
   ]
  },
  {
   "cell_type": "code",
   "execution_count": 30,
   "id": "4c0fe8c1-566a-44cd-9a2e-1d8db8b112e0",
   "metadata": {},
   "outputs": [
    {
     "ename": "TypeError",
     "evalue": "addnum() takes 0 positional arguments but 2 were given",
     "output_type": "error",
     "traceback": [
      "\u001b[0;31m---------------------------------------------------------------------------\u001b[0m",
      "\u001b[0;31mTypeError\u001b[0m                                 Traceback (most recent call last)",
      "Cell \u001b[0;32mIn[30], line 1\u001b[0m\n\u001b[0;32m----> 1\u001b[0m \u001b[43maddnum\u001b[49m\u001b[43m(\u001b[49m\u001b[38;5;241;43m2\u001b[39;49m\u001b[43m,\u001b[49m\u001b[38;5;241;43m4\u001b[39;49m\u001b[43m)\u001b[49m\n",
      "\u001b[0;31mTypeError\u001b[0m: addnum() takes 0 positional arguments but 2 were given"
     ]
    }
   ],
   "source": [
    "addnum(2,4)"
   ]
  },
  {
   "cell_type": "code",
   "execution_count": 31,
   "id": "116de3be-600e-4499-8174-5cad21f26ae1",
   "metadata": {},
   "outputs": [
    {
     "name": "stdout",
     "output_type": "stream",
     "text": [
      "88\n"
     ]
    }
   ],
   "source": [
    "addnum()"
   ]
  },
  {
   "cell_type": "code",
   "execution_count": 32,
   "id": "cb89c53c-1a8b-412a-94f1-26d9a866d977",
   "metadata": {},
   "outputs": [],
   "source": [
    "def addtwonumber():\n",
    "    a = input(\"enter first number\")\n",
    "    b = input(\"enter second number\")\n",
    "    c = int(a) + int(b)\n",
    "    print(c)\n",
    "    "
   ]
  },
  {
   "cell_type": "code",
   "execution_count": 33,
   "id": "2df8e16b-4a6f-4ac0-956a-85cf826bf9cc",
   "metadata": {},
   "outputs": [
    {
     "name": "stdin",
     "output_type": "stream",
     "text": [
      "enter first number 10\n",
      "enter second number 20\n"
     ]
    },
    {
     "name": "stdout",
     "output_type": "stream",
     "text": [
      "30\n"
     ]
    }
   ],
   "source": [
    "addtwonumber()"
   ]
  },
  {
   "cell_type": "code",
   "execution_count": 37,
   "id": "555cecf6-010b-4875-8ea2-39d545b704da",
   "metadata": {},
   "outputs": [],
   "source": [
    "def muliply_two_number(x,y):\n",
    "    a=x\n",
    "    b=y\n",
    "    c=a*b\n",
    "    print(c)"
   ]
  },
  {
   "cell_type": "code",
   "execution_count": 35,
   "id": "09376bb1-d4aa-4686-8b4f-279dc2301c22",
   "metadata": {},
   "outputs": [
    {
     "ename": "TypeError",
     "evalue": "muliply_two_number() missing 2 required positional arguments: 'x' and 'y'",
     "output_type": "error",
     "traceback": [
      "\u001b[0;31m---------------------------------------------------------------------------\u001b[0m",
      "\u001b[0;31mTypeError\u001b[0m                                 Traceback (most recent call last)",
      "Cell \u001b[0;32mIn[35], line 1\u001b[0m\n\u001b[0;32m----> 1\u001b[0m \u001b[43mmuliply_two_number\u001b[49m\u001b[43m(\u001b[49m\u001b[43m)\u001b[49m\n",
      "\u001b[0;31mTypeError\u001b[0m: muliply_two_number() missing 2 required positional arguments: 'x' and 'y'"
     ]
    }
   ],
   "source": [
    " muliply_two_number()"
   ]
  },
  {
   "cell_type": "code",
   "execution_count": 38,
   "id": "8d6a4e42-d734-42a5-9e39-1b2fe8f748b2",
   "metadata": {},
   "outputs": [
    {
     "name": "stdout",
     "output_type": "stream",
     "text": [
      "6\n"
     ]
    }
   ],
   "source": [
    " muliply_two_number(2,3)"
   ]
  },
  {
   "cell_type": "code",
   "execution_count": 39,
   "id": "428bd627-e267-40b2-b04e-08db46806b0f",
   "metadata": {},
   "outputs": [],
   "source": [
    "def introduction(name):\n",
    "    print(\"hi\", name)"
   ]
  },
  {
   "cell_type": "code",
   "execution_count": 40,
   "id": "af3f5c67-a349-4ca8-855e-88683d504dd2",
   "metadata": {},
   "outputs": [
    {
     "name": "stdout",
     "output_type": "stream",
     "text": [
      "hi Sumit Kumar\n"
     ]
    }
   ],
   "source": [
    "introduction(\"Sumit Kumar\")"
   ]
  },
  {
   "cell_type": "code",
   "execution_count": 41,
   "id": "02d2e04b-7250-4c9e-a8b4-15bbc7456d82",
   "metadata": {},
   "outputs": [],
   "source": [
    "def introduction(fname, lname):\n",
    "    print(\"hi\", fname + lname)"
   ]
  },
  {
   "cell_type": "code",
   "execution_count": 42,
   "id": "b78f2dca-bb07-4a73-801d-bbdbde1bcf01",
   "metadata": {},
   "outputs": [
    {
     "name": "stdout",
     "output_type": "stream",
     "text": [
      "hi SumitKumar\n"
     ]
    }
   ],
   "source": [
    "introduction(\"Sumit\", \"Kumar\")"
   ]
  },
  {
   "cell_type": "code",
   "execution_count": 68,
   "id": "bf0afe3c-fdc6-40ee-902c-f8c2e437dfe0",
   "metadata": {},
   "outputs": [],
   "source": [
    "\n",
    "\n",
    "def absolute_value(a):\n",
    "    \n",
    "    if a<0:\n",
    "        a = -a\n",
    "        print(a)\n",
    "    else:\n",
    "        print(a)\n",
    "    "
   ]
  },
  {
   "cell_type": "code",
   "execution_count": 69,
   "id": "5c5bdb60-64f7-41a3-9827-28d36bf4ef7f",
   "metadata": {},
   "outputs": [
    {
     "name": "stdout",
     "output_type": "stream",
     "text": [
      "98\n"
     ]
    }
   ],
   "source": [
    "absolute_value(-98)"
   ]
  },
  {
   "cell_type": "code",
   "execution_count": 54,
   "id": "b446a62c-97cb-46a5-8aed-b10faa3d2f79",
   "metadata": {},
   "outputs": [],
   "source": [
    "def absolute(n):\n",
    "    if n>0:\n",
    "        print(n)\n",
    "    else:\n",
    "        print(-n)"
   ]
  },
  {
   "cell_type": "code",
   "execution_count": 55,
   "id": "ecf9a148-24e3-43f5-887b-2c1f8df5b945",
   "metadata": {},
   "outputs": [
    {
     "name": "stdout",
     "output_type": "stream",
     "text": [
      "8\n"
     ]
    }
   ],
   "source": [
    "absolute(-8)"
   ]
  },
  {
   "cell_type": "code",
   "execution_count": 56,
   "id": "e0ee1e55-71d3-446a-ba1e-99f84b02e963",
   "metadata": {},
   "outputs": [],
   "source": [
    "def fullname(a,b):\n",
    "    c=a+b\n",
    "    return"
   ]
  },
  {
   "cell_type": "code",
   "execution_count": 57,
   "id": "b41da4f6-280a-4741-9624-d031a88a7cac",
   "metadata": {},
   "outputs": [],
   "source": [
    "fullname('pw','skills')"
   ]
  },
  {
   "cell_type": "code",
   "execution_count": 70,
   "id": "7b65f7ff-50ad-416c-b6b7-4a0cd11d113e",
   "metadata": {},
   "outputs": [],
   "source": [
    "x = fullname('Sumit','Kumar')"
   ]
  },
  {
   "cell_type": "code",
   "execution_count": 72,
   "id": "a9b32ab3-eace-4f15-a65e-e1d078d7fce3",
   "metadata": {},
   "outputs": [],
   "source": [
    "x"
   ]
  },
  {
   "cell_type": "code",
   "execution_count": 73,
   "id": "fcc5b75d-819b-4395-86bc-5d5a1e4865cb",
   "metadata": {},
   "outputs": [],
   "source": [
    "def fullname(a,b):\n",
    "    c=a+b\n",
    "    print(c)"
   ]
  },
  {
   "cell_type": "code",
   "execution_count": 74,
   "id": "f236e7a1-f3c5-47e7-8690-c043d30ad55a",
   "metadata": {},
   "outputs": [
    {
     "name": "stdout",
     "output_type": "stream",
     "text": [
      "SumitKumar\n"
     ]
    }
   ],
   "source": [
    "x = fullname('Sumit','Kumar')"
   ]
  },
  {
   "cell_type": "code",
   "execution_count": 75,
   "id": "90e76638-1540-4d40-b974-8cd191a89173",
   "metadata": {},
   "outputs": [],
   "source": [
    "x"
   ]
  },
  {
   "cell_type": "code",
   "execution_count": 76,
   "id": "405bfd01-5a06-458d-9f1b-616857db483d",
   "metadata": {},
   "outputs": [],
   "source": [
    "def fullname(a,b):\n",
    "    c=a+b\n",
    "    return (c)"
   ]
  },
  {
   "cell_type": "code",
   "execution_count": 77,
   "id": "ebb191a6-d22d-445b-8ffd-14a9e7864f2c",
   "metadata": {},
   "outputs": [],
   "source": [
    "x = fullname('Sumit','Kumar')"
   ]
  },
  {
   "cell_type": "code",
   "execution_count": 78,
   "id": "efc4ee76-d6f1-403c-86cc-b9a145b7aa0c",
   "metadata": {},
   "outputs": [
    {
     "data": {
      "text/plain": [
       "'SumitKumar'"
      ]
     },
     "execution_count": 78,
     "metadata": {},
     "output_type": "execute_result"
    }
   ],
   "source": [
    "x"
   ]
  },
  {
   "cell_type": "code",
   "execution_count": 79,
   "id": "302d436f-4423-4d19-b834-ffa17b131758",
   "metadata": {},
   "outputs": [
    {
     "data": {
      "text/plain": [
       "str"
      ]
     },
     "execution_count": 79,
     "metadata": {},
     "output_type": "execute_result"
    }
   ],
   "source": [
    "type(x)"
   ]
  },
  {
   "cell_type": "code",
   "execution_count": 81,
   "id": "f6f39958-b6f8-4097-b582-81235b762ab0",
   "metadata": {},
   "outputs": [],
   "source": [
    "def calculate(a,b):\n",
    "    add = a+b\n",
    "    sub = a-b\n",
    "    mul = a*b\n",
    "    div = a/b\n",
    "    return add,sub,mul,div"
   ]
  },
  {
   "cell_type": "code",
   "execution_count": 82,
   "id": "361a1ee1-f76f-4e4f-b6ec-2d0536890e28",
   "metadata": {},
   "outputs": [
    {
     "data": {
      "text/plain": [
       "(5, -1, 6, 0.6666666666666666)"
      ]
     },
     "execution_count": 82,
     "metadata": {},
     "output_type": "execute_result"
    }
   ],
   "source": [
    "calculate(2,3)"
   ]
  },
  {
   "cell_type": "code",
   "execution_count": 94,
   "id": "baded786-a3e7-4407-a6ce-0808503f129a",
   "metadata": {},
   "outputs": [],
   "source": [
    "def calculate():\n",
    "    a = int(input(\"enter fist number\"))\n",
    "    b = int(input(\"enter second number\"))\n",
    "    operation =input(\"enter operation\")\n",
    "    \n",
    "    if operation == '+':\n",
    "    \n",
    "        return a+b\n",
    "    \n",
    "    if operation == '-':\n",
    "    \n",
    "        return a-b\n",
    "    \n",
    "    if operation == '*':\n",
    "    \n",
    "        return a*b\n",
    "    \n",
    "    if operation == '/':\n",
    "    \n",
    "        return  a/b\n",
    "    "
   ]
  },
  {
   "cell_type": "code",
   "execution_count": 93,
   "id": "1f73d21f-b0de-4a84-b7aa-f392a1ec6268",
   "metadata": {},
   "outputs": [
    {
     "name": "stdin",
     "output_type": "stream",
     "text": [
      "enter fist number 5\n",
      "enter second number 6\n",
      "enter operation +\n"
     ]
    },
    {
     "data": {
      "text/plain": [
       "11"
      ]
     },
     "execution_count": 93,
     "metadata": {},
     "output_type": "execute_result"
    }
   ],
   "source": [
    "calculate()"
   ]
  },
  {
   "cell_type": "code",
   "execution_count": null,
   "id": "a96a50bc-5a54-42fc-8256-f7780d8c2d2c",
   "metadata": {},
   "outputs": [],
   "source": []
  },
  {
   "cell_type": "code",
   "execution_count": 89,
   "id": "cf112491-35a9-49bf-9d8d-7e066a80d14d",
   "metadata": {},
   "outputs": [
    {
     "name": "stdin",
     "output_type": "stream",
     "text": [
      "enter fist number 5\n",
      "enter second number 7\n",
      "enter operayion +\n"
     ]
    },
    {
     "ename": "NameError",
     "evalue": "name 'operation' is not defined",
     "output_type": "error",
     "traceback": [
      "\u001b[0;31m---------------------------------------------------------------------------\u001b[0m",
      "\u001b[0;31mNameError\u001b[0m                                 Traceback (most recent call last)",
      "Cell \u001b[0;32mIn[89], line 1\u001b[0m\n\u001b[0;32m----> 1\u001b[0m \u001b[43mcalculate\u001b[49m\u001b[43m(\u001b[49m\u001b[43m)\u001b[49m\n",
      "Cell \u001b[0;32mIn[87], line 6\u001b[0m, in \u001b[0;36mcalculate\u001b[0;34m()\u001b[0m\n\u001b[1;32m      3\u001b[0m b \u001b[38;5;241m=\u001b[39m \u001b[38;5;28minput\u001b[39m(\u001b[38;5;124m\"\u001b[39m\u001b[38;5;124menter second number\u001b[39m\u001b[38;5;124m\"\u001b[39m)\n\u001b[1;32m      4\u001b[0m c \u001b[38;5;241m=\u001b[39m\u001b[38;5;28minput\u001b[39m(\u001b[38;5;124m\"\u001b[39m\u001b[38;5;124menter operayion\u001b[39m\u001b[38;5;124m\"\u001b[39m)\n\u001b[0;32m----> 6\u001b[0m \u001b[38;5;28;01mif\u001b[39;00m \u001b[43moperation\u001b[49m \u001b[38;5;241m==\u001b[39m \u001b[38;5;124m'\u001b[39m\u001b[38;5;124m+\u001b[39m\u001b[38;5;124m'\u001b[39m:\n\u001b[1;32m      8\u001b[0m     \u001b[38;5;28;01mreturn\u001b[39;00m   a\u001b[38;5;241m+\u001b[39mb\n\u001b[1;32m     10\u001b[0m \u001b[38;5;28;01mif\u001b[39;00m operation \u001b[38;5;241m==\u001b[39m \u001b[38;5;124m'\u001b[39m\u001b[38;5;124m-\u001b[39m\u001b[38;5;124m'\u001b[39m:\n",
      "\u001b[0;31mNameError\u001b[0m: name 'operation' is not defined"
     ]
    }
   ],
   "source": [
    "calculate()"
   ]
  },
  {
   "cell_type": "code",
   "execution_count": 95,
   "id": "db1ae90c-150f-4ef9-984f-7effd116be80",
   "metadata": {},
   "outputs": [
    {
     "name": "stdin",
     "output_type": "stream",
     "text": [
      "enter fist number 45\n",
      "enter second number 89\n",
      "enter operation *\n"
     ]
    },
    {
     "data": {
      "text/plain": [
       "4005"
      ]
     },
     "execution_count": 95,
     "metadata": {},
     "output_type": "execute_result"
    }
   ],
   "source": [
    "calculate()\n"
   ]
  },
  {
   "cell_type": "code",
   "execution_count": 97,
   "id": "f66b37d7-4b2a-4ba2-b607-327e293c1f24",
   "metadata": {},
   "outputs": [
    {
     "name": "stdin",
     "output_type": "stream",
     "text": [
      "enter number of rows 09\n",
      "symbol 9\n"
     ]
    },
    {
     "ename": "TypeError",
     "evalue": "'>' not supported between instances of 'str' and 'int'",
     "output_type": "error",
     "traceback": [
      "\u001b[0;31m---------------------------------------------------------------------------\u001b[0m",
      "\u001b[0;31mTypeError\u001b[0m                                 Traceback (most recent call last)",
      "Cell \u001b[0;32mIn[97], line 4\u001b[0m\n\u001b[1;32m      1\u001b[0m a \u001b[38;5;241m=\u001b[39m \u001b[38;5;28minput\u001b[39m(\u001b[38;5;124m\"\u001b[39m\u001b[38;5;124menter number of rows\u001b[39m\u001b[38;5;124m\"\u001b[39m)\n\u001b[1;32m      2\u001b[0m b \u001b[38;5;241m=\u001b[39m \u001b[38;5;28minput\u001b[39m(\u001b[38;5;124m\"\u001b[39m\u001b[38;5;124msymbol\u001b[39m\u001b[38;5;124m\"\u001b[39m)\n\u001b[0;32m----> 4\u001b[0m \u001b[38;5;28;01mwhile\u001b[39;00m(\u001b[43ma\u001b[49m\u001b[38;5;241;43m>\u001b[39;49m\u001b[38;5;241;43m0\u001b[39;49m):\n\u001b[1;32m      5\u001b[0m  \u001b[38;5;28mprint\u001b[39m(b)\n",
      "\u001b[0;31mTypeError\u001b[0m: '>' not supported between instances of 'str' and 'int'"
     ]
    }
   ],
   "source": [
    "a = input(\"enter number of rows\")\n",
    "b = input(\"symbol\")\n",
    "\n",
    "while(a>0):\n",
    " print(b)\n",
    "    "
   ]
  },
  {
   "cell_type": "code",
   "execution_count": 99,
   "id": "bb17d91b-9a4d-4873-830a-8f667ba2f81f",
   "metadata": {},
   "outputs": [],
   "source": [
    "# print even number in given range\n",
    "def print_even_number():\n",
    "\n",
    "    x =int(input(\"enter range\"))\n",
    "\n",
    "    for x in range(1,x+1):\n",
    "        if x%2 == 0:\n",
    "            print(x)\n",
    " "
   ]
  },
  {
   "cell_type": "code",
   "execution_count": 100,
   "id": "457a99c0-5c15-4075-a422-5cf4e6e185b5",
   "metadata": {},
   "outputs": [
    {
     "name": "stdin",
     "output_type": "stream",
     "text": [
      "enter range 34\n"
     ]
    },
    {
     "name": "stdout",
     "output_type": "stream",
     "text": [
      "2\n",
      "4\n",
      "6\n",
      "8\n",
      "10\n",
      "12\n",
      "14\n",
      "16\n",
      "18\n",
      "20\n",
      "22\n",
      "24\n",
      "26\n",
      "28\n",
      "30\n",
      "32\n",
      "34\n"
     ]
    }
   ],
   "source": [
    "print_even_number()"
   ]
  },
  {
   "cell_type": "code",
   "execution_count": 108,
   "id": "80f87997-1d6a-42bf-9eb6-ec3ecc7507a0",
   "metadata": {},
   "outputs": [],
   "source": [
    "def right_traingle():\n",
    "    a = int(input( \"enter 1st number\"))\n",
    "    b = int(input(\"enter 2nd number\"))\n",
    "    c = int(input(\"enter 3rd number\"))\n",
    "    \n",
    "    \n",
    "    if  a*a == b*b +c*c or b*b == a*a + c*c or c*c == a*a + b*b:\n",
    "        return (\"right traiangle\")\n",
    "    else:\n",
    "         return(\"not\")\n",
    "    "
   ]
  },
  {
   "cell_type": "code",
   "execution_count": 106,
   "id": "eddc805d-090b-4765-a2db-2efb8ccfd0e9",
   "metadata": {},
   "outputs": [
    {
     "name": "stdin",
     "output_type": "stream",
     "text": [
      "enter 1st number 2\n",
      "enter 2nd number 3\n",
      "enter 3rd number 4\n"
     ]
    },
    {
     "data": {
      "text/plain": [
       "'not'"
      ]
     },
     "execution_count": 106,
     "metadata": {},
     "output_type": "execute_result"
    }
   ],
   "source": [
    "right_traingle()\n"
   ]
  },
  {
   "cell_type": "code",
   "execution_count": 107,
   "id": "5104b2b0-77dc-446a-a168-696e363587fc",
   "metadata": {},
   "outputs": [
    {
     "name": "stdin",
     "output_type": "stream",
     "text": [
      "enter 1st number 3\n",
      "enter 2nd number 4\n",
      "enter 3rd number 5\n"
     ]
    },
    {
     "data": {
      "text/plain": [
       "'right trainale'"
      ]
     },
     "execution_count": 107,
     "metadata": {},
     "output_type": "execute_result"
    }
   ],
   "source": [
    "right_traingle()"
   ]
  },
  {
   "cell_type": "code",
   "execution_count": null,
   "id": "0a8bf155-4656-4033-828e-b2fccb091933",
   "metadata": {},
   "outputs": [],
   "source": []
  }
 ],
 "metadata": {
  "kernelspec": {
   "display_name": "Python 3 (ipykernel)",
   "language": "python",
   "name": "python3"
  },
  "language_info": {
   "codemirror_mode": {
    "name": "ipython",
    "version": 3
   },
   "file_extension": ".py",
   "mimetype": "text/x-python",
   "name": "python",
   "nbconvert_exporter": "python",
   "pygments_lexer": "ipython3",
   "version": "3.10.8"
  }
 },
 "nbformat": 4,
 "nbformat_minor": 5
}
