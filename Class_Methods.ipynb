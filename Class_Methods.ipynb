{
 "cells": [
  {
   "cell_type": "code",
   "execution_count": 2,
   "id": "7df2d7d1-f18c-4f59-a02f-9cf1afaf97d4",
   "metadata": {},
   "outputs": [],
   "source": [
    "class pwskills:\n",
    "    def __init__(self, name, email):\n",
    "        \n",
    "        self.name = name\n",
    "        self.email = email\n",
    "        \n",
    "    def student_details(self):\n",
    "        print(self.name, self.email)"
   ]
  },
  {
   "cell_type": "code",
   "execution_count": 3,
   "id": "321f6b59-c29f-4e13-9f8e-d3bea4341d4e",
   "metadata": {},
   "outputs": [
    {
     "ename": "TypeError",
     "evalue": "pwskills.__init__() missing 2 required positional arguments: 'name' and 'email'",
     "output_type": "error",
     "traceback": [
      "\u001b[0;31m---------------------------------------------------------------------------\u001b[0m",
      "\u001b[0;31mTypeError\u001b[0m                                 Traceback (most recent call last)",
      "Cell \u001b[0;32mIn[3], line 1\u001b[0m\n\u001b[0;32m----> 1\u001b[0m pw \u001b[38;5;241m=\u001b[39m \u001b[43mpwskills\u001b[49m\u001b[43m(\u001b[49m\u001b[43m)\u001b[49m\n",
      "\u001b[0;31mTypeError\u001b[0m: pwskills.__init__() missing 2 required positional arguments: 'name' and 'email'"
     ]
    }
   ],
   "source": [
    "pw = pwskills()"
   ]
  },
  {
   "cell_type": "code",
   "execution_count": 4,
   "id": "923cdf07-e52e-4405-a3b3-9bb0aaaab71b",
   "metadata": {},
   "outputs": [],
   "source": [
    "pw = pwskills(\"Sumit\", \"Kumar@gmail.com\")"
   ]
  },
  {
   "cell_type": "code",
   "execution_count": 5,
   "id": "b5267bdd-6696-48e9-8a8b-8acf4165fa7d",
   "metadata": {},
   "outputs": [
    {
     "data": {
      "text/plain": [
       "'Sumit'"
      ]
     },
     "execution_count": 5,
     "metadata": {},
     "output_type": "execute_result"
    }
   ],
   "source": [
    "pw.name\n"
   ]
  },
  {
   "cell_type": "code",
   "execution_count": 6,
   "id": "e39fd23a-0064-46ec-bbf9-1cd3673c4fad",
   "metadata": {},
   "outputs": [
    {
     "name": "stdout",
     "output_type": "stream",
     "text": [
      "Sumit Kumar@gmail.com\n"
     ]
    }
   ],
   "source": [
    "pw.student_details()"
   ]
  },
  {
   "cell_type": "code",
   "execution_count": 7,
   "id": "618ae2cb-229f-4cd1-b08f-e182ac35bf76",
   "metadata": {},
   "outputs": [],
   "source": [
    "class pwskills1:\n",
    "    def __init__(self, name, email):\n",
    "        \n",
    "        self.name = name\n",
    "        self.email = email\n",
    "        \n",
    "    @classmethod    \n",
    "    def details(cls ,name , email):\n",
    "        return cls(name, email)\n",
    "        \n",
    "    def student_details(self):\n",
    "        print(self.name, self.email)"
   ]
  },
  {
   "cell_type": "code",
   "execution_count": 8,
   "id": "8d89e733-d26a-437a-baae-3c5778454f52",
   "metadata": {},
   "outputs": [
    {
     "data": {
      "text/plain": [
       "<__main__.pwskills1 at 0x7f9b10315ff0>"
      ]
     },
     "execution_count": 8,
     "metadata": {},
     "output_type": "execute_result"
    }
   ],
   "source": [
    "pwskills1.details(\"mohan\", \"mohan@gmail.com\")"
   ]
  },
  {
   "cell_type": "code",
   "execution_count": 9,
   "id": "f4551e9b-4c5f-423d-92bb-aa8a35af84bc",
   "metadata": {},
   "outputs": [],
   "source": [
    "pw1 = pwskills1.details(\"mohan\", \"mohan@gmail.com\")"
   ]
  },
  {
   "cell_type": "code",
   "execution_count": 10,
   "id": "47e9f01b-71bf-47c0-a454-0c672ea98bf9",
   "metadata": {},
   "outputs": [
    {
     "data": {
      "text/plain": [
       "<bound method pwskills1.details of <class '__main__.pwskills1'>>"
      ]
     },
     "execution_count": 10,
     "metadata": {},
     "output_type": "execute_result"
    }
   ],
   "source": [
    "pw1.details\n"
   ]
  },
  {
   "cell_type": "code",
   "execution_count": 11,
   "id": "9a4fcd2c-4d09-4bb7-a226-3158e3e20229",
   "metadata": {},
   "outputs": [
    {
     "ename": "TypeError",
     "evalue": "pwskills1.details() missing 2 required positional arguments: 'name' and 'email'",
     "output_type": "error",
     "traceback": [
      "\u001b[0;31m---------------------------------------------------------------------------\u001b[0m",
      "\u001b[0;31mTypeError\u001b[0m                                 Traceback (most recent call last)",
      "Cell \u001b[0;32mIn[11], line 1\u001b[0m\n\u001b[0;32m----> 1\u001b[0m \u001b[43mpw1\u001b[49m\u001b[38;5;241;43m.\u001b[39;49m\u001b[43mdetails\u001b[49m\u001b[43m(\u001b[49m\u001b[43m)\u001b[49m\n",
      "\u001b[0;31mTypeError\u001b[0m: pwskills1.details() missing 2 required positional arguments: 'name' and 'email'"
     ]
    }
   ],
   "source": [
    "pw1.details()"
   ]
  },
  {
   "cell_type": "code",
   "execution_count": 12,
   "id": "c601222b-3e1d-4d1a-adbe-9bd2c5f9f9b3",
   "metadata": {},
   "outputs": [
    {
     "data": {
      "text/plain": [
       "'mohan'"
      ]
     },
     "execution_count": 12,
     "metadata": {},
     "output_type": "execute_result"
    }
   ],
   "source": [
    "pw1.name"
   ]
  },
  {
   "cell_type": "code",
   "execution_count": 13,
   "id": "adfb5ad7-3904-4eec-ab66-dcdd5c979a9b",
   "metadata": {},
   "outputs": [
    {
     "name": "stdout",
     "output_type": "stream",
     "text": [
      "mohan mohan@gmail.com\n"
     ]
    }
   ],
   "source": [
    "pw1.student_details()"
   ]
  },
  {
   "cell_type": "code",
   "execution_count": 14,
   "id": "f935617b-2a8b-49af-8c08-212abdb46a26",
   "metadata": {},
   "outputs": [
    {
     "data": {
      "text/plain": [
       "'mohan@gmail.com'"
      ]
     },
     "execution_count": 14,
     "metadata": {},
     "output_type": "execute_result"
    }
   ],
   "source": [
    "pw1.email\n"
   ]
  },
  {
   "cell_type": "code",
   "execution_count": 24,
   "id": "0081db8e-5bf1-484a-85e9-96cba1d89e59",
   "metadata": {},
   "outputs": [],
   "source": [
    "class pwskills2:\n",
    "    def __init__(self, name, email):\n",
    "        \n",
    "        self.name = name\n",
    "        self.email = email\n",
    "        \n",
    "    @classmethod  \n",
    "    def details(cls ,name , email):\n",
    "        return cls(name, email)\n",
    "        \n",
    "    def student_details(self):\n",
    "        print(self.name, self.email)"
   ]
  },
  {
   "cell_type": "code",
   "execution_count": 25,
   "id": "38e9fdba-520d-43fd-824e-60997325b341",
   "metadata": {},
   "outputs": [],
   "source": [
    "pw2 = pwskills2.details(\"Sohan\",\"sohan@gmail.com\")"
   ]
  },
  {
   "cell_type": "code",
   "execution_count": 27,
   "id": "3db4f25e-8f62-4d6e-8e2a-4cb25156da54",
   "metadata": {},
   "outputs": [
    {
     "data": {
      "text/plain": [
       "'sohan@gmail.com'"
      ]
     },
     "execution_count": 27,
     "metadata": {},
     "output_type": "execute_result"
    }
   ],
   "source": [
    "pw2.email"
   ]
  },
  {
   "cell_type": "code",
   "execution_count": 30,
   "id": "3b3d1a62-138c-4c25-af4c-b4d042cf102f",
   "metadata": {},
   "outputs": [],
   "source": [
    "pw3 = pw2.details(\"hi\",\"hello\")"
   ]
  },
  {
   "cell_type": "markdown",
   "id": "3c45de9a-d14e-4e38-b582-3e52907aa7ac",
   "metadata": {},
   "source": [
    "pw3.name"
   ]
  },
  {
   "cell_type": "code",
   "execution_count": 31,
   "id": "62a0ab89-4f5c-425b-8c52-9bcd559b5ba7",
   "metadata": {},
   "outputs": [
    {
     "name": "stdout",
     "output_type": "stream",
     "text": [
      "hi hello\n"
     ]
    }
   ],
   "source": [
    "pw3.student_details()"
   ]
  },
  {
   "cell_type": "code",
   "execution_count": 48,
   "id": "67e033cd-4cfe-43d1-8771-cd137fc941af",
   "metadata": {},
   "outputs": [],
   "source": [
    "class pwskills3:\n",
    "    \n",
    "    mobile_number = 9898989\n",
    "    \n",
    "    def __init__(self, name, email):# method used to pass data \n",
    "        \n",
    "        self.name = name\n",
    "        self.email = email\n",
    "     \n",
    "    @classmethod\n",
    "    def change_nmber(cls, mobile):\n",
    "        pwskill3.mobile_number = mobile\n",
    "        \n",
    "        \n",
    "    @classmethod  \n",
    "    def details(cls ,name1 , email1):# classmethod\n",
    "        return cls(name, email)\n",
    "        \n",
    "    def student_details(self):  # Instance method\n",
    "        print(self.name, self.email, pwskills3.mobile_number)"
   ]
  },
  {
   "cell_type": "code",
   "execution_count": 49,
   "id": "a5afbbde-4034-473b-95c8-bfdb296d2eff",
   "metadata": {},
   "outputs": [
    {
     "data": {
      "text/plain": [
       "9898989"
      ]
     },
     "execution_count": 49,
     "metadata": {},
     "output_type": "execute_result"
    }
   ],
   "source": [
    "pwskills3.mobile_number"
   ]
  },
  {
   "cell_type": "code",
   "execution_count": 50,
   "id": "3b7c7e58-9887-45c5-8918-48b412b83bf1",
   "metadata": {},
   "outputs": [
    {
     "data": {
      "text/plain": [
       "[__main__.pwskills3, object]"
      ]
     },
     "execution_count": 50,
     "metadata": {},
     "output_type": "execute_result"
    }
   ],
   "source": [
    "pwskills3.mro()"
   ]
  },
  {
   "cell_type": "code",
   "execution_count": 37,
   "id": "2097386a-21c8-46b4-b386-197c729fc2c1",
   "metadata": {},
   "outputs": [
    {
     "data": {
      "text/plain": [
       "<__main__.pwskills3 at 0x7f9b104bb7c0>"
      ]
     },
     "execution_count": 37,
     "metadata": {},
     "output_type": "execute_result"
    }
   ],
   "source": [
    "pwskills3.details(\"Rohan\", \"rohan@gmal.com\")"
   ]
  },
  {
   "cell_type": "code",
   "execution_count": 38,
   "id": "d8b4babf-a025-4a47-a583-661a4eef6c48",
   "metadata": {},
   "outputs": [],
   "source": [
    "pw3 = pwskills3.details(\"Rohan\", \"rohan@gmal.com\")"
   ]
  },
  {
   "cell_type": "code",
   "execution_count": 39,
   "id": "82221bd6-6752-486d-8e02-4e815ffc594e",
   "metadata": {},
   "outputs": [
    {
     "name": "stdout",
     "output_type": "stream",
     "text": [
      "Rohan rohan@gmal.com 9898989\n"
     ]
    }
   ],
   "source": [
    "pw3.student_details()"
   ]
  },
  {
   "cell_type": "code",
   "execution_count": 51,
   "id": "f07676e2-d467-4a83-97aa-4c91eb90580b",
   "metadata": {},
   "outputs": [
    {
     "data": {
      "text/plain": [
       "9898989"
      ]
     },
     "execution_count": 51,
     "metadata": {},
     "output_type": "execute_result"
    }
   ],
   "source": [
    "pwskills3.mobile_number"
   ]
  },
  {
   "cell_type": "code",
   "execution_count": 52,
   "id": "d38068c9-485c-47ae-b76c-e7bd348ffe10",
   "metadata": {},
   "outputs": [
    {
     "ename": "TypeError",
     "evalue": "pwskills3.student_details() missing 1 required positional argument: 'self'",
     "output_type": "error",
     "traceback": [
      "\u001b[0;31m---------------------------------------------------------------------------\u001b[0m",
      "\u001b[0;31mTypeError\u001b[0m                                 Traceback (most recent call last)",
      "Cell \u001b[0;32mIn[52], line 1\u001b[0m\n\u001b[0;32m----> 1\u001b[0m \u001b[43mpwskills3\u001b[49m\u001b[38;5;241;43m.\u001b[39;49m\u001b[43mstudent_details\u001b[49m\u001b[43m(\u001b[49m\u001b[43m)\u001b[49m\n",
      "\u001b[0;31mTypeError\u001b[0m: pwskills3.student_details() missing 1 required positional argument: 'self'"
     ]
    }
   ],
   "source": [
    "pwskills3.student_details()"
   ]
  },
  {
   "cell_type": "code",
   "execution_count": 1,
   "id": "2b53517b-e395-4944-aa42-66dbec35c5dd",
   "metadata": {},
   "outputs": [],
   "source": [
    "class pwskills4:\n",
    "    \n",
    "    mobile_number = 97878668909098\n",
    "    \n",
    "    def __init__(self, name, email):# method used to pass data \n",
    "        \n",
    "        self.name = name\n",
    "        self.email = email\n",
    "     \n",
    "    @classmethod\n",
    "    def change_number(cls, mobile):\n",
    "        pwskills4.mobile_number = mobile\n",
    "        \n",
    "        \n",
    "    @classmethod  \n",
    "    def details(cls ,name , email):# classmethod\n",
    "        return cls(name , email)\n",
    "        \n",
    "    def student_details(self):  # Instance method\n",
    "        print(self.name, self.email, pwskills4.mobile_number)"
   ]
  },
  {
   "cell_type": "code",
   "execution_count": 4,
   "id": "e09cb1ad-89fc-4e91-898f-1e98d65ad6af",
   "metadata": {},
   "outputs": [
    {
     "data": {
      "text/plain": [
       "'ram'"
      ]
     },
     "execution_count": 4,
     "metadata": {},
     "output_type": "execute_result"
    }
   ],
   "source": [
    "pwskills4.mobile_number\n",
    "pw_obj4 = pwskills4.details(\"ram\",\"ram@gmail.com\")\n",
    "pwskills4.change_number(3232323)\n",
    "pwskills4.mobile_number\n",
    "pw_obj4.name"
   ]
  },
  {
   "cell_type": "code",
   "execution_count": 83,
   "id": "79dd772f-4184-43a8-8ac3-55ac34ac3329",
   "metadata": {},
   "outputs": [
    {
     "data": {
      "text/plain": [
       "<__main__.pwskills4 at 0x7f9af703c100>"
      ]
     },
     "execution_count": 83,
     "metadata": {},
     "output_type": "execute_result"
    }
   ],
   "source": [
    "pwskills4.mobile_number\n",
    "pwskills4.details(\"ram\",\"ram@gmail.com\")\n"
   ]
  },
  {
   "cell_type": "code",
   "execution_count": 59,
   "id": "ff411260-1656-430d-ba0a-01e36223731d",
   "metadata": {},
   "outputs": [],
   "source": [
    "pwskills4.change_number(8999089)"
   ]
  },
  {
   "cell_type": "code",
   "execution_count": null,
   "id": "0603f0c6-c824-4235-ba32-8b24c5781f5c",
   "metadata": {},
   "outputs": [],
   "source": []
  },
  {
   "cell_type": "code",
   "execution_count": 60,
   "id": "73581523-fec3-4fda-b49e-cd4fe23d7522",
   "metadata": {},
   "outputs": [
    {
     "data": {
      "text/plain": [
       "8999089"
      ]
     },
     "execution_count": 60,
     "metadata": {},
     "output_type": "execute_result"
    }
   ],
   "source": [
    "pwskills4.mobile_number"
   ]
  },
  {
   "cell_type": "code",
   "execution_count": 61,
   "id": "987cc6dc-0d5a-41f3-876c-4b89d9b1b126",
   "metadata": {},
   "outputs": [],
   "source": [
    "pw4_obj = pwskills4(\"Sohail\", \"sohail@gmail.com\")"
   ]
  },
  {
   "cell_type": "code",
   "execution_count": 62,
   "id": "8a319537-e2af-4725-8f28-26ded4425c03",
   "metadata": {},
   "outputs": [
    {
     "data": {
      "text/plain": [
       "<bound method pwskills4.change_number of <class '__main__.pwskills4'>>"
      ]
     },
     "execution_count": 62,
     "metadata": {},
     "output_type": "execute_result"
    }
   ],
   "source": [
    "pw4_obj.change_number"
   ]
  },
  {
   "cell_type": "code",
   "execution_count": 63,
   "id": "2e5e970b-ed4a-4170-a6d6-f4de59fa6253",
   "metadata": {},
   "outputs": [
    {
     "data": {
      "text/plain": [
       "8999089"
      ]
     },
     "execution_count": 63,
     "metadata": {},
     "output_type": "execute_result"
    }
   ],
   "source": [
    "pw4_obj.mobile_number"
   ]
  },
  {
   "cell_type": "code",
   "execution_count": 64,
   "id": "5cc4d796-6901-452b-92fd-bb9c445d0e7e",
   "metadata": {},
   "outputs": [
    {
     "ename": "TypeError",
     "evalue": "pwskills4.details() missing 2 required positional arguments: 'name1' and 'email1'",
     "output_type": "error",
     "traceback": [
      "\u001b[0;31m---------------------------------------------------------------------------\u001b[0m",
      "\u001b[0;31mTypeError\u001b[0m                                 Traceback (most recent call last)",
      "Cell \u001b[0;32mIn[64], line 1\u001b[0m\n\u001b[0;32m----> 1\u001b[0m \u001b[43mpw4_obj\u001b[49m\u001b[38;5;241;43m.\u001b[39;49m\u001b[43mdetails\u001b[49m\u001b[43m(\u001b[49m\u001b[43m)\u001b[49m\n",
      "\u001b[0;31mTypeError\u001b[0m: pwskills4.details() missing 2 required positional arguments: 'name1' and 'email1'"
     ]
    }
   ],
   "source": [
    "pw4_obj.details()"
   ]
  },
  {
   "cell_type": "code",
   "execution_count": 75,
   "id": "25b54cf6-f522-4a9e-8d96-51f1aa33284f",
   "metadata": {},
   "outputs": [
    {
     "ename": "NameError",
     "evalue": "name 'name' is not defined",
     "output_type": "error",
     "traceback": [
      "\u001b[0;31m---------------------------------------------------------------------------\u001b[0m",
      "\u001b[0;31mNameError\u001b[0m                                 Traceback (most recent call last)",
      "Cell \u001b[0;32mIn[75], line 1\u001b[0m\n\u001b[0;32m----> 1\u001b[0m \u001b[43mpw4_obj\u001b[49m\u001b[38;5;241;43m.\u001b[39;49m\u001b[43mdetails\u001b[49m\u001b[43m(\u001b[49m\u001b[38;5;124;43m\"\u001b[39;49m\u001b[38;5;124;43msudh\u001b[39;49m\u001b[38;5;124;43m\"\u001b[39;49m\u001b[43m,\u001b[49m\u001b[43m \u001b[49m\u001b[38;5;124;43m\"\u001b[39;49m\u001b[38;5;124;43msudh@gmail.com\u001b[39;49m\u001b[38;5;124;43m\"\u001b[39;49m\u001b[43m)\u001b[49m\n",
      "Cell \u001b[0;32mIn[58], line 17\u001b[0m, in \u001b[0;36mpwskills4.details\u001b[0;34m(cls, name1, email1)\u001b[0m\n\u001b[1;32m     15\u001b[0m \u001b[38;5;129m@classmethod\u001b[39m  \n\u001b[1;32m     16\u001b[0m \u001b[38;5;28;01mdef\u001b[39;00m \u001b[38;5;21mdetails\u001b[39m(\u001b[38;5;28mcls\u001b[39m ,name1 , email1):\u001b[38;5;66;03m# classmethod\u001b[39;00m\n\u001b[0;32m---> 17\u001b[0m     \u001b[38;5;28;01mreturn\u001b[39;00m \u001b[38;5;28mcls\u001b[39m(\u001b[43mname\u001b[49m, email)\n",
      "\u001b[0;31mNameError\u001b[0m: name 'name' is not defined"
     ]
    }
   ],
   "source": [
    "pw4_obj.details(\"sudh\", \"sudh@gmail.com\")"
   ]
  },
  {
   "cell_type": "code",
   "execution_count": 76,
   "id": "dc92f3c4-cdba-4691-a44c-99fb084a80e9",
   "metadata": {},
   "outputs": [
    {
     "ename": "TypeError",
     "evalue": "pwskills4.details() missing 2 required positional arguments: 'name' and 'email'",
     "output_type": "error",
     "traceback": [
      "\u001b[0;31m---------------------------------------------------------------------------\u001b[0m",
      "\u001b[0;31mTypeError\u001b[0m                                 Traceback (most recent call last)",
      "Cell \u001b[0;32mIn[76], line 1\u001b[0m\n\u001b[0;32m----> 1\u001b[0m \u001b[43mpwskills4\u001b[49m\u001b[38;5;241;43m.\u001b[39;49m\u001b[43mdetails\u001b[49m\u001b[43m(\u001b[49m\u001b[43m)\u001b[49m\n",
      "\u001b[0;31mTypeError\u001b[0m: pwskills4.details() missing 2 required positional arguments: 'name' and 'email'"
     ]
    }
   ],
   "source": [
    "pwskills4.details()"
   ]
  },
  {
   "cell_type": "code",
   "execution_count": 77,
   "id": "d125d1fb-48c2-4142-938a-f43410295242",
   "metadata": {},
   "outputs": [
    {
     "data": {
      "text/plain": [
       "<__main__.pwskills4 at 0x7f9af769d870>"
      ]
     },
     "execution_count": 77,
     "metadata": {},
     "output_type": "execute_result"
    }
   ],
   "source": [
    "pwskills4.details(\"rahul\", \"rahul12@gmail.com\")"
   ]
  },
  {
   "cell_type": "code",
   "execution_count": 78,
   "id": "a55b20a1-9cc4-4e05-b8b9-7d8499efec64",
   "metadata": {},
   "outputs": [
    {
     "ename": "TypeError",
     "evalue": "pwskills4.student_details() missing 1 required positional argument: 'self'",
     "output_type": "error",
     "traceback": [
      "\u001b[0;31m---------------------------------------------------------------------------\u001b[0m",
      "\u001b[0;31mTypeError\u001b[0m                                 Traceback (most recent call last)",
      "Cell \u001b[0;32mIn[78], line 1\u001b[0m\n\u001b[0;32m----> 1\u001b[0m \u001b[43mpwskills4\u001b[49m\u001b[38;5;241;43m.\u001b[39;49m\u001b[43mstudent_details\u001b[49m\u001b[43m(\u001b[49m\u001b[43m)\u001b[49m\n",
      "\u001b[0;31mTypeError\u001b[0m: pwskills4.student_details() missing 1 required positional argument: 'self'"
     ]
    }
   ],
   "source": [
    "pwskills4.student_details()"
   ]
  },
  {
   "cell_type": "code",
   "execution_count": 79,
   "id": "2c3d196c-686b-4f61-be8d-4c57901c19bc",
   "metadata": {},
   "outputs": [
    {
     "data": {
      "text/plain": [
       "97878668909098"
      ]
     },
     "execution_count": 79,
     "metadata": {},
     "output_type": "execute_result"
    }
   ],
   "source": [
    "pwskills4.mobile_number"
   ]
  },
  {
   "cell_type": "code",
   "execution_count": 82,
   "id": "e5c598ef-7540-4ef7-a582-0ba5a1e0240f",
   "metadata": {},
   "outputs": [
    {
     "data": {
      "text/plain": [
       "97878668909098"
      ]
     },
     "execution_count": 82,
     "metadata": {},
     "output_type": "execute_result"
    }
   ],
   "source": [
    "pwskills4.mobile_number"
   ]
  },
  {
   "cell_type": "code",
   "execution_count": 5,
   "id": "73f9bda5-1ae7-4cfb-8345-32c3a50c2627",
   "metadata": {},
   "outputs": [
    {
     "data": {
      "text/plain": [
       "'ram@gmail.com'"
      ]
     },
     "execution_count": 5,
     "metadata": {},
     "output_type": "execute_result"
    }
   ],
   "source": [
    "pw_obj4.email"
   ]
  },
  {
   "cell_type": "code",
   "execution_count": 6,
   "id": "06ccf4c6-d35f-48df-9d8d-aa287cd2b897",
   "metadata": {},
   "outputs": [],
   "source": [
    "pw_obj4.change_number(909090909)"
   ]
  },
  {
   "cell_type": "code",
   "execution_count": 7,
   "id": "553715af-0a09-4af1-a672-fdc451f607d7",
   "metadata": {},
   "outputs": [
    {
     "data": {
      "text/plain": [
       "909090909"
      ]
     },
     "execution_count": 7,
     "metadata": {},
     "output_type": "execute_result"
    }
   ],
   "source": [
    "pw_obj4.mobile_number"
   ]
  },
  {
   "cell_type": "code",
   "execution_count": 10,
   "id": "ea5cbb95-b043-48e7-bd51-37cba6cc81ef",
   "metadata": {},
   "outputs": [],
   "source": [
    "def course_details(cls ,course_name ) :\n",
    "    print(\"course details\", course_name)"
   ]
  },
  {
   "cell_type": "code",
   "execution_count": 12,
   "id": "58eb0c4f-008d-4fe7-b84d-343ce8d8361f",
   "metadata": {},
   "outputs": [],
   "source": [
    "pwskills4.course_details = classmethod(course_details)"
   ]
  },
  {
   "cell_type": "code",
   "execution_count": 13,
   "id": "a030e7fb-bcaf-41d6-91e6-7af72fdb24e8",
   "metadata": {},
   "outputs": [
    {
     "name": "stdout",
     "output_type": "stream",
     "text": [
      "course details data science master\n"
     ]
    }
   ],
   "source": [
    "pwskills4.course_details(\"data science master\")"
   ]
  },
  {
   "cell_type": "code",
   "execution_count": 16,
   "id": "760ddd4b-56fa-4bfd-a6b8-dbaa290b08c0",
   "metadata": {},
   "outputs": [],
   "source": [
    "pw4 = pwskills4(\"rocky\", \"rocky@gmail.com\")"
   ]
  },
  {
   "cell_type": "code",
   "execution_count": 17,
   "id": "82e6449a-0bc5-4cce-8062-02430bbd3a79",
   "metadata": {},
   "outputs": [
    {
     "name": "stdout",
     "output_type": "stream",
     "text": [
      "course details web dev\n"
     ]
    }
   ],
   "source": [
    "pw4.course_details(\"web dev\")"
   ]
  },
  {
   "cell_type": "code",
   "execution_count": 18,
   "id": "f8eef1cf-ac5d-4d1c-af35-3a17ff06cc30",
   "metadata": {},
   "outputs": [],
   "source": [
    "class pwskills5:\n",
    "    \n",
    "    mobile_number = 97878668909098\n",
    "    \n",
    "    def __init__(self, name, email):# method used to pass data \n",
    "        \n",
    "        self.name = name\n",
    "        self.email = email\n",
    "     \n",
    "    @classmethod\n",
    "    def change_number(cls, mobile):\n",
    "        pwskills4.mobile_number = mobile\n",
    "        \n",
    "        \n",
    "    @classmethod  \n",
    "    def details(cls ,name , email):# classmethod\n",
    "        return cls(name , email)\n",
    "        \n",
    "    def student_details(self):  # Instance method\n",
    "        print(self.name, self.email, pwskills5.mobile_number)"
   ]
  },
  {
   "cell_type": "code",
   "execution_count": 19,
   "id": "7375dbbe-807a-40c8-a49e-e1dc593daf8b",
   "metadata": {},
   "outputs": [],
   "source": [
    "del pwskills4.change_number"
   ]
  },
  {
   "cell_type": "code",
   "execution_count": 20,
   "id": "f9a3b8e8-b457-4e2c-88f3-6aa573ef18c5",
   "metadata": {},
   "outputs": [
    {
     "ename": "AttributeError",
     "evalue": "type object 'pwskills4' has no attribute 'change_number'",
     "output_type": "error",
     "traceback": [
      "\u001b[0;31m---------------------------------------------------------------------------\u001b[0m",
      "\u001b[0;31mAttributeError\u001b[0m                            Traceback (most recent call last)",
      "Cell \u001b[0;32mIn[20], line 1\u001b[0m\n\u001b[0;32m----> 1\u001b[0m \u001b[43mpwskills4\u001b[49m\u001b[38;5;241;43m.\u001b[39;49m\u001b[43mchange_number\u001b[49m(\u001b[38;5;241m99090\u001b[39m)\n",
      "\u001b[0;31mAttributeError\u001b[0m: type object 'pwskills4' has no attribute 'change_number'"
     ]
    }
   ],
   "source": [
    "pwskills4.change_number(99090)"
   ]
  },
  {
   "cell_type": "code",
   "execution_count": 22,
   "id": "aa877b9b-9dbd-423d-913e-960168bdb261",
   "metadata": {},
   "outputs": [],
   "source": [
    "delattr(pwskills5, \"details\")"
   ]
  },
  {
   "cell_type": "code",
   "execution_count": 23,
   "id": "3dc82f74-4877-45bd-89b0-6dc7d85c3ac6",
   "metadata": {},
   "outputs": [
    {
     "data": {
      "text/plain": [
       "97878668909098"
      ]
     },
     "execution_count": 23,
     "metadata": {},
     "output_type": "execute_result"
    }
   ],
   "source": [
    "pwskills5.mobile_number"
   ]
  },
  {
   "cell_type": "code",
   "execution_count": 24,
   "id": "68ea8b6e-4a3b-40a4-9e5a-852d515b386d",
   "metadata": {},
   "outputs": [],
   "source": [
    "delattr(pwskills5, \"mobile_number\")"
   ]
  },
  {
   "cell_type": "code",
   "execution_count": 25,
   "id": "0fcaa903-9399-4ccf-8b8a-1f13ea321ff7",
   "metadata": {},
   "outputs": [
    {
     "ename": "AttributeError",
     "evalue": "type object 'pwskills5' has no attribute 'mobile_number'",
     "output_type": "error",
     "traceback": [
      "\u001b[0;31m---------------------------------------------------------------------------\u001b[0m",
      "\u001b[0;31mAttributeError\u001b[0m                            Traceback (most recent call last)",
      "Cell \u001b[0;32mIn[25], line 1\u001b[0m\n\u001b[0;32m----> 1\u001b[0m \u001b[43mpwskills5\u001b[49m\u001b[38;5;241;43m.\u001b[39;49m\u001b[43mmobile_number\u001b[49m\n",
      "\u001b[0;31mAttributeError\u001b[0m: type object 'pwskills5' has no attribute 'mobile_number'"
     ]
    }
   ],
   "source": [
    "pwskills5.mobile_number"
   ]
  },
  {
   "cell_type": "code",
   "execution_count": null,
   "id": "aaad0460-152d-479c-bcbd-c116a51c3fd1",
   "metadata": {},
   "outputs": [],
   "source": []
  }
 ],
 "metadata": {
  "kernelspec": {
   "display_name": "Python 3 (ipykernel)",
   "language": "python",
   "name": "python3"
  },
  "language_info": {
   "codemirror_mode": {
    "name": "ipython",
    "version": 3
   },
   "file_extension": ".py",
   "mimetype": "text/x-python",
   "name": "python",
   "nbconvert_exporter": "python",
   "pygments_lexer": "ipython3",
   "version": "3.10.8"
  }
 },
 "nbformat": 4,
 "nbformat_minor": 5
}
