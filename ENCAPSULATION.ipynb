{
 "cells": [
  {
   "cell_type": "code",
   "execution_count": 2,
   "id": "39d22920-2ed5-4909-a47e-e4464e165d13",
   "metadata": {},
   "outputs": [],
   "source": [
    "class test :\n",
    "    def __init__(self , a ,b ) :\n",
    "        self.a = a\n",
    "        self.b = b"
   ]
  },
  {
   "cell_type": "code",
   "execution_count": 3,
   "id": "7260a762-98e3-4689-aba5-a32c47eb9b3b",
   "metadata": {},
   "outputs": [],
   "source": [
    "t = test (34,56)"
   ]
  },
  {
   "cell_type": "code",
   "execution_count": 4,
   "id": "2b592abc-7f9a-4ca5-aae5-57abdafbd075",
   "metadata": {},
   "outputs": [
    {
     "data": {
      "text/plain": [
       "56"
      ]
     },
     "execution_count": 4,
     "metadata": {},
     "output_type": "execute_result"
    }
   ],
   "source": [
    "t.a\n",
    "t.b"
   ]
  },
  {
   "cell_type": "code",
   "execution_count": 5,
   "id": "4701b79d-8942-4260-9826-c1d1ced65099",
   "metadata": {},
   "outputs": [
    {
     "data": {
      "text/plain": [
       "34"
      ]
     },
     "execution_count": 5,
     "metadata": {},
     "output_type": "execute_result"
    }
   ],
   "source": [
    "t.a"
   ]
  },
  {
   "cell_type": "code",
   "execution_count": 6,
   "id": "e72ace1c-fba2-447d-a517-26c9e391e8fd",
   "metadata": {},
   "outputs": [
    {
     "data": {
      "text/plain": [
       "56"
      ]
     },
     "execution_count": 6,
     "metadata": {},
     "output_type": "execute_result"
    }
   ],
   "source": [
    "t.b"
   ]
  },
  {
   "cell_type": "code",
   "execution_count": 7,
   "id": "aed56045-0abf-4ac0-a0b0-72fa291cd22b",
   "metadata": {},
   "outputs": [
    {
     "data": {
      "text/plain": [
       "34"
      ]
     },
     "execution_count": 7,
     "metadata": {},
     "output_type": "execute_result"
    }
   ],
   "source": [
    "t.a"
   ]
  },
  {
   "cell_type": "code",
   "execution_count": null,
   "id": "74e0c574-813c-4040-8e17-b637f5e280c0",
   "metadata": {},
   "outputs": [],
   "source": []
  },
  {
   "cell_type": "code",
   "execution_count": 8,
   "id": "f03422d9-12c3-495b-b1eb-25437cc1d7e2",
   "metadata": {},
   "outputs": [
    {
     "data": {
      "text/plain": [
       "5456"
      ]
     },
     "execution_count": 8,
     "metadata": {},
     "output_type": "execute_result"
    }
   ],
   "source": [
    "t.a = 5456\n",
    "t.a"
   ]
  },
  {
   "cell_type": "code",
   "execution_count": 9,
   "id": "559b4130-ef5a-40e8-a692-3ed1b47b482b",
   "metadata": {},
   "outputs": [],
   "source": [
    "class car:\n",
    "    def __init__(self, year, make, model, speed) :\n",
    "        self.__year = year\n",
    "        self.__make = make\n",
    "        self.__model = model\n",
    "        self.__speed = 0\n",
    "        "
   ]
  },
  {
   "cell_type": "code",
   "execution_count": 10,
   "id": "05bc983a-3703-40b3-afb9-4399394bedaf",
   "metadata": {},
   "outputs": [],
   "source": [
    "obj_car = car(1990, \"Tata\", \"tata safari\", 23)"
   ]
  },
  {
   "cell_type": "code",
   "execution_count": 11,
   "id": "7cc569d1-4816-45cb-93ef-6506563656e7",
   "metadata": {},
   "outputs": [
    {
     "ename": "AttributeError",
     "evalue": "'car' object has no attribute '__model'",
     "output_type": "error",
     "traceback": [
      "\u001b[0;31m---------------------------------------------------------------------------\u001b[0m",
      "\u001b[0;31mAttributeError\u001b[0m                            Traceback (most recent call last)",
      "Cell \u001b[0;32mIn[11], line 1\u001b[0m\n\u001b[0;32m----> 1\u001b[0m \u001b[43mobj_car\u001b[49m\u001b[38;5;241;43m.\u001b[39;49m\u001b[43m__model\u001b[49m\n",
      "\u001b[0;31mAttributeError\u001b[0m: 'car' object has no attribute '__model'"
     ]
    }
   ],
   "source": [
    "obj_car.__model"
   ]
  },
  {
   "cell_type": "code",
   "execution_count": 12,
   "id": "fa36eb1b-b2ad-4963-900f-3614130ed0a0",
   "metadata": {},
   "outputs": [
    {
     "ename": "AttributeError",
     "evalue": "'car' object has no attribute 'car__year'",
     "output_type": "error",
     "traceback": [
      "\u001b[0;31m---------------------------------------------------------------------------\u001b[0m",
      "\u001b[0;31mAttributeError\u001b[0m                            Traceback (most recent call last)",
      "Cell \u001b[0;32mIn[12], line 1\u001b[0m\n\u001b[0;32m----> 1\u001b[0m \u001b[43mobj_car\u001b[49m\u001b[38;5;241;43m.\u001b[39;49m\u001b[43mcar__year\u001b[49m\n",
      "\u001b[0;31mAttributeError\u001b[0m: 'car' object has no attribute 'car__year'"
     ]
    }
   ],
   "source": [
    "obj_car.car__year"
   ]
  },
  {
   "cell_type": "code",
   "execution_count": 13,
   "id": "f87540f5-08ca-41ed-a05e-f4258f3f8fef",
   "metadata": {},
   "outputs": [
    {
     "data": {
      "text/plain": [
       "1990"
      ]
     },
     "execution_count": 13,
     "metadata": {},
     "output_type": "execute_result"
    }
   ],
   "source": [
    "obj_car._car__year"
   ]
  },
  {
   "cell_type": "code",
   "execution_count": 14,
   "id": "b3370821-2eed-41af-9316-b937d14dc518",
   "metadata": {},
   "outputs": [],
   "source": [
    "obj_car._car__year = 2040"
   ]
  },
  {
   "cell_type": "code",
   "execution_count": 15,
   "id": "b928d840-3bba-464b-a6bf-055e0504fd36",
   "metadata": {},
   "outputs": [
    {
     "data": {
      "text/plain": [
       "2040"
      ]
     },
     "execution_count": 15,
     "metadata": {},
     "output_type": "execute_result"
    }
   ],
   "source": [
    "obj_car._car__year "
   ]
  },
  {
   "cell_type": "code",
   "execution_count": 19,
   "id": "33e92e9a-ad2e-4c9e-b26e-2f19fcdf379e",
   "metadata": {},
   "outputs": [],
   "source": [
    "class car:\n",
    "    \n",
    "    def __init__(self, year, make, model, speed) :\n",
    "        self.__year = year\n",
    "        self.__make = make\n",
    "        self.__model = model\n",
    "        self.__speed = 0\n",
    "        \n",
    "    def set_speed(self , speed) :\n",
    "        self.__speed = 0 if speed < 0 else speed"
   ]
  },
  {
   "cell_type": "code",
   "execution_count": 29,
   "id": "46fcfd67-ae29-4430-859e-f7a651a31d75",
   "metadata": {},
   "outputs": [],
   "source": [
    "obj_car = car( 2022, \"Tata1\" , \"Land Rover\", 245)\n",
    "obj_car.set_speed(123)\n",
    "obj_car.set_speed(-123)"
   ]
  },
  {
   "cell_type": "code",
   "execution_count": 30,
   "id": "534f401d-e0a3-4c7a-b56e-80c7460c6b63",
   "metadata": {},
   "outputs": [
    {
     "data": {
      "text/plain": [
       "0"
      ]
     },
     "execution_count": 30,
     "metadata": {},
     "output_type": "execute_result"
    }
   ],
   "source": [
    "obj_car._car__speed"
   ]
  },
  {
   "cell_type": "code",
   "execution_count": 31,
   "id": "38462c61-59ba-4add-9281-03a51c3ea9a7",
   "metadata": {},
   "outputs": [
    {
     "ename": "AttributeError",
     "evalue": "'car' object has no attribute '_set_speed'",
     "output_type": "error",
     "traceback": [
      "\u001b[0;31m---------------------------------------------------------------------------\u001b[0m",
      "\u001b[0;31mAttributeError\u001b[0m                            Traceback (most recent call last)",
      "Cell \u001b[0;32mIn[31], line 1\u001b[0m\n\u001b[0;32m----> 1\u001b[0m \u001b[43mobj_car\u001b[49m\u001b[38;5;241;43m.\u001b[39;49m\u001b[43m_set_speed\u001b[49m\n",
      "\u001b[0;31mAttributeError\u001b[0m: 'car' object has no attribute '_set_speed'"
     ]
    }
   ],
   "source": [
    "obj_car._set_speed"
   ]
  },
  {
   "cell_type": "code",
   "execution_count": 32,
   "id": "7d829df4-afd9-49a2-bacc-f977ffc064f4",
   "metadata": {},
   "outputs": [],
   "source": [
    "class car:\n",
    "    \n",
    "    def __init__(self, year, make, model, speed) :\n",
    "        self.__year = year\n",
    "        self.__make = make\n",
    "        self.__model = model\n",
    "        self.__speed = 0\n",
    "        \n",
    "    def set_speed(self , speed) :\n",
    "        self.__speed = 0 if speed < 0 else speed\n",
    "        \n",
    "    def get_speed(self) :\n",
    "        return self.__speed"
   ]
  },
  {
   "cell_type": "code",
   "execution_count": 33,
   "id": "63b73ed7-807e-4595-b5e6-2c3b2937523a",
   "metadata": {},
   "outputs": [],
   "source": [
    "obj_car = car( 2022, \"Tata1\" , \"Land Rover\", 245)"
   ]
  },
  {
   "cell_type": "code",
   "execution_count": 34,
   "id": "ab14c8de-c18e-478e-9fc6-08cdf9bf8b80",
   "metadata": {},
   "outputs": [
    {
     "data": {
      "text/plain": [
       "0"
      ]
     },
     "execution_count": 34,
     "metadata": {},
     "output_type": "execute_result"
    }
   ],
   "source": [
    "obj_car.get_speed()"
   ]
  },
  {
   "cell_type": "code",
   "execution_count": 39,
   "id": "cef49e2c-eba5-4f41-8331-dc13dad20c79",
   "metadata": {},
   "outputs": [],
   "source": [
    "class bank_account:\n",
    "    \n",
    "    def __init__(self, balance ):# this is constructor which is private \n",
    "        self.__balance = balance\n",
    "\n",
    "    def deposit(self, amount ):\n",
    "        self.__balance = self.__balance + amount\n",
    "        \n",
    "    def withdraw(self, amount) :\n",
    "        if self.__balance >= amount:\n",
    "            self.__balance = self.__balance - amount\n",
    "            return True\n",
    "        else:\n",
    "            return False\n",
    "        \n",
    "    def get_balance(self):\n",
    "            return self.__balance\n"
   ]
  },
  {
   "cell_type": "code",
   "execution_count": 40,
   "id": "ff0edeb7-6e68-430c-8e74-102e8a1f75a8",
   "metadata": {},
   "outputs": [],
   "source": [
    "obj_bank_account = bank_account(1000)"
   ]
  },
  {
   "cell_type": "code",
   "execution_count": 41,
   "id": "c2c256ab-dadb-4e1c-8133-09055f999e86",
   "metadata": {},
   "outputs": [
    {
     "data": {
      "text/plain": [
       "1000"
      ]
     },
     "execution_count": 41,
     "metadata": {},
     "output_type": "execute_result"
    }
   ],
   "source": [
    "obj_bank_account.get_balance()"
   ]
  },
  {
   "cell_type": "code",
   "execution_count": 42,
   "id": "83aa3d3f-297f-4c22-ad65-8983f982b5a0",
   "metadata": {},
   "outputs": [
    {
     "data": {
      "text/plain": [
       "1000"
      ]
     },
     "execution_count": 42,
     "metadata": {},
     "output_type": "execute_result"
    }
   ],
   "source": [
    "obj_bank_account._bank_account__balance# this is private"
   ]
  },
  {
   "cell_type": "code",
   "execution_count": 43,
   "id": "8a934312-20d5-4c73-bfec-87dd43d2f7ad",
   "metadata": {},
   "outputs": [],
   "source": [
    "obj_bank_account.deposit(6000)"
   ]
  },
  {
   "cell_type": "code",
   "execution_count": 44,
   "id": "160275cf-2b6e-469c-9cce-b8dc96526bf6",
   "metadata": {},
   "outputs": [
    {
     "data": {
      "text/plain": [
       "7000"
      ]
     },
     "execution_count": 44,
     "metadata": {},
     "output_type": "execute_result"
    }
   ],
   "source": [
    "obj_bank_account.get_balance()"
   ]
  },
  {
   "cell_type": "code",
   "execution_count": 45,
   "id": "f043bc0e-b324-43a3-815c-20f8304d250e",
   "metadata": {},
   "outputs": [
    {
     "data": {
      "text/plain": [
       "False"
      ]
     },
     "execution_count": 45,
     "metadata": {},
     "output_type": "execute_result"
    }
   ],
   "source": [
    "obj_bank_account.withdraw(9000)"
   ]
  },
  {
   "cell_type": "code",
   "execution_count": 46,
   "id": "e6b6c1d7-c615-472c-ad30-5e3eff269943",
   "metadata": {},
   "outputs": [
    {
     "data": {
      "text/plain": [
       "7000"
      ]
     },
     "execution_count": 46,
     "metadata": {},
     "output_type": "execute_result"
    }
   ],
   "source": [
    "obj_bank_account.get_balance()"
   ]
  },
  {
   "cell_type": "code",
   "execution_count": 47,
   "id": "ced9319d-1d83-4d1d-a717-9aa36b7bf7a0",
   "metadata": {},
   "outputs": [
    {
     "data": {
      "text/plain": [
       "True"
      ]
     },
     "execution_count": 47,
     "metadata": {},
     "output_type": "execute_result"
    }
   ],
   "source": [
    "obj_bank_account.withdraw(200)"
   ]
  },
  {
   "cell_type": "code",
   "execution_count": 48,
   "id": "aeb80437-b7aa-42c0-a272-e2d47dd65a70",
   "metadata": {},
   "outputs": [
    {
     "data": {
      "text/plain": [
       "6800"
      ]
     },
     "execution_count": 48,
     "metadata": {},
     "output_type": "execute_result"
    }
   ],
   "source": [
    "obj_bank_account.get_balance()"
   ]
  },
  {
   "cell_type": "code",
   "execution_count": null,
   "id": "189e48ba-aa00-4336-8293-fa022754c6de",
   "metadata": {},
   "outputs": [],
   "source": []
  }
 ],
 "metadata": {
  "kernelspec": {
   "display_name": "Python 3 (ipykernel)",
   "language": "python",
   "name": "python3"
  },
  "language_info": {
   "codemirror_mode": {
    "name": "ipython",
    "version": 3
   },
   "file_extension": ".py",
   "mimetype": "text/x-python",
   "name": "python",
   "nbconvert_exporter": "python",
   "pygments_lexer": "ipython3",
   "version": "3.10.8"
  }
 },
 "nbformat": 4,
 "nbformat_minor": 5
}
