{
 "cells": [
  {
   "cell_type": "code",
   "execution_count": 1,
   "id": "bfabdbb8-5fa4-475c-83c1-b37027ee7b3d",
   "metadata": {},
   "outputs": [],
   "source": [
    "import numpy as np"
   ]
  },
  {
   "cell_type": "code",
   "execution_count": 2,
   "id": "5dccbd6a-ae48-4a81-a3cc-cb625fac0439",
   "metadata": {},
   "outputs": [],
   "source": [
    "#Numpy : Array manipulation"
   ]
  },
  {
   "cell_type": "code",
   "execution_count": 4,
   "id": "7ede0d07-33f7-4fe9-8849-3c1ead975b76",
   "metadata": {},
   "outputs": [],
   "source": [
    "arr = np.random.randint(1,10,(4,4))"
   ]
  },
  {
   "cell_type": "code",
   "execution_count": 5,
   "id": "c0f41147-0beb-47da-9428-a3c49c1c0256",
   "metadata": {},
   "outputs": [
    {
     "data": {
      "text/plain": [
       "array([[1, 4, 6, 6],\n",
       "       [3, 7, 8, 3],\n",
       "       [8, 6, 1, 5],\n",
       "       [8, 8, 1, 7]])"
      ]
     },
     "execution_count": 5,
     "metadata": {},
     "output_type": "execute_result"
    }
   ],
   "source": [
    "arr"
   ]
  },
  {
   "cell_type": "code",
   "execution_count": 6,
   "id": "254d84a6-1cf9-4417-a762-fb83b4397404",
   "metadata": {},
   "outputs": [
    {
     "data": {
      "text/plain": [
       "array([[1, 4],\n",
       "       [6, 6],\n",
       "       [3, 7],\n",
       "       [8, 3],\n",
       "       [8, 6],\n",
       "       [1, 5],\n",
       "       [8, 8],\n",
       "       [1, 7]])"
      ]
     },
     "execution_count": 6,
     "metadata": {},
     "output_type": "execute_result"
    }
   ],
   "source": [
    "arr.reshape(8,2)"
   ]
  },
  {
   "cell_type": "code",
   "execution_count": 7,
   "id": "fea2fc0f-d1ff-4cb4-93b2-961d7db2c213",
   "metadata": {},
   "outputs": [
    {
     "data": {
      "text/plain": [
       "array([[1, 3, 8, 8],\n",
       "       [4, 7, 6, 8],\n",
       "       [6, 8, 1, 1],\n",
       "       [6, 3, 5, 7]])"
      ]
     },
     "execution_count": 7,
     "metadata": {},
     "output_type": "execute_result"
    }
   ],
   "source": [
    "arr.T"
   ]
  },
  {
   "cell_type": "code",
   "execution_count": 8,
   "id": "c663ad6a-4c1c-42f1-b74f-86ce1bb37bde",
   "metadata": {},
   "outputs": [
    {
     "data": {
      "text/plain": [
       "array([1, 4, 6, 6, 3, 7, 8, 3, 8, 6, 1, 5, 8, 8, 1, 7])"
      ]
     },
     "execution_count": 8,
     "metadata": {},
     "output_type": "execute_result"
    }
   ],
   "source": [
    "arr.flatten()"
   ]
  },
  {
   "cell_type": "code",
   "execution_count": 9,
   "id": "077655bb-d133-4a9f-9f0f-04f82daea415",
   "metadata": {},
   "outputs": [
    {
     "data": {
      "text/plain": [
       "array([[1, 4, 6, 6],\n",
       "       [3, 7, 8, 3],\n",
       "       [8, 6, 1, 5],\n",
       "       [8, 8, 1, 7]])"
      ]
     },
     "execution_count": 9,
     "metadata": {},
     "output_type": "execute_result"
    }
   ],
   "source": [
    "arr"
   ]
  },
  {
   "cell_type": "code",
   "execution_count": 10,
   "id": "e989f454-717e-4156-b856-b3346ff7f708",
   "metadata": {},
   "outputs": [
    {
     "data": {
      "text/plain": [
       "array([[[1, 4, 6, 6]],\n",
       "\n",
       "       [[3, 7, 8, 3]],\n",
       "\n",
       "       [[8, 6, 1, 5]],\n",
       "\n",
       "       [[8, 8, 1, 7]]])"
      ]
     },
     "execution_count": 10,
     "metadata": {},
     "output_type": "execute_result"
    }
   ],
   "source": [
    "np.expand_dims(arr,axis=1)"
   ]
  },
  {
   "cell_type": "code",
   "execution_count": 11,
   "id": "77c77849-4d14-4115-9f3f-bd21dd4a269a",
   "metadata": {},
   "outputs": [
    {
     "data": {
      "text/plain": [
       "array([[[1, 4, 6, 6],\n",
       "        [3, 7, 8, 3],\n",
       "        [8, 6, 1, 5],\n",
       "        [8, 8, 1, 7]]])"
      ]
     },
     "execution_count": 11,
     "metadata": {},
     "output_type": "execute_result"
    }
   ],
   "source": [
    "np.expand_dims(arr, axis=0)"
   ]
  },
  {
   "cell_type": "code",
   "execution_count": 12,
   "id": "8469eee3-eee0-4d7c-9929-6460a983f643",
   "metadata": {},
   "outputs": [],
   "source": [
    "data = np.array([[1],[2],[3]])"
   ]
  },
  {
   "cell_type": "code",
   "execution_count": 14,
   "id": "3121134d-df9f-48c2-bc66-f94c8a56b5f4",
   "metadata": {},
   "outputs": [
    {
     "data": {
      "text/plain": [
       "array([1, 2, 3])"
      ]
     },
     "execution_count": 14,
     "metadata": {},
     "output_type": "execute_result"
    }
   ],
   "source": [
    "np.squeeze(data)"
   ]
  },
  {
   "cell_type": "code",
   "execution_count": 15,
   "id": "344b9828-eda2-4502-80ec-2a2d06fb0932",
   "metadata": {},
   "outputs": [
    {
     "data": {
      "text/plain": [
       "array([1, 1, 1, 1, 2, 2, 2, 2, 3, 3, 3, 3])"
      ]
     },
     "execution_count": 15,
     "metadata": {},
     "output_type": "execute_result"
    }
   ],
   "source": [
    "np.repeat(data,4)"
   ]
  },
  {
   "cell_type": "code",
   "execution_count": 16,
   "id": "6af88b05-91e6-4d59-9ec5-bf9e8efdb8fc",
   "metadata": {},
   "outputs": [
    {
     "data": {
      "text/plain": [
       "array([[2],\n",
       "       [3],\n",
       "       [1]])"
      ]
     },
     "execution_count": 16,
     "metadata": {},
     "output_type": "execute_result"
    }
   ],
   "source": [
    "np.roll(data,2)"
   ]
  },
  {
   "cell_type": "code",
   "execution_count": 17,
   "id": "26953025-62a9-44fc-9f16-ea65458f88a7",
   "metadata": {},
   "outputs": [
    {
     "data": {
      "text/plain": [
       "array([[1, 0, 0, 0],\n",
       "       [0, 2, 0, 0],\n",
       "       [0, 0, 3, 0],\n",
       "       [0, 0, 0, 4]])"
      ]
     },
     "execution_count": 17,
     "metadata": {},
     "output_type": "execute_result"
    }
   ],
   "source": [
    "np.diag(np.array([1,2,3,4]))"
   ]
  },
  {
   "cell_type": "code",
   "execution_count": 18,
   "id": "4ba86281-c4f2-48e8-959e-4af9e59daba2",
   "metadata": {},
   "outputs": [],
   "source": [
    "#Numpy: Binary operation"
   ]
  },
  {
   "cell_type": "code",
   "execution_count": 19,
   "id": "5df10fdb-01c4-4b41-8d5f-3f96ddaf2de1",
   "metadata": {},
   "outputs": [],
   "source": [
    "arr1 = np.random.randint(1,10, (3,4))\n",
    "arr2 = np.random.randint(1,10, (3,4))"
   ]
  },
  {
   "cell_type": "code",
   "execution_count": 20,
   "id": "60570f57-e5fb-4647-88d1-5263a69784d1",
   "metadata": {},
   "outputs": [
    {
     "data": {
      "text/plain": [
       "array([[9, 3, 1, 8],\n",
       "       [2, 8, 1, 7],\n",
       "       [8, 5, 8, 2]])"
      ]
     },
     "execution_count": 20,
     "metadata": {},
     "output_type": "execute_result"
    }
   ],
   "source": [
    "arr1"
   ]
  },
  {
   "cell_type": "code",
   "execution_count": 21,
   "id": "d717b04f-d8d2-4608-8a76-b1f765c93887",
   "metadata": {},
   "outputs": [
    {
     "data": {
      "text/plain": [
       "array([[1, 2, 2, 8],\n",
       "       [6, 3, 2, 9],\n",
       "       [5, 3, 2, 8]])"
      ]
     },
     "execution_count": 21,
     "metadata": {},
     "output_type": "execute_result"
    }
   ],
   "source": [
    "arr2"
   ]
  },
  {
   "cell_type": "code",
   "execution_count": 22,
   "id": "2ecf82b8-3da7-4dda-93da-df27bab17ad8",
   "metadata": {},
   "outputs": [
    {
     "data": {
      "text/plain": [
       "array([[10,  5,  3, 16],\n",
       "       [ 8, 11,  3, 16],\n",
       "       [13,  8, 10, 10]])"
      ]
     },
     "execution_count": 22,
     "metadata": {},
     "output_type": "execute_result"
    }
   ],
   "source": [
    "arr1+arr2"
   ]
  },
  {
   "cell_type": "code",
   "execution_count": 23,
   "id": "6ffb32c2-ef5f-4706-9887-45d1697bf2fc",
   "metadata": {},
   "outputs": [
    {
     "data": {
      "text/plain": [
       "array([[9.        , 1.5       , 0.5       , 1.        ],\n",
       "       [0.33333333, 2.66666667, 0.5       , 0.77777778],\n",
       "       [1.6       , 1.66666667, 4.        , 0.25      ]])"
      ]
     },
     "execution_count": 23,
     "metadata": {},
     "output_type": "execute_result"
    }
   ],
   "source": [
    "arr1/arr2"
   ]
  },
  {
   "cell_type": "code",
   "execution_count": 24,
   "id": "cb111cfe-447f-40bf-99b0-23fac5b2da19",
   "metadata": {},
   "outputs": [
    {
     "data": {
      "text/plain": [
       "array([[ 8,  1, -1,  0],\n",
       "       [-4,  5, -1, -2],\n",
       "       [ 3,  2,  6, -6]])"
      ]
     },
     "execution_count": 24,
     "metadata": {},
     "output_type": "execute_result"
    }
   ],
   "source": [
    "arr1-arr2"
   ]
  },
  {
   "cell_type": "code",
   "execution_count": 25,
   "id": "d2b969e5-058f-4019-993d-4d16c1b27563",
   "metadata": {},
   "outputs": [
    {
     "data": {
      "text/plain": [
       "array([[       9,        9,        1, 16777216],\n",
       "       [      64,      512,        1, 40353607],\n",
       "       [   32768,      125,       64,      256]])"
      ]
     },
     "execution_count": 25,
     "metadata": {},
     "output_type": "execute_result"
    }
   ],
   "source": [
    "arr1**arr2"
   ]
  },
  {
   "cell_type": "code",
   "execution_count": 26,
   "id": "39fa34df-a963-4367-9d72-dccdb73c5d8b",
   "metadata": {},
   "outputs": [
    {
     "data": {
      "text/plain": [
       "array([[-9, -3, -1, -8],\n",
       "       [-2, -8, -1, -7],\n",
       "       [-8, -5, -8, -2]])"
      ]
     },
     "execution_count": 26,
     "metadata": {},
     "output_type": "execute_result"
    }
   ],
   "source": [
    "-arr1"
   ]
  },
  {
   "cell_type": "code",
   "execution_count": 27,
   "id": "7e6694ea-5999-4914-98b4-1a1aab15f622",
   "metadata": {},
   "outputs": [
    {
     "data": {
      "text/plain": [
       "array([[9, 3, 1, 8],\n",
       "       [2, 8, 1, 7],\n",
       "       [8, 5, 8, 2]])"
      ]
     },
     "execution_count": 27,
     "metadata": {},
     "output_type": "execute_result"
    }
   ],
   "source": [
    "-(-arr1)"
   ]
  },
  {
   "cell_type": "code",
   "execution_count": 28,
   "id": "386aeb82-af1e-4f2a-b415-0c51cd7d3ef4",
   "metadata": {},
   "outputs": [
    {
     "data": {
      "text/plain": [
       "array([[ True,  True, False, False],\n",
       "       [False,  True, False, False],\n",
       "       [ True,  True,  True, False]])"
      ]
     },
     "execution_count": 28,
     "metadata": {},
     "output_type": "execute_result"
    }
   ],
   "source": [
    "arr1>arr2"
   ]
  },
  {
   "cell_type": "code",
   "execution_count": 29,
   "id": "4dce0011-2705-4e4b-b3b2-0ebd1e5ea5b8",
   "metadata": {},
   "outputs": [],
   "source": [
    "#numpy; Stringoperations"
   ]
  },
  {
   "cell_type": "code",
   "execution_count": 30,
   "id": "65da8159-e8db-4b1c-82c0-339571167792",
   "metadata": {},
   "outputs": [],
   "source": [
    "arr = np.array([\"Sumit\",\"Kumar\"])"
   ]
  },
  {
   "cell_type": "code",
   "execution_count": 31,
   "id": "6e66ab87-fed4-4bde-956d-b3de636fa016",
   "metadata": {},
   "outputs": [
    {
     "data": {
      "text/plain": [
       "array(['Sumit', 'Kumar'], dtype='<U5')"
      ]
     },
     "execution_count": 31,
     "metadata": {},
     "output_type": "execute_result"
    }
   ],
   "source": [
    "arr"
   ]
  },
  {
   "cell_type": "code",
   "execution_count": 32,
   "id": "5dc7992a-8406-40bd-b374-ef9ea8a0aeb8",
   "metadata": {},
   "outputs": [
    {
     "data": {
      "text/plain": [
       "array(['SUMIT', 'KUMAR'], dtype='<U5')"
      ]
     },
     "execution_count": 32,
     "metadata": {},
     "output_type": "execute_result"
    }
   ],
   "source": [
    "np.char.upper(arr)"
   ]
  },
  {
   "cell_type": "code",
   "execution_count": 33,
   "id": "9e4d3c61-815c-41fa-a26e-b8b5629d098a",
   "metadata": {},
   "outputs": [
    {
     "data": {
      "text/plain": [
       "array(['Sumit', 'Kumar'], dtype='<U5')"
      ]
     },
     "execution_count": 33,
     "metadata": {},
     "output_type": "execute_result"
    }
   ],
   "source": [
    "np.char.capitalize(arr)"
   ]
  },
  {
   "cell_type": "code",
   "execution_count": 34,
   "id": "519bf223-5094-49bf-9ac1-c9568cabd935",
   "metadata": {},
   "outputs": [
    {
     "data": {
      "text/plain": [
       "array(['Sumit', 'Kumar'], dtype='<U5')"
      ]
     },
     "execution_count": 34,
     "metadata": {},
     "output_type": "execute_result"
    }
   ],
   "source": [
    "np.char.title(arr)"
   ]
  },
  {
   "cell_type": "code",
   "execution_count": 35,
   "id": "5817ba33-a11c-4662-95f8-c1d222d75b5a",
   "metadata": {},
   "outputs": [],
   "source": [
    "#Numpy: Mathematical operation"
   ]
  },
  {
   "cell_type": "code",
   "execution_count": 36,
   "id": "0c297024-e45b-4521-b379-c30bb61cd755",
   "metadata": {},
   "outputs": [
    {
     "data": {
      "text/plain": [
       "array([[9, 3, 1, 8],\n",
       "       [2, 8, 1, 7],\n",
       "       [8, 5, 8, 2]])"
      ]
     },
     "execution_count": 36,
     "metadata": {},
     "output_type": "execute_result"
    }
   ],
   "source": [
    "arr1"
   ]
  },
  {
   "cell_type": "code",
   "execution_count": 38,
   "id": "86351ca3-ffe5-45ae-8f3f-8b0b0915b67b",
   "metadata": {},
   "outputs": [
    {
     "data": {
      "text/plain": [
       "array([[ 0.41211849,  0.14112001,  0.84147098,  0.98935825],\n",
       "       [ 0.90929743,  0.98935825,  0.84147098,  0.6569866 ],\n",
       "       [ 0.98935825, -0.95892427,  0.98935825,  0.90929743]])"
      ]
     },
     "execution_count": 38,
     "metadata": {},
     "output_type": "execute_result"
    }
   ],
   "source": [
    "np.sin(arr1)"
   ]
  },
  {
   "cell_type": "code",
   "execution_count": 39,
   "id": "13a0ed85-d81c-48ab-a221-0b08993514e6",
   "metadata": {},
   "outputs": [
    {
     "data": {
      "text/plain": [
       "array([[-0.45231566, -0.14254654,  1.55740772, -6.79971146],\n",
       "       [-2.18503986, -6.79971146,  1.55740772,  0.87144798],\n",
       "       [-6.79971146, -3.38051501, -6.79971146, -2.18503986]])"
      ]
     },
     "execution_count": 39,
     "metadata": {},
     "output_type": "execute_result"
    }
   ],
   "source": [
    "np.tan(arr1)"
   ]
  },
  {
   "cell_type": "code",
   "execution_count": 40,
   "id": "732b5bb6-e6ea-4ba2-ba4d-83d9569d61ae",
   "metadata": {},
   "outputs": [
    {
     "data": {
      "text/plain": [
       "array([[0.95424251, 0.47712125, 0.        , 0.90308999],\n",
       "       [0.30103   , 0.90308999, 0.        , 0.84509804],\n",
       "       [0.90308999, 0.69897   , 0.90308999, 0.30103   ]])"
      ]
     },
     "execution_count": 40,
     "metadata": {},
     "output_type": "execute_result"
    }
   ],
   "source": [
    "np.log10(arr1)"
   ]
  },
  {
   "cell_type": "code",
   "execution_count": 41,
   "id": "d8459759-b149-4a23-b19f-7bde37616b02",
   "metadata": {},
   "outputs": [
    {
     "data": {
      "text/plain": [
       "array([[8.10308393e+03, 2.00855369e+01, 2.71828183e+00, 2.98095799e+03],\n",
       "       [7.38905610e+00, 2.98095799e+03, 2.71828183e+00, 1.09663316e+03],\n",
       "       [2.98095799e+03, 1.48413159e+02, 2.98095799e+03, 7.38905610e+00]])"
      ]
     },
     "execution_count": 41,
     "metadata": {},
     "output_type": "execute_result"
    }
   ],
   "source": [
    "np.exp(arr1)"
   ]
  },
  {
   "cell_type": "code",
   "execution_count": 42,
   "id": "123ea2d2-4351-40f0-955b-8dbd2cdf59f5",
   "metadata": {},
   "outputs": [
    {
     "data": {
      "text/plain": [
       "array([[81,  9,  1, 64],\n",
       "       [ 4, 64,  1, 49],\n",
       "       [64, 25, 64,  4]])"
      ]
     },
     "execution_count": 42,
     "metadata": {},
     "output_type": "execute_result"
    }
   ],
   "source": [
    "np.power(arr1,2)"
   ]
  },
  {
   "cell_type": "code",
   "execution_count": 43,
   "id": "364d90b1-59a7-4c0d-a154-4b969a6e35b4",
   "metadata": {},
   "outputs": [
    {
     "data": {
      "text/plain": [
       "array([[9, 3, 1, 8],\n",
       "       [2, 8, 1, 7],\n",
       "       [8, 5, 8, 2]])"
      ]
     },
     "execution_count": 43,
     "metadata": {},
     "output_type": "execute_result"
    }
   ],
   "source": [
    "arr1"
   ]
  },
  {
   "cell_type": "code",
   "execution_count": 44,
   "id": "922084fe-5580-4cb3-98c1-1b003383878f",
   "metadata": {},
   "outputs": [
    {
     "data": {
      "text/plain": [
       "5.166666666666667"
      ]
     },
     "execution_count": 44,
     "metadata": {},
     "output_type": "execute_result"
    }
   ],
   "source": [
    "np.mean(arr1)"
   ]
  },
  {
   "cell_type": "code",
   "execution_count": 45,
   "id": "dca3bc9d-24e3-47e3-9b7b-70d8598e3b18",
   "metadata": {},
   "outputs": [
    {
     "data": {
      "text/plain": [
       "6.0"
      ]
     },
     "execution_count": 45,
     "metadata": {},
     "output_type": "execute_result"
    }
   ],
   "source": [
    "np.median(arr1)"
   ]
  },
  {
   "cell_type": "code",
   "execution_count": 46,
   "id": "18d52567-4dc2-438f-b753-e7b6140b3979",
   "metadata": {},
   "outputs": [
    {
     "ename": "AttributeError",
     "evalue": "module 'numpy' has no attribute 'mode'",
     "output_type": "error",
     "traceback": [
      "\u001b[0;31m---------------------------------------------------------------------------\u001b[0m",
      "\u001b[0;31mAttributeError\u001b[0m                            Traceback (most recent call last)",
      "Cell \u001b[0;32mIn[46], line 1\u001b[0m\n\u001b[0;32m----> 1\u001b[0m \u001b[43mnp\u001b[49m\u001b[38;5;241;43m.\u001b[39;49m\u001b[43mmode\u001b[49m(arr1)\n",
      "File \u001b[0;32m/opt/conda/lib/python3.10/site-packages/numpy/__init__.py:311\u001b[0m, in \u001b[0;36m__getattr__\u001b[0;34m(attr)\u001b[0m\n\u001b[1;32m    308\u001b[0m     \u001b[38;5;28;01mfrom\u001b[39;00m \u001b[38;5;21;01m.\u001b[39;00m\u001b[38;5;21;01mtesting\u001b[39;00m \u001b[38;5;28;01mimport\u001b[39;00m Tester\n\u001b[1;32m    309\u001b[0m     \u001b[38;5;28;01mreturn\u001b[39;00m Tester\n\u001b[0;32m--> 311\u001b[0m \u001b[38;5;28;01mraise\u001b[39;00m \u001b[38;5;167;01mAttributeError\u001b[39;00m(\u001b[38;5;124m\"\u001b[39m\u001b[38;5;124mmodule \u001b[39m\u001b[38;5;132;01m{!r}\u001b[39;00m\u001b[38;5;124m has no attribute \u001b[39m\u001b[38;5;124m\"\u001b[39m\n\u001b[1;32m    312\u001b[0m                      \u001b[38;5;124m\"\u001b[39m\u001b[38;5;132;01m{!r}\u001b[39;00m\u001b[38;5;124m\"\u001b[39m\u001b[38;5;241m.\u001b[39mformat(\u001b[38;5;18m__name__\u001b[39m, attr))\n",
      "\u001b[0;31mAttributeError\u001b[0m: module 'numpy' has no attribute 'mode'"
     ]
    }
   ],
   "source": [
    "np.mode(arr1)"
   ]
  },
  {
   "cell_type": "code",
   "execution_count": 47,
   "id": "99a4ee53-543c-426a-b4d8-cfae1f80ef23",
   "metadata": {},
   "outputs": [
    {
     "data": {
      "text/plain": [
       "3.0230595245361758"
      ]
     },
     "execution_count": 47,
     "metadata": {},
     "output_type": "execute_result"
    }
   ],
   "source": [
    "np.std(arr1)"
   ]
  },
  {
   "cell_type": "code",
   "execution_count": 48,
   "id": "9548ec6f-573e-4718-88b9-9e129867bf25",
   "metadata": {},
   "outputs": [
    {
     "data": {
      "text/plain": [
       "9.13888888888889"
      ]
     },
     "execution_count": 48,
     "metadata": {},
     "output_type": "execute_result"
    }
   ],
   "source": [
    "np.var(arr1)"
   ]
  },
  {
   "cell_type": "code",
   "execution_count": 49,
   "id": "c3a028d2-1f2c-4532-87ad-8d91764fd704",
   "metadata": {},
   "outputs": [
    {
     "data": {
      "text/plain": [
       "1"
      ]
     },
     "execution_count": 49,
     "metadata": {},
     "output_type": "execute_result"
    }
   ],
   "source": [
    "np.min(arr1)"
   ]
  },
  {
   "cell_type": "code",
   "execution_count": 50,
   "id": "bd4cd569-271f-4115-9a25-0511aee72bf8",
   "metadata": {},
   "outputs": [
    {
     "data": {
      "text/plain": [
       "9"
      ]
     },
     "execution_count": 50,
     "metadata": {},
     "output_type": "execute_result"
    }
   ],
   "source": [
    "np.max(arr1)"
   ]
  },
  {
   "cell_type": "code",
   "execution_count": 51,
   "id": "63114964-c945-4e88-949b-ea6c8745fe47",
   "metadata": {},
   "outputs": [],
   "source": [
    "#numpy : Airthmatic operation"
   ]
  },
  {
   "cell_type": "code",
   "execution_count": 52,
   "id": "19ebc91f-cf6a-4e99-b238-ba17cace2b62",
   "metadata": {},
   "outputs": [
    {
     "data": {
      "text/plain": [
       "array([[9, 3, 1, 8],\n",
       "       [2, 8, 1, 7],\n",
       "       [8, 5, 8, 2]])"
      ]
     },
     "execution_count": 52,
     "metadata": {},
     "output_type": "execute_result"
    }
   ],
   "source": [
    "arr1"
   ]
  },
  {
   "cell_type": "code",
   "execution_count": 53,
   "id": "6329686e-c55e-4bfa-946e-f37cdd7c5712",
   "metadata": {},
   "outputs": [
    {
     "data": {
      "text/plain": [
       "array([[1, 2, 2, 8],\n",
       "       [6, 3, 2, 9],\n",
       "       [5, 3, 2, 8]])"
      ]
     },
     "execution_count": 53,
     "metadata": {},
     "output_type": "execute_result"
    }
   ],
   "source": [
    "arr2"
   ]
  },
  {
   "cell_type": "code",
   "execution_count": 54,
   "id": "36a4a5fd-0720-49d3-956e-5fd8b60951b3",
   "metadata": {},
   "outputs": [
    {
     "data": {
      "text/plain": [
       "array([[ 8,  1, -1,  0],\n",
       "       [-4,  5, -1, -2],\n",
       "       [ 3,  2,  6, -6]])"
      ]
     },
     "execution_count": 54,
     "metadata": {},
     "output_type": "execute_result"
    }
   ],
   "source": [
    "arr1-arr2"
   ]
  },
  {
   "cell_type": "code",
   "execution_count": 55,
   "id": "b9b1822e-0364-485e-aeae-6f53af424228",
   "metadata": {},
   "outputs": [
    {
     "data": {
      "text/plain": [
       "array([[ 8,  1, -1,  0],\n",
       "       [-4,  5, -1, -2],\n",
       "       [ 3,  2,  6, -6]])"
      ]
     },
     "execution_count": 55,
     "metadata": {},
     "output_type": "execute_result"
    }
   ],
   "source": [
    "np.subtract(arr1,arr2)"
   ]
  },
  {
   "cell_type": "code",
   "execution_count": 56,
   "id": "30b36924-3f3f-4e5d-a5f1-369ea009bb73",
   "metadata": {},
   "outputs": [
    {
     "data": {
      "text/plain": [
       "array([[ 9,  6,  2, 64],\n",
       "       [12, 24,  2, 63],\n",
       "       [40, 15, 16, 16]])"
      ]
     },
     "execution_count": 56,
     "metadata": {},
     "output_type": "execute_result"
    }
   ],
   "source": [
    "np.multiply(arr1,arr2)"
   ]
  },
  {
   "cell_type": "code",
   "execution_count": 57,
   "id": "5c5e2db2-7bae-4f70-9202-26aae2e1044e",
   "metadata": {},
   "outputs": [
    {
     "data": {
      "text/plain": [
       "array([[0, 1, 1, 0],\n",
       "       [2, 2, 1, 7],\n",
       "       [3, 2, 0, 2]])"
      ]
     },
     "execution_count": 57,
     "metadata": {},
     "output_type": "execute_result"
    }
   ],
   "source": [
    "np.mod(arr1,arr2)"
   ]
  },
  {
   "cell_type": "code",
   "execution_count": 58,
   "id": "f7a5e616-0fe7-4e29-a1f0-5830b2d70834",
   "metadata": {},
   "outputs": [
    {
     "data": {
      "text/plain": [
       "array([[       9,        9,        1, 16777216],\n",
       "       [      64,      512,        1, 40353607],\n",
       "       [   32768,      125,       64,      256]])"
      ]
     },
     "execution_count": 58,
     "metadata": {},
     "output_type": "execute_result"
    }
   ],
   "source": [
    "np.power(arr1, arr2)"
   ]
  },
  {
   "cell_type": "code",
   "execution_count": 59,
   "id": "85a6e134-e57d-4a57-a2a6-dbe13423ff10",
   "metadata": {},
   "outputs": [
    {
     "data": {
      "text/plain": [
       "array([[3.        , 1.73205081, 1.        , 2.82842712],\n",
       "       [1.41421356, 2.82842712, 1.        , 2.64575131],\n",
       "       [2.82842712, 2.23606798, 2.82842712, 1.41421356]])"
      ]
     },
     "execution_count": 59,
     "metadata": {},
     "output_type": "execute_result"
    }
   ],
   "source": [
    "np.sqrt(arr1)"
   ]
  },
  {
   "cell_type": "code",
   "execution_count": 60,
   "id": "6b705e9d-f944-44a3-994e-2464371b6e18",
   "metadata": {},
   "outputs": [
    {
     "data": {
      "text/plain": [
       "5.166666666666667"
      ]
     },
     "execution_count": 60,
     "metadata": {},
     "output_type": "execute_result"
    }
   ],
   "source": [
    "np.mean(arr1)"
   ]
  },
  {
   "cell_type": "code",
   "execution_count": 61,
   "id": "1b8a9136-2bd6-48b6-b3df-f64ab9df4f8f",
   "metadata": {},
   "outputs": [
    {
     "data": {
      "text/plain": [
       "3.0230595245361758"
      ]
     },
     "execution_count": 61,
     "metadata": {},
     "output_type": "execute_result"
    }
   ],
   "source": [
    "np.std(arr1)"
   ]
  },
  {
   "cell_type": "code",
   "execution_count": 62,
   "id": "3d46a8b7-0cc5-414b-b81a-9652fe5367f6",
   "metadata": {},
   "outputs": [
    {
     "data": {
      "text/plain": [
       "6.0"
      ]
     },
     "execution_count": 62,
     "metadata": {},
     "output_type": "execute_result"
    }
   ],
   "source": [
    "np.median(arr1)"
   ]
  },
  {
   "cell_type": "code",
   "execution_count": null,
   "id": "dbb551b5-d312-4e8d-b02d-ee011bf18885",
   "metadata": {},
   "outputs": [],
   "source": []
  }
 ],
 "metadata": {
  "kernelspec": {
   "display_name": "Python 3 (ipykernel)",
   "language": "python",
   "name": "python3"
  },
  "language_info": {
   "codemirror_mode": {
    "name": "ipython",
    "version": 3
   },
   "file_extension": ".py",
   "mimetype": "text/x-python",
   "name": "python",
   "nbconvert_exporter": "python",
   "pygments_lexer": "ipython3",
   "version": "3.10.8"
  }
 },
 "nbformat": 4,
 "nbformat_minor": 5
}
