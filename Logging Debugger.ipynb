{
 "cells": [
  {
   "cell_type": "code",
   "execution_count": 2,
   "id": "69a759ae-fec5-4e58-9c99-37b8e3ef8752",
   "metadata": {},
   "outputs": [
    {
     "name": "stdout",
     "output_type": "stream",
     "text": [
      "this is my print statement\n"
     ]
    }
   ],
   "source": [
    "print(\"this is my print statement\")"
   ]
  },
  {
   "cell_type": "code",
   "execution_count": 2,
   "id": "d4ea88d7-0960-4e79-b933-c9cc703b09e4",
   "metadata": {},
   "outputs": [],
   "source": [
    "import logging"
   ]
  },
  {
   "cell_type": "code",
   "execution_count": 4,
   "id": "b9536f47-06b2-4cff-9dc8-3435657ed9e4",
   "metadata": {},
   "outputs": [],
   "source": [
    "logging.basicConfig(filename = \"test.log\" , level = logging.INFO)"
   ]
  },
  {
   "cell_type": "code",
   "execution_count": 6,
   "id": "f237494d-db90-4996-add9-85843197cc55",
   "metadata": {},
   "outputs": [],
   "source": [
    "logging.info(\"this is my line of execeution\")"
   ]
  },
  {
   "cell_type": "code",
   "execution_count": 7,
   "id": "e22c03e6-1378-4aee-b3ec-607dd34f517f",
   "metadata": {},
   "outputs": [],
   "source": [
    "logging.error(\"this is my error\")"
   ]
  },
  {
   "cell_type": "code",
   "execution_count": 8,
   "id": "443457a5-8e82-437b-bae3-83b1c55b7d2a",
   "metadata": {},
   "outputs": [],
   "source": [
    "logging.info(\"I am Awesome\")"
   ]
  },
  {
   "cell_type": "code",
   "execution_count": 13,
   "id": "e4ced768-414e-426e-9b5c-44c0efc3f69b",
   "metadata": {},
   "outputs": [],
   "source": [
    "logging.critical(\"Hello\")"
   ]
  },
  {
   "cell_type": "code",
   "execution_count": 15,
   "id": "dfbb7991-3372-498e-a38a-583f6beb93b1",
   "metadata": {},
   "outputs": [
    {
     "data": {
      "text/plain": [
       "'#logginf order\\nNOSET\\nDEBUG\\nINFO\\nWarning\\nError\\nCritical'"
      ]
     },
     "execution_count": 15,
     "metadata": {},
     "output_type": "execute_result"
    }
   ],
   "source": [
    "'''#logginf order\n",
    "NOSET\n",
    "DEBUG\n",
    "INFO\n",
    "Warning\n",
    "Error\n",
    "Critical'''"
   ]
  },
  {
   "cell_type": "code",
   "execution_count": 16,
   "id": "5b348a75-f17b-4a6b-b218-9bc311e041b6",
   "metadata": {},
   "outputs": [],
   "source": [
    "logging.warning(\"this is my warning\")"
   ]
  },
  {
   "cell_type": "code",
   "execution_count": 17,
   "id": "dc4b86f8-6aaf-49aa-8111-8674a968b7f9",
   "metadata": {},
   "outputs": [],
   "source": [
    "logging.debug(\"this is my debug\")"
   ]
  },
  {
   "cell_type": "code",
   "execution_count": 20,
   "id": "ce1ae91b-f404-484e-8244-ceedcc95b70e",
   "metadata": {},
   "outputs": [
    {
     "ename": "SyntaxError",
     "evalue": "invalid syntax (3027634766.py, line 1)",
     "output_type": "error",
     "traceback": [
      "\u001b[0;36m  Cell \u001b[0;32mIn[20], line 1\u001b[0;36m\u001b[0m\n\u001b[0;31m    1. NOSET\u001b[0m\n\u001b[0m       ^\u001b[0m\n\u001b[0;31mSyntaxError\u001b[0m\u001b[0;31m:\u001b[0m invalid syntax\n"
     ]
    }
   ],
   "source": [
    "1. NOSET\n",
    "2. DEBUG\n",
    "3. INFO\n",
    "4. WARNING\n",
    "5. ERROR\n",
    "6. CRITICAL"
   ]
  },
  {
   "cell_type": "code",
   "execution_count": 9,
   "id": "d6492c08-5482-4abb-9ace-8773cac67ecf",
   "metadata": {},
   "outputs": [],
   "source": [
    "logging.basicConfig(filename = \"test1.log\", level = logging.DEBUG, format = '%(asctime)s %(message)s %(name)s %(levelname)s %message)s')"
   ]
  },
  {
   "cell_type": "code",
   "execution_count": 10,
   "id": "bbf18200-70fd-40ed-821f-6ab89f011008",
   "metadata": {},
   "outputs": [],
   "source": [
    "logging.info(\"this is my infor1 log\")"
   ]
  },
  {
   "cell_type": "code",
   "execution_count": 11,
   "id": "5896e64f-ce43-4295-9b5c-eafd45bc8b8f",
   "metadata": {},
   "outputs": [],
   "source": [
    "logging.debug(\"this is my debug1 log\")"
   ]
  },
  {
   "cell_type": "code",
   "execution_count": 13,
   "id": "061389dc-c1e9-4cb5-a369-70736261e640",
   "metadata": {},
   "outputs": [],
   "source": [
    "logging.warning(\"this is my warning1 log\")"
   ]
  },
  {
   "cell_type": "code",
   "execution_count": 7,
   "id": "94dc4df3-adbe-4c66-853c-1fbc42183d7d",
   "metadata": {},
   "outputs": [],
   "source": [
    "logging.shutdown()"
   ]
  },
  {
   "cell_type": "code",
   "execution_count": 16,
   "id": "e28a67f1-281e-4990-9a38-882f33ad3b29",
   "metadata": {},
   "outputs": [],
   "source": [
    "l = [1,2,3,4,[2,3,4] ,\"Sumit\", \"Kumar\"]"
   ]
  },
  {
   "cell_type": "code",
   "execution_count": 28,
   "id": "5de214d9-7cd2-4ab7-a470-1b8e2c887db7",
   "metadata": {},
   "outputs": [],
   "source": [
    "l1_int = []\n",
    "l2_str = []\n",
    "for i in l :\n",
    "    logging.info(\"this is my first info{}\".format(l))\n",
    "    logging.info(\"this is my value  am logging info{}\".format(i))\n",
    "    \n",
    "    if type(i) == list:\n",
    "        for j in i:\n",
    "            logging.info(\"logging my j {j} and i is {i}\".format(i = 1, j = j))\n",
    "            if type(j) == int:\n",
    "                l1_int.append(j)\n",
    "    elif type(i) == int:\n",
    "        l1_int.append(i)\n",
    "    else :\n",
    "        if type(i) == str:\n",
    "            l2_str.append(i)\n",
    "logging.info(\"this is my final result with all int{l1}, with all str{l2}\". format(l1 = l1_int, l2 = l2_str) )                                                               "
   ]
  },
  {
   "cell_type": "code",
   "execution_count": 21,
   "id": "678daa25-b5d9-4b25-ab81-bcf7673fcac8",
   "metadata": {},
   "outputs": [
    {
     "data": {
      "text/plain": [
       "[1, 2, 3, 4, 2, 3, 4]"
      ]
     },
     "execution_count": 21,
     "metadata": {},
     "output_type": "execute_result"
    }
   ],
   "source": [
    "l1_int"
   ]
  },
  {
   "cell_type": "code",
   "execution_count": 22,
   "id": "0b6b5ca9-584f-47b9-8513-9fe7b627b9d5",
   "metadata": {},
   "outputs": [
    {
     "data": {
      "text/plain": [
       "['Sumit', 'Kumar']"
      ]
     },
     "execution_count": 22,
     "metadata": {},
     "output_type": "execute_result"
    }
   ],
   "source": [
    "l2_str"
   ]
  },
  {
   "cell_type": "code",
   "execution_count": null,
   "id": "c3073855-ddcb-422d-afb5-cef5e5037446",
   "metadata": {},
   "outputs": [],
   "source": [
    "logging"
   ]
  }
 ],
 "metadata": {
  "kernelspec": {
   "display_name": "Python 3 (ipykernel)",
   "language": "python",
   "name": "python3"
  },
  "language_info": {
   "codemirror_mode": {
    "name": "ipython",
    "version": 3
   },
   "file_extension": ".py",
   "mimetype": "text/x-python",
   "name": "python",
   "nbconvert_exporter": "python",
   "pygments_lexer": "ipython3",
   "version": "3.10.8"
  }
 },
 "nbformat": 4,
 "nbformat_minor": 5
}
