{
 "cells": [
  {
   "cell_type": "code",
   "execution_count": 1,
   "id": "01fb7ccf-c8f1-4e14-8a8b-3853cb5ba614",
   "metadata": {},
   "outputs": [],
   "source": [
    "f = open(\"text.txt\", 'w')"
   ]
  },
  {
   "cell_type": "code",
   "execution_count": 2,
   "id": "df1bc530-00bc-4730-a6b3-00db78203661",
   "metadata": {},
   "outputs": [
    {
     "data": {
      "text/plain": [
       "'/home/jovyan/work'"
      ]
     },
     "execution_count": 2,
     "metadata": {},
     "output_type": "execute_result"
    }
   ],
   "source": [
    "pwd"
   ]
  },
  {
   "cell_type": "code",
   "execution_count": 3,
   "id": "28f8c0ff-dc4b-4673-b6a8-f1bb10bc9a67",
   "metadata": {},
   "outputs": [
    {
     "name": "stdout",
     "output_type": "stream",
     "text": [
      " Abstract_class.ipynb\n",
      "'Class5_Phython (1).ipynb'\n",
      "'class6_Phython (1).ipynb'\n",
      " class6_Phython.ipynb\n",
      " Class_Methods.ipynb\n",
      " Decorator.ipynb\n",
      " ENCAPSULATION.ipynb\n",
      " Multiple_Inheritnce.ipynb\n",
      " order_MVKrsyC9wQLS7P_INvoice.pdf\n",
      " Polymorphism.ipynb\n",
      "'Property Decorators Getters, Setters, And Deletes.ipynb'\n",
      "'Special (Magic Dunder) Methods.ipynb'\n",
      "'Static_method (1).ipynb'\n",
      " text.txt\n",
      "'Working With Files.ipynb'\n"
     ]
    }
   ],
   "source": [
    "ls\n"
   ]
  },
  {
   "cell_type": "code",
   "execution_count": 4,
   "id": "fa0712ad-aac7-4788-a178-ab02b2a1ff53",
   "metadata": {},
   "outputs": [
    {
     "data": {
      "text/plain": [
       "29"
      ]
     },
     "execution_count": 4,
     "metadata": {},
     "output_type": "execute_result"
    }
   ],
   "source": [
    "f.write(\"this is my first phython file\")\n"
   ]
  },
  {
   "cell_type": "code",
   "execution_count": 5,
   "id": "49cbd679-4f3a-4c91-b7c4-b0605750ebb4",
   "metadata": {},
   "outputs": [],
   "source": [
    "f.close()"
   ]
  },
  {
   "cell_type": "code",
   "execution_count": 6,
   "id": "845e314f-ab66-4f47-8cd8-bd4f58b6b7fb",
   "metadata": {},
   "outputs": [
    {
     "ename": "ValueError",
     "evalue": "I/O operation on closed file.",
     "output_type": "error",
     "traceback": [
      "\u001b[0;31m---------------------------------------------------------------------------\u001b[0m",
      "\u001b[0;31mValueError\u001b[0m                                Traceback (most recent call last)",
      "Cell \u001b[0;32mIn[6], line 1\u001b[0m\n\u001b[0;32m----> 1\u001b[0m \u001b[43mf\u001b[49m\u001b[38;5;241;43m.\u001b[39;49m\u001b[43mwrite\u001b[49m\u001b[43m(\u001b[49m\u001b[38;5;124;43m\"\u001b[39;49m\u001b[38;5;124;43mData science is an umbrella term for all aspects of data processing—from the collection to modeling to insights. On the other hand, data analytics is mainly concerned with statistics, mathematics, and statistical analysis.\u001b[39;49m\u001b[38;5;124;43m\"\u001b[39;49m\u001b[43m)\u001b[49m\n",
      "\u001b[0;31mValueError\u001b[0m: I/O operation on closed file."
     ]
    }
   ],
   "source": []
  },
  {
   "cell_type": "code",
   "execution_count": 7,
   "id": "f80bc039-b7c4-426a-805d-4a6280132a15",
   "metadata": {},
   "outputs": [],
   "source": [
    "f1 = open(\"text1.txt\", 'w')"
   ]
  },
  {
   "cell_type": "code",
   "execution_count": 8,
   "id": "695aab55-30e1-4459-a762-d4d28df669f6",
   "metadata": {},
   "outputs": [
    {
     "data": {
      "text/plain": [
       "222"
      ]
     },
     "execution_count": 8,
     "metadata": {},
     "output_type": "execute_result"
    }
   ],
   "source": [
    "f1.write(\"Data science is an umbrella term for all aspects of data processing—from the collection to modeling to insights. On the other hand, data analytics is mainly concerned with statistics, mathematics, and statistical analysis.\")"
   ]
  },
  {
   "cell_type": "code",
   "execution_count": 9,
   "id": "5f721853-cf37-4b2e-accb-1aa3e48717e4",
   "metadata": {},
   "outputs": [],
   "source": [
    "f1.close()"
   ]
  },
  {
   "cell_type": "code",
   "execution_count": 20,
   "id": "53d4eff9-ac7f-480c-92d0-55786e084dc6",
   "metadata": {},
   "outputs": [],
   "source": [
    "f2 = open(\"text2.txt\", 'a')"
   ]
  },
  {
   "cell_type": "code",
   "execution_count": 21,
   "id": "f27077f6-ea52-4209-b14a-d7aadf28427f",
   "metadata": {},
   "outputs": [
    {
     "data": {
      "text/plain": [
       "136"
      ]
     },
     "execution_count": 21,
     "metadata": {},
     "output_type": "execute_result"
    }
   ],
   "source": [
    "f2.write(\"A data scientist is a professional who creates programming code and combines it with statistical knowledge to create insights from data.\")"
   ]
  },
  {
   "cell_type": "code",
   "execution_count": 22,
   "id": "3c24f578-a7ea-4349-a476-84baefce9539",
   "metadata": {},
   "outputs": [],
   "source": [
    "f2.close()"
   ]
  },
  {
   "cell_type": "code",
   "execution_count": 23,
   "id": "92dc1a29-655c-4712-842b-461c047dd8c7",
   "metadata": {},
   "outputs": [],
   "source": [
    "data = open(\"text.txt\", \"r\")"
   ]
  },
  {
   "cell_type": "code",
   "execution_count": 24,
   "id": "e56a1801-e192-4ee4-92ec-095e9ccd791e",
   "metadata": {},
   "outputs": [
    {
     "data": {
      "text/plain": [
       "'this is my first phython file'"
      ]
     },
     "execution_count": 24,
     "metadata": {},
     "output_type": "execute_result"
    }
   ],
   "source": [
    "data.read()"
   ]
  },
  {
   "cell_type": "code",
   "execution_count": 25,
   "id": "dd6d5001-19e3-4cf9-b74e-8fb7d183e712",
   "metadata": {},
   "outputs": [
    {
     "data": {
      "text/plain": [
       "''"
      ]
     },
     "execution_count": 25,
     "metadata": {},
     "output_type": "execute_result"
    }
   ],
   "source": [
    "data.read()# beacuse curser reach to last whie reading first time\n",
    "#soluton : set curser using seek()"
   ]
  },
  {
   "cell_type": "code",
   "execution_count": 26,
   "id": "32b366bc-9070-4310-9c33-12f335f93af4",
   "metadata": {},
   "outputs": [
    {
     "data": {
      "text/plain": [
       "1"
      ]
     },
     "execution_count": 26,
     "metadata": {},
     "output_type": "execute_result"
    }
   ],
   "source": [
    "data.seek(1)"
   ]
  },
  {
   "cell_type": "code",
   "execution_count": 27,
   "id": "1ced23c7-cc04-41ed-9259-ca922fd8be41",
   "metadata": {},
   "outputs": [
    {
     "data": {
      "text/plain": [
       "'his is my first phython file'"
      ]
     },
     "execution_count": 27,
     "metadata": {},
     "output_type": "execute_result"
    }
   ],
   "source": [
    "data.read()"
   ]
  },
  {
   "cell_type": "code",
   "execution_count": 28,
   "id": "14ee1095-5314-4827-a92d-1502ef2914aa",
   "metadata": {},
   "outputs": [],
   "source": [
    "data = open(\"text1.txt\", 'r')"
   ]
  },
  {
   "cell_type": "code",
   "execution_count": 29,
   "id": "accccc10-1988-4449-a807-9d8f7ab68d52",
   "metadata": {},
   "outputs": [
    {
     "data": {
      "text/plain": [
       "'Data science is an umbrella term for all aspects of data processing—from the collection to modeling to insights. On the other hand, data analytics is mainly concerned with statistics, mathematics, and statistical analysis.'"
      ]
     },
     "execution_count": 29,
     "metadata": {},
     "output_type": "execute_result"
    }
   ],
   "source": [
    "data.read()"
   ]
  },
  {
   "cell_type": "code",
   "execution_count": 30,
   "id": "5aeb6fe9-79b8-4523-96f6-6ba0f853c38e",
   "metadata": {},
   "outputs": [
    {
     "data": {
      "text/plain": [
       "''"
      ]
     },
     "execution_count": 30,
     "metadata": {},
     "output_type": "execute_result"
    }
   ],
   "source": [
    "data.read()"
   ]
  },
  {
   "cell_type": "code",
   "execution_count": 31,
   "id": "09e900eb-4cc5-49de-9689-0883bcd7a87f",
   "metadata": {},
   "outputs": [
    {
     "data": {
      "text/plain": [
       "10"
      ]
     },
     "execution_count": 31,
     "metadata": {},
     "output_type": "execute_result"
    }
   ],
   "source": [
    "data.seek(10)"
   ]
  },
  {
   "cell_type": "code",
   "execution_count": 32,
   "id": "f6b23740-3dac-49d0-9499-c238756578f6",
   "metadata": {},
   "outputs": [
    {
     "data": {
      "text/plain": [
       "'ce is an umbrella term for all aspects of data processing—from the collection to modeling to insights. On the other hand, data analytics is mainly concerned with statistics, mathematics, and statistical analysis.'"
      ]
     },
     "execution_count": 32,
     "metadata": {},
     "output_type": "execute_result"
    }
   ],
   "source": [
    "data.read()"
   ]
  },
  {
   "cell_type": "code",
   "execution_count": 33,
   "id": "da3a6349-d70c-419e-b1d3-62144cb2cf54",
   "metadata": {},
   "outputs": [],
   "source": [
    "#Other way to read file"
   ]
  },
  {
   "cell_type": "code",
   "execution_count": 36,
   "id": "022d30b9-71f0-4954-a627-e258ce2f9a2b",
   "metadata": {},
   "outputs": [],
   "source": [
    "data1 = open(\"text2.txt\" , 'r')\n"
   ]
  },
  {
   "cell_type": "code",
   "execution_count": 37,
   "id": "a92be408-c359-4196-aec1-a88266a863b0",
   "metadata": {},
   "outputs": [
    {
     "name": "stdout",
     "output_type": "stream",
     "text": [
      "Data science is an umbrella term for all aspects of data processing—from the collection to modeling to insights. On the other hand, data analytics is mainly concerned with statistics, mathematics, and statistical analysis.A data scientist is a professional who creates programming code and combines it with statistical knowledge to create insights from data.A data scientist is a professional who creates programming code and combines it with statistical knowledge to create insights from data.\n"
     ]
    }
   ],
   "source": [
    "for i in data1:\n",
    "    print(i)"
   ]
  },
  {
   "cell_type": "code",
   "execution_count": 38,
   "id": "b268d830-d837-4308-9351-c0de8a95b7a3",
   "metadata": {},
   "outputs": [],
   "source": [
    "# for file size\n",
    "import os"
   ]
  },
  {
   "cell_type": "code",
   "execution_count": 39,
   "id": "debb30c7-c820-4635-bcbb-9b8c5d28fc2b",
   "metadata": {},
   "outputs": [
    {
     "data": {
      "text/plain": [
       "496"
      ]
     },
     "execution_count": 39,
     "metadata": {},
     "output_type": "execute_result"
    }
   ],
   "source": [
    "os.path.getsize(\"text2.txt\")"
   ]
  },
  {
   "cell_type": "code",
   "execution_count": 40,
   "id": "d5848fc3-050a-4899-9752-1ffa4273d13e",
   "metadata": {},
   "outputs": [],
   "source": [
    "# for copy"
   ]
  },
  {
   "cell_type": "code",
   "execution_count": 41,
   "id": "697d1f27-f07b-4c5e-b14d-19259a62c41b",
   "metadata": {},
   "outputs": [],
   "source": [
    "import shutil"
   ]
  },
  {
   "cell_type": "code",
   "execution_count": 42,
   "id": "7e57e859-e7da-4406-ba9c-1cce069acb0c",
   "metadata": {},
   "outputs": [
    {
     "data": {
      "text/plain": [
       "'new_text2.txt'"
      ]
     },
     "execution_count": 42,
     "metadata": {},
     "output_type": "execute_result"
    }
   ],
   "source": [
    "shutil.copy(\"text2.txt\",\"new_text2.txt\")"
   ]
  },
  {
   "cell_type": "code",
   "execution_count": 43,
   "id": "ef5b3056-3752-4a0d-acfc-adacce2f3121",
   "metadata": {},
   "outputs": [],
   "source": [
    "os.remove(\"text.txt\")"
   ]
  },
  {
   "cell_type": "code",
   "execution_count": 44,
   "id": "49f77668-0b35-4085-af70-f7c7dea8cc76",
   "metadata": {},
   "outputs": [],
   "source": [
    "# other way to open file"
   ]
  },
  {
   "cell_type": "code",
   "execution_count": 45,
   "id": "fdfbc12b-2e4f-478a-abc4-1587a0636d8b",
   "metadata": {},
   "outputs": [
    {
     "name": "stdout",
     "output_type": "stream",
     "text": [
      "Data science is an umbrella term for all aspects of data processing—from the collection to modeling to insights. On the other hand, data analytics is mainly concerned with statistics, mathematics, and statistical analysis.A data scientist is a professional who creates programming code and combines it with statistical knowledge to create insights from data.A data scientist is a professional who creates programming code and combines it with statistical knowledge to create insights from data.\n"
     ]
    }
   ],
   "source": [
    "with open(\"new_text2.txt\",'r') as f :\n",
    "    print(f.read())"
   ]
  },
  {
   "cell_type": "code",
   "execution_count": 46,
   "id": "88ac9902-0e46-4058-927d-38e5b0bc1135",
   "metadata": {},
   "outputs": [],
   "source": [
    "os.rename(\"new_text2.txt\", \"new2_text2.txt\")"
   ]
  },
  {
   "cell_type": "code",
   "execution_count": null,
   "id": "2f17bd11-c4c3-4a9f-b84c-2507a2032f3d",
   "metadata": {},
   "outputs": [],
   "source": []
  }
 ],
 "metadata": {
  "kernelspec": {
   "display_name": "Python 3 (ipykernel)",
   "language": "python",
   "name": "python3"
  },
  "language_info": {
   "codemirror_mode": {
    "name": "ipython",
    "version": 3
   },
   "file_extension": ".py",
   "mimetype": "text/x-python",
   "name": "python",
   "nbconvert_exporter": "python",
   "pygments_lexer": "ipython3",
   "version": "3.10.8"
  }
 },
 "nbformat": 4,
 "nbformat_minor": 5
}
