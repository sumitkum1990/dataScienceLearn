{
 "cells": [
  {
   "cell_type": "code",
   "execution_count": 1,
   "id": "f40201ae-ee9c-44ed-abca-05830716514e",
   "metadata": {},
   "outputs": [],
   "source": [
    "import io "
   ]
  },
  {
   "cell_type": "code",
   "execution_count": 11,
   "id": "ea919383-ca18-4e82-ace5-adb743278015",
   "metadata": {},
   "outputs": [],
   "source": [
    "with open(\"test6.txt\" , \"wb\") as f :\n",
    "    file = io.BufferedWriter(f)\n",
    "    file.write(b\"this ismy buffer write\\n\")\n",
    "    file.write(b\"this is my secmd line that i am trying to write\")\n",
    "    file.flush()"
   ]
  },
  {
   "cell_type": "code",
   "execution_count": 14,
   "id": "d8bc3966-634f-4a11-acfc-a7d1247b2490",
   "metadata": {},
   "outputs": [
    {
     "name": "stdout",
     "output_type": "stream",
     "text": [
      "b'this ismy buffer write\\nthis is my secmd line that i am trying to write'\n"
     ]
    }
   ],
   "source": [
    "with open(\"test6.txt\",\"rb\") as f :\n",
    "    file = io.BufferedReader(f)\n",
    "    data = file.read()#read full\n",
    "    print(data)"
   ]
  },
  {
   "cell_type": "code",
   "execution_count": 15,
   "id": "e45c37d8-2c6a-47f6-8ed3-e99f0a441939",
   "metadata": {},
   "outputs": [
    {
     "name": "stdout",
     "output_type": "stream",
     "text": [
      "b'this '\n"
     ]
    }
   ],
   "source": [
    "with open(\"test6.txt\",\"rb\") as f :\n",
    "    file = io.BufferedReader(f)\n",
    "    data = file.read(5)# read in chunk\n",
    "    print(data)"
   ]
  },
  {
   "cell_type": "code",
   "execution_count": null,
   "id": "c4e720b7-bd3c-4b56-beb1-09f248262069",
   "metadata": {},
   "outputs": [],
   "source": []
  }
 ],
 "metadata": {
  "kernelspec": {
   "display_name": "Python 3 (ipykernel)",
   "language": "python",
   "name": "python3"
  },
  "language_info": {
   "codemirror_mode": {
    "name": "ipython",
    "version": 3
   },
   "file_extension": ".py",
   "mimetype": "text/x-python",
   "name": "python",
   "nbconvert_exporter": "python",
   "pygments_lexer": "ipython3",
   "version": "3.10.8"
  }
 },
 "nbformat": 4,
 "nbformat_minor": 5
}
