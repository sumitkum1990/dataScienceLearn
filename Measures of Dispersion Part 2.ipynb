{
 "cells": [
  {
   "cell_type": "code",
   "execution_count": 1,
   "id": "adfedc77-ad29-45e4-86cb-e6711cccc391",
   "metadata": {},
   "outputs": [],
   "source": [
    "#Measure of Dispersion\n"
   ]
  },
  {
   "cell_type": "code",
   "execution_count": 2,
   "id": "a66efa90-d2b2-42f3-8e87-200ff079fb62",
   "metadata": {},
   "outputs": [],
   "source": [
    "#variance"
   ]
  },
  {
   "cell_type": "code",
   "execution_count": 4,
   "id": "e587fc17-d02e-4188-9d20-05d7e9a645c0",
   "metadata": {},
   "outputs": [],
   "source": [
    "ages_list = [23,45,67,89,87,65]"
   ]
  },
  {
   "cell_type": "raw",
   "id": "4d4c84af-9f13-436a-b2bc-1e8336733b17",
   "metadata": {},
   "source": [
    "import numpy as np"
   ]
  },
  {
   "cell_type": "code",
   "execution_count": 5,
   "id": "d2d4aade-9076-4b24-bd03-da6032f2087f",
   "metadata": {},
   "outputs": [],
   "source": [
    "import numpy as np"
   ]
  },
  {
   "cell_type": "code",
   "execution_count": 6,
   "id": "f909f8b8-31cc-4642-be8d-168845e06c16",
   "metadata": {},
   "outputs": [],
   "source": [
    "mean = np.mean(ages_list)"
   ]
  },
  {
   "cell_type": "code",
   "execution_count": 7,
   "id": "b123d106-60f1-4cdb-920b-fe5f85453d1a",
   "metadata": {},
   "outputs": [
    {
     "data": {
      "text/plain": [
       "62.666666666666664"
      ]
     },
     "execution_count": 7,
     "metadata": {},
     "output_type": "execute_result"
    }
   ],
   "source": [
    "mean"
   ]
  },
  {
   "cell_type": "code",
   "execution_count": 8,
   "id": "9e5417ae-7d7b-4079-97d9-c833894f3837",
   "metadata": {},
   "outputs": [
    {
     "data": {
      "text/plain": [
       "532.5555555555555"
      ]
     },
     "execution_count": 8,
     "metadata": {},
     "output_type": "execute_result"
    }
   ],
   "source": [
    " var = np.var(ages_list)\n",
    "var "
   ]
  },
  {
   "cell_type": "code",
   "execution_count": 9,
   "id": "c9190c9e-2cdf-4b54-bb20-48be56ed9c0d",
   "metadata": {},
   "outputs": [],
   "source": [
    "std = np.std(ages_list)"
   ]
  },
  {
   "cell_type": "code",
   "execution_count": 10,
   "id": "f07221dc-1812-4fd5-a0dd-06507ed2d643",
   "metadata": {},
   "outputs": [
    {
     "data": {
      "text/plain": [
       "23.077165240894637"
      ]
     },
     "execution_count": 10,
     "metadata": {},
     "output_type": "execute_result"
    }
   ],
   "source": [
    "std"
   ]
  },
  {
   "cell_type": "code",
   "execution_count": 11,
   "id": "790d22ae-a7d4-43aa-8b26-0949ba50bdc8",
   "metadata": {},
   "outputs": [],
   "source": [
    "import pandas as pd"
   ]
  },
  {
   "cell_type": "code",
   "execution_count": 12,
   "id": "bc39da2a-c5fb-4174-8c07-d7a7f71a75f4",
   "metadata": {},
   "outputs": [],
   "source": [
    "data = [[10,23,45],[45,65,76],[23,43,67]]"
   ]
  },
  {
   "cell_type": "code",
   "execution_count": 13,
   "id": "3bdd75b1-dcfb-45d6-97d3-ddd69e3823ca",
   "metadata": {},
   "outputs": [
    {
     "data": {
      "text/plain": [
       "[[10, 23, 45], [45, 65, 76], [23, 43, 67]]"
      ]
     },
     "execution_count": 13,
     "metadata": {},
     "output_type": "execute_result"
    }
   ],
   "source": [
    "data"
   ]
  },
  {
   "cell_type": "code",
   "execution_count": 14,
   "id": "909d804b-9b08-4b95-8c16-390a7ed6d27b",
   "metadata": {},
   "outputs": [],
   "source": [
    "df = pd.DataFrame(data)"
   ]
  },
  {
   "cell_type": "code",
   "execution_count": 15,
   "id": "345943aa-8fc0-48de-aee7-0210cf064301",
   "metadata": {},
   "outputs": [
    {
     "data": {
      "text/html": [
       "<div>\n",
       "<style scoped>\n",
       "    .dataframe tbody tr th:only-of-type {\n",
       "        vertical-align: middle;\n",
       "    }\n",
       "\n",
       "    .dataframe tbody tr th {\n",
       "        vertical-align: top;\n",
       "    }\n",
       "\n",
       "    .dataframe thead th {\n",
       "        text-align: right;\n",
       "    }\n",
       "</style>\n",
       "<table border=\"1\" class=\"dataframe\">\n",
       "  <thead>\n",
       "    <tr style=\"text-align: right;\">\n",
       "      <th></th>\n",
       "      <th>0</th>\n",
       "      <th>1</th>\n",
       "      <th>2</th>\n",
       "    </tr>\n",
       "  </thead>\n",
       "  <tbody>\n",
       "    <tr>\n",
       "      <th>0</th>\n",
       "      <td>10</td>\n",
       "      <td>23</td>\n",
       "      <td>45</td>\n",
       "    </tr>\n",
       "    <tr>\n",
       "      <th>1</th>\n",
       "      <td>45</td>\n",
       "      <td>65</td>\n",
       "      <td>76</td>\n",
       "    </tr>\n",
       "    <tr>\n",
       "      <th>2</th>\n",
       "      <td>23</td>\n",
       "      <td>43</td>\n",
       "      <td>67</td>\n",
       "    </tr>\n",
       "  </tbody>\n",
       "</table>\n",
       "</div>"
      ],
      "text/plain": [
       "    0   1   2\n",
       "0  10  23  45\n",
       "1  45  65  76\n",
       "2  23  43  67"
      ]
     },
     "execution_count": 15,
     "metadata": {},
     "output_type": "execute_result"
    }
   ],
   "source": [
    "df"
   ]
  },
  {
   "cell_type": "code",
   "execution_count": 16,
   "id": "a6d7aa8a-7305-454c-96d7-e2deacb8cf44",
   "metadata": {},
   "outputs": [
    {
     "data": {
      "text/plain": [
       "0    313.000000\n",
       "1    441.333333\n",
       "2    254.333333\n",
       "dtype: float64"
      ]
     },
     "execution_count": 16,
     "metadata": {},
     "output_type": "execute_result"
    }
   ],
   "source": [
    "df.var()"
   ]
  },
  {
   "cell_type": "code",
   "execution_count": 18,
   "id": "525dfe58-78d8-4e97-9039-b6e93674add2",
   "metadata": {},
   "outputs": [],
   "source": [
    "df1 = pd.DataFrame(data, columns = [\"A\",\"B\",\"C\"])"
   ]
  },
  {
   "cell_type": "code",
   "execution_count": 20,
   "id": "fb936524-134f-4bf3-97db-3dbcabb96785",
   "metadata": {},
   "outputs": [
    {
     "data": {
      "text/html": [
       "<div>\n",
       "<style scoped>\n",
       "    .dataframe tbody tr th:only-of-type {\n",
       "        vertical-align: middle;\n",
       "    }\n",
       "\n",
       "    .dataframe tbody tr th {\n",
       "        vertical-align: top;\n",
       "    }\n",
       "\n",
       "    .dataframe thead th {\n",
       "        text-align: right;\n",
       "    }\n",
       "</style>\n",
       "<table border=\"1\" class=\"dataframe\">\n",
       "  <thead>\n",
       "    <tr style=\"text-align: right;\">\n",
       "      <th></th>\n",
       "      <th>A</th>\n",
       "      <th>B</th>\n",
       "      <th>C</th>\n",
       "    </tr>\n",
       "  </thead>\n",
       "  <tbody>\n",
       "    <tr>\n",
       "      <th>0</th>\n",
       "      <td>10</td>\n",
       "      <td>23</td>\n",
       "      <td>45</td>\n",
       "    </tr>\n",
       "    <tr>\n",
       "      <th>1</th>\n",
       "      <td>45</td>\n",
       "      <td>65</td>\n",
       "      <td>76</td>\n",
       "    </tr>\n",
       "    <tr>\n",
       "      <th>2</th>\n",
       "      <td>23</td>\n",
       "      <td>43</td>\n",
       "      <td>67</td>\n",
       "    </tr>\n",
       "  </tbody>\n",
       "</table>\n",
       "</div>"
      ],
      "text/plain": [
       "    A   B   C\n",
       "0  10  23  45\n",
       "1  45  65  76\n",
       "2  23  43  67"
      ]
     },
     "execution_count": 20,
     "metadata": {},
     "output_type": "execute_result"
    }
   ],
   "source": [
    "df1"
   ]
  },
  {
   "cell_type": "code",
   "execution_count": 21,
   "id": "0f36da91-3f7d-4b73-a5ae-b82735c492a6",
   "metadata": {},
   "outputs": [
    {
     "data": {
      "text/plain": [
       "A    313.000000\n",
       "B    441.333333\n",
       "C    254.333333\n",
       "dtype: float64"
      ]
     },
     "execution_count": 21,
     "metadata": {},
     "output_type": "execute_result"
    }
   ],
   "source": [
    "df1.var()"
   ]
  },
  {
   "cell_type": "code",
   "execution_count": 25,
   "id": "35705cb3-e5e0-4a4d-9ce0-6fb44f41ca0d",
   "metadata": {},
   "outputs": [
    {
     "data": {
      "text/plain": [
       "0    313.000000\n",
       "1    247.000000\n",
       "2    485.333333\n",
       "dtype: float64"
      ]
     },
     "execution_count": 25,
     "metadata": {},
     "output_type": "execute_result"
    }
   ],
   "source": [
    "#Row wise\n",
    "df1.var(axis =1)"
   ]
  },
  {
   "cell_type": "code",
   "execution_count": 23,
   "id": "2677840d-7203-4860-b2b7-0e42d6f62cff",
   "metadata": {},
   "outputs": [],
   "source": []
  },
  {
   "cell_type": "code",
   "execution_count": 26,
   "id": "5bf164c7-4339-4e60-86f4-b29c866db4aa",
   "metadata": {},
   "outputs": [
    {
     "data": {
      "text/plain": [
       "A    313.000000\n",
       "B    441.333333\n",
       "C    254.333333\n",
       "dtype: float64"
      ]
     },
     "execution_count": 26,
     "metadata": {},
     "output_type": "execute_result"
    }
   ],
   "source": [
    "#column wise\n",
    "df1.var(axis =0)"
   ]
  },
  {
   "cell_type": "code",
   "execution_count": null,
   "id": "d9b812f8-dbf8-435a-a37a-cd11db7685f1",
   "metadata": {},
   "outputs": [],
   "source": []
  }
 ],
 "metadata": {
  "kernelspec": {
   "display_name": "Python 3 (ipykernel)",
   "language": "python",
   "name": "python3"
  },
  "language_info": {
   "codemirror_mode": {
    "name": "ipython",
    "version": 3
   },
   "file_extension": ".py",
   "mimetype": "text/x-python",
   "name": "python",
   "nbconvert_exporter": "python",
   "pygments_lexer": "ipython3",
   "version": "3.10.8"
  }
 },
 "nbformat": 4,
 "nbformat_minor": 5
}
