{
 "cells": [
  {
   "cell_type": "code",
   "execution_count": null,
   "id": "ee50ccde-58f7-46a0-a815-3ba7e565fa55",
   "metadata": {},
   "outputs": [],
   "source": [
    "# Measures of Central Tendency Part 2"
   ]
  },
  {
   "cell_type": "code",
   "execution_count": null,
   "id": "9a32b365-b1ed-4869-b6d6-99ea13da0e7f",
   "metadata": {},
   "outputs": [],
   "source": [
    "# Mean (Average)"
   ]
  },
  {
   "cell_type": "code",
   "execution_count": 1,
   "id": "6109ff23-7124-48d1-a64f-589f2184f37e",
   "metadata": {},
   "outputs": [],
   "source": [
    "age = [12,23,45,67]"
   ]
  },
  {
   "cell_type": "code",
   "execution_count": 2,
   "id": "f5a1a3a4-3415-4944-8029-7bb273fdfa89",
   "metadata": {},
   "outputs": [
    {
     "data": {
      "text/plain": [
       "36.75"
      ]
     },
     "execution_count": 2,
     "metadata": {},
     "output_type": "execute_result"
    }
   ],
   "source": [
    "(12+23+45+67)/4"
   ]
  },
  {
   "cell_type": "code",
   "execution_count": 3,
   "id": "21409da5-ed64-4791-87a7-2c6001e94aad",
   "metadata": {},
   "outputs": [
    {
     "data": {
      "text/plain": [
       "36.75"
      ]
     },
     "execution_count": 3,
     "metadata": {},
     "output_type": "execute_result"
    }
   ],
   "source": [
    "import numpy as np\n",
    "np.mean(age)"
   ]
  },
  {
   "cell_type": "code",
   "execution_count": 5,
   "id": "f72e41da-5bf3-4167-a59d-0991840d9022",
   "metadata": {},
   "outputs": [],
   "source": [
    "weights = [45,56,43,23,67,98]"
   ]
  },
  {
   "cell_type": "code",
   "execution_count": 6,
   "id": "67f13fbc-9d1e-4550-b3c8-14a323b402d1",
   "metadata": {},
   "outputs": [
    {
     "data": {
      "text/plain": [
       "55.333333333333336"
      ]
     },
     "execution_count": 6,
     "metadata": {},
     "output_type": "execute_result"
    }
   ],
   "source": [
    "np.mean(weights)"
   ]
  },
  {
   "cell_type": "code",
   "execution_count": 9,
   "id": "3e2fb598-ce83-4231-8dfa-e7b6f191dead",
   "metadata": {},
   "outputs": [],
   "source": [
    "weights1 = [45,56,43,23,67,98,1000]"
   ]
  },
  {
   "cell_type": "code",
   "execution_count": 10,
   "id": "810cdcd2-3627-4c93-817e-653bcf07e4ad",
   "metadata": {},
   "outputs": [
    {
     "data": {
      "text/plain": [
       "190.28571428571428"
      ]
     },
     "execution_count": 10,
     "metadata": {},
     "output_type": "execute_result"
    }
   ],
   "source": [
    "np.mean(weights1)"
   ]
  },
  {
   "cell_type": "code",
   "execution_count": 11,
   "id": "ea5da23e-9cc8-4cac-87eb-bfc038634527",
   "metadata": {},
   "outputs": [],
   "source": [
    "#median"
   ]
  },
  {
   "cell_type": "code",
   "execution_count": 12,
   "id": "55d00c4b-5c43-457c-8a92-3f4ee1cbbe62",
   "metadata": {},
   "outputs": [
    {
     "data": {
      "text/plain": [
       "56.0"
      ]
     },
     "execution_count": 12,
     "metadata": {},
     "output_type": "execute_result"
    }
   ],
   "source": [
    "np.median(weights)"
   ]
  },
  {
   "cell_type": "code",
   "execution_count": 13,
   "id": "4a7b26e1-a70f-4ae6-9bc5-864207392919",
   "metadata": {},
   "outputs": [],
   "source": [
    "#mode"
   ]
  },
  {
   "cell_type": "code",
   "execution_count": 14,
   "id": "789ebbee-2689-416e-9f23-dacf34061931",
   "metadata": {},
   "outputs": [],
   "source": [
    "from scipy import stats"
   ]
  },
  {
   "cell_type": "code",
   "execution_count": 15,
   "id": "51a533c3-b5eb-44cd-a7aa-29c14acca7cf",
   "metadata": {},
   "outputs": [
    {
     "name": "stderr",
     "output_type": "stream",
     "text": [
      "/tmp/ipykernel_117/4197893964.py:1: FutureWarning: Unlike other reduction functions (e.g. `skew`, `kurtosis`), the default behavior of `mode` typically preserves the axis it acts along. In SciPy 1.11.0, this behavior will change: the default value of `keepdims` will become False, the `axis` over which the statistic is taken will be eliminated, and the value None will no longer be accepted. Set `keepdims` to True or False to avoid this warning.\n",
      "  stats.mode(weights)\n"
     ]
    },
    {
     "data": {
      "text/plain": [
       "ModeResult(mode=array([23]), count=array([1]))"
      ]
     },
     "execution_count": 15,
     "metadata": {},
     "output_type": "execute_result"
    }
   ],
   "source": [
    "stats.mode(weights)"
   ]
  },
  {
   "cell_type": "code",
   "execution_count": null,
   "id": "9534a8db-3168-4373-9e84-09bb3ca9e1d2",
   "metadata": {},
   "outputs": [],
   "source": []
  }
 ],
 "metadata": {
  "kernelspec": {
   "display_name": "Python 3 (ipykernel)",
   "language": "python",
   "name": "python3"
  },
  "language_info": {
   "codemirror_mode": {
    "name": "ipython",
    "version": 3
   },
   "file_extension": ".py",
   "mimetype": "text/x-python",
   "name": "python",
   "nbconvert_exporter": "python",
   "pygments_lexer": "ipython3",
   "version": "3.10.8"
  }
 },
 "nbformat": 4,
 "nbformat_minor": 5
}
