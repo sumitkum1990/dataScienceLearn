{
 "cells": [
  {
   "cell_type": "code",
   "execution_count": 1,
   "id": "903166fa-508f-4f45-8ee1-28458b576b99",
   "metadata": {},
   "outputs": [
    {
     "name": "stdin",
     "output_type": "stream",
     "text": [
      "enter age -90\n"
     ]
    }
   ],
   "source": [
    "age = int(input(\"enter age\"))"
   ]
  },
  {
   "cell_type": "code",
   "execution_count": 14,
   "id": "83d98f2f-fb18-456f-94aa-54aad7cb8098",
   "metadata": {},
   "outputs": [],
   "source": [
    "class validateage(Exception):\n",
    "    def __int__(self, msg):\n",
    "        self.mes = msg"
   ]
  },
  {
   "cell_type": "code",
   "execution_count": 15,
   "id": "234a3a2a-efbf-4d40-891c-fbebf418ad30",
   "metadata": {},
   "outputs": [],
   "source": [
    "def validate_age(age) :\n",
    "    if age < 0 :\n",
    "        raise validateage(\"age should not negative orless than zero\")\n",
    "    elif age > 200 :\n",
    "        raise validateage(\"age is too high\")\n",
    "    else:\n",
    "        print(\"age is valid\")"
   ]
  },
  {
   "cell_type": "code",
   "execution_count": 17,
   "id": "e70a68f1-f501-4f02-acec-1175c0e797bc",
   "metadata": {},
   "outputs": [
    {
     "name": "stdin",
     "output_type": "stream",
     "text": [
      "enter age 898\n"
     ]
    },
    {
     "name": "stdout",
     "output_type": "stream",
     "text": [
      "age is too high\n"
     ]
    }
   ],
   "source": [
    "try :\n",
    "    age = int(input(\"enter age\"))\n",
    "    validate_age(age)\n",
    "except validateage as e :\n",
    "    print(e)"
   ]
  },
  {
   "cell_type": "code",
   "execution_count": null,
   "id": "138aae26-d0d8-4e80-a10a-5e1796034020",
   "metadata": {},
   "outputs": [],
   "source": []
  }
 ],
 "metadata": {
  "kernelspec": {
   "display_name": "Python 3 (ipykernel)",
   "language": "python",
   "name": "python3"
  },
  "language_info": {
   "codemirror_mode": {
    "name": "ipython",
    "version": 3
   },
   "file_extension": ".py",
   "mimetype": "text/x-python",
   "name": "python",
   "nbconvert_exporter": "python",
   "pygments_lexer": "ipython3",
   "version": "3.10.8"
  }
 },
 "nbformat": 4,
 "nbformat_minor": 5
}
