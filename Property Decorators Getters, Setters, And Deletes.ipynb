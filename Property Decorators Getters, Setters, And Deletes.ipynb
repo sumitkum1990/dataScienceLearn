{
 "cells": [
  {
   "cell_type": "code",
   "execution_count": 1,
   "id": "830f6773-5a07-4517-91f4-8171cbdaf7f2",
   "metadata": {},
   "outputs": [],
   "source": [
    "# __ = Private variable\n",
    "# _ = protected variable\n",
    "# no underscore : Public variable\n",
    "\n",
    "class pwskills:\n",
    "    \n",
    "    def __init__(self, course_price, course_name):\n",
    "        self.__course_price = course_price # private variable\n",
    "        \n",
    "        self.course_name = course_name # public variable"
   ]
  },
  {
   "cell_type": "code",
   "execution_count": 2,
   "id": "017db8ab-0b05-4a10-965d-e6fe77df40fb",
   "metadata": {},
   "outputs": [],
   "source": [
    "pw = pwskills(3500, \"Data Science\")"
   ]
  },
  {
   "cell_type": "code",
   "execution_count": 3,
   "id": "fe804677-9c1a-41f7-8dd2-2db0b7dcc116",
   "metadata": {},
   "outputs": [
    {
     "data": {
      "text/plain": [
       "'Data Science'"
      ]
     },
     "execution_count": 3,
     "metadata": {},
     "output_type": "execute_result"
    }
   ],
   "source": [
    "pw.course_name\n"
   ]
  },
  {
   "cell_type": "code",
   "execution_count": 4,
   "id": "ddd4f8de-609f-4318-8a79-4151a75b3481",
   "metadata": {},
   "outputs": [
    {
     "ename": "AttributeError",
     "evalue": "'pwskills' object has no attribute '__course_price'",
     "output_type": "error",
     "traceback": [
      "\u001b[0;31m---------------------------------------------------------------------------\u001b[0m",
      "\u001b[0;31mAttributeError\u001b[0m                            Traceback (most recent call last)",
      "Cell \u001b[0;32mIn[4], line 1\u001b[0m\n\u001b[0;32m----> 1\u001b[0m \u001b[43mpw\u001b[49m\u001b[38;5;241;43m.\u001b[39;49m\u001b[43m__course_price\u001b[49m\n",
      "\u001b[0;31mAttributeError\u001b[0m: 'pwskills' object has no attribute '__course_price'"
     ]
    }
   ],
   "source": [
    "pw.__course_price"
   ]
  },
  {
   "cell_type": "code",
   "execution_count": 5,
   "id": "d4402c5f-1914-4325-a273-e17c68500fa1",
   "metadata": {},
   "outputs": [
    {
     "data": {
      "text/plain": [
       "3500"
      ]
     },
     "execution_count": 5,
     "metadata": {},
     "output_type": "execute_result"
    }
   ],
   "source": [
    "pw._pwskills__course_price # with class"
   ]
  },
  {
   "cell_type": "code",
   "execution_count": 8,
   "id": "be1954bc-f75d-425c-970a-f14916ee53cd",
   "metadata": {},
   "outputs": [],
   "source": [
    "class pwskills:\n",
    "    \n",
    "    def __init__(self, course_price, course_name):\n",
    "        self.__course_price = course_price # private variable\n",
    "        \n",
    "        self.course_name = course_name # public variable\n",
    "        \n",
    "    @property # to expose the property to outer world\n",
    "    def course_price_access(self):\n",
    "        return self.__course_price"
   ]
  },
  {
   "cell_type": "code",
   "execution_count": 9,
   "id": "62dfe19b-f465-4ca2-ad85-6359d978867f",
   "metadata": {},
   "outputs": [],
   "source": [
    "pw = pwskills(3600, \"data science course\")"
   ]
  },
  {
   "cell_type": "code",
   "execution_count": 10,
   "id": "36745b0a-2207-4ff6-b36a-5be7a9ebc5f0",
   "metadata": {},
   "outputs": [
    {
     "data": {
      "text/plain": [
       "3600"
      ]
     },
     "execution_count": 10,
     "metadata": {},
     "output_type": "execute_result"
    }
   ],
   "source": [
    "pw.course_price_access"
   ]
  },
  {
   "cell_type": "code",
   "execution_count": 12,
   "id": "184c3f0f-3bea-451f-9195-3927cbef7a42",
   "metadata": {},
   "outputs": [],
   "source": [
    "class pwskills:\n",
    "    \n",
    "    def __init__(self, course_price, course_name):\n",
    "        self.__course_price = course_price\n",
    "        self.course_name = course_name \n",
    "        \n",
    "        \n",
    "    @property \n",
    "    def course_price_access(self):\n",
    "        return self.__course_price\n",
    "    \n",
    "    @course_price_access.setter\n",
    "    def course_price_set(self, price):\n",
    "        self.__course_price = price"
   ]
  },
  {
   "cell_type": "code",
   "execution_count": 13,
   "id": "647ce7dc-1961-43c8-97ff-22f55dd537cf",
   "metadata": {},
   "outputs": [],
   "source": [
    "pw = pwskills(3700, \"data Sc\")"
   ]
  },
  {
   "cell_type": "code",
   "execution_count": 14,
   "id": "0b958f7e-c467-4d7b-9551-3766505749e0",
   "metadata": {},
   "outputs": [
    {
     "data": {
      "text/plain": [
       "3700"
      ]
     },
     "execution_count": 14,
     "metadata": {},
     "output_type": "execute_result"
    }
   ],
   "source": [
    "pw.course_price_access"
   ]
  },
  {
   "cell_type": "code",
   "execution_count": 16,
   "id": "2dc0eaf2-714b-4c11-b7ee-ee63305974af",
   "metadata": {},
   "outputs": [],
   "source": [
    "class pwskills:\n",
    "    \n",
    "    def __init__(self, course_price, course_name):\n",
    "        self.__course_price = course_price\n",
    "        self.course_name = course_name \n",
    "        \n",
    "        \n",
    "    @property \n",
    "    def course_price_access(self):\n",
    "        return self.__course_price\n",
    "    \n",
    "    @course_price_access.setter\n",
    "    def course_price_set(self, price):\n",
    "        if price <= 3700:\n",
    "            pass\n",
    "        else:\n",
    "             self.__course_price = price"
   ]
  },
  {
   "cell_type": "code",
   "execution_count": 19,
   "id": "d48e53f6-ea79-4295-b196-1ee15c170fd8",
   "metadata": {},
   "outputs": [],
   "source": [
    "pw  = pwskills(4500, \"data Sciene\")"
   ]
  },
  {
   "cell_type": "code",
   "execution_count": 20,
   "id": "76a49b95-3ad6-45cd-9c17-743bd968bea8",
   "metadata": {},
   "outputs": [],
   "source": [
    "pw.course_price_set = 8000"
   ]
  },
  {
   "cell_type": "code",
   "execution_count": 21,
   "id": "04914d64-e6bd-4a7c-8a66-b30851266bde",
   "metadata": {},
   "outputs": [
    {
     "data": {
      "text/plain": [
       "8000"
      ]
     },
     "execution_count": 21,
     "metadata": {},
     "output_type": "execute_result"
    }
   ],
   "source": [
    "pw._pwskills__course_price"
   ]
  },
  {
   "cell_type": "code",
   "execution_count": 22,
   "id": "28be02b3-4568-46d2-ba9c-3f715c770e36",
   "metadata": {},
   "outputs": [],
   "source": [
    "pw.course_price_set =  1000"
   ]
  },
  {
   "cell_type": "code",
   "execution_count": 24,
   "id": "cb4f05c6-3bbe-4c94-afcd-20ae6ae6941d",
   "metadata": {},
   "outputs": [
    {
     "data": {
      "text/plain": [
       "8000"
      ]
     },
     "execution_count": 24,
     "metadata": {},
     "output_type": "execute_result"
    }
   ],
   "source": [
    "pw._pwskills__course_price"
   ]
  },
  {
   "cell_type": "code",
   "execution_count": 25,
   "id": "3497c902-7391-4bb9-97a4-a786b949f30a",
   "metadata": {},
   "outputs": [],
   "source": [
    "pw.course_price_set =  9500"
   ]
  },
  {
   "cell_type": "code",
   "execution_count": 26,
   "id": "8e33ed05-61c0-4765-9b09-aff0d4e13d49",
   "metadata": {},
   "outputs": [
    {
     "data": {
      "text/plain": [
       "9500"
      ]
     },
     "execution_count": 26,
     "metadata": {},
     "output_type": "execute_result"
    }
   ],
   "source": [
    "pw._pwskills__course_price"
   ]
  },
  {
   "cell_type": "code",
   "execution_count": 28,
   "id": "f830ceb9-8f1f-4dd2-b205-5a8a22ee3b63",
   "metadata": {},
   "outputs": [],
   "source": [
    "class pwskills:\n",
    "    \n",
    "    def __init__(self, course_price, course_name):\n",
    "        self.__course_price = course_price\n",
    "        self.course_name = course_name \n",
    "        \n",
    "        \n",
    "    @property \n",
    "    def course_price_access(self):\n",
    "        return self.__course_price\n",
    "    \n",
    "    @course_price_access.setter\n",
    "    def course_price_set(self, price):\n",
    "        if price <= 3700:\n",
    "            pass\n",
    "        else:\n",
    "             self.__course_price = price\n",
    "                \n",
    "    @course_price_access.deleter\n",
    "    def course_price_del(self):\n",
    "        del self.__course_price"
   ]
  },
  {
   "cell_type": "code",
   "execution_count": 34,
   "id": "d880afac-ef6b-493b-92c3-c92d63a798b9",
   "metadata": {},
   "outputs": [],
   "source": [
    "pw = pwskills(6000, \"course data science\")"
   ]
  },
  {
   "cell_type": "code",
   "execution_count": 36,
   "id": "45f6ef98-7d86-49df-8c6d-c21f0cd315b2",
   "metadata": {},
   "outputs": [],
   "source": [
    "del pw.course_price_del"
   ]
  },
  {
   "cell_type": "code",
   "execution_count": 37,
   "id": "d61d739c-6a92-4ab6-9a75-baf0afe98e2d",
   "metadata": {},
   "outputs": [
    {
     "ename": "AttributeError",
     "evalue": "'pwskills' object has no attribute '_pwskills__course_price'",
     "output_type": "error",
     "traceback": [
      "\u001b[0;31m---------------------------------------------------------------------------\u001b[0m",
      "\u001b[0;31mAttributeError\u001b[0m                            Traceback (most recent call last)",
      "Cell \u001b[0;32mIn[37], line 1\u001b[0m\n\u001b[0;32m----> 1\u001b[0m \u001b[43mpw\u001b[49m\u001b[38;5;241;43m.\u001b[39;49m\u001b[43mcourse_price_access\u001b[49m\n",
      "Cell \u001b[0;32mIn[28], line 10\u001b[0m, in \u001b[0;36mpwskills.course_price_access\u001b[0;34m(self)\u001b[0m\n\u001b[1;32m      8\u001b[0m \u001b[38;5;129m@property\u001b[39m \n\u001b[1;32m      9\u001b[0m \u001b[38;5;28;01mdef\u001b[39;00m \u001b[38;5;21mcourse_price_access\u001b[39m(\u001b[38;5;28mself\u001b[39m):\n\u001b[0;32m---> 10\u001b[0m     \u001b[38;5;28;01mreturn\u001b[39;00m \u001b[38;5;28;43mself\u001b[39;49m\u001b[38;5;241;43m.\u001b[39;49m\u001b[43m__course_price\u001b[49m\n",
      "\u001b[0;31mAttributeError\u001b[0m: 'pwskills' object has no attribute '_pwskills__course_price'"
     ]
    }
   ],
   "source": [
    "pw.course_price_access# giing eror because dats is deleted"
   ]
  },
  {
   "cell_type": "code",
   "execution_count": null,
   "id": "152fcb33-fc8b-4f61-a301-3df5c7774b32",
   "metadata": {},
   "outputs": [],
   "source": []
  }
 ],
 "metadata": {
  "kernelspec": {
   "display_name": "Python 3 (ipykernel)",
   "language": "python",
   "name": "python3"
  },
  "language_info": {
   "codemirror_mode": {
    "name": "ipython",
    "version": 3
   },
   "file_extension": ".py",
   "mimetype": "text/x-python",
   "name": "python",
   "nbconvert_exporter": "python",
   "pygments_lexer": "ipython3",
   "version": "3.10.8"
  }
 },
 "nbformat": 4,
 "nbformat_minor": 5
}
