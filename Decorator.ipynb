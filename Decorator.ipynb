{
 "cells": [
  {
   "cell_type": "code",
   "execution_count": 1,
   "id": "fa6819f8-c3a5-41c4-b0f8-2b21fdaab985",
   "metadata": {},
   "outputs": [],
   "source": [
    "def test():\n",
    "    print(4+5)"
   ]
  },
  {
   "cell_type": "code",
   "execution_count": 2,
   "id": "91449358-d42c-41e2-8a10-b92b27378315",
   "metadata": {},
   "outputs": [
    {
     "name": "stdout",
     "output_type": "stream",
     "text": [
      "9\n"
     ]
    }
   ],
   "source": [
    "test()"
   ]
  },
  {
   "cell_type": "code",
   "execution_count": 5,
   "id": "88cf569b-a51b-42be-b44a-73d3dcdafd8f",
   "metadata": {},
   "outputs": [],
   "source": [
    "def test():\n",
    "    print(\"this is start of my func\")\n",
    "    print(4+5)\n",
    "    print(\"this is end of my func\")\n"
   ]
  },
  {
   "cell_type": "code",
   "execution_count": 6,
   "id": "7dbf9525-d0e5-4202-887f-bcd9a167e883",
   "metadata": {},
   "outputs": [
    {
     "name": "stdout",
     "output_type": "stream",
     "text": [
      "this is start of my func\n",
      "9\n",
      "this is end of my func\n"
     ]
    }
   ],
   "source": [
    "test()"
   ]
  },
  {
   "cell_type": "code",
   "execution_count": 7,
   "id": "29d9a25c-eb88-45cf-8469-0776c0451c88",
   "metadata": {},
   "outputs": [],
   "source": [
    "def deco(func):\n",
    "    def inner_deco():\n",
    "        print(\"this is start my func\")\n",
    "        func()\n",
    "        print(\"this is end my func\")\n",
    "    return inner_deco"
   ]
  },
  {
   "cell_type": "code",
   "execution_count": 8,
   "id": "cdcc7858-b245-48df-9fad-b2bf5087f731",
   "metadata": {},
   "outputs": [],
   "source": [
    "def test1():\n",
    "    print(4+5)"
   ]
  },
  {
   "cell_type": "code",
   "execution_count": 10,
   "id": "9b11512b-99e7-44d2-95d6-7d97e1b0b6ec",
   "metadata": {},
   "outputs": [
    {
     "name": "stdout",
     "output_type": "stream",
     "text": [
      "9\n"
     ]
    }
   ],
   "source": [
    "test1()"
   ]
  },
  {
   "cell_type": "code",
   "execution_count": 11,
   "id": "56ccd57e-8aa4-41ac-9b87-baee6880121b",
   "metadata": {},
   "outputs": [],
   "source": [
    "@deco\n",
    "\n",
    "def test1():\n",
    "    print(4+5)"
   ]
  },
  {
   "cell_type": "code",
   "execution_count": 12,
   "id": "89007177-a508-41c9-b554-292e44c19a6a",
   "metadata": {},
   "outputs": [
    {
     "name": "stdout",
     "output_type": "stream",
     "text": [
      "this is start my func\n",
      "9\n",
      "this is end my func\n"
     ]
    }
   ],
   "source": [
    "test1()"
   ]
  },
  {
   "cell_type": "code",
   "execution_count": 24,
   "id": "60ccd7ca-e345-4bf7-b1dc-423e6feebb08",
   "metadata": {},
   "outputs": [],
   "source": [
    "import time\n",
    "def timer_test(func) :\n",
    "    def timer_test_inner():\n",
    "        start = time.time()\n",
    "        func()\n",
    "        end = time.time()\n",
    "        print(end-start)\n",
    "    return timer_test_inner    \n",
    "    "
   ]
  },
  {
   "cell_type": "code",
   "execution_count": 18,
   "id": "dcb2e1bc-924b-4695-8b33-2230d3ec5f97",
   "metadata": {},
   "outputs": [],
   "source": [
    "def test2():\n",
    "    print(34+56)"
   ]
  },
  {
   "cell_type": "code",
   "execution_count": 25,
   "id": "2aad898c-067d-42b2-bfba-e4328037f1a9",
   "metadata": {},
   "outputs": [],
   "source": [
    "@timer_test\n",
    "def test2():\n",
    "    print(34+56)"
   ]
  },
  {
   "cell_type": "code",
   "execution_count": 26,
   "id": "f584aa43-0ae7-429b-860d-495b8a0281c8",
   "metadata": {},
   "outputs": [
    {
     "name": "stdout",
     "output_type": "stream",
     "text": [
      "90\n",
      "5.316734313964844e-05\n"
     ]
    }
   ],
   "source": [
    "test2()"
   ]
  },
  {
   "cell_type": "code",
   "execution_count": 27,
   "id": "3ee988a5-ee26-4cda-8d83-6fb9e018e08b",
   "metadata": {},
   "outputs": [],
   "source": [
    "@timer_test\n",
    "def test2():\n",
    "    print(34989898+56)"
   ]
  },
  {
   "cell_type": "code",
   "execution_count": 28,
   "id": "aa869d84-89ec-4b3d-a707-3fc6948dc3bd",
   "metadata": {},
   "outputs": [
    {
     "name": "stdout",
     "output_type": "stream",
     "text": [
      "34989954\n",
      "5.4836273193359375e-05\n"
     ]
    }
   ],
   "source": [
    "test2()"
   ]
  },
  {
   "cell_type": "code",
   "execution_count": 30,
   "id": "06a9614d-7f70-430f-90b0-890eddf4daea",
   "metadata": {},
   "outputs": [],
   "source": [
    "\n",
    "@timer_test\n",
    "def test3():\n",
    "    for i in range(10000):\n",
    "        pass"
   ]
  },
  {
   "cell_type": "code",
   "execution_count": 31,
   "id": "921db793-65f4-4a1b-a8a8-4ca08d7a6be7",
   "metadata": {},
   "outputs": [
    {
     "name": "stdout",
     "output_type": "stream",
     "text": [
      "0.00024271011352539062\n"
     ]
    }
   ],
   "source": [
    "test3()"
   ]
  },
  {
   "cell_type": "code",
   "execution_count": null,
   "id": "b4e9615d-24cb-4096-a44b-66f3b9638a3e",
   "metadata": {},
   "outputs": [],
   "source": []
  }
 ],
 "metadata": {
  "kernelspec": {
   "display_name": "Python 3 (ipykernel)",
   "language": "python",
   "name": "python3"
  },
  "language_info": {
   "codemirror_mode": {
    "name": "ipython",
    "version": 3
   },
   "file_extension": ".py",
   "mimetype": "text/x-python",
   "name": "python",
   "nbconvert_exporter": "python",
   "pygments_lexer": "ipython3",
   "version": "3.10.8"
  }
 },
 "nbformat": 4,
 "nbformat_minor": 5
}
