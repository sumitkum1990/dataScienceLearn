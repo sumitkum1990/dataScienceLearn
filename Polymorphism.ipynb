{
 "cells": [
  {
   "cell_type": "code",
   "execution_count": 1,
   "id": "b85bd881-a67a-4c93-9d33-09dcb39a6e44",
   "metadata": {},
   "outputs": [],
   "source": [
    "def test(a,b):\n",
    "    return a+b"
   ]
  },
  {
   "cell_type": "code",
   "execution_count": 2,
   "id": "1c157869-e06b-428c-bef1-e6530267fd5b",
   "metadata": {},
   "outputs": [
    {
     "data": {
      "text/plain": [
       "7"
      ]
     },
     "execution_count": 2,
     "metadata": {},
     "output_type": "execute_result"
    }
   ],
   "source": [
    "test(3,4)"
   ]
  },
  {
   "cell_type": "code",
   "execution_count": 3,
   "id": "4abaebc6-c4f5-4855-af2e-d8b6ee1c6848",
   "metadata": {},
   "outputs": [
    {
     "data": {
      "text/plain": [
       "'SumitKumar'"
      ]
     },
     "execution_count": 3,
     "metadata": {},
     "output_type": "execute_result"
    }
   ],
   "source": [
    "test(\"Sumit\" , \"Kumar\")"
   ]
  },
  {
   "cell_type": "code",
   "execution_count": 4,
   "id": "49598e92-5635-4e41-9fe2-37d8da4a7492",
   "metadata": {},
   "outputs": [
    {
     "ename": "TypeError",
     "evalue": "test() missing 1 required positional argument: 'b'",
     "output_type": "error",
     "traceback": [
      "\u001b[0;31m---------------------------------------------------------------------------\u001b[0m",
      "\u001b[0;31mTypeError\u001b[0m                                 Traceback (most recent call last)",
      "Cell \u001b[0;32mIn[4], line 1\u001b[0m\n\u001b[0;32m----> 1\u001b[0m \u001b[43mtest\u001b[49m\u001b[43m(\u001b[49m\u001b[43m[\u001b[49m\u001b[38;5;241;43m2\u001b[39;49m\u001b[43m,\u001b[49m\u001b[38;5;241;43m3\u001b[39;49m\u001b[43m,\u001b[49m\u001b[38;5;241;43m4\u001b[39;49m\u001b[43m,\u001b[49m\u001b[38;5;241;43m5\u001b[39;49m\u001b[43m]\u001b[49m\u001b[43m)\u001b[49m\n",
      "\u001b[0;31mTypeError\u001b[0m: test() missing 1 required positional argument: 'b'"
     ]
    }
   ],
   "source": [
    "test([2,3,4,5])"
   ]
  },
  {
   "cell_type": "code",
   "execution_count": 5,
   "id": "a5ecf5bb-65a0-4f54-9149-00cd4bbc8276",
   "metadata": {},
   "outputs": [
    {
     "data": {
      "text/plain": [
       "[2, 3, 4, 4, 5, 66]"
      ]
     },
     "execution_count": 5,
     "metadata": {},
     "output_type": "execute_result"
    }
   ],
   "source": [
    "test([2,3,4],[4,5,66])"
   ]
  },
  {
   "cell_type": "code",
   "execution_count": 11,
   "id": "d67a2479-8586-402e-b38e-ecc328f19b66",
   "metadata": {},
   "outputs": [],
   "source": [
    "class data_science:\n",
    "    def syllabus(self) :\n",
    "        print(\" This is my method for Data scinece syllabus\")"
   ]
  },
  {
   "cell_type": "code",
   "execution_count": 7,
   "id": "2acf3eed-efcf-42fa-b4d9-9f3698795e71",
   "metadata": {},
   "outputs": [],
   "source": [
    "class web_dev:\n",
    "    def syllabus(self):\n",
    "        print(\"This is my method for Web Dev syllabus\")"
   ]
  },
  {
   "cell_type": "code",
   "execution_count": 18,
   "id": "9bebbc5a-de32-4af1-8dea-8caa21f4394c",
   "metadata": {},
   "outputs": [],
   "source": [
    "def class_parcer(class_obj):\n",
    "    for i  in class_obj:\n",
    "        i.syllabus()"
   ]
  },
  {
   "cell_type": "code",
   "execution_count": 12,
   "id": "47224017-d696-478a-ba4f-d8571fdacd50",
   "metadata": {},
   "outputs": [],
   "source": [
    "obj_data_science = data_science()"
   ]
  },
  {
   "cell_type": "code",
   "execution_count": 13,
   "id": "01a3ac16-4da7-4df9-bb98-01c2d5a7a2ac",
   "metadata": {},
   "outputs": [],
   "source": [
    "obj_web_dev = web_dev()"
   ]
  },
  {
   "cell_type": "code",
   "execution_count": 17,
   "id": "71366b9f-0fa9-4bde-9902-021052e72e07",
   "metadata": {},
   "outputs": [],
   "source": [
    "class_obj = [obj_data_science, obj_web_dev]"
   ]
  },
  {
   "cell_type": "code",
   "execution_count": 19,
   "id": "f7e7f9c4-dd4e-4c47-8a7b-d1c9594713f5",
   "metadata": {},
   "outputs": [
    {
     "name": "stdout",
     "output_type": "stream",
     "text": [
      " This is my method for Data scinece syllabus\n",
      "This is my method for Web Dev syllabus\n"
     ]
    }
   ],
   "source": [
    "class_parcer(class_obj)"
   ]
  },
  {
   "cell_type": "code",
   "execution_count": null,
   "id": "3d867809-f0a3-4c00-836e-03e397761b1e",
   "metadata": {},
   "outputs": [],
   "source": []
  }
 ],
 "metadata": {
  "kernelspec": {
   "display_name": "Python 3 (ipykernel)",
   "language": "python",
   "name": "python3"
  },
  "language_info": {
   "codemirror_mode": {
    "name": "ipython",
    "version": 3
   },
   "file_extension": ".py",
   "mimetype": "text/x-python",
   "name": "python",
   "nbconvert_exporter": "python",
   "pygments_lexer": "ipython3",
   "version": "3.10.8"
  }
 },
 "nbformat": 4,
 "nbformat_minor": 5
}
