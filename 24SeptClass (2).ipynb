{
 "cells": [
  {
   "cell_type": "code",
   "execution_count": 1,
   "id": "0bca9e0f-4fef-43f3-b940-461800b815d4",
   "metadata": {},
   "outputs": [
    {
     "data": {
      "text/plain": [
       "5"
      ]
     },
     "execution_count": 1,
     "metadata": {},
     "output_type": "execute_result"
    }
   ],
   "source": [
    "s = \"Sumit\"\n",
    "len(s)"
   ]
  },
  {
   "cell_type": "code",
   "execution_count": 6,
   "id": "0dc20b1e-802c-4c56-9277-e4d7cfbd951b",
   "metadata": {},
   "outputs": [],
   "source": [
    "#using recursion\n",
    "def find_len(s):\n",
    "    if s == \"\": #base case\n",
    "        return 0\n",
    "    else:\n",
    "        return 1+find_len(s[1:])"
   ]
  },
  {
   "cell_type": "code",
   "execution_count": 7,
   "id": "86c54881-a1d2-4d44-9534-a45174b5ca3a",
   "metadata": {},
   "outputs": [
    {
     "data": {
      "text/plain": [
       "5"
      ]
     },
     "execution_count": 7,
     "metadata": {},
     "output_type": "execute_result"
    }
   ],
   "source": [
    "find_len(\"Sumit\")"
   ]
  },
  {
   "cell_type": "code",
   "execution_count": 8,
   "id": "2f569371-e685-41ab-9f7d-08ac383bf2c6",
   "metadata": {},
   "outputs": [
    {
     "data": {
      "text/plain": [
       "'timuS'"
      ]
     },
     "execution_count": 8,
     "metadata": {},
     "output_type": "execute_result"
    }
   ],
   "source": [
    "s[::-1]"
   ]
  },
  {
   "cell_type": "code",
   "execution_count": 9,
   "id": "90402994-fc65-4b28-aa1c-db9385e41bfe",
   "metadata": {},
   "outputs": [],
   "source": [
    "def find_revers(s):\n",
    "    if s == \"\":\n",
    "        return \"\"\n",
    "    else:\n",
    "        return find_revers(s[1:]) + s[0]"
   ]
  },
  {
   "cell_type": "code",
   "execution_count": 10,
   "id": "08285b5d-a540-4ba9-ac57-c7f62ab0d9c2",
   "metadata": {},
   "outputs": [
    {
     "data": {
      "text/plain": [
       "'hdus'"
      ]
     },
     "execution_count": 10,
     "metadata": {},
     "output_type": "execute_result"
    }
   ],
   "source": [
    "find_revers(\"sudh\")"
   ]
  },
  {
   "cell_type": "code",
   "execution_count": 8,
   "id": "70035649-d469-4ee0-82bb-dc37e4c4aa23",
   "metadata": {},
   "outputs": [
    {
     "data": {
      "text/plain": [
       "'shshshsaaajhdaaasedaswdsderfa'"
      ]
     },
     "execution_count": 8,
     "metadata": {},
     "output_type": "execute_result"
    }
   ],
   "source": [
    "e"
   ]
  },
  {
   "cell_type": "code",
   "execution_count": 7,
   "id": "27a78bb4-6ef6-475a-930a-c9b22b3c8c70",
   "metadata": {},
   "outputs": [],
   "source": [
    " e = \"shshshsaaajhdaaasedaswdsderfa\"\n",
    "\n"
   ]
  },
  {
   "cell_type": "code",
   "execution_count": 12,
   "id": "36e56cdc-0d68-4bac-b13f-ee8fd5764dd7",
   "metadata": {},
   "outputs": [],
   "source": [
    "def find_char_count(e, c):\n",
    "    if e == \"\":\n",
    "        return 0\n",
    "    elif e[0] == c:\n",
    "        return 1+find_char_count(e[1:], c)\n",
    "       \n",
    "    else:\n",
    "        return find_char_count(e[1:],c)\n",
    "    "
   ]
  },
  {
   "cell_type": "code",
   "execution_count": 13,
   "id": "02474844-2e8b-4cc5-a73e-13c9b7b30c74",
   "metadata": {},
   "outputs": [
    {
     "data": {
      "text/plain": [
       "4"
      ]
     },
     "execution_count": 13,
     "metadata": {},
     "output_type": "execute_result"
    }
   ],
   "source": [
    "find_char_count(e,'d')"
   ]
  },
  {
   "cell_type": "code",
   "execution_count": 15,
   "id": "72fb5cfc-fbc3-4ad7-9435-8765e776f15c",
   "metadata": {},
   "outputs": [
    {
     "data": {
      "text/plain": [
       "8"
      ]
     },
     "execution_count": 15,
     "metadata": {},
     "output_type": "execute_result"
    }
   ],
   "source": [
    "find_char_count(e,'a')"
   ]
  },
  {
   "cell_type": "code",
   "execution_count": 18,
   "id": "8b1f2346-9c76-48c8-9f73-37cf24a41a6e",
   "metadata": {},
   "outputs": [],
   "source": [
    "l = [4,5,6,7,8,7,76,6,4,3,21,9]"
   ]
  },
  {
   "cell_type": "code",
   "execution_count": 20,
   "id": "ac055abe-66d8-4fee-b888-05058b69fb3d",
   "metadata": {},
   "outputs": [],
   "source": [
    "def check_sort_list(l):\n",
    "    if len(l)<=1:\n",
    "        return True\n",
    "    elif l[0]>l[1]:\n",
    "        return False\n",
    "    else:\n",
    "        return check_sort_list(l[1:])"
   ]
  },
  {
   "cell_type": "code",
   "execution_count": 21,
   "id": "581f8202-d4ff-42a1-85f0-8d6bb54a44e5",
   "metadata": {},
   "outputs": [
    {
     "data": {
      "text/plain": [
       "False"
      ]
     },
     "execution_count": 21,
     "metadata": {},
     "output_type": "execute_result"
    }
   ],
   "source": [
    "check_sort_list(l)"
   ]
  },
  {
   "cell_type": "code",
   "execution_count": 22,
   "id": "01d413fb-bb0b-4d82-9a17-221e3aa111d5",
   "metadata": {},
   "outputs": [],
   "source": [
    "a=[1,2,3,4,5]"
   ]
  },
  {
   "cell_type": "code",
   "execution_count": 23,
   "id": "d8013310-3b95-4c0b-a28f-87f0685a1c69",
   "metadata": {},
   "outputs": [
    {
     "data": {
      "text/plain": [
       "True"
      ]
     },
     "execution_count": 23,
     "metadata": {},
     "output_type": "execute_result"
    }
   ],
   "source": [
    "check_sort_list(a)"
   ]
  },
  {
   "cell_type": "code",
   "execution_count": 26,
   "id": "865d4c3c-9648-4ad7-94ab-6542b99a6528",
   "metadata": {},
   "outputs": [],
   "source": [
    "b = l.sort()"
   ]
  },
  {
   "cell_type": "code",
   "execution_count": 27,
   "id": "ef531420-8dc7-4a66-8b63-5c80bb020042",
   "metadata": {},
   "outputs": [
    {
     "data": {
      "text/plain": [
       "[3, 4, 4, 5, 6, 6, 7, 7, 8, 9, 21, 76]"
      ]
     },
     "execution_count": 27,
     "metadata": {},
     "output_type": "execute_result"
    }
   ],
   "source": [
    "l"
   ]
  },
  {
   "cell_type": "code",
   "execution_count": 32,
   "id": "60d3525f-e8ca-4724-ae1a-a8b663dd30db",
   "metadata": {},
   "outputs": [],
   "source": [
    "def check_perfect_square(n, start = 1):\n",
    "    if n == start**2:\n",
    "        return True\n",
    "    elif n < start**2:\n",
    "        return False\n",
    "    else :\n",
    "        return check_perfect_square(n,start+1)\n"
   ]
  },
  {
   "cell_type": "code",
   "execution_count": 33,
   "id": "39a97f1b-3f2e-424f-be7b-a435d8f520f0",
   "metadata": {},
   "outputs": [
    {
     "data": {
      "text/plain": [
       "True"
      ]
     },
     "execution_count": 33,
     "metadata": {},
     "output_type": "execute_result"
    }
   ],
   "source": [
    "check_perfect_square(64)"
   ]
  },
  {
   "cell_type": "code",
   "execution_count": 34,
   "id": "cd90b04b-e819-4536-b550-209194cc496f",
   "metadata": {},
   "outputs": [
    {
     "data": {
      "text/plain": [
       "False"
      ]
     },
     "execution_count": 34,
     "metadata": {},
     "output_type": "execute_result"
    }
   ],
   "source": [
    "check_perfect_square(5)"
   ]
  },
  {
   "cell_type": "code",
   "execution_count": 35,
   "id": "2758703c-f8db-4c0e-8683-21d18f8bbe6a",
   "metadata": {},
   "outputs": [],
   "source": [
    "l = [2,3,4,5,6]\n",
    "a = 10\n",
    "s = \"Sumit\""
   ]
  },
  {
   "cell_type": "code",
   "execution_count": 38,
   "id": "d85a4f25-6863-4e4b-aaa8-4326d8022c6e",
   "metadata": {
    "collapsed": true,
    "jupyter": {
     "outputs_hidden": true
    },
    "tags": []
   },
   "outputs": [
    {
     "name": "stdout",
     "output_type": "stream",
     "text": [
      "S\n",
      "u\n",
      "m\n",
      "i\n",
      "t\n"
     ]
    }
   ],
   "source": [
    "for i in s:\n",
    "    print(i)"
   ]
  },
  {
   "cell_type": "code",
   "execution_count": 39,
   "id": "3a2a2aca-f052-4cdb-a501-0ca4cf3e5476",
   "metadata": {},
   "outputs": [
    {
     "ename": "TypeError",
     "evalue": "'int' object is not iterable",
     "output_type": "error",
     "traceback": [
      "\u001b[0;31m---------------------------------------------------------------------------\u001b[0m",
      "\u001b[0;31mTypeError\u001b[0m                                 Traceback (most recent call last)",
      "Cell \u001b[0;32mIn[39], line 1\u001b[0m\n\u001b[0;32m----> 1\u001b[0m \u001b[38;5;28;01mfor\u001b[39;00m i \u001b[38;5;129;01min\u001b[39;00m a:\n\u001b[1;32m      2\u001b[0m     \u001b[38;5;28mprint\u001b[39m(i)\n",
      "\u001b[0;31mTypeError\u001b[0m: 'int' object is not iterable"
     ]
    }
   ],
   "source": [
    "for i in a:\n",
    "    print(i)"
   ]
  },
  {
   "cell_type": "code",
   "execution_count": 40,
   "id": "553c9a63-c9ea-41df-9820-cf703905d079",
   "metadata": {},
   "outputs": [
    {
     "ename": "TypeError",
     "evalue": "'int' object is not iterable",
     "output_type": "error",
     "traceback": [
      "\u001b[0;31m---------------------------------------------------------------------------\u001b[0m",
      "\u001b[0;31mTypeError\u001b[0m                                 Traceback (most recent call last)",
      "Cell \u001b[0;32mIn[40], line 1\u001b[0m\n\u001b[0;32m----> 1\u001b[0m \u001b[38;5;28;43miter\u001b[39;49m\u001b[43m(\u001b[49m\u001b[38;5;241;43m10\u001b[39;49m\u001b[43m)\u001b[49m\n",
      "\u001b[0;31mTypeError\u001b[0m: 'int' object is not iterable"
     ]
    }
   ],
   "source": [
    "iter(10)"
   ]
  },
  {
   "cell_type": "code",
   "execution_count": 41,
   "id": "50707c00-0418-4fb2-a976-552ea002fc33",
   "metadata": {},
   "outputs": [
    {
     "data": {
      "text/plain": [
       "<str_iterator at 0x7f0d21172c20>"
      ]
     },
     "execution_count": 41,
     "metadata": {},
     "output_type": "execute_result"
    }
   ],
   "source": [
    "iter(\"Sumit\")"
   ]
  },
  {
   "cell_type": "code",
   "execution_count": 42,
   "id": "a9d8caaa-28b5-4102-9a69-a263ea39e439",
   "metadata": {},
   "outputs": [],
   "source": [
    "#first object should eb INTERABLE object by passing data in ITER function than only it can be itrable\n",
    "s1= iter(\"Sumit\")"
   ]
  },
  {
   "cell_type": "code",
   "execution_count": 43,
   "id": "0d175d89-edd5-497b-af97-23d5ae4f43ad",
   "metadata": {},
   "outputs": [
    {
     "data": {
      "text/plain": [
       "<str_iterator at 0x7f0d21172230>"
      ]
     },
     "execution_count": 43,
     "metadata": {},
     "output_type": "execute_result"
    }
   ],
   "source": [
    "s1"
   ]
  },
  {
   "cell_type": "code",
   "execution_count": 44,
   "id": "f59c6813-167e-4e05-8fb5-63db4490b625",
   "metadata": {},
   "outputs": [
    {
     "data": {
      "text/plain": [
       "'S'"
      ]
     },
     "execution_count": 44,
     "metadata": {},
     "output_type": "execute_result"
    }
   ],
   "source": [
    "next(s1)"
   ]
  },
  {
   "cell_type": "code",
   "execution_count": 45,
   "id": "22e90b86-fdb2-4987-a6e1-92d45b15cdee",
   "metadata": {},
   "outputs": [
    {
     "data": {
      "text/plain": [
       "'u'"
      ]
     },
     "execution_count": 45,
     "metadata": {},
     "output_type": "execute_result"
    }
   ],
   "source": [
    "next(s1)"
   ]
  },
  {
   "cell_type": "code",
   "execution_count": 46,
   "id": "b53dbc55-4681-4fce-905e-628dcc156833",
   "metadata": {},
   "outputs": [
    {
     "data": {
      "text/plain": [
       "'m'"
      ]
     },
     "execution_count": 46,
     "metadata": {},
     "output_type": "execute_result"
    }
   ],
   "source": [
    "next(s1)"
   ]
  },
  {
   "cell_type": "code",
   "execution_count": 47,
   "id": "271e53d0-62e0-44bd-98a3-dfbbd6b47910",
   "metadata": {},
   "outputs": [
    {
     "data": {
      "text/plain": [
       "'t'"
      ]
     },
     "execution_count": 47,
     "metadata": {},
     "output_type": "execute_result"
    }
   ],
   "source": [
    "next(s1)\n",
    "next(s1)"
   ]
  },
  {
   "cell_type": "code",
   "execution_count": 48,
   "id": "c5bbcf9b-7b13-4830-a503-358080110306",
   "metadata": {},
   "outputs": [
    {
     "ename": "StopIteration",
     "evalue": "",
     "output_type": "error",
     "traceback": [
      "\u001b[0;31m---------------------------------------------------------------------------\u001b[0m",
      "\u001b[0;31mStopIteration\u001b[0m                             Traceback (most recent call last)",
      "Cell \u001b[0;32mIn[48], line 1\u001b[0m\n\u001b[0;32m----> 1\u001b[0m \u001b[38;5;28;43mnext\u001b[39;49m\u001b[43m(\u001b[49m\u001b[43ms1\u001b[49m\u001b[43m)\u001b[49m\n",
      "\u001b[0;31mStopIteration\u001b[0m: "
     ]
    }
   ],
   "source": [
    "next(s1)\n"
   ]
  },
  {
   "cell_type": "code",
   "execution_count": 49,
   "id": "06a4aa65-1c65-4528-b2fe-35bc0c8acb7a",
   "metadata": {},
   "outputs": [],
   "source": [
    "s2 = \"pwskills\""
   ]
  },
  {
   "cell_type": "code",
   "execution_count": 50,
   "id": "e471f442-2ab1-43c3-99a4-6dba97b95220",
   "metadata": {},
   "outputs": [
    {
     "ename": "TypeError",
     "evalue": "'str' object is not an iterator",
     "output_type": "error",
     "traceback": [
      "\u001b[0;31m---------------------------------------------------------------------------\u001b[0m",
      "\u001b[0;31mTypeError\u001b[0m                                 Traceback (most recent call last)",
      "Cell \u001b[0;32mIn[50], line 1\u001b[0m\n\u001b[0;32m----> 1\u001b[0m \u001b[38;5;28;43mnext\u001b[39;49m\u001b[43m(\u001b[49m\u001b[43ms2\u001b[49m\u001b[43m)\u001b[49m\n",
      "\u001b[0;31mTypeError\u001b[0m: 'str' object is not an iterator"
     ]
    }
   ],
   "source": [
    "next(s2)"
   ]
  },
  {
   "cell_type": "code",
   "execution_count": 51,
   "id": "71b360bc-4352-45b4-ac72-130d84a0cf91",
   "metadata": {},
   "outputs": [],
   "source": [
    "s3 = \"p\""
   ]
  },
  {
   "cell_type": "code",
   "execution_count": 52,
   "id": "60a07fdc-c0c1-4a4b-ab78-3910db1c6bdb",
   "metadata": {},
   "outputs": [
    {
     "ename": "TypeError",
     "evalue": "'str' object is not an iterator",
     "output_type": "error",
     "traceback": [
      "\u001b[0;31m---------------------------------------------------------------------------\u001b[0m",
      "\u001b[0;31mTypeError\u001b[0m                                 Traceback (most recent call last)",
      "Cell \u001b[0;32mIn[52], line 1\u001b[0m\n\u001b[0;32m----> 1\u001b[0m \u001b[38;5;28;43mnext\u001b[39;49m\u001b[43m(\u001b[49m\u001b[43ms3\u001b[49m\u001b[43m)\u001b[49m\n",
      "\u001b[0;31mTypeError\u001b[0m: 'str' object is not an iterator"
     ]
    }
   ],
   "source": [
    "next(s3)"
   ]
  },
  {
   "cell_type": "code",
   "execution_count": 54,
   "id": "a94aa70f-7c25-400d-93c3-658e4baae1fe",
   "metadata": {},
   "outputs": [
    {
     "name": "stdout",
     "output_type": "stream",
     "text": [
      "2\n",
      "3\n",
      "4\n",
      "5\n"
     ]
    }
   ],
   "source": [
    "for i in [2,3,4,5]:\n",
    "    print(i)"
   ]
  },
  {
   "cell_type": "code",
   "execution_count": 55,
   "id": "acbf2888-33a2-4b82-a6b3-dca3b6e17980",
   "metadata": {},
   "outputs": [],
   "source": [
    "l = iter([2,3,4,5,])"
   ]
  },
  {
   "cell_type": "code",
   "execution_count": 56,
   "id": "c52648bb-1035-4ff1-83f5-1257559e9dc9",
   "metadata": {},
   "outputs": [
    {
     "ename": "TypeError",
     "evalue": "'int' object is not an iterator",
     "output_type": "error",
     "traceback": [
      "\u001b[0;31m---------------------------------------------------------------------------\u001b[0m",
      "\u001b[0;31mTypeError\u001b[0m                                 Traceback (most recent call last)",
      "Cell \u001b[0;32mIn[56], line 1\u001b[0m\n\u001b[0;32m----> 1\u001b[0m \u001b[38;5;28;43mnext\u001b[39;49m\u001b[43m(\u001b[49m\u001b[38;5;241;43m1\u001b[39;49m\u001b[43m)\u001b[49m\n",
      "\u001b[0;31mTypeError\u001b[0m: 'int' object is not an iterator"
     ]
    }
   ],
   "source": [
    "next(1)"
   ]
  },
  {
   "cell_type": "code",
   "execution_count": 57,
   "id": "a0247bc2-a126-4487-8386-2eee352b38a7",
   "metadata": {},
   "outputs": [
    {
     "data": {
      "text/plain": [
       "2"
      ]
     },
     "execution_count": 57,
     "metadata": {},
     "output_type": "execute_result"
    }
   ],
   "source": [
    "next(l)"
   ]
  },
  {
   "cell_type": "code",
   "execution_count": 59,
   "id": "2c7e2e32-3fb7-4d92-a110-aa5d49bb58e2",
   "metadata": {},
   "outputs": [
    {
     "ename": "StopIteration",
     "evalue": "",
     "output_type": "error",
     "traceback": [
      "\u001b[0;31m---------------------------------------------------------------------------\u001b[0m",
      "\u001b[0;31mStopIteration\u001b[0m                             Traceback (most recent call last)",
      "Cell \u001b[0;32mIn[59], line 4\u001b[0m\n\u001b[1;32m      2\u001b[0m \u001b[38;5;28mnext\u001b[39m(l)\n\u001b[1;32m      3\u001b[0m \u001b[38;5;28mnext\u001b[39m(l)\n\u001b[0;32m----> 4\u001b[0m \u001b[38;5;28;43mnext\u001b[39;49m\u001b[43m(\u001b[49m\u001b[43ml\u001b[49m\u001b[43m)\u001b[49m\n",
      "\u001b[0;31mStopIteration\u001b[0m: "
     ]
    }
   ],
   "source": [
    "next(l)\n",
    "next(l)\n",
    "next(l)\n",
    "next(l)"
   ]
  },
  {
   "cell_type": "code",
   "execution_count": 60,
   "id": "105e95d5-8878-4d37-9961-237340f95963",
   "metadata": {},
   "outputs": [
    {
     "ename": "TypeError",
     "evalue": "'int' object is not iterable",
     "output_type": "error",
     "traceback": [
      "\u001b[0;31m---------------------------------------------------------------------------\u001b[0m",
      "\u001b[0;31mTypeError\u001b[0m                                 Traceback (most recent call last)",
      "Cell \u001b[0;32mIn[60], line 1\u001b[0m\n\u001b[0;32m----> 1\u001b[0m \u001b[38;5;28;01mfor\u001b[39;00m i \u001b[38;5;129;01min\u001b[39;00m \u001b[38;5;241m2432\u001b[39m:\n\u001b[1;32m      2\u001b[0m     \u001b[38;5;28mprint\u001b[39m(i)\n",
      "\u001b[0;31mTypeError\u001b[0m: 'int' object is not iterable"
     ]
    }
   ],
   "source": [
    "for i in 2432:\n",
    "    print(i)"
   ]
  },
  {
   "cell_type": "code",
   "execution_count": 61,
   "id": "f12d8e4e-47e6-401d-ae22-1152187df750",
   "metadata": {},
   "outputs": [
    {
     "name": "stdout",
     "output_type": "stream",
     "text": [
      "2\n",
      "3\n",
      "4\n",
      "5\n",
      "56\n"
     ]
    }
   ],
   "source": [
    "for i in {2,3,4,5,56}:\n",
    "    print(i)"
   ]
  },
  {
   "cell_type": "code",
   "execution_count": 62,
   "id": "ace69f32-7a18-4c91-adc6-e3f15ce80727",
   "metadata": {},
   "outputs": [
    {
     "data": {
      "text/plain": [
       "<set_iterator at 0x7f0d3018d340>"
      ]
     },
     "execution_count": 62,
     "metadata": {},
     "output_type": "execute_result"
    }
   ],
   "source": [
    "iter({2,3,4,56})"
   ]
  },
  {
   "cell_type": "code",
   "execution_count": 63,
   "id": "2dc98a4c-9c99-468c-a981-8025430af256",
   "metadata": {},
   "outputs": [
    {
     "name": "stdout",
     "output_type": "stream",
     "text": [
      "2\n",
      "3\n",
      "4\n",
      "5\n"
     ]
    }
   ],
   "source": [
    "for i in (2,3,4,5):\n",
    "    print(i)"
   ]
  },
  {
   "cell_type": "code",
   "execution_count": 64,
   "id": "c00cab16-3fc1-41a8-8012-38e4c567c364",
   "metadata": {},
   "outputs": [
    {
     "data": {
      "text/plain": [
       "<tuple_iterator at 0x7f0d21170220>"
      ]
     },
     "execution_count": 64,
     "metadata": {},
     "output_type": "execute_result"
    }
   ],
   "source": [
    "iter((2,3,4,5))"
   ]
  },
  {
   "cell_type": "code",
   "execution_count": 65,
   "id": "f3cd0404-da75-48fc-8720-08f712e7ed5a",
   "metadata": {},
   "outputs": [
    {
     "ename": "TypeError",
     "evalue": "'bool' object is not iterable",
     "output_type": "error",
     "traceback": [
      "\u001b[0;31m---------------------------------------------------------------------------\u001b[0m",
      "\u001b[0;31mTypeError\u001b[0m                                 Traceback (most recent call last)",
      "Cell \u001b[0;32mIn[65], line 1\u001b[0m\n\u001b[0;32m----> 1\u001b[0m \u001b[38;5;28;43miter\u001b[39;49m\u001b[43m(\u001b[49m\u001b[38;5;28;43;01mTrue\u001b[39;49;00m\u001b[43m)\u001b[49m\n",
      "\u001b[0;31mTypeError\u001b[0m: 'bool' object is not iterable"
     ]
    }
   ],
   "source": [
    "iter(True)"
   ]
  },
  {
   "cell_type": "raw",
   "id": "42bf7043-12ab-4811-933a-91106a4dd0b8",
   "metadata": {},
   "source": [
    "iter({'key':\"fdgdff\"})"
   ]
  },
  {
   "cell_type": "code",
   "execution_count": 66,
   "id": "627debc2-14d2-417c-a327-e42f64f7f3ec",
   "metadata": {},
   "outputs": [
    {
     "data": {
      "text/plain": [
       "<dict_keyiterator at 0x7f0d21063c90>"
      ]
     },
     "execution_count": 66,
     "metadata": {},
     "output_type": "execute_result"
    }
   ],
   "source": [
    "iter({'key':\"fdgdff\"})"
   ]
  },
  {
   "cell_type": "code",
   "execution_count": 67,
   "id": "af118f37-4ffd-4787-a316-c47d779978fb",
   "metadata": {},
   "outputs": [],
   "source": [
    "d  = iter({'key':\"fdgdff\"})"
   ]
  },
  {
   "cell_type": "code",
   "execution_count": 68,
   "id": "b4d18fb3-9a85-40f7-9195-1d47c9f4647c",
   "metadata": {},
   "outputs": [
    {
     "data": {
      "text/plain": [
       "'key'"
      ]
     },
     "execution_count": 68,
     "metadata": {},
     "output_type": "execute_result"
    }
   ],
   "source": [
    "next(d)"
   ]
  },
  {
   "cell_type": "code",
   "execution_count": 69,
   "id": "7a3b7a46-c099-4cf2-b8e8-e3a3858be5ac",
   "metadata": {},
   "outputs": [
    {
     "ename": "StopIteration",
     "evalue": "",
     "output_type": "error",
     "traceback": [
      "\u001b[0;31m---------------------------------------------------------------------------\u001b[0m",
      "\u001b[0;31mStopIteration\u001b[0m                             Traceback (most recent call last)",
      "Cell \u001b[0;32mIn[69], line 1\u001b[0m\n\u001b[0;32m----> 1\u001b[0m \u001b[38;5;28;43mnext\u001b[39;49m\u001b[43m(\u001b[49m\u001b[43md\u001b[49m\u001b[43m)\u001b[49m\n",
      "\u001b[0;31mStopIteration\u001b[0m: "
     ]
    }
   ],
   "source": [
    "next(d)"
   ]
  },
  {
   "cell_type": "code",
   "execution_count": 70,
   "id": "a5063838-73a4-48b4-8da9-3401cf01874b",
   "metadata": {},
   "outputs": [
    {
     "data": {
      "text/plain": [
       "range(0, 5)"
      ]
     },
     "execution_count": 70,
     "metadata": {},
     "output_type": "execute_result"
    }
   ],
   "source": [
    "#range upper bound is 1 less than maximum\n",
    "range(0,5)"
   ]
  },
  {
   "cell_type": "code",
   "execution_count": 71,
   "id": "ea4977f9-d601-4368-88c8-71349dd1622b",
   "metadata": {},
   "outputs": [
    {
     "data": {
      "text/plain": [
       "[0, 1, 2, 3, 4]"
      ]
     },
     "execution_count": 71,
     "metadata": {},
     "output_type": "execute_result"
    }
   ],
   "source": [
    "list(range(0,5))"
   ]
  },
  {
   "cell_type": "code",
   "execution_count": 72,
   "id": "1410695f-4a19-4391-9b3b-f0fed916d124",
   "metadata": {},
   "outputs": [
    {
     "name": "stdout",
     "output_type": "stream",
     "text": [
      "0\n",
      "1\n",
      "2\n",
      "3\n",
      "4\n"
     ]
    }
   ],
   "source": [
    "for i in range(0,5):\n",
    "    print(i)"
   ]
  },
  {
   "cell_type": "code",
   "execution_count": 73,
   "id": "b67ff0f6-60f2-4de4-835c-dba2164d4018",
   "metadata": {},
   "outputs": [
    {
     "data": {
      "text/plain": [
       "<range_iterator at 0x7f0d2171aa00>"
      ]
     },
     "execution_count": 73,
     "metadata": {},
     "output_type": "execute_result"
    }
   ],
   "source": [
    "iter(range(0,5))"
   ]
  },
  {
   "cell_type": "code",
   "execution_count": 74,
   "id": "3dede2e4-96ea-4a85-b852-209569794991",
   "metadata": {},
   "outputs": [
    {
     "ename": "TypeError",
     "evalue": "'int' object is not an iterator",
     "output_type": "error",
     "traceback": [
      "\u001b[0;31m---------------------------------------------------------------------------\u001b[0m",
      "\u001b[0;31mTypeError\u001b[0m                                 Traceback (most recent call last)",
      "Cell \u001b[0;32mIn[74], line 1\u001b[0m\n\u001b[0;32m----> 1\u001b[0m \u001b[38;5;28;43mnext\u001b[39;49m\u001b[43m(\u001b[49m\u001b[43mi\u001b[49m\u001b[43m)\u001b[49m\n\u001b[1;32m      2\u001b[0m \u001b[38;5;28mnext\u001b[39m(i)\n\u001b[1;32m      3\u001b[0m \u001b[38;5;28mnext\u001b[39m(i)\n",
      "\u001b[0;31mTypeError\u001b[0m: 'int' object is not an iterator"
     ]
    }
   ],
   "source": [
    "next(i)\n",
    "next(i)\n",
    "next(i)\n",
    "next(i)\n",
    "next(i)\n",
    "next(i)"
   ]
  },
  {
   "cell_type": "code",
   "execution_count": 77,
   "id": "05554bc2-5915-4191-8918-1b15a178d91f",
   "metadata": {},
   "outputs": [],
   "source": [
    "i = iter(range(0,5))"
   ]
  },
  {
   "cell_type": "code",
   "execution_count": 78,
   "id": "485682ca-a4fc-44c3-a2f0-db3c13ba3a0c",
   "metadata": {},
   "outputs": [
    {
     "data": {
      "text/plain": [
       "0"
      ]
     },
     "execution_count": 78,
     "metadata": {},
     "output_type": "execute_result"
    }
   ],
   "source": [
    "next(i)"
   ]
  },
  {
   "cell_type": "code",
   "execution_count": 79,
   "id": "86e2dcc6-d2a2-4a29-82b6-b4ed85979ced",
   "metadata": {},
   "outputs": [
    {
     "data": {
      "text/plain": [
       "1"
      ]
     },
     "execution_count": 79,
     "metadata": {},
     "output_type": "execute_result"
    }
   ],
   "source": [
    "next(i)"
   ]
  },
  {
   "cell_type": "code",
   "execution_count": 80,
   "id": "739453a3-afd3-409b-956e-c3b6e97af1c9",
   "metadata": {},
   "outputs": [
    {
     "data": {
      "text/plain": [
       "2"
      ]
     },
     "execution_count": 80,
     "metadata": {},
     "output_type": "execute_result"
    }
   ],
   "source": [
    "next(i)"
   ]
  },
  {
   "cell_type": "code",
   "execution_count": 81,
   "id": "64872233-e4d6-4c03-913f-32cdec53fcf6",
   "metadata": {},
   "outputs": [
    {
     "ename": "StopIteration",
     "evalue": "",
     "output_type": "error",
     "traceback": [
      "\u001b[0;31m---------------------------------------------------------------------------\u001b[0m",
      "\u001b[0;31mStopIteration\u001b[0m                             Traceback (most recent call last)",
      "Cell \u001b[0;32mIn[81], line 3\u001b[0m\n\u001b[1;32m      1\u001b[0m \u001b[38;5;28mnext\u001b[39m(i)\n\u001b[1;32m      2\u001b[0m \u001b[38;5;28mnext\u001b[39m(i)\n\u001b[0;32m----> 3\u001b[0m \u001b[38;5;28;43mnext\u001b[39;49m\u001b[43m(\u001b[49m\u001b[43mi\u001b[49m\u001b[43m)\u001b[49m\n\u001b[1;32m      4\u001b[0m \u001b[38;5;28mnext\u001b[39m(i)\n\u001b[1;32m      5\u001b[0m \u001b[38;5;28mnext\u001b[39m(i)\n",
      "\u001b[0;31mStopIteration\u001b[0m: "
     ]
    }
   ],
   "source": [
    "next(i)\n",
    "next(i)\n",
    "next(i)\n",
    "next(i)\n",
    "next(i)\n",
    "next(i)"
   ]
  },
  {
   "cell_type": "code",
   "execution_count": 82,
   "id": "26f25903-269e-4f06-8660-a8854df00cd5",
   "metadata": {},
   "outputs": [],
   "source": [
    "def count_func(n):\n",
    "    i = 1\n",
    "    while i<=n:\n",
    "        yield i #to produce something\n",
    "        i=i+1"
   ]
  },
  {
   "cell_type": "code",
   "execution_count": 84,
   "id": "b13ec658-a28a-4e19-a2a0-83544ed96ae9",
   "metadata": {},
   "outputs": [
    {
     "data": {
      "text/plain": [
       "<generator object count_func at 0x7f0d20c47ae0>"
      ]
     },
     "execution_count": 84,
     "metadata": {},
     "output_type": "execute_result"
    }
   ],
   "source": [
    "count_func(9)"
   ]
  },
  {
   "cell_type": "raw",
   "id": "ec6391fe-fb68-484e-9b6c-4fb10c971ebd",
   "metadata": {},
   "source": []
  },
  {
   "cell_type": "code",
   "execution_count": 85,
   "id": "5828a80f-2a63-40d1-9f1d-dc2eaeccc43a",
   "metadata": {},
   "outputs": [
    {
     "name": "stdout",
     "output_type": "stream",
     "text": [
      "1\n",
      "2\n",
      "3\n",
      "4\n",
      "5\n",
      "6\n",
      "7\n",
      "8\n",
      "9\n"
     ]
    }
   ],
   "source": [
    "for i in count_func(9):\n",
    "    print(i)"
   ]
  },
  {
   "cell_type": "code",
   "execution_count": 86,
   "id": "fea1e625-7559-4dd1-8500-679e72be8750",
   "metadata": {},
   "outputs": [],
   "source": [
    "j = iter(count_func(9))"
   ]
  },
  {
   "cell_type": "code",
   "execution_count": 87,
   "id": "6e93b13e-1378-4bbb-8769-957739e40db4",
   "metadata": {},
   "outputs": [
    {
     "data": {
      "text/plain": [
       "<generator object count_func at 0x7f0d20c47610>"
      ]
     },
     "execution_count": 87,
     "metadata": {},
     "output_type": "execute_result"
    }
   ],
   "source": [
    "j"
   ]
  },
  {
   "cell_type": "code",
   "execution_count": 88,
   "id": "81500c95-c505-4220-9c69-7b8214800023",
   "metadata": {},
   "outputs": [
    {
     "data": {
      "text/plain": [
       "1"
      ]
     },
     "execution_count": 88,
     "metadata": {},
     "output_type": "execute_result"
    }
   ],
   "source": [
    "next(j)"
   ]
  },
  {
   "cell_type": "code",
   "execution_count": 92,
   "id": "2ab00cca-f8e5-4703-b8f7-386295b5a3f9",
   "metadata": {},
   "outputs": [
    {
     "data": {
      "text/plain": [
       "9"
      ]
     },
     "execution_count": 92,
     "metadata": {},
     "output_type": "execute_result"
    }
   ],
   "source": [
    "next(j)\n",
    "next(j)"
   ]
  },
  {
   "cell_type": "code",
   "execution_count": 93,
   "id": "026bdd80-527d-436f-a4f9-fa0f509649f0",
   "metadata": {},
   "outputs": [],
   "source": [
    "def count_func(n):\n",
    "    i = 1\n",
    "    while i<=n:\n",
    "        return i\n",
    "        i=i+1"
   ]
  },
  {
   "cell_type": "code",
   "execution_count": 94,
   "id": "b04e1db8-f95d-48de-b59c-f547c9a864f4",
   "metadata": {},
   "outputs": [
    {
     "data": {
      "text/plain": [
       "1"
      ]
     },
     "execution_count": 94,
     "metadata": {},
     "output_type": "execute_result"
    }
   ],
   "source": [
    "count_func(5)"
   ]
  },
  {
   "cell_type": "code",
   "execution_count": 95,
   "id": "c2a0598c-7ab1-4742-8dfc-8b3f5c5872ab",
   "metadata": {},
   "outputs": [],
   "source": [
    "def count_func(n):\n",
    "    i = 1\n",
    "    while i<=n:\n",
    "        \n",
    "        i=i+1\n",
    "        return i"
   ]
  },
  {
   "cell_type": "code",
   "execution_count": 96,
   "id": "37263e58-5d6c-494a-8d10-0100306d8954",
   "metadata": {},
   "outputs": [
    {
     "data": {
      "text/plain": [
       "2"
      ]
     },
     "execution_count": 96,
     "metadata": {},
     "output_type": "execute_result"
    }
   ],
   "source": [
    "count_func(9)"
   ]
  },
  {
   "cell_type": "code",
   "execution_count": 97,
   "id": "6c5e21d6-7038-4f70-a0cb-98adc11fa983",
   "metadata": {},
   "outputs": [
    {
     "data": {
      "text/plain": [
       "2"
      ]
     },
     "execution_count": 97,
     "metadata": {},
     "output_type": "execute_result"
    }
   ],
   "source": [
    "count_func(5)"
   ]
  },
  {
   "cell_type": "code",
   "execution_count": 98,
   "id": "fdd0634e-791b-4fdf-9549-d9e56dc92bea",
   "metadata": {},
   "outputs": [
    {
     "data": {
      "text/plain": [
       "2"
      ]
     },
     "execution_count": 98,
     "metadata": {},
     "output_type": "execute_result"
    }
   ],
   "source": [
    "count_func(9)"
   ]
  },
  {
   "cell_type": "code",
   "execution_count": 114,
   "id": "d3b94696-c0a1-4a3e-949a-ca3d81c339b1",
   "metadata": {},
   "outputs": [],
   "source": [
    "def count_func1(n):\n",
    "    i = 1\n",
    "    l = []\n",
    "    while i<=n:\n",
    "        l.append(i)\n",
    "        i = i+1\n",
    "    return l"
   ]
  },
  {
   "cell_type": "code",
   "execution_count": 115,
   "id": "3c6a81bc-a0e6-44a3-abdd-9ec41fa63773",
   "metadata": {},
   "outputs": [
    {
     "data": {
      "text/plain": [
       "[1, 2, 3, 4, 5]"
      ]
     },
     "execution_count": 115,
     "metadata": {},
     "output_type": "execute_result"
    }
   ],
   "source": [
    "count_func1(5)"
   ]
  },
  {
   "cell_type": "code",
   "execution_count": 117,
   "id": "0b4a2148-ab2f-4dff-8f25-dd9b10bbc308",
   "metadata": {},
   "outputs": [
    {
     "name": "stdout",
     "output_type": "stream",
     "text": [
      "1\n",
      "2\n",
      "3\n",
      "4\n",
      "5\n",
      "6\n",
      "7\n",
      "8\n",
      "9\n",
      "10\n",
      "11\n",
      "12\n",
      "13\n",
      "14\n",
      "15\n",
      "16\n",
      "17\n",
      "18\n",
      "19\n",
      "20\n",
      "21\n",
      "22\n",
      "23\n",
      "24\n",
      "25\n",
      "26\n",
      "27\n",
      "28\n",
      "29\n",
      "30\n",
      "31\n",
      "32\n",
      "33\n",
      "34\n",
      "35\n",
      "36\n",
      "37\n",
      "38\n",
      "39\n",
      "40\n",
      "41\n",
      "42\n",
      "43\n",
      "44\n",
      "45\n",
      "46\n",
      "47\n",
      "48\n",
      "49\n",
      "50\n"
     ]
    }
   ],
   "source": [
    "for i in count_func1(50):\n",
    "    print(i)"
   ]
  },
  {
   "cell_type": "code",
   "execution_count": 120,
   "id": "ede6d2b7-8ae3-4d9d-a75c-7135c3e1f895",
   "metadata": {},
   "outputs": [],
   "source": [
    "def fib(n):\n",
    "    a,b = 0,1\n",
    "    for i in range(n):\n",
    "        yield a\n",
    "        a,b = b, a+b"
   ]
  },
  {
   "cell_type": "code",
   "execution_count": 121,
   "id": "1679d772-434d-4f9a-b284-3fefd3f65f8c",
   "metadata": {},
   "outputs": [
    {
     "name": "stdout",
     "output_type": "stream",
     "text": [
      "0\n",
      "1\n",
      "1\n",
      "2\n",
      "3\n",
      "5\n",
      "8\n",
      "13\n",
      "21\n"
     ]
    }
   ],
   "source": [
    "for i in fib(9):\n",
    "    print(i)"
   ]
  },
  {
   "cell_type": "code",
   "execution_count": 122,
   "id": "fbc5f042-49ec-40dd-ad60-d775a0d180c7",
   "metadata": {},
   "outputs": [
    {
     "name": "stdout",
     "output_type": "stream",
     "text": [
      " 24SeptClass.ipynb\n",
      " Abstract_class.ipynb\n",
      " app.py\n",
      "'Best Practice Exception Handling.ipynb'\n",
      "'Buffered Read And Write Other File Methods.ipynb'\n",
      "'Class5_Phython (1).ipynb'\n",
      "'class6_Phython (1).ipynb'\n",
      " class6_Phython.ipynb\n",
      " Class_Methods.ipynb\n",
      "'Custom Exception Handling.ipynb'\n",
      " Decorator.ipynb\n",
      " ENCAPSULATION.ipynb\n",
      "'Exceptions Handling With Try Except.ipynb'\n",
      "'List Of General Use Exceptions.ipynb'\n",
      "'Logging Debugger.ipynb'\n",
      " MongoDB.ipynb\n",
      " Multiple_Inheritnce.ipynb\n",
      " Multithreading.ipynb\n",
      " order_MVKrsyC9wQLS7P_INvoice.pdf\n",
      " Polymorphism.ipynb\n",
      "'Property Decorators Getters, Setters, And Deletes.ipynb'\n",
      "'PWskills details.txt'\n",
      "'Reading And Writing Files.ipynb'\n",
      "'Special (Magic Dunder) Methods.ipynb'\n",
      "'Static_method (1).ipynb'\n",
      "'Working With Files.ipynb'\n"
     ]
    }
   ],
   "source": [
    "ls\n"
   ]
  },
  {
   "cell_type": "code",
   "execution_count": 123,
   "id": "76c93029-dac4-4e12-8e4f-7ed07e21fa73",
   "metadata": {},
   "outputs": [
    {
     "name": "stdout",
     "output_type": "stream",
     "text": [
      "repo link for Data Science: https://github.com/sumitkum1990/dataScienceLearn.git\n",
      "\n",
      "\n",
      "\n",
      "repo link for Phython:https://github.com/sumitkum1990/Python-class.git\n",
      "\n",
      "\n",
      "\n",
      "repo link for Assignment:https://github.com/sumitkum1990/pwskillsAssignment1.git\n",
      "\n",
      "\n",
      "\n",
      "Mongo DB: mongodb+srv://sumitkumar25happy:<password>@cluster0.3hzv0rd.mongodb.net/?retryWrites=true&w=majority\n",
      "\n",
      "username: sumitkumar25happy\n",
      "\n",
      "p/w: sumitkumar25happy\n",
      "\n",
      "\n",
      "\n",
      "https://github.com/sumitkum1990/flask_app.git\n",
      "\n",
      "git id: sumitkum1990@gmail.com\n",
      "\n",
      "name : sumitkum1990\n",
      "\n",
      "\n",
      "\n",
      "for clone project:\n",
      "\n",
      "git clone https://github.com/sumitkum1990/flask_app.git\n",
      "\n",
      "\n",
      "\n",
      "\n",
      "\n",
      "notes: #first object should eb INTERABLE object by passing data in ITER function than only it can be itrable\n"
     ]
    }
   ],
   "source": [
    "for i  in open(\"PWskills details.txt\"):\n",
    "               print(i)"
   ]
  },
  {
   "cell_type": "code",
   "execution_count": 125,
   "id": "9fd6e398-59ce-4c76-af1e-78e609967989",
   "metadata": {},
   "outputs": [],
   "source": [
    "def read_file(file_name):\n",
    "    with open(file_name) as file:\n",
    "        for i in file:\n",
    "            yield i "
   ]
  },
  {
   "cell_type": "code",
   "execution_count": 126,
   "id": "36f6d8eb-e730-41df-ad03-6bdd3f219d56",
   "metadata": {},
   "outputs": [
    {
     "data": {
      "text/plain": [
       "<generator object read_file at 0x7f0d21377df0>"
      ]
     },
     "execution_count": 126,
     "metadata": {},
     "output_type": "execute_result"
    }
   ],
   "source": [
    "read_file('PWskills details.txt')"
   ]
  },
  {
   "cell_type": "code",
   "execution_count": 127,
   "id": "8f070ea0-d2d4-4bdb-a6ff-aba0cf1107ac",
   "metadata": {},
   "outputs": [
    {
     "name": "stdout",
     "output_type": "stream",
     "text": [
      "repo link for Data Science: https://github.com/sumitkum1990/dataScienceLearn.git\n",
      "\n",
      "\n",
      "\n",
      "repo link for Phython:https://github.com/sumitkum1990/Python-class.git\n",
      "\n",
      "\n",
      "\n",
      "repo link for Assignment:https://github.com/sumitkum1990/pwskillsAssignment1.git\n",
      "\n",
      "\n",
      "\n",
      "Mongo DB: mongodb+srv://sumitkumar25happy:<password>@cluster0.3hzv0rd.mongodb.net/?retryWrites=true&w=majority\n",
      "\n",
      "username: sumitkumar25happy\n",
      "\n",
      "p/w: sumitkumar25happy\n",
      "\n",
      "\n",
      "\n",
      "https://github.com/sumitkum1990/flask_app.git\n",
      "\n",
      "git id: sumitkum1990@gmail.com\n",
      "\n",
      "name : sumitkum1990\n",
      "\n",
      "\n",
      "\n",
      "for clone project:\n",
      "\n",
      "git clone https://github.com/sumitkum1990/flask_app.git\n",
      "\n",
      "\n",
      "\n",
      "\n",
      "\n",
      "notes: #first object should eb INTERABLE object by passing data in ITER function than only it can be itrable\n"
     ]
    }
   ],
   "source": [
    "for i in read_file(\"PWskills details.txt\"):\n",
    "    print(i)"
   ]
  },
  {
   "cell_type": "code",
   "execution_count": null,
   "id": "2c45f49c-211e-4fdf-9100-582f25a4e543",
   "metadata": {},
   "outputs": [],
   "source": []
  }
 ],
 "metadata": {
  "kernelspec": {
   "display_name": "Python 3 (ipykernel)",
   "language": "python",
   "name": "python3"
  },
  "language_info": {
   "codemirror_mode": {
    "name": "ipython",
    "version": 3
   },
   "file_extension": ".py",
   "mimetype": "text/x-python",
   "name": "python",
   "nbconvert_exporter": "python",
   "pygments_lexer": "ipython3",
   "version": "3.10.8"
  }
 },
 "nbformat": 4,
 "nbformat_minor": 5
}
