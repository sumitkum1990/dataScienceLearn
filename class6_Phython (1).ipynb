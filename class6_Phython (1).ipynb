{
 "cells": [
  {
   "cell_type": "code",
   "execution_count": 1,
   "id": "d9a7772f-27b4-4b19-a8a9-2bcd4048c3ca",
   "metadata": {},
   "outputs": [],
   "source": [
    "def greet():\n",
    "    \n",
    "    message = \"Hello\"\n",
    "    \n",
    "    print(\"local\", message)"
   ]
  },
  {
   "cell_type": "code",
   "execution_count": 2,
   "id": "fc558baa-fb1d-40dd-b64c-5f334bd19d6f",
   "metadata": {},
   "outputs": [
    {
     "name": "stdout",
     "output_type": "stream",
     "text": [
      "local Hello\n"
     ]
    }
   ],
   "source": [
    "greet()"
   ]
  },
  {
   "cell_type": "code",
   "execution_count": 3,
   "id": "8a2964b3-29d3-422b-9ec3-808e195be3a8",
   "metadata": {},
   "outputs": [
    {
     "ename": "NameError",
     "evalue": "name 'message' is not defined",
     "output_type": "error",
     "traceback": [
      "\u001b[0;31m---------------------------------------------------------------------------\u001b[0m",
      "\u001b[0;31mNameError\u001b[0m                                 Traceback (most recent call last)",
      "Cell \u001b[0;32mIn[3], line 7\u001b[0m\n\u001b[1;32m      3\u001b[0m     message \u001b[38;5;241m=\u001b[39m \u001b[38;5;124m\"\u001b[39m\u001b[38;5;124mHello\u001b[39m\u001b[38;5;124m\"\u001b[39m\n\u001b[1;32m      5\u001b[0m     \u001b[38;5;28mprint\u001b[39m(\u001b[38;5;124m\"\u001b[39m\u001b[38;5;124mlocal\u001b[39m\u001b[38;5;124m\"\u001b[39m, message)\n\u001b[0;32m----> 7\u001b[0m \u001b[38;5;28mprint\u001b[39m(\u001b[43mmessage\u001b[49m)\n\u001b[1;32m      8\u001b[0m greet()\n",
      "\u001b[0;31mNameError\u001b[0m: name 'message' is not defined"
     ]
    }
   ],
   "source": [
    "def greet():\n",
    "    \n",
    "    message = \"Hello\"\n",
    "    \n",
    "    print(\"local\", message)\n",
    "\n",
    "print(message)\n",
    "greet()"
   ]
  },
  {
   "cell_type": "code",
   "execution_count": 5,
   "id": "c3fdbe90-a046-4dbf-a319-8855bce0e353",
   "metadata": {},
   "outputs": [
    {
     "ename": "NameError",
     "evalue": "name 'x' is not defined",
     "output_type": "error",
     "traceback": [
      "\u001b[0;31m---------------------------------------------------------------------------\u001b[0m",
      "\u001b[0;31mNameError\u001b[0m                                 Traceback (most recent call last)",
      "Cell \u001b[0;32mIn[5], line 6\u001b[0m\n\u001b[1;32m      3\u001b[0m     y \u001b[38;5;241m=\u001b[39m \u001b[38;5;241m30\u001b[39m\n\u001b[1;32m      4\u001b[0m     \u001b[38;5;28mprint\u001b[39m(x\u001b[38;5;241m+\u001b[39my)\n\u001b[0;32m----> 6\u001b[0m \u001b[38;5;28mprint\u001b[39m(\u001b[43mx\u001b[49m)\n\u001b[1;32m      7\u001b[0m \u001b[38;5;28mprint\u001b[39m(y)\n",
      "\u001b[0;31mNameError\u001b[0m: name 'x' is not defined"
     ]
    }
   ],
   "source": [
    "def add():\n",
    "    x = 20\n",
    "    y = 30\n",
    "    print(x+y)\n",
    "\n",
    "print(x)\n",
    "print(y)"
   ]
  },
  {
   "cell_type": "code",
   "execution_count": 8,
   "id": "4bb2ab36-fc44-433a-89f9-e3c15f079527",
   "metadata": {},
   "outputs": [
    {
     "name": "stdout",
     "output_type": "stream",
     "text": [
      "Phython is fantastic\n",
      "Awesome\n"
     ]
    }
   ],
   "source": [
    "x = \"Awesome\" #global scope\n",
    "\n",
    "def myfunc():\n",
    "    x = \"fantastic\" #Local scope , \n",
    "    #local can access variable inside a function only\n",
    "    print(\"Phython is \"+ x)\n",
    "    \n",
    "myfunc()\n",
    "print(x)"
   ]
  },
  {
   "cell_type": "code",
   "execution_count": null,
   "id": "c981c0bd-b703-4b77-a261-3cdd2b8f521c",
   "metadata": {},
   "outputs": [],
   "source": [
    "x = 20\n",
    "\n",
    "def add():\n",
    "    \n",
    "    y = 30\n",
    "    print(\"local variable y = \", y)\n",
    "    \n",
    "    print(\"global variable x = \",x)\n",
    "    \n",
    "    z = x+y\n",
    "    print(z)\n",
    "    \n",
    "def sub():\n",
    "    m=10\n",
    "    print('local variable m =', m)"
   ]
  },
  {
   "cell_type": "code",
   "execution_count": 9,
   "id": "85ce3626-5bfb-4776-a56d-f6c44e806ab8",
   "metadata": {},
   "outputs": [],
   "source": [
    "x = 20\n",
    "\n",
    "def add():\n",
    "    \n",
    "    y = 30\n",
    "    print(\"local variable y = \", y)\n",
    "    \n",
    "    print(\"global variable x = \",x)\n",
    "    \n",
    "    z = x+y\n",
    "    print(z)"
   ]
  },
  {
   "cell_type": "code",
   "execution_count": 10,
   "id": "aeec6429-4f6f-4790-95ba-60e0665b884e",
   "metadata": {},
   "outputs": [
    {
     "name": "stdout",
     "output_type": "stream",
     "text": [
      "local variable y =  30\n",
      "global variable x =  20\n",
      "50\n"
     ]
    }
   ],
   "source": [
    "add()"
   ]
  },
  {
   "cell_type": "code",
   "execution_count": 11,
   "id": "a18e83f0-34d9-44de-ac62-106293570741",
   "metadata": {},
   "outputs": [],
   "source": [
    "#Phython functional arguments\n"
   ]
  },
  {
   "cell_type": "code",
   "execution_count": 12,
   "id": "bb135670-5589-41e4-b3ce-b8419ddf84d9",
   "metadata": {},
   "outputs": [],
   "source": [
    "def add_number(a,b): # positional argument\n",
    "    sum  = a+b\n",
    "    print(\"sum\", sum)"
   ]
  },
  {
   "cell_type": "code",
   "execution_count": 13,
   "id": "8caa42ee-1e33-428d-b3bf-dc0ed62961ce",
   "metadata": {},
   "outputs": [
    {
     "ename": "TypeError",
     "evalue": "add_number() missing 2 required positional arguments: 'a' and 'b'",
     "output_type": "error",
     "traceback": [
      "\u001b[0;31m---------------------------------------------------------------------------\u001b[0m",
      "\u001b[0;31mTypeError\u001b[0m                                 Traceback (most recent call last)",
      "Cell \u001b[0;32mIn[13], line 1\u001b[0m\n\u001b[0;32m----> 1\u001b[0m \u001b[43madd_number\u001b[49m\u001b[43m(\u001b[49m\u001b[43m)\u001b[49m\n",
      "\u001b[0;31mTypeError\u001b[0m: add_number() missing 2 required positional arguments: 'a' and 'b'"
     ]
    }
   ],
   "source": [
    "add_number()"
   ]
  },
  {
   "cell_type": "code",
   "execution_count": 14,
   "id": "d84927cf-3946-413f-bf5c-c0f6efc0fd68",
   "metadata": {},
   "outputs": [
    {
     "ename": "TypeError",
     "evalue": "add_number() missing 1 required positional argument: 'b'",
     "output_type": "error",
     "traceback": [
      "\u001b[0;31m---------------------------------------------------------------------------\u001b[0m",
      "\u001b[0;31mTypeError\u001b[0m                                 Traceback (most recent call last)",
      "Cell \u001b[0;32mIn[14], line 1\u001b[0m\n\u001b[0;32m----> 1\u001b[0m \u001b[43madd_number\u001b[49m\u001b[43m(\u001b[49m\u001b[38;5;241;43m20\u001b[39;49m\u001b[43m)\u001b[49m\n",
      "\u001b[0;31mTypeError\u001b[0m: add_number() missing 1 required positional argument: 'b'"
     ]
    }
   ],
   "source": [
    "add_number(20)"
   ]
  },
  {
   "cell_type": "code",
   "execution_count": 15,
   "id": "836f842d-bf51-4390-b3a3-c427f84ac420",
   "metadata": {},
   "outputs": [
    {
     "ename": "SyntaxError",
     "evalue": "invalid syntax (2056108637.py, line 1)",
     "output_type": "error",
     "traceback": [
      "\u001b[0;36m  Cell \u001b[0;32mIn[15], line 1\u001b[0;36m\u001b[0m\n\u001b[0;31m    add_number(,)\u001b[0m\n\u001b[0m               ^\u001b[0m\n\u001b[0;31mSyntaxError\u001b[0m\u001b[0;31m:\u001b[0m invalid syntax\n"
     ]
    }
   ],
   "source": [
    "add_number(,)"
   ]
  },
  {
   "cell_type": "code",
   "execution_count": 16,
   "id": "d51ef1a3-f179-4e7c-9edf-27a16c364f12",
   "metadata": {},
   "outputs": [
    {
     "ename": "TypeError",
     "evalue": "add_number() missing 1 required positional argument: 'b'",
     "output_type": "error",
     "traceback": [
      "\u001b[0;31m---------------------------------------------------------------------------\u001b[0m",
      "\u001b[0;31mTypeError\u001b[0m                                 Traceback (most recent call last)",
      "Cell \u001b[0;32mIn[16], line 1\u001b[0m\n\u001b[0;32m----> 1\u001b[0m \u001b[43madd_number\u001b[49m\u001b[43m(\u001b[49m\u001b[38;5;241;43m20\u001b[39;49m\u001b[43m,\u001b[49m\u001b[43m \u001b[49m\u001b[43m)\u001b[49m\n",
      "\u001b[0;31mTypeError\u001b[0m: add_number() missing 1 required positional argument: 'b'"
     ]
    }
   ],
   "source": [
    "add_number(20, )"
   ]
  },
  {
   "cell_type": "code",
   "execution_count": 17,
   "id": "7c4cbbbb-146d-42de-ba3f-c61d947fbf0f",
   "metadata": {},
   "outputs": [
    {
     "ename": "SyntaxError",
     "evalue": "invalid syntax (2136925162.py, line 1)",
     "output_type": "error",
     "traceback": [
      "\u001b[0;36m  Cell \u001b[0;32mIn[17], line 1\u001b[0;36m\u001b[0m\n\u001b[0;31m    add_number( ,78)\u001b[0m\n\u001b[0m                ^\u001b[0m\n\u001b[0;31mSyntaxError\u001b[0m\u001b[0;31m:\u001b[0m invalid syntax\n"
     ]
    }
   ],
   "source": [
    "add_number( ,78)"
   ]
  },
  {
   "cell_type": "code",
   "execution_count": 18,
   "id": "fc2f02bc-2919-49e8-bd98-c785dba80996",
   "metadata": {},
   "outputs": [
    {
     "name": "stdout",
     "output_type": "stream",
     "text": [
      "sum 55\n"
     ]
    }
   ],
   "source": [
    "add_number(23,32)"
   ]
  },
  {
   "cell_type": "code",
   "execution_count": 19,
   "id": "d68b8684-5498-4832-b7f8-acf53e15d6d9",
   "metadata": {},
   "outputs": [],
   "source": [
    "def add(a =4, b =6): # default argument\n",
    "    sum = a+b\n",
    "    print(\"sum\",sum)"
   ]
  },
  {
   "cell_type": "code",
   "execution_count": 20,
   "id": "429527ef-d80c-4905-bd1f-2281934d6c68",
   "metadata": {},
   "outputs": [
    {
     "name": "stdout",
     "output_type": "stream",
     "text": [
      "sum 10\n"
     ]
    }
   ],
   "source": [
    "add()"
   ]
  },
  {
   "cell_type": "code",
   "execution_count": 21,
   "id": "4dfec326-26bd-4256-82d4-f49fa28d6b49",
   "metadata": {},
   "outputs": [],
   "source": [
    "def emp_name(name = \"pwskilss\"):\n",
    "    print(\"my name is \", name)"
   ]
  },
  {
   "cell_type": "code",
   "execution_count": 22,
   "id": "06f27c35-e9a1-465c-948d-b49c67133321",
   "metadata": {},
   "outputs": [
    {
     "name": "stdout",
     "output_type": "stream",
     "text": [
      "my name is  pwskilss\n"
     ]
    }
   ],
   "source": [
    "emp_name()"
   ]
  },
  {
   "cell_type": "code",
   "execution_count": 23,
   "id": "480a9be1-668b-4d9a-9f29-909beb686291",
   "metadata": {},
   "outputs": [],
   "source": [
    "#Keyword arguments"
   ]
  },
  {
   "cell_type": "code",
   "execution_count": 24,
   "id": "de4a03df-413d-45cd-8549-83fc9a91808b",
   "metadata": {},
   "outputs": [],
   "source": [
    "def display_info(first_name, last_name):\n",
    "    print(\"first name\", first_name)\n",
    "    print(\"last name\", last_name)"
   ]
  },
  {
   "cell_type": "code",
   "execution_count": 25,
   "id": "c3e875ec-bb28-499f-8a92-3a2aa0c2dd5b",
   "metadata": {},
   "outputs": [
    {
     "name": "stdout",
     "output_type": "stream",
     "text": [
      "first name pw\n",
      "last name skills\n"
     ]
    }
   ],
   "source": [
    "display_info(first_name = 'pw' , last_name= 'skills')"
   ]
  },
  {
   "cell_type": "code",
   "execution_count": 26,
   "id": "c56366d8-4395-498b-96ff-7455c8e23f87",
   "metadata": {},
   "outputs": [
    {
     "name": "stdout",
     "output_type": "stream",
     "text": [
      "first name pw\n",
      "last name skills\n"
     ]
    }
   ],
   "source": [
    "display_info(  last_name= 'skills', first_name = 'pw')"
   ]
  },
  {
   "cell_type": "code",
   "execution_count": 27,
   "id": "7037ad5c-eadc-47f2-a97a-f548a6a8b3f9",
   "metadata": {},
   "outputs": [],
   "source": [
    "def add(a,b): \n",
    "    sum = a+b\n",
    "    print(\"sum\",sum)"
   ]
  },
  {
   "cell_type": "code",
   "execution_count": 28,
   "id": "d3b8c897-e8ab-41f5-a264-c17a017a066a",
   "metadata": {},
   "outputs": [
    {
     "name": "stdout",
     "output_type": "stream",
     "text": [
      "sum 15\n"
     ]
    }
   ],
   "source": [
    "add( a= 6, b=9)"
   ]
  },
  {
   "cell_type": "code",
   "execution_count": 29,
   "id": "7c669d6c-f5e8-4275-8828-b19a453d56e7",
   "metadata": {},
   "outputs": [
    {
     "name": "stdout",
     "output_type": "stream",
     "text": [
      "sum 6\n"
     ]
    }
   ],
   "source": [
    "add( b= 2, a=4)"
   ]
  },
  {
   "cell_type": "code",
   "execution_count": 33,
   "id": "b560b03f-32c9-4d3a-b580-1d6d7fd95929",
   "metadata": {},
   "outputs": [
    {
     "name": "stdout",
     "output_type": "stream",
     "text": [
      "sum 98.98\n"
     ]
    }
   ],
   "source": [
    "add( a= 89.98, b=9)"
   ]
  },
  {
   "cell_type": "code",
   "execution_count": 34,
   "id": "4b49cd41-b797-448a-ae17-c434f49831b8",
   "metadata": {},
   "outputs": [],
   "source": [
    "#argument"
   ]
  },
  {
   "cell_type": "code",
   "execution_count": 35,
   "id": "a0f1588d-94aa-4e44-a170-f4c6eaeeb06d",
   "metadata": {},
   "outputs": [],
   "source": [
    "#*args and **kargs"
   ]
  },
  {
   "cell_type": "code",
   "execution_count": 44,
   "id": "801184d8-6e65-4c59-a60d-7225736cc5e6",
   "metadata": {},
   "outputs": [],
   "source": [
    "def find_num(*number): # vaiable lenth argument\n",
    "    result = 0\n",
    "    \n",
    "    for num in number:\n",
    "        result = result + num\n",
    "    print(\"sum\", result)"
   ]
  },
  {
   "cell_type": "code",
   "execution_count": 47,
   "id": "eb83d689-a906-44b1-b894-079f586c2e67",
   "metadata": {},
   "outputs": [
    {
     "name": "stdout",
     "output_type": "stream",
     "text": [
      "sum 9\n"
     ]
    }
   ],
   "source": [
    "find_num(2,3,4)"
   ]
  },
  {
   "cell_type": "code",
   "execution_count": 48,
   "id": "d9e099ca-99cb-449c-ac0e-c5433aeb0bf5",
   "metadata": {},
   "outputs": [
    {
     "name": "stdout",
     "output_type": "stream",
     "text": [
      "sum 0\n"
     ]
    }
   ],
   "source": [
    "find_num()"
   ]
  },
  {
   "cell_type": "code",
   "execution_count": 49,
   "id": "d121e29d-25cb-4d0e-a8ad-06d5d2e7f147",
   "metadata": {},
   "outputs": [],
   "source": [
    "def simple(*x):\n",
    "    print(x)"
   ]
  },
  {
   "cell_type": "code",
   "execution_count": 50,
   "id": "1c58d53f-e882-4fc2-8f6e-299debe786ae",
   "metadata": {},
   "outputs": [
    {
     "name": "stdout",
     "output_type": "stream",
     "text": [
      "()\n"
     ]
    }
   ],
   "source": [
    "simple()"
   ]
  },
  {
   "cell_type": "code",
   "execution_count": 51,
   "id": "171ba2a8-50dd-4ae2-ba1d-cd49e796aa50",
   "metadata": {},
   "outputs": [
    {
     "name": "stdout",
     "output_type": "stream",
     "text": [
      "(1, 2, 3)\n"
     ]
    }
   ],
   "source": [
    "simple(1,2,3)"
   ]
  },
  {
   "cell_type": "code",
   "execution_count": 57,
   "id": "18909ee5-53e6-4f42-9b26-16d0dd7961b0",
   "metadata": {},
   "outputs": [],
   "source": [
    "#maily use for WEBSCRAPPING project\n",
    "#keyword argument\n",
    "#output is in Dictionary format\n",
    "def intro(**data): #can pass any numbero of key, value pari\n",
    "    print(\"data type of an argument\" ,type(data))\n",
    "    \n",
    "    for key,value in data.items():\n",
    "        print(key,value)"
   ]
  },
  {
   "cell_type": "code",
   "execution_count": 58,
   "id": "d0c4d8c2-1cd2-4c08-8773-0ae9f06db90a",
   "metadata": {},
   "outputs": [
    {
     "name": "stdout",
     "output_type": "stream",
     "text": [
      "data type of an argument <class 'dict'>\n",
      "firstname pw\n",
      "lastname skills\n"
     ]
    }
   ],
   "source": [
    "intro(firstname = 'pw', lastname = 'skills') "
   ]
  },
  {
   "cell_type": "code",
   "execution_count": 54,
   "id": "2b9fc093-cf23-4807-b049-54dca4f1e132",
   "metadata": {},
   "outputs": [],
   "source": [
    "x = { 'a':1 , 'b' :2}"
   ]
  },
  {
   "cell_type": "code",
   "execution_count": 56,
   "id": "0fe6f537-0168-45e8-9870-2370adb635bf",
   "metadata": {},
   "outputs": [
    {
     "name": "stdout",
     "output_type": "stream",
     "text": [
      "a 1\n",
      "b 2\n"
     ]
    }
   ],
   "source": [
    "for keys,value in x.items():\n",
    "    print(keys, value)"
   ]
  },
  {
   "cell_type": "code",
   "execution_count": 60,
   "id": "ad107100-9e2f-49f1-867f-a1148c43bc85",
   "metadata": {},
   "outputs": [],
   "source": [
    "def simple(*y):\n",
    "    print(y)"
   ]
  },
  {
   "cell_type": "code",
   "execution_count": 61,
   "id": "292e0140-8d8b-4476-a883-3a67a3966aad",
   "metadata": {},
   "outputs": [
    {
     "name": "stdout",
     "output_type": "stream",
     "text": [
      "(1, 2, 3, 4, 5, 5, 6)\n"
     ]
    }
   ],
   "source": [
    "simple(1,2,3,4,5,5,6)"
   ]
  },
  {
   "cell_type": "code",
   "execution_count": 62,
   "id": "7a0d59c1-f6dd-4b0d-81be-5b267a1de3db",
   "metadata": {},
   "outputs": [],
   "source": [
    "def simple(**x):\n",
    "    print(x)"
   ]
  },
  {
   "cell_type": "code",
   "execution_count": 63,
   "id": "67da91e9-2d6b-459a-b603-f2812a9d79c6",
   "metadata": {},
   "outputs": [
    {
     "name": "stdout",
     "output_type": "stream",
     "text": [
      "{'name': 'Sumit'}\n"
     ]
    }
   ],
   "source": [
    "simple(name = 'Sumit')"
   ]
  },
  {
   "cell_type": "code",
   "execution_count": 64,
   "id": "747382d0-d9e9-436c-ab2b-a34f3814c91b",
   "metadata": {},
   "outputs": [
    {
     "name": "stdout",
     "output_type": "stream",
     "text": [
      "{'name': 'Sumit', 'last': 'Kumar'}\n"
     ]
    }
   ],
   "source": [
    "simple(name = 'Sumit', last = 'Kumar')"
   ]
  },
  {
   "cell_type": "code",
   "execution_count": 65,
   "id": "4e01193f-b6d4-4cfa-b66f-99d213640742",
   "metadata": {},
   "outputs": [
    {
     "name": "stdout",
     "output_type": "stream",
     "text": [
      "{'name': 'Sumit', 'last': 'Kumar', 'age': 33}\n"
     ]
    }
   ],
   "source": [
    "simple(name = 'Sumit', last = 'Kumar', age = 33)"
   ]
  },
  {
   "cell_type": "code",
   "execution_count": 66,
   "id": "e9afddc3-6eb2-4582-a6dc-7fda161294d0",
   "metadata": {},
   "outputs": [],
   "source": [
    "def show_keyvalue(**y):\n",
    "    print(y)"
   ]
  },
  {
   "cell_type": "code",
   "execution_count": 68,
   "id": "781ae003-2d8a-4f69-bb96-14c82e344174",
   "metadata": {},
   "outputs": [
    {
     "name": "stdout",
     "output_type": "stream",
     "text": [
      "{'x': 1, 'y': 2}\n"
     ]
    }
   ],
   "source": [
    "show_keyvalue(x =1, y =2)"
   ]
  },
  {
   "cell_type": "code",
   "execution_count": 69,
   "id": "b28af978-f588-4370-a735-58e83dcf011d",
   "metadata": {},
   "outputs": [
    {
     "ename": "TypeError",
     "evalue": "show_keyvalue() takes 0 positional arguments but 1 was given",
     "output_type": "error",
     "traceback": [
      "\u001b[0;31m---------------------------------------------------------------------------\u001b[0m",
      "\u001b[0;31mTypeError\u001b[0m                                 Traceback (most recent call last)",
      "Cell \u001b[0;32mIn[69], line 1\u001b[0m\n\u001b[0;32m----> 1\u001b[0m \u001b[43mshow_keyvalue\u001b[49m\u001b[43m(\u001b[49m\u001b[38;5;241;43m3\u001b[39;49m\u001b[43m)\u001b[49m\n",
      "\u001b[0;31mTypeError\u001b[0m: show_keyvalue() takes 0 positional arguments but 1 was given"
     ]
    }
   ],
   "source": [
    "show_keyvalue(3)"
   ]
  },
  {
   "cell_type": "code",
   "execution_count": 70,
   "id": "c42f0f24-e468-49ff-adbd-4f6259d76e36",
   "metadata": {},
   "outputs": [],
   "source": [
    "#Lambda function or Anonymous function\n",
    "#function without a name"
   ]
  },
  {
   "cell_type": "code",
   "execution_count": 71,
   "id": "622068ca-0ce0-40f1-854b-0f461e18f21d",
   "metadata": {},
   "outputs": [
    {
     "data": {
      "text/plain": [
       "<function __main__.<lambda>()>"
      ]
     },
     "execution_count": 71,
     "metadata": {},
     "output_type": "execute_result"
    }
   ],
   "source": [
    "lambda : print(\"Hello World\")"
   ]
  },
  {
   "cell_type": "code",
   "execution_count": 72,
   "id": "9da5bd70-1a16-4135-94b7-c6e083b2e0fa",
   "metadata": {},
   "outputs": [
    {
     "ename": "TypeError",
     "evalue": "'dict' object is not callable",
     "output_type": "error",
     "traceback": [
      "\u001b[0;31m---------------------------------------------------------------------------\u001b[0m",
      "\u001b[0;31mTypeError\u001b[0m                                 Traceback (most recent call last)",
      "Cell \u001b[0;32mIn[72], line 1\u001b[0m\n\u001b[0;32m----> 1\u001b[0m \u001b[43mx\u001b[49m\u001b[43m(\u001b[49m\u001b[43m)\u001b[49m\n",
      "\u001b[0;31mTypeError\u001b[0m: 'dict' object is not callable"
     ]
    }
   ],
   "source": [
    "x()"
   ]
  },
  {
   "cell_type": "code",
   "execution_count": 73,
   "id": "de3e5c33-3296-4992-8fbf-213f3ec455f5",
   "metadata": {},
   "outputs": [],
   "source": [
    "x  = lambda : print(\"Hello World\")"
   ]
  },
  {
   "cell_type": "code",
   "execution_count": 74,
   "id": "96debbcc-76f9-4882-b284-102f0ea8ec29",
   "metadata": {},
   "outputs": [
    {
     "name": "stdout",
     "output_type": "stream",
     "text": [
      "Hello World\n"
     ]
    }
   ],
   "source": [
    "x()"
   ]
  },
  {
   "cell_type": "code",
   "execution_count": 75,
   "id": "d61723b4-0e2c-4e34-9aba-15abf8704c9b",
   "metadata": {},
   "outputs": [
    {
     "data": {
      "text/plain": [
       "<function __main__.<lambda>(a, b)>"
      ]
     },
     "execution_count": 75,
     "metadata": {},
     "output_type": "execute_result"
    }
   ],
   "source": [
    "lambda a,b: a+b"
   ]
  },
  {
   "cell_type": "code",
   "execution_count": 76,
   "id": "650bd024-84f4-4795-85db-93aeddf30da4",
   "metadata": {},
   "outputs": [],
   "source": [
    "addnum = lambda a,b :a+b"
   ]
  },
  {
   "cell_type": "code",
   "execution_count": 77,
   "id": "c02ec6ce-c00e-42f4-a4d0-d1734e0aba30",
   "metadata": {},
   "outputs": [
    {
     "ename": "TypeError",
     "evalue": "<lambda>() missing 2 required positional arguments: 'a' and 'b'",
     "output_type": "error",
     "traceback": [
      "\u001b[0;31m---------------------------------------------------------------------------\u001b[0m",
      "\u001b[0;31mTypeError\u001b[0m                                 Traceback (most recent call last)",
      "Cell \u001b[0;32mIn[77], line 1\u001b[0m\n\u001b[0;32m----> 1\u001b[0m \u001b[43maddnum\u001b[49m\u001b[43m(\u001b[49m\u001b[43m)\u001b[49m\n",
      "\u001b[0;31mTypeError\u001b[0m: <lambda>() missing 2 required positional arguments: 'a' and 'b'"
     ]
    }
   ],
   "source": [
    "addnum()"
   ]
  },
  {
   "cell_type": "code",
   "execution_count": 78,
   "id": "97e2adda-45cb-48a3-b947-55d51406d7ed",
   "metadata": {},
   "outputs": [
    {
     "data": {
      "text/plain": [
       "5"
      ]
     },
     "execution_count": 78,
     "metadata": {},
     "output_type": "execute_result"
    }
   ],
   "source": [
    "addnum(2,3)"
   ]
  },
  {
   "cell_type": "code",
   "execution_count": 79,
   "id": "063060cf-fc03-46aa-add6-259cbb5f51f1",
   "metadata": {},
   "outputs": [],
   "source": [
    "mulnum = lambda a,b :a*b"
   ]
  },
  {
   "cell_type": "code",
   "execution_count": 80,
   "id": "1ce3f442-a1bd-4e70-99fa-74e27b473de3",
   "metadata": {},
   "outputs": [
    {
     "data": {
      "text/plain": [
       "12"
      ]
     },
     "execution_count": 80,
     "metadata": {},
     "output_type": "execute_result"
    }
   ],
   "source": [
    "mulnum(3,4)"
   ]
  },
  {
   "cell_type": "code",
   "execution_count": 81,
   "id": "04aa38c4-ae4b-4c8b-b339-3726bd241363",
   "metadata": {},
   "outputs": [
    {
     "name": "stdin",
     "output_type": "stream",
     "text": [
      "enter first number 34\n",
      "enter second number 43\n"
     ]
    },
    {
     "name": "stdout",
     "output_type": "stream",
     "text": [
      "(1156, 1849)\n"
     ]
    }
   ],
   "source": [
    "a = int(input(\"enter first number\"))\n",
    "b = int(input(\"enter second number\"))\n",
    "\n",
    "square = lambda a,b : (a**2, b**2)\n",
    "print(square(a,b))"
   ]
  },
  {
   "cell_type": "code",
   "execution_count": 83,
   "id": "9280f206-78e2-4c63-90c6-6764b9594f8e",
   "metadata": {},
   "outputs": [
    {
     "name": "stdin",
     "output_type": "stream",
     "text": [
      "enter number 5\n"
     ]
    },
    {
     "data": {
      "text/plain": [
       "'False'"
      ]
     },
     "execution_count": 83,
     "metadata": {},
     "output_type": "execute_result"
    }
   ],
   "source": [
    "n = int(input(\"enter number\"))\n",
    "\n",
    "a = lambda n: \"True\" if n%2 == 0 else \"False\"\n",
    "a(n)"
   ]
  },
  {
   "cell_type": "code",
   "execution_count": 84,
   "id": "fbab36f5-f555-470a-b7f0-5d4f3e0c562e",
   "metadata": {},
   "outputs": [
    {
     "name": "stdin",
     "output_type": "stream",
     "text": [
      "enter number 8\n"
     ]
    },
    {
     "data": {
      "text/plain": [
       "'True'"
      ]
     },
     "execution_count": 84,
     "metadata": {},
     "output_type": "execute_result"
    }
   ],
   "source": [
    "n = int(input(\"enter number\"))\n",
    "\n",
    "a = lambda n: \"True\" if n%2 == 0 else \"False\"\n",
    "a(n)"
   ]
  },
  {
   "cell_type": "code",
   "execution_count": 85,
   "id": "caceb94a-63e7-41a1-aa64-8bce38b896c1",
   "metadata": {},
   "outputs": [],
   "source": [
    " w = lambda p,q : p if p>q else q "
   ]
  },
  {
   "cell_type": "code",
   "execution_count": 86,
   "id": "78673f0f-8eda-4d1d-a3c1-dc1cca0c2e2e",
   "metadata": {},
   "outputs": [
    {
     "data": {
      "text/plain": [
       "<function __main__.<lambda>(p, q)>"
      ]
     },
     "execution_count": 86,
     "metadata": {},
     "output_type": "execute_result"
    }
   ],
   "source": [
    "w"
   ]
  },
  {
   "cell_type": "code",
   "execution_count": 87,
   "id": "1b43cada-967f-4ba8-8d03-4b41527a39cf",
   "metadata": {},
   "outputs": [
    {
     "data": {
      "text/plain": [
       "9"
      ]
     },
     "execution_count": 87,
     "metadata": {},
     "output_type": "execute_result"
    }
   ],
   "source": [
    "w(7,9)"
   ]
  },
  {
   "cell_type": "code",
   "execution_count": 88,
   "id": "5c1d1cce-1a9f-4622-8d5d-690e4d05f630",
   "metadata": {},
   "outputs": [],
   "source": [
    "sum_of= lambda a,b,c :(a+b+c)"
   ]
  },
  {
   "cell_type": "code",
   "execution_count": 89,
   "id": "1cc5adec-9289-4598-8628-9eef6f89a00b",
   "metadata": {},
   "outputs": [
    {
     "data": {
      "text/plain": [
       "18"
      ]
     },
     "execution_count": 89,
     "metadata": {},
     "output_type": "execute_result"
    }
   ],
   "source": [
    "sum_of(5,6,7)"
   ]
  },
  {
   "cell_type": "code",
   "execution_count": 90,
   "id": "c40b9eef-b48a-48fc-8a4d-6b185af4b8cd",
   "metadata": {},
   "outputs": [
    {
     "data": {
      "text/plain": [
       "[{'name': 'product3', 'price': 30},\n",
       " {'name': 'product2', 'price': 40},\n",
       " {'name': 'product1', 'price': 50},\n",
       " {'name': 'product4', 'price': 80}]"
      ]
     },
     "execution_count": 90,
     "metadata": {},
     "output_type": "execute_result"
    }
   ],
   "source": [
    "products = [\n",
    "    {'name':'product1','price':50},\n",
    "    {'name':'product2','price':40},\n",
    "    {'name':'product3','price':30},\n",
    "    {'name':'product4','price':80}\n",
    "]\n",
    "sorted( products, key = lambda x:x['price'])\n",
    "\n",
    "    \n",
    "    \n",
    "    "
   ]
  },
  {
   "cell_type": "code",
   "execution_count": 91,
   "id": "6d76b30a-b5ce-414a-bc98-8aa346c63e68",
   "metadata": {},
   "outputs": [
    {
     "ename": "TypeError",
     "evalue": "'builtin_function_or_method' object is not iterable",
     "output_type": "error",
     "traceback": [
      "\u001b[0;31m---------------------------------------------------------------------------\u001b[0m",
      "\u001b[0;31mTypeError\u001b[0m                                 Traceback (most recent call last)",
      "Cell \u001b[0;32mIn[91], line 1\u001b[0m\n\u001b[0;32m----> 1\u001b[0m \u001b[38;5;28;01mfor\u001b[39;00m i \u001b[38;5;129;01min\u001b[39;00m \u001b[38;5;28msorted\u001b[39m:\n\u001b[1;32m      2\u001b[0m     \u001b[38;5;28mprint\u001b[39m(i)\n",
      "\u001b[0;31mTypeError\u001b[0m: 'builtin_function_or_method' object is not iterable"
     ]
    }
   ],
   "source": [
    "for i in sorted:\n",
    "    print(i)"
   ]
  },
  {
   "cell_type": "code",
   "execution_count": 92,
   "id": "fe874843-1177-4d8f-bda5-c4ea3c303d43",
   "metadata": {},
   "outputs": [],
   "source": [
    "products = [\n",
    "    {'name':'product1','price':50},\n",
    "    {'name':'product2','price':40},\n",
    "    {'name':'product3','price':30},\n",
    "    {'name':'product4','price':80}\n",
    "]\n",
    "sorted_product = sorted( products, key = lambda x:x['price'])\n",
    "\n",
    "\n"
   ]
  },
  {
   "cell_type": "code",
   "execution_count": 93,
   "id": "ee66c749-f143-4309-9f4c-5ce6a0e52abe",
   "metadata": {},
   "outputs": [
    {
     "name": "stdout",
     "output_type": "stream",
     "text": [
      "{'name': 'product3', 'price': 30}\n",
      "{'name': 'product2', 'price': 40}\n",
      "{'name': 'product1', 'price': 50}\n",
      "{'name': 'product4', 'price': 80}\n"
     ]
    }
   ],
   "source": [
    "for i in sorted_product:\n",
    "    print(i)"
   ]
  },
  {
   "cell_type": "code",
   "execution_count": 94,
   "id": "76691da4-818a-448d-916c-35b2a660acd2",
   "metadata": {},
   "outputs": [],
   "source": [
    "products = [\n",
    "    {'name':'product1','price':50},\n",
    "    {'name':'product2','price':40},\n",
    "    {'name':'product3','price':30},\n",
    "    {'name':'product4','price':80}\n",
    "]\n",
    "sorted_product = sorted( products, key = lambda x:x['price'], reverse =True)\n"
   ]
  },
  {
   "cell_type": "code",
   "execution_count": 95,
   "id": "6580c6b5-06e8-4a43-8354-955b59312a02",
   "metadata": {},
   "outputs": [
    {
     "name": "stdout",
     "output_type": "stream",
     "text": [
      "{'name': 'product4', 'price': 80}\n",
      "{'name': 'product1', 'price': 50}\n",
      "{'name': 'product2', 'price': 40}\n",
      "{'name': 'product3', 'price': 30}\n"
     ]
    }
   ],
   "source": [
    "for i in sorted_product:\n",
    "    print(i)"
   ]
  },
  {
   "cell_type": "code",
   "execution_count": 96,
   "id": "06d6c30b-de89-4cbe-a638-f4a6f6976fb4",
   "metadata": {},
   "outputs": [],
   "source": [
    "#check for vowel"
   ]
  },
  {
   "cell_type": "code",
   "execution_count": 99,
   "id": "00081e62-e71f-4cb8-9869-d8f4ed07e6cb",
   "metadata": {},
   "outputs": [
    {
     "ename": "SyntaxError",
     "evalue": "expected 'else' after 'if' expression (3487364084.py, line 2)",
     "output_type": "error",
     "traceback": [
      "\u001b[0;36m  Cell \u001b[0;32mIn[99], line 2\u001b[0;36m\u001b[0m\n\u001b[0;31m    x = lambda a: \"vowel\" if x == a elif x == e elif x == i elif x == o elif x == u else \"not vowel\"\u001b[0m\n\u001b[0m                  ^\u001b[0m\n\u001b[0;31mSyntaxError\u001b[0m\u001b[0;31m:\u001b[0m expected 'else' after 'if' expression\n"
     ]
    }
   ],
   "source": [
    "char = input(\"enter a  string\")\n",
    "x = lambda a: \"vowel\" if x == a elif x == e elif x == i elif x == o elif x == u else \"not vowel\"\n",
    "\n",
    "#a = lambda n: \"True\" if n%2 == 0 else \"False\""
   ]
  },
  {
   "cell_type": "code",
   "execution_count": 100,
   "id": "963add6d-81c8-4b0b-b5ce-6ca8989da3ac",
   "metadata": {},
   "outputs": [
    {
     "data": {
      "text/plain": [
       "10"
      ]
     },
     "execution_count": 100,
     "metadata": {},
     "output_type": "execute_result"
    }
   ],
   "source": [
    "x = -10\n",
    "abs(x)"
   ]
  },
  {
   "cell_type": "code",
   "execution_count": 101,
   "id": "92eb7080-2a4d-4f60-adba-98eff437f2c1",
   "metadata": {},
   "outputs": [],
   "source": [
    "x = 2"
   ]
  },
  {
   "cell_type": "code",
   "execution_count": 102,
   "id": "0ee6cc25-cade-4fce-8c4d-35919968604c",
   "metadata": {},
   "outputs": [],
   "source": [
    " y = str(x)"
   ]
  },
  {
   "cell_type": "code",
   "execution_count": 103,
   "id": "1d572b67-4bb6-4bc4-a70e-2ffc245c80db",
   "metadata": {},
   "outputs": [
    {
     "data": {
      "text/plain": [
       "'2'"
      ]
     },
     "execution_count": 103,
     "metadata": {},
     "output_type": "execute_result"
    }
   ],
   "source": [
    "y"
   ]
  },
  {
   "cell_type": "code",
   "execution_count": 104,
   "id": "9ca17ca8-673f-4762-9c81-12b99f0b0a85",
   "metadata": {},
   "outputs": [],
   "source": [
    "language = ['private', 'java', 'javascript']"
   ]
  },
  {
   "cell_type": "code",
   "execution_count": 105,
   "id": "2d60a46a-64c6-4087-bcc4-487a5ab36b9b",
   "metadata": {},
   "outputs": [],
   "source": [
    "enumerate_prime =enumerate(language,2)"
   ]
  },
  {
   "cell_type": "code",
   "execution_count": 106,
   "id": "4fe7345b-d603-4a7b-9d7c-92beb8c17a37",
   "metadata": {},
   "outputs": [
    {
     "data": {
      "text/plain": [
       "[(2, 'private'), (3, 'java'), (4, 'javascript')]"
      ]
     },
     "execution_count": 106,
     "metadata": {},
     "output_type": "execute_result"
    }
   ],
   "source": [
    "list(enumerate_prime)"
   ]
  },
  {
   "cell_type": "code",
   "execution_count": 107,
   "id": "943ba09d-27c9-43f8-8171-453d26c6e8e8",
   "metadata": {},
   "outputs": [],
   "source": [
    "enumerate_prime =enumerate(language,80)"
   ]
  },
  {
   "cell_type": "code",
   "execution_count": 108,
   "id": "a86247bf-7603-446d-8501-11216d830d22",
   "metadata": {},
   "outputs": [
    {
     "data": {
      "text/plain": [
       "[(80, 'private'), (81, 'java'), (82, 'javascript')]"
      ]
     },
     "execution_count": 108,
     "metadata": {},
     "output_type": "execute_result"
    }
   ],
   "source": [
    "list(enumerate_prime)"
   ]
  },
  {
   "cell_type": "code",
   "execution_count": 109,
   "id": "b1d395f7-2492-4cfc-af7d-20a3d009f240",
   "metadata": {},
   "outputs": [],
   "source": [
    "enumerate_prime =enumerate(language)"
   ]
  },
  {
   "cell_type": "code",
   "execution_count": 110,
   "id": "92133804-b145-4c1e-902a-8ca6adde5c49",
   "metadata": {},
   "outputs": [
    {
     "data": {
      "text/plain": [
       "[(0, 'private'), (1, 'java'), (2, 'javascript')]"
      ]
     },
     "execution_count": 110,
     "metadata": {},
     "output_type": "execute_result"
    }
   ],
   "source": [
    "list(enumerate_prime)"
   ]
  },
  {
   "cell_type": "code",
   "execution_count": 111,
   "id": "5c5754e1-7e86-49d7-b95a-cecbeed5956d",
   "metadata": {},
   "outputs": [],
   "source": [
    "#list comprehension"
   ]
  },
  {
   "cell_type": "code",
   "execution_count": 114,
   "id": "0192ff22-885d-4083-a8a6-6b5413f94613",
   "metadata": {},
   "outputs": [],
   "source": [
    "lst = [1,2,3,4,5,6,7,8,9,10]"
   ]
  },
  {
   "cell_type": "code",
   "execution_count": 115,
   "id": "4d083d52-7dc3-4a62-ba93-e45cad6904b8",
   "metadata": {},
   "outputs": [],
   "source": [
    "a = [x for x in lst]"
   ]
  },
  {
   "cell_type": "code",
   "execution_count": 116,
   "id": "0f401c24-a27a-4bbc-9797-ec1d12f604ce",
   "metadata": {},
   "outputs": [
    {
     "data": {
      "text/plain": [
       "[1, 2, 3, 4, 5, 6, 7, 8, 9, 10]"
      ]
     },
     "execution_count": 116,
     "metadata": {},
     "output_type": "execute_result"
    }
   ],
   "source": [
    "a"
   ]
  },
  {
   "cell_type": "code",
   "execution_count": 117,
   "id": "415e1a41-2926-46ad-96a6-38fd5097438f",
   "metadata": {},
   "outputs": [
    {
     "name": "stdout",
     "output_type": "stream",
     "text": [
      "1\n",
      "2\n",
      "3\n",
      "4\n",
      "5\n",
      "6\n",
      "7\n",
      "8\n",
      "9\n",
      "10\n"
     ]
    }
   ],
   "source": [
    "for i in lst:\n",
    "    print(i)"
   ]
  },
  {
   "cell_type": "code",
   "execution_count": 118,
   "id": "10b894cd-29d9-421e-8142-43afb853b7ec",
   "metadata": {},
   "outputs": [],
   "source": [
    "lst = [1,2,3,4,5,6,7,8,9,10]\n",
    "a  = [x+1 for x in lst]"
   ]
  },
  {
   "cell_type": "code",
   "execution_count": 119,
   "id": "cabc71b4-1d3e-47b6-8992-29850a0b4b46",
   "metadata": {},
   "outputs": [
    {
     "data": {
      "text/plain": [
       "[2, 3, 4, 5, 6, 7, 8, 9, 10, 11]"
      ]
     },
     "execution_count": 119,
     "metadata": {},
     "output_type": "execute_result"
    }
   ],
   "source": [
    "a"
   ]
  },
  {
   "cell_type": "code",
   "execution_count": 120,
   "id": "0a721df7-6e5a-4800-8c93-80dc43ac75d6",
   "metadata": {},
   "outputs": [],
   "source": [
    "lst = [1,2,3,4,5,6,7,8,9,10]\n",
    "a  = [x*2 for x in lst]"
   ]
  },
  {
   "cell_type": "code",
   "execution_count": 121,
   "id": "8711befa-5690-415a-a7f4-2c9e0f74aca6",
   "metadata": {},
   "outputs": [
    {
     "data": {
      "text/plain": [
       "[2, 4, 6, 8, 10, 12, 14, 16, 18, 20]"
      ]
     },
     "execution_count": 121,
     "metadata": {},
     "output_type": "execute_result"
    }
   ],
   "source": [
    "a"
   ]
  },
  {
   "cell_type": "code",
   "execution_count": 125,
   "id": "3463ebd4-39a4-4a12-968b-51db933a4f47",
   "metadata": {},
   "outputs": [],
   "source": [
    "lst = [1,2,3,4,5,6,7,8,9,10]\n",
    "\n",
    "c = [ x for x in lst if x>4]"
   ]
  },
  {
   "cell_type": "code",
   "execution_count": 126,
   "id": "622184c4-60a8-4f0e-91d0-993f1ff05751",
   "metadata": {},
   "outputs": [
    {
     "data": {
      "text/plain": [
       "[5, 6, 7, 8, 9, 10]"
      ]
     },
     "execution_count": 126,
     "metadata": {},
     "output_type": "execute_result"
    }
   ],
   "source": [
    "c"
   ]
  },
  {
   "cell_type": "code",
   "execution_count": 127,
   "id": "e0f766d0-0f9e-4e6f-98e3-9556f635b19f",
   "metadata": {},
   "outputs": [],
   "source": [
    "a = []\n",
    "\n",
    "for x in lst:\n",
    "    if x>4:\n",
    "        a.append(x)\n",
    "    "
   ]
  },
  {
   "cell_type": "code",
   "execution_count": 128,
   "id": "6422b251-ed39-4f71-8372-deaed9b106bd",
   "metadata": {},
   "outputs": [
    {
     "data": {
      "text/plain": [
       "[5, 6, 7, 8, 9, 10]"
      ]
     },
     "execution_count": 128,
     "metadata": {},
     "output_type": "execute_result"
    }
   ],
   "source": [
    "a"
   ]
  },
  {
   "cell_type": "code",
   "execution_count": 130,
   "id": "3c0c4cbe-9bba-4f9d-873f-9baad475ce04",
   "metadata": {},
   "outputs": [
    {
     "data": {
      "text/plain": [
       "[2, 4, 6, 8, 10]"
      ]
     },
     "execution_count": 130,
     "metadata": {},
     "output_type": "execute_result"
    }
   ],
   "source": [
    "lst = [1,2,3,4,5,6,7,8,9,10]\n",
    "\n",
    "result = [i for i in lst if i%2==0]\n",
    "result"
   ]
  },
  {
   "cell_type": "code",
   "execution_count": 134,
   "id": "767d6298-4bdf-4fea-8f34-cc1a5b6ae628",
   "metadata": {},
   "outputs": [
    {
     "ename": "SyntaxError",
     "evalue": "invalid syntax (2590677348.py, line 3)",
     "output_type": "error",
     "traceback": [
      "\u001b[0;36m  Cell \u001b[0;32mIn[134], line 3\u001b[0;36m\u001b[0m\n\u001b[0;31m    result = [ i for i in lst if i/i==1 else if i/1==1 ]\u001b[0m\n\u001b[0m                                        ^\u001b[0m\n\u001b[0;31mSyntaxError\u001b[0m\u001b[0;31m:\u001b[0m invalid syntax\n"
     ]
    }
   ],
   "source": [
    "lst = [1,2,3,4,5,6,7,8,9,10]\n",
    "#prime check\n",
    "result = [ i for i in lst if i/i==1 else if i/1==1 ]\n",
    "result"
   ]
  },
  {
   "cell_type": "code",
   "execution_count": 135,
   "id": "54a57ef1-cd32-4ddc-91c1-a426964b6416",
   "metadata": {},
   "outputs": [],
   "source": [
    "lst = [1,2,3,4,5,6,7,8,9,10]\n",
    "e = [ x if x>4 else 'lessthan 4' for x in lst]"
   ]
  },
  {
   "cell_type": "code",
   "execution_count": 136,
   "id": "f5241c45-9dae-445a-82ef-32fcd45b7699",
   "metadata": {},
   "outputs": [
    {
     "data": {
      "text/plain": [
       "['lessthan 4', 'lessthan 4', 'lessthan 4', 'lessthan 4', 5, 6, 7, 8, 9, 10]"
      ]
     },
     "execution_count": 136,
     "metadata": {},
     "output_type": "execute_result"
    }
   ],
   "source": [
    "e"
   ]
  },
  {
   "cell_type": "code",
   "execution_count": 140,
   "id": "ec9b3e39-d456-4d30-86e7-0f3fb2b3f299",
   "metadata": {},
   "outputs": [],
   "source": [
    "lst = [1,2,3,4,5,6,7,8,9,10]\n",
    "f = ['two' if x%2==0 else 'three' if x%3==0 else 'not a & b ' for x in lst]"
   ]
  },
  {
   "cell_type": "code",
   "execution_count": 141,
   "id": "d271d0f5-5692-4d5d-9b20-0177d42670e0",
   "metadata": {},
   "outputs": [
    {
     "data": {
      "text/plain": [
       "['not a & b ',\n",
       " 'two',\n",
       " 'three',\n",
       " 'two',\n",
       " 'not a & b ',\n",
       " 'two',\n",
       " 'not a & b ',\n",
       " 'two',\n",
       " 'three',\n",
       " 'two']"
      ]
     },
     "execution_count": 141,
     "metadata": {},
     "output_type": "execute_result"
    }
   ],
   "source": [
    "f"
   ]
  },
  {
   "cell_type": "code",
   "execution_count": null,
   "id": "1ad93c45-c4cc-4493-949b-524a984e719f",
   "metadata": {},
   "outputs": [],
   "source": []
  }
 ],
 "metadata": {
  "kernelspec": {
   "display_name": "Python 3 (ipykernel)",
   "language": "python",
   "name": "python3"
  },
  "language_info": {
   "codemirror_mode": {
    "name": "ipython",
    "version": 3
   },
   "file_extension": ".py",
   "mimetype": "text/x-python",
   "name": "python",
   "nbconvert_exporter": "python",
   "pygments_lexer": "ipython3",
   "version": "3.10.8"
  }
 },
 "nbformat": 4,
 "nbformat_minor": 5
}
