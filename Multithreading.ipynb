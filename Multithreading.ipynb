{
 "cells": [
  {
   "cell_type": "code",
   "execution_count": 1,
   "id": "db517c0c-6b6f-49c8-803c-6bbfb9929fa9",
   "metadata": {},
   "outputs": [],
   "source": [
    "import threading"
   ]
  },
  {
   "cell_type": "code",
   "execution_count": 6,
   "id": "d07a57c2-1e35-4399-bec4-fce94438c99c",
   "metadata": {},
   "outputs": [],
   "source": [
    "def test(id):\n",
    "    print(\"this is mytest id is %d\" % id)"
   ]
  },
  {
   "cell_type": "code",
   "execution_count": 7,
   "id": "497f5c27-c4bb-463f-b313-b891a61a5039",
   "metadata": {},
   "outputs": [
    {
     "name": "stdout",
     "output_type": "stream",
     "text": [
      "this is mytest id is 10\n"
     ]
    }
   ],
   "source": [
    "test(10)"
   ]
  },
  {
   "cell_type": "code",
   "execution_count": 8,
   "id": "9245a687-f370-4495-8e0a-f0b649df5fc4",
   "metadata": {},
   "outputs": [
    {
     "name": "stdout",
     "output_type": "stream",
     "text": [
      "this is mytest id is 2\n"
     ]
    }
   ],
   "source": [
    "test(2)"
   ]
  },
  {
   "cell_type": "code",
   "execution_count": 9,
   "id": "95ed53ef-64c9-4042-8f33-66f92e6a3fb6",
   "metadata": {},
   "outputs": [
    {
     "name": "stdout",
     "output_type": "stream",
     "text": [
      "this is mytest id is 3\n"
     ]
    }
   ],
   "source": [
    "test(3)"
   ]
  },
  {
   "cell_type": "code",
   "execution_count": 11,
   "id": "d6d3fbe2-c640-4ccd-b9cd-54ac4c4f6442",
   "metadata": {},
   "outputs": [],
   "source": [
    "thread  =[threading.Thread(target = test , args = (i,)) for i in [10,1,3]]"
   ]
  },
  {
   "cell_type": "code",
   "execution_count": 12,
   "id": "133260a4-937b-4662-b980-d21f4ad235bf",
   "metadata": {},
   "outputs": [
    {
     "data": {
      "text/plain": [
       "[<Thread(Thread-5 (test), initial)>,\n",
       " <Thread(Thread-6 (test), initial)>,\n",
       " <Thread(Thread-7 (test), initial)>]"
      ]
     },
     "execution_count": 12,
     "metadata": {},
     "output_type": "execute_result"
    }
   ],
   "source": [
    "thread"
   ]
  },
  {
   "cell_type": "code",
   "execution_count": 13,
   "id": "c2f9f6c5-6be2-4b38-8f34-8b9bfcb26e38",
   "metadata": {},
   "outputs": [
    {
     "name": "stdout",
     "output_type": "stream",
     "text": [
      "this is mytest id is 10\n",
      "this is mytest id is 1\n",
      "this is mytest id is 3\n"
     ]
    }
   ],
   "source": [
    "for t in thread:\n",
    "    t.start()"
   ]
  },
  {
   "cell_type": "code",
   "execution_count": 16,
   "id": "adb8967d-265b-4df3-aef1-3b49c2e9cdc6",
   "metadata": {},
   "outputs": [],
   "source": [
    "import urllib.request\n",
    "\n",
    "def file_download(url, filename):\n",
    "    urllib.request.urlretrive(url, filename)"
   ]
  },
  {
   "cell_type": "code",
   "execution_count": 18,
   "id": "36181b0e-dad7-44a1-aec1-1d5a2598e59a",
   "metadata": {},
   "outputs": [
    {
     "ename": "AttributeError",
     "evalue": "module 'urllib.request' has no attribute 'urlretrive'",
     "output_type": "error",
     "traceback": [
      "\u001b[0;31m---------------------------------------------------------------------------\u001b[0m",
      "\u001b[0;31mAttributeError\u001b[0m                            Traceback (most recent call last)",
      "Cell \u001b[0;32mIn[18], line 1\u001b[0m\n\u001b[0;32m----> 1\u001b[0m \u001b[43mfile_download\u001b[49m\u001b[43m(\u001b[49m\u001b[38;5;124;43m\"\u001b[39;49m\u001b[38;5;124;43mhttps://www.contextures.com/xlsampledata01.html#data\u001b[39;49m\u001b[38;5;124;43m\"\u001b[39;49m\u001b[43m,\u001b[49m\u001b[38;5;124;43m\"\u001b[39;49m\u001b[38;5;124;43mhttps://www.thespreadsheetguru.com/sample-data/\u001b[39;49m\u001b[38;5;124;43m\"\u001b[39;49m\u001b[43m)\u001b[49m\n",
      "Cell \u001b[0;32mIn[16], line 4\u001b[0m, in \u001b[0;36mfile_download\u001b[0;34m(url, filename)\u001b[0m\n\u001b[1;32m      3\u001b[0m \u001b[38;5;28;01mdef\u001b[39;00m \u001b[38;5;21mfile_download\u001b[39m(url, filename):\n\u001b[0;32m----> 4\u001b[0m     \u001b[43murllib\u001b[49m\u001b[38;5;241;43m.\u001b[39;49m\u001b[43mrequest\u001b[49m\u001b[38;5;241;43m.\u001b[39;49m\u001b[43murlretrive\u001b[49m(url, filename)\n",
      "\u001b[0;31mAttributeError\u001b[0m: module 'urllib.request' has no attribute 'urlretrive'"
     ]
    }
   ],
   "source": [
    "file_download(\"https://www.contextures.com/xlsampledata01.html#data\",\"https://www.thespreadsheetguru.com/sample-data/\")"
   ]
  },
  {
   "cell_type": "code",
   "execution_count": 20,
   "id": "ef4897b5-6ee6-4962-a565-f54f84d96602",
   "metadata": {},
   "outputs": [],
   "source": [
    "url_list = [\"https://www.contextures.com/xlsampledata01.html#data\",\"https://www.thespreadsheetguru.com/sample-data/\"]"
   ]
  },
  {
   "cell_type": "code",
   "execution_count": 21,
   "id": "bde7eba1-383c-415d-a606-838b72cbc3e8",
   "metadata": {},
   "outputs": [
    {
     "data": {
      "text/plain": [
       "['data1.txt', 'data2.txt']"
      ]
     },
     "execution_count": 21,
     "metadata": {},
     "output_type": "execute_result"
    }
   ],
   "source": [
    "data_file_list = ['data1.txt','data2.txt']\n",
    "data_file_list"
   ]
  },
  {
   "cell_type": "code",
   "execution_count": 23,
   "id": "72a55c0b-942a-4248-9e4e-d5767b66a864",
   "metadata": {},
   "outputs": [],
   "source": [
    "thread1 = [threading.Thread(target = file_download, args = (url_list[i], data_file_list[i])) for i in range(len(url_list))] "
   ]
  },
  {
   "cell_type": "code",
   "execution_count": 26,
   "id": "6515a449-b6cd-47d9-821c-ad472c7e6592",
   "metadata": {},
   "outputs": [
    {
     "name": "stderr",
     "output_type": "stream",
     "text": [
      "Exception in thread Thread-8 (file_download):\n",
      "Traceback (most recent call last):\n",
      "  File \"/opt/conda/lib/python3.10/threading.py\", line 1016, in _bootstrap_inner\n",
      "    self.run()\n",
      "  File \"/opt/conda/lib/python3.10/threading.py\", line 953, in run\n",
      "Exception in thread Thread-9 (file_download):\n",
      "Traceback (most recent call last):\n",
      "  File \"/opt/conda/lib/python3.10/threading.py\", line 1016, in _bootstrap_inner\n",
      "    self._target(*self._args, **self._kwargs)\n",
      "  File \"/tmp/ipykernel_153/1750840776.py\", line 4, in file_download\n",
      "    self.run()\n",
      "  File \"/opt/conda/lib/python3.10/threading.py\", line 953, in run\n",
      "    self._target(*self._args, **self._kwargs)\n",
      "  File \"/tmp/ipykernel_153/1750840776.py\", line 4, in file_download\n",
      "AttributeError: module 'urllib.request' has no attribute 'urlretrive'. Did you mean: 'urlretrieve'?\n",
      "AttributeError: module 'urllib.request' has no attribute 'urlretrive'. Did you mean: 'urlretrieve'?\n"
     ]
    }
   ],
   "source": [
    "for t in thread1:\n",
    "    t.start()"
   ]
  },
  {
   "cell_type": "code",
   "execution_count": 27,
   "id": "0d473510-b901-48ae-a9fe-74e284a26ef9",
   "metadata": {},
   "outputs": [
    {
     "data": {
      "text/plain": [
       "[<Thread(Thread-8 (file_download), stopped 140629589857856)>,\n",
       " <Thread(Thread-9 (file_download), stopped 140629097047616)>]"
      ]
     },
     "execution_count": 27,
     "metadata": {},
     "output_type": "execute_result"
    }
   ],
   "source": [
    "thread1"
   ]
  },
  {
   "cell_type": "code",
   "execution_count": 28,
   "id": "e70ad1d3-db1c-47d0-b16e-40ecbb050aa1",
   "metadata": {},
   "outputs": [],
   "source": [
    "import time"
   ]
  },
  {
   "cell_type": "code",
   "execution_count": 32,
   "id": "df98ac3f-04d5-46cd-83ea-cf61d47c8598",
   "metadata": {},
   "outputs": [],
   "source": [
    "def test2(x):\n",
    "    for i in range(10):\n",
    "        print(\"test1 print the value of x %d and print value of i %d\" %(x,i))\n",
    "        time.sleep(1)"
   ]
  },
  {
   "cell_type": "code",
   "execution_count": 33,
   "id": "6ae43fed-3afb-4aca-9b6f-f553c7431ffc",
   "metadata": {},
   "outputs": [
    {
     "name": "stdout",
     "output_type": "stream",
     "text": [
      "test1 print the value of x 10 and print value of i 0\n",
      "test1 print the value of x 10 and print value of i 1\n",
      "test1 print the value of x 10 and print value of i 2\n",
      "test1 print the value of x 10 and print value of i 3\n",
      "test1 print the value of x 10 and print value of i 4\n",
      "test1 print the value of x 10 and print value of i 5\n",
      "test1 print the value of x 10 and print value of i 6\n",
      "test1 print the value of x 10 and print value of i 7\n",
      "test1 print the value of x 10 and print value of i 8\n",
      "test1 print the value of x 10 and print value of i 9\n"
     ]
    }
   ],
   "source": [
    "test2(10)"
   ]
  },
  {
   "cell_type": "code",
   "execution_count": 40,
   "id": "0356f38b-1df1-4527-8abc-6bb20c77782f",
   "metadata": {},
   "outputs": [],
   "source": [
    "def test2(x):\n",
    "    for i in range(10):\n",
    "        print(\"test1 print the value of x %d and print value of i %d\" %(x,i))\n",
    "        time.sleep(1)"
   ]
  },
  {
   "cell_type": "code",
   "execution_count": 41,
   "id": "312b3226-72ec-499b-bc97-dec5712b3633",
   "metadata": {},
   "outputs": [],
   "source": [
    "thread2 = [threading.Thread(target = test2, args = (i,)) for i in [100, 10,20,5]]"
   ]
  },
  {
   "cell_type": "code",
   "execution_count": 42,
   "id": "b238918c-bccc-4014-8af1-ce7611e29734",
   "metadata": {},
   "outputs": [
    {
     "name": "stdout",
     "output_type": "stream",
     "text": [
      "test1 print the value of x 100 and print value of i 0\n",
      "test1 print the value of x 10 and print value of i 0\n",
      "test1 print the value of x 20 and print value of i 0\n",
      "test1 print the value of x 5 and print value of i 0\n",
      "test1 print the value of x 100 and print value of i 1\n",
      "test1 print the value of x 10 and print value of i 1\n",
      "test1 print the value of x 20 and print value of i 1\n",
      "test1 print the value of x 5 and print value of i 1\n",
      "test1 print the value of x 100 and print value of i 2\n",
      "test1 print the value of x 10 and print value of i 2\n",
      "test1 print the value of x 20 and print value of i 2\n",
      "test1 print the value of x 5 and print value of i 2\n",
      "test1 print the value of x 100 and print value of i 3\n",
      "test1 print the value of x 10 and print value of i 3\n",
      "test1 print the value of x 20 and print value of i 3\n",
      "test1 print the value of x 5 and print value of i 3\n",
      "test1 print the value of x 100 and print value of i 4\n",
      "test1 print the value of x 10 and print value of i 4\n",
      "test1 print the value of x 20 and print value of i 4\n",
      "test1 print the value of x 5 and print value of i 4\n",
      "test1 print the value of x 100 and print value of i 5\n",
      "test1 print the value of x 10 and print value of i 5\n",
      "test1 print the value of x 20 and print value of i 5\n",
      "test1 print the value of x 5 and print value of i 5\n",
      "test1 print the value of x 100 and print value of i 6\n",
      "test1 print the value of x 10 and print value of i 6\n",
      "test1 print the value of x 20 and print value of i 6\n",
      "test1 print the value of x 5 and print value of i 6\n",
      "test1 print the value of x 100 and print value of i 7\n",
      "test1 print the value of x 10 and print value of i 7\n",
      "test1 print the value of x 20 and print value of i 7\n",
      "test1 print the value of x 5 and print value of i 7\n",
      "test1 print the value of x 100 and print value of i 8\n",
      "test1 print the value of x 10 and print value of i 8\n",
      "test1 print the value of x 20 and print value of i 8\n",
      "test1 print the value of x 5 and print value of i 8\n",
      "test1 print the value of x 100 and print value of i 9\n",
      "test1 print the value of x 10 and print value of i 9\n",
      "test1 print the value of x 20 and print value of i 9\n",
      "test1 print the value of x 5 and print value of i 9\n"
     ]
    }
   ],
   "source": [
    "for t in thread2:\n",
    "    t.start()"
   ]
  },
  {
   "cell_type": "code",
   "execution_count": 46,
   "id": "66d38879-0102-4d7b-b89c-b3d13ec691dd",
   "metadata": {},
   "outputs": [
    {
     "name": "stdout",
     "output_type": "stream",
     "text": [
      "test1 print the value of x 100 and print value of i 8\n",
      "test1 print the value of x 10 and print value of i 8\n",
      "test1 print the value of x 20 and print value of i 8\n",
      "test1 print the value of x 5 and print value of i 8\n",
      "test1 print the value of x 100 and print value of i 9\n",
      "test1 print the value of x 10 and print value of i 9\n",
      "test1 print the value of x 20 and print value of i 9\n",
      "test1 print the value of x 5 and print value of i 9\n"
     ]
    }
   ],
   "source": [
    "def test2(x):\n",
    "    for i in range(10):\n",
    "        print(\"test1 print the value of x %d and print value of i %d\" %(x,i))\n",
    "        #time.sleep(1)"
   ]
  },
  {
   "cell_type": "code",
   "execution_count": 47,
   "id": "3763952e-9ed9-4610-8b32-fcbeb7789d73",
   "metadata": {},
   "outputs": [],
   "source": [
    "thread2 = [threading.Thread(target = test2, args = (i,)) for i in [100, 10,20,5]]"
   ]
  },
  {
   "cell_type": "code",
   "execution_count": 48,
   "id": "fd3d5e37-b7e0-46ac-9be7-614d94ca2b04",
   "metadata": {},
   "outputs": [
    {
     "name": "stdout",
     "output_type": "stream",
     "text": [
      "test1 print the value of x 100 and print value of i 0\n",
      "test1 print the value of x 100 and print value of i 1\n",
      "test1 print the value of x 100 and print value of i 2\n",
      "test1 print the value of x 100 and print value of i 3\n",
      "test1 print the value of x 100 and print value of i 4\n",
      "test1 print the value of x 100 and print value of i 5\n",
      "test1 print the value of x 100 and print value of i 6\n",
      "test1 print the value of x 100 and print value of i 7\n",
      "test1 print the value of x 100 and print value of i 8\n",
      "test1 print the value of x 100 and print value of i 9\n",
      "test1 print the value of x 10 and print value of i 0\n",
      "test1 print the value of x 10 and print value of i 1\n",
      "test1 print the value of x 10 and print value of i 2\n",
      "test1 print the value of x 10 and print value of i 3\n",
      "test1 print the value of x 10 and print value of i 4\n",
      "test1 print the value of x 10 and print value of i 5\n",
      "test1 print the value of x 10 and print value of i 6\n",
      "test1 print the value of x 10 and print value of i 7\n",
      "test1 print the value of x 10 and print value of i 8\n",
      "test1 print the value of x 10 and print value of i 9\n",
      "test1 print the value of x 20 and print value of i 0\n",
      "test1 print the value of x 20 and print value of i 1\n",
      "test1 print the value of x 20 and print value of i 2\n",
      "test1 print the value of x 20 and print value of i 3\n",
      "test1 print the value of x 20 and print value of i 4\n",
      "test1 print the value of x 20 and print value of i 5\n",
      "test1 print the value of x 20 and print value of i 6\n",
      "test1 print the value of x 20 and print value of i 7\n",
      "test1 print the value of x 20 and print value of i 8\n",
      "test1 print the value of x 20 and print value of i 9\n",
      "test1 print the value of x 5 and print value of i 0\n",
      "test1 print the value of x 5 and print value of i 1\n",
      "test1 print the value of x 5 and print value of i 2\n",
      "test1 print the value of x 5 and print value of i 3\n",
      "test1 print the value of x 5 and print value of i 4\n",
      "test1 print the value of x 5 and print value of i 5\n",
      "test1 print the value of x 5 and print value of i 6\n",
      "test1 print the value of x 5 and print value of i 7\n",
      "test1 print the value of x 5 and print value of i 8\n",
      "test1 print the value of x 5 and print value of i 9\n"
     ]
    }
   ],
   "source": [
    "for t in thread2:\n",
    "    t.start()"
   ]
  },
  {
   "cell_type": "code",
   "execution_count": 64,
   "id": "b29954a0-1504-4207-889e-72581a22858d",
   "metadata": {},
   "outputs": [
    {
     "name": "stdout",
     "output_type": "stream",
     "text": [
      "value of x 1 and value of shared_var 1\n",
      "value of x 2 and value of shared_var 2\n",
      "value of x 3 and value of shared_var 3\n",
      "value of x 4 and value of shared_var 4\n",
      "value of x 4 and value of shared_var 5\n",
      "value of x 5 and value of shared_var 6\n"
     ]
    }
   ],
   "source": [
    "shared_var = 0\n",
    "lock_var = threading.Lock()\n",
    "def test5(x):\n",
    "    global shared_var\n",
    "    with lock_var:\n",
    "        shared_var = shared_var + 1\n",
    "        print(\"value of x %d and value of shared_var %d\" %(x,shared_var))\n",
    "        time.sleep(1)\n",
    "    \n",
    "thread5 = [threading.Thread(target=test5, args = (i,)) for i in [1,2,3,4,4,5]]\n",
    "for t in thread5 :\n",
    "    t.start()"
   ]
  },
  {
   "cell_type": "code",
   "execution_count": null,
   "id": "2566b762-a727-4d8b-9b53-eb6167a94eb4",
   "metadata": {},
   "outputs": [],
   "source": []
  },
  {
   "cell_type": "code",
   "execution_count": null,
   "id": "16128167-797b-431c-8c35-631bcad3eb91",
   "metadata": {},
   "outputs": [],
   "source": []
  }
 ],
 "metadata": {
  "kernelspec": {
   "display_name": "Python 3 (ipykernel)",
   "language": "python",
   "name": "python3"
  },
  "language_info": {
   "codemirror_mode": {
    "name": "ipython",
    "version": 3
   },
   "file_extension": ".py",
   "mimetype": "text/x-python",
   "name": "python",
   "nbconvert_exporter": "python",
   "pygments_lexer": "ipython3",
   "version": "3.10.8"
  }
 },
 "nbformat": 4,
 "nbformat_minor": 5
}
