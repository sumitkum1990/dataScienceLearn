{
 "cells": [
  {
   "cell_type": "code",
   "execution_count": null,
   "id": "fb1272b0-ba12-486b-9482-b0aa71cef51a",
   "metadata": {},
   "outputs": [],
   "source": []
  },
  {
   "cell_type": "code",
   "execution_count": 1,
   "id": "12222d25-5edd-4358-9484-d0290dcba24b",
   "metadata": {},
   "outputs": [
    {
     "name": "stdin",
     "output_type": "stream",
     "text": [
      "entr a  3\n",
      "entr b  0\n"
     ]
    }
   ],
   "source": [
    "a = int(input(\"entr a \"))\n",
    "b = int(input(\"entr b \"))"
   ]
  },
  {
   "cell_type": "code",
   "execution_count": 2,
   "id": "298abcfb-54fb-4764-89ee-eb75021ab65a",
   "metadata": {},
   "outputs": [
    {
     "data": {
      "text/plain": [
       "0"
      ]
     },
     "execution_count": 2,
     "metadata": {},
     "output_type": "execute_result"
    }
   ],
   "source": [
    "a*b"
   ]
  },
  {
   "cell_type": "code",
   "execution_count": 3,
   "id": "c4a2619f-bfc1-4954-ae42-fea33fb2b9a7",
   "metadata": {},
   "outputs": [
    {
     "ename": "ZeroDivisionError",
     "evalue": "division by zero",
     "output_type": "error",
     "traceback": [
      "\u001b[0;31m---------------------------------------------------------------------------\u001b[0m",
      "\u001b[0;31mZeroDivisionError\u001b[0m                         Traceback (most recent call last)",
      "Cell \u001b[0;32mIn[3], line 1\u001b[0m\n\u001b[0;32m----> 1\u001b[0m \u001b[43ma\u001b[49m\u001b[38;5;241;43m/\u001b[39;49m\u001b[43mb\u001b[49m\n",
      "\u001b[0;31mZeroDivisionError\u001b[0m: division by zero"
     ]
    }
   ],
   "source": [
    "a/b \n",
    "# print will not run as a/b is giving error. Hence need to hanlde\n",
    "print(\"hello\")"
   ]
  },
  {
   "cell_type": "code",
   "execution_count": 4,
   "id": "9e35e7c8-6a09-4f57-8185-438f5cc83db4",
   "metadata": {},
   "outputs": [
    {
     "data": {
      "text/plain": [
       "3"
      ]
     },
     "execution_count": 4,
     "metadata": {},
     "output_type": "execute_result"
    }
   ],
   "source": [
    "a+b"
   ]
  },
  {
   "cell_type": "code",
   "execution_count": 5,
   "id": "75ad80c1-4398-4f45-af59-5d5f7f8ff406",
   "metadata": {},
   "outputs": [],
   "source": [
    "l = [4,5,6,7,8,9,0]\n",
    "l1 = []\n",
    "def even_parser(l):\n",
    "    for i  in l :\n",
    "        if i%2 == 0:\n",
    "            l1.append(i)\n",
    "    return l1"
   ]
  },
  {
   "cell_type": "code",
   "execution_count": 7,
   "id": "72b6da23-a642-44cd-8e97-bb2dcf943f95",
   "metadata": {},
   "outputs": [
    {
     "data": {
      "text/plain": [
       "[4, 6, 8, 0]"
      ]
     },
     "execution_count": 7,
     "metadata": {},
     "output_type": "execute_result"
    }
   ],
   "source": [
    "even_parser(l)"
   ]
  },
  {
   "cell_type": "code",
   "execution_count": 9,
   "id": "ba41206c-8e70-4609-b73c-40072b837715",
   "metadata": {},
   "outputs": [
    {
     "ename": "TypeError",
     "evalue": "'int' object is not iterable",
     "output_type": "error",
     "traceback": [
      "\u001b[0;31m---------------------------------------------------------------------------\u001b[0m",
      "\u001b[0;31mTypeError\u001b[0m                                 Traceback (most recent call last)",
      "Cell \u001b[0;32mIn[9], line 1\u001b[0m\n\u001b[0;32m----> 1\u001b[0m \u001b[43meven_parser\u001b[49m\u001b[43m(\u001b[49m\u001b[38;5;241;43m6\u001b[39;49m\u001b[43m)\u001b[49m\n\u001b[1;32m      2\u001b[0m \u001b[38;5;28mprint\u001b[39m(\u001b[38;5;124m\"\u001b[39m\u001b[38;5;124mhello\u001b[39m\u001b[38;5;124m\"\u001b[39m)\n",
      "Cell \u001b[0;32mIn[5], line 4\u001b[0m, in \u001b[0;36meven_parser\u001b[0;34m(l)\u001b[0m\n\u001b[1;32m      3\u001b[0m \u001b[38;5;28;01mdef\u001b[39;00m \u001b[38;5;21meven_parser\u001b[39m(l):\n\u001b[0;32m----> 4\u001b[0m     \u001b[38;5;28;01mfor\u001b[39;00m i  \u001b[38;5;129;01min\u001b[39;00m l :\n\u001b[1;32m      5\u001b[0m         \u001b[38;5;28;01mif\u001b[39;00m i\u001b[38;5;241m%\u001b[39m\u001b[38;5;241m2\u001b[39m \u001b[38;5;241m==\u001b[39m \u001b[38;5;241m0\u001b[39m:\n\u001b[1;32m      6\u001b[0m             l1\u001b[38;5;241m.\u001b[39mappend(i)\n",
      "\u001b[0;31mTypeError\u001b[0m: 'int' object is not iterable"
     ]
    }
   ],
   "source": [
    "even_parser(6)\n",
    "print(\"hello\")"
   ]
  },
  {
   "cell_type": "code",
   "execution_count": 10,
   "id": "b403a637-6b1d-41a4-9f24-0ec57bbde791",
   "metadata": {},
   "outputs": [
    {
     "ename": "SyntaxError",
     "evalue": "incomplete input (2164421765.py, line 5)",
     "output_type": "error",
     "traceback": [
      "\u001b[0;36m  Cell \u001b[0;32mIn[10], line 5\u001b[0;36m\u001b[0m\n\u001b[0;31m    print(c)\u001b[0m\n\u001b[0m            ^\u001b[0m\n\u001b[0;31mSyntaxError\u001b[0m\u001b[0;31m:\u001b[0m incomplete input\n"
     ]
    }
   ],
   "source": [
    "try :\n",
    "    a = int(input(\"entr a \"))\n",
    "    b = int(input(\"entr b \"))\n",
    "    c = a/b\n",
    "    print(c)\n",
    "    \n",
    "#Syntex error: Compile time error "
   ]
  },
  {
   "cell_type": "code",
   "execution_count": 15,
   "id": "f002fbb5-09b2-42d5-acf2-aab6c0efae20",
   "metadata": {},
   "outputs": [
    {
     "name": "stdin",
     "output_type": "stream",
     "text": [
      "entr a  sumit\n"
     ]
    },
    {
     "name": "stdout",
     "output_type": "stream",
     "text": [
      "hello\n"
     ]
    }
   ],
   "source": [
    "try :\n",
    "    a = int(input(\"entr a \"))\n",
    "    b = int(input(\"entr b \"))\n",
    "    c = a/b\n",
    "    print(c)\n",
    "except :\n",
    "    pass\n",
    "print(\"hello\")"
   ]
  },
  {
   "cell_type": "code",
   "execution_count": 19,
   "id": "77f5f373-0fa5-43bd-a218-edbb42671011",
   "metadata": {},
   "outputs": [],
   "source": [
    "l = [4,5,6,7,8,9,0]\n",
    "l1 = []\n",
    "def even_parser(l):\n",
    "    try:\n",
    "        for i  in l :\n",
    "            if i%2 == 0:\n",
    "                l1.append(i)\n",
    "        return l1\n",
    "    except :\n",
    "        pass"
   ]
  },
  {
   "cell_type": "code",
   "execution_count": 21,
   "id": "efddb22e-7617-4520-8049-76e18e62fb24",
   "metadata": {},
   "outputs": [
    {
     "name": "stdout",
     "output_type": "stream",
     "text": [
      "hi\n"
     ]
    }
   ],
   "source": [
    "even_parser(5)\n",
    "print(\"hi\")"
   ]
  },
  {
   "cell_type": "code",
   "execution_count": 24,
   "id": "425ea018-0ae6-469c-bc77-691f6e4cfa02",
   "metadata": {},
   "outputs": [
    {
     "name": "stdout",
     "output_type": "stream",
     "text": [
      "division by zero\n"
     ]
    }
   ],
   "source": [
    "try :\n",
    "    c = 6/0\n",
    "except Exception as e :\n",
    "    print(e)"
   ]
  },
  {
   "cell_type": "code",
   "execution_count": 29,
   "id": "f6abb9b1-eed7-4335-af75-52c32d9da1a3",
   "metadata": {},
   "outputs": [
    {
     "name": "stdin",
     "output_type": "stream",
     "text": [
      " 4.0\n"
     ]
    },
    {
     "name": "stdout",
     "output_type": "stream",
     "text": [
      "invalid literal for int() with base 10: '4.0'\n"
     ]
    }
   ],
   "source": [
    "try :\n",
    "    a = int(input())\n",
    "    b = int(input())\n",
    "    c = a/b\n",
    "    \n",
    "except Exception as e :\n",
    "    print(e)"
   ]
  },
  {
   "cell_type": "code",
   "execution_count": 30,
   "id": "aa53bfda-148d-4c5d-8c68-1688018a576d",
   "metadata": {},
   "outputs": [
    {
     "name": "stdin",
     "output_type": "stream",
     "text": [
      " 4\n",
      " 0\n"
     ]
    },
    {
     "name": "stdout",
     "output_type": "stream",
     "text": [
      "division by zero\n"
     ]
    }
   ],
   "source": [
    "try :\n",
    "    a = int(input())\n",
    "    b = int(input())\n",
    "    c = a/b\n",
    "    \n",
    "except TypeError as t:\n",
    "    print(t)\n",
    "except Exception as e :\n",
    "    print(e)"
   ]
  },
  {
   "cell_type": "code",
   "execution_count": 31,
   "id": "d2ef38ae-9048-4356-9eb1-47c83fb44397",
   "metadata": {},
   "outputs": [
    {
     "name": "stdin",
     "output_type": "stream",
     "text": [
      " sumit\n"
     ]
    },
    {
     "name": "stdout",
     "output_type": "stream",
     "text": [
      "invalid literal for int() with base 10: 'sumit'\n"
     ]
    }
   ],
   "source": [
    "try :\n",
    "    a = int(input())\n",
    "    b = int(input())\n",
    "    c = a/b\n",
    "    \n",
    "except TypeError as t:\n",
    "    print(t)\n",
    "except Exception as e :\n",
    "    print(e)"
   ]
  },
  {
   "cell_type": "code",
   "execution_count": 32,
   "id": "810488ef-96d8-4ad2-971d-fe515c7063c6",
   "metadata": {},
   "outputs": [
    {
     "name": "stdin",
     "output_type": "stream",
     "text": [
      " sumit\n"
     ]
    },
    {
     "ename": "ValueError",
     "evalue": "invalid literal for int() with base 10: 'sumit'",
     "output_type": "error",
     "traceback": [
      "\u001b[0;31m---------------------------------------------------------------------------\u001b[0m",
      "\u001b[0;31mValueError\u001b[0m                                Traceback (most recent call last)",
      "Cell \u001b[0;32mIn[32], line 2\u001b[0m\n\u001b[1;32m      1\u001b[0m \u001b[38;5;28;01mtry\u001b[39;00m :\n\u001b[0;32m----> 2\u001b[0m     a \u001b[38;5;241m=\u001b[39m \u001b[38;5;28;43mint\u001b[39;49m\u001b[43m(\u001b[49m\u001b[38;5;28;43minput\u001b[39;49m\u001b[43m(\u001b[49m\u001b[43m)\u001b[49m\u001b[43m)\u001b[49m\n\u001b[1;32m      3\u001b[0m     b \u001b[38;5;241m=\u001b[39m \u001b[38;5;28mint\u001b[39m(\u001b[38;5;28minput\u001b[39m())\n\u001b[1;32m      4\u001b[0m     c \u001b[38;5;241m=\u001b[39m a\u001b[38;5;241m/\u001b[39mb\n",
      "\u001b[0;31mValueError\u001b[0m: invalid literal for int() with base 10: 'sumit'"
     ]
    }
   ],
   "source": [
    "try :\n",
    "    a = int(input())\n",
    "    b = int(input())\n",
    "    c = a/b\n",
    "    \n",
    "except TypeError as t:\n",
    "    print(t)\n",
    "except ZeroDivisionError :\n",
    "    print(z)"
   ]
  },
  {
   "cell_type": "code",
   "execution_count": 36,
   "id": "ded71f50-7d32-4b22-bcdf-07d649b260e3",
   "metadata": {},
   "outputs": [
    {
     "name": "stdin",
     "output_type": "stream",
     "text": [
      " sumit\n"
     ]
    },
    {
     "name": "stdout",
     "output_type": "stream",
     "text": [
      "invalid literal for int() with base 10: 'sumit'\n"
     ]
    }
   ],
   "source": [
    "try :\n",
    "    a = int(input())\n",
    "    b = int(input())\n",
    "    c = a/b\n",
    "    \n",
    "except TypeError as t:\n",
    "    print(t)\n",
    "except ZeroDivisionError as z:\n",
    "    print(z)\n",
    "except ValueError as v:\n",
    "    print(v)"
   ]
  },
  {
   "cell_type": "code",
   "execution_count": 37,
   "id": "3621c59c-3885-4065-88f5-fd74ee8aec59",
   "metadata": {},
   "outputs": [
    {
     "name": "stdout",
     "output_type": "stream",
     "text": [
      "division by zero\n"
     ]
    },
    {
     "ename": "ValueError",
     "evalue": "invalid literal for int() with base 10: 'Sumit'",
     "output_type": "error",
     "traceback": [
      "\u001b[0;31m---------------------------------------------------------------------------\u001b[0m",
      "\u001b[0;31mZeroDivisionError\u001b[0m                         Traceback (most recent call last)",
      "Cell \u001b[0;32mIn[37], line 2\u001b[0m\n\u001b[1;32m      1\u001b[0m \u001b[38;5;28;01mtry\u001b[39;00m :\n\u001b[0;32m----> 2\u001b[0m     x \u001b[38;5;241m=\u001b[39m \u001b[38;5;241;43m5\u001b[39;49m\u001b[38;5;241;43m/\u001b[39;49m\u001b[38;5;241;43m0\u001b[39;49m\n\u001b[1;32m      3\u001b[0m \u001b[38;5;28;01mexcept\u001b[39;00m \u001b[38;5;167;01mZeroDivisionError\u001b[39;00m \u001b[38;5;28;01mas\u001b[39;00m z:\n",
      "\u001b[0;31mZeroDivisionError\u001b[0m: division by zero",
      "\nDuring handling of the above exception, another exception occurred:\n",
      "\u001b[0;31mValueError\u001b[0m                                Traceback (most recent call last)",
      "Cell \u001b[0;32mIn[37], line 5\u001b[0m\n\u001b[1;32m      3\u001b[0m \u001b[38;5;28;01mexcept\u001b[39;00m \u001b[38;5;167;01mZeroDivisionError\u001b[39;00m \u001b[38;5;28;01mas\u001b[39;00m z:\n\u001b[1;32m      4\u001b[0m     \u001b[38;5;28mprint\u001b[39m(z)\n\u001b[0;32m----> 5\u001b[0m     y \u001b[38;5;241m=\u001b[39m \u001b[38;5;28;43mint\u001b[39;49m\u001b[43m(\u001b[49m\u001b[38;5;124;43m\"\u001b[39;49m\u001b[38;5;124;43mSumit\u001b[39;49m\u001b[38;5;124;43m\"\u001b[39;49m\u001b[43m)\u001b[49m\n",
      "\u001b[0;31mValueError\u001b[0m: invalid literal for int() with base 10: 'Sumit'"
     ]
    }
   ],
   "source": [
    "try :\n",
    "    x = 5/0\n",
    "    \n",
    "    #writing worng code in Except block\n",
    "except ZeroDivisionError as z:\n",
    "    print(z)\n",
    "    y = int(\"Sumit\")"
   ]
  },
  {
   "cell_type": "code",
   "execution_count": 47,
   "id": "310b8f21-09ec-4a84-8450-ab2c5afba0ac",
   "metadata": {},
   "outputs": [
    {
     "name": "stdout",
     "output_type": "stream",
     "text": [
      "division by zero\n",
      "invalid literal for int() with base 10: 'Sumit'\n"
     ]
    }
   ],
   "source": [
    "try :\n",
    "    x = 5/0\n",
    "except  ZeroDivisionError as z:\n",
    "    print(z)\n",
    "    try:\n",
    "        y = int(\"Sumit\")\n",
    "    except ValueError as v:\n",
    "        print(v)"
   ]
  },
  {
   "cell_type": "code",
   "execution_count": 43,
   "id": "c7ca5099-4fa0-412f-95ca-30c626134dfa",
   "metadata": {},
   "outputs": [
    {
     "name": "stdout",
     "output_type": "stream",
     "text": [
      "division by zero\n"
     ]
    }
   ],
   "source": [
    "try: \n",
    "    x = 5/0\n",
    "except ZeroDivisionError as z:\n",
    "    print(z)\n",
    "else:\n",
    "    print(\"this will print execute itself once try will execute without and error\")"
   ]
  },
  {
   "cell_type": "code",
   "execution_count": 44,
   "id": "2186a8f6-b5f8-46b4-9858-d2cd48074228",
   "metadata": {},
   "outputs": [
    {
     "name": "stdout",
     "output_type": "stream",
     "text": [
      "this will print execute itself once try will execute without and error\n"
     ]
    }
   ],
   "source": [
    "try: \n",
    "    x = 5/1\n",
    "except ZeroDivisionError as z:\n",
    "    print(z)\n",
    "else:\n",
    "    print(\"this will print execute itself once try will execute without and error\")"
   ]
  },
  {
   "cell_type": "code",
   "execution_count": 48,
   "id": "23160238-655e-4b59-a46e-2cb31533cf75",
   "metadata": {},
   "outputs": [
    {
     "name": "stdout",
     "output_type": "stream",
     "text": [
      "this will print execute itself once try will execute without and error\n",
      "this execute always\n"
     ]
    }
   ],
   "source": [
    "try: \n",
    "    x = 5/1\n",
    "except ZeroDivisionError as z:\n",
    "    print(z)\n",
    "else:\n",
    "    print(\"this will print execute itself once try will execute without and error\")\n",
    "finally:\n",
    "    print(\"this execute always\")"
   ]
  },
  {
   "cell_type": "code",
   "execution_count": 49,
   "id": "b9187729-1d75-4ad1-8a7f-655cfa400bdf",
   "metadata": {},
   "outputs": [
    {
     "name": "stdout",
     "output_type": "stream",
     "text": [
      "division by zero\n",
      "this execute always\n"
     ]
    }
   ],
   "source": [
    "try: \n",
    "    x = 5/0\n",
    "except ZeroDivisionError as z:\n",
    "    print(z)\n",
    "else:\n",
    "    print(\"this will print execute itself once try will execute without and error\")\n",
    "finally:\n",
    "    print(\"this execute always\")"
   ]
  },
  {
   "cell_type": "code",
   "execution_count": 50,
   "id": "8fd00f80-add1-4bbb-9b99-8d131d13f8c0",
   "metadata": {},
   "outputs": [],
   "source": [
    "d = {\"name\" :\"Sumit\", \"Mob\": 2345, \"email\":\"sumit@gmail.com\"}\n"
   ]
  },
  {
   "cell_type": "code",
   "execution_count": 51,
   "id": "0090a9e7-f3d0-4f1e-90ce-2fa27ef04975",
   "metadata": {},
   "outputs": [
    {
     "data": {
      "text/plain": [
       "{'name': 'Sumit', 'Mob': 2345, 'email': 'sumit@gmail.com'}"
      ]
     },
     "execution_count": 51,
     "metadata": {},
     "output_type": "execute_result"
    }
   ],
   "source": [
    "d"
   ]
  },
  {
   "cell_type": "code",
   "execution_count": 52,
   "id": "155abfa0-e5f7-4138-8993-86c4e3b660a5",
   "metadata": {},
   "outputs": [
    {
     "ename": "KeyError",
     "evalue": "'cpurse'",
     "output_type": "error",
     "traceback": [
      "\u001b[0;31m---------------------------------------------------------------------------\u001b[0m",
      "\u001b[0;31mKeyError\u001b[0m                                  Traceback (most recent call last)",
      "Cell \u001b[0;32mIn[52], line 3\u001b[0m\n\u001b[1;32m      1\u001b[0m d \u001b[38;5;241m=\u001b[39m {\u001b[38;5;124m\"\u001b[39m\u001b[38;5;124mname\u001b[39m\u001b[38;5;124m\"\u001b[39m :\u001b[38;5;124m\"\u001b[39m\u001b[38;5;124mSumit\u001b[39m\u001b[38;5;124m\"\u001b[39m, \u001b[38;5;124m\"\u001b[39m\u001b[38;5;124mMob\u001b[39m\u001b[38;5;124m\"\u001b[39m: \u001b[38;5;241m2345\u001b[39m, \u001b[38;5;124m\"\u001b[39m\u001b[38;5;124memail\u001b[39m\u001b[38;5;124m\"\u001b[39m:\u001b[38;5;124m\"\u001b[39m\u001b[38;5;124msumit@gmail.com\u001b[39m\u001b[38;5;124m\"\u001b[39m}\n\u001b[0;32m----> 3\u001b[0m \u001b[43md\u001b[49m\u001b[43m[\u001b[49m\u001b[38;5;124;43m\"\u001b[39;49m\u001b[38;5;124;43mcpurse\u001b[39;49m\u001b[38;5;124;43m\"\u001b[39;49m\u001b[43m]\u001b[49m\n",
      "\u001b[0;31mKeyError\u001b[0m: 'cpurse'"
     ]
    }
   ],
   "source": [
    "d = {\"name\" :\"Sumit\", \"Mob\": 2345, \"email\":\"sumit@gmail.com\"}\n",
    "\n",
    "d[\"cpurse\"]"
   ]
  },
  {
   "cell_type": "code",
   "execution_count": 54,
   "id": "b301c5c9-3de8-4d71-b948-d39595b98a35",
   "metadata": {},
   "outputs": [
    {
     "name": "stdout",
     "output_type": "stream",
     "text": [
      "'course'\n"
     ]
    }
   ],
   "source": [
    "try:\n",
    "    d = {\"name\" :\"Sumit\", \"Mob\": 2345, \"email\":\"sumit@gmail.com\"}\n",
    "    d[\"course\"]\n",
    "except Exception as e:\n",
    "    print(e)"
   ]
  },
  {
   "cell_type": "code",
   "execution_count": 55,
   "id": "975a4147-5db2-4185-a073-f598fce00336",
   "metadata": {},
   "outputs": [
    {
     "name": "stdout",
     "output_type": "stream",
     "text": [
      "this is a key error\n"
     ]
    }
   ],
   "source": [
    "try:\n",
    "    d = {\"name\" :\"Sumit\", \"Mob\": 2345, \"email\":\"sumit@gmail.com\"}\n",
    "    d[\"course\"]\n",
    "except Exception :\n",
    "    print(\"this is a key error\")"
   ]
  },
  {
   "cell_type": "code",
   "execution_count": 56,
   "id": "58757448-2a12-4a29-8ddf-17b15a5030a7",
   "metadata": {},
   "outputs": [
    {
     "ename": "IndexError",
     "evalue": "list index out of range",
     "output_type": "error",
     "traceback": [
      "\u001b[0;31m---------------------------------------------------------------------------\u001b[0m",
      "\u001b[0;31mIndexError\u001b[0m                                Traceback (most recent call last)",
      "Cell \u001b[0;32mIn[56], line 2\u001b[0m\n\u001b[1;32m      1\u001b[0m l \u001b[38;5;241m=\u001b[39m [\u001b[38;5;241m1\u001b[39m,\u001b[38;5;241m2\u001b[39m,\u001b[38;5;241m3\u001b[39m,\u001b[38;5;241m45\u001b[39m,\u001b[38;5;241m6\u001b[39m]\n\u001b[0;32m----> 2\u001b[0m \u001b[43ml\u001b[49m\u001b[43m[\u001b[49m\u001b[38;5;241;43m10\u001b[39;49m\u001b[43m]\u001b[49m\n",
      "\u001b[0;31mIndexError\u001b[0m: list index out of range"
     ]
    }
   ],
   "source": [
    "l = [1,2,3,45,6]\n",
    "l[10]\n"
   ]
  },
  {
   "cell_type": "code",
   "execution_count": 57,
   "id": "ac4083f7-968a-4444-bb4f-0804e0b92a86",
   "metadata": {},
   "outputs": [
    {
     "name": "stdout",
     "output_type": "stream",
     "text": [
      "list index out of range\n"
     ]
    }
   ],
   "source": [
    "try:\n",
    "    l = [1,2,3,45,6]\n",
    "    l[10]\n",
    "except Exception as e :\n",
    "    print(e)\n",
    "    \n"
   ]
  },
  {
   "cell_type": "code",
   "execution_count": 58,
   "id": "d7fe52d0-d1f6-477c-bb25-02c6fa0bc16f",
   "metadata": {},
   "outputs": [
    {
     "ename": "ValueError",
     "evalue": "invalid literal for int() with base 10: 'Sumit'",
     "output_type": "error",
     "traceback": [
      "\u001b[0;31m---------------------------------------------------------------------------\u001b[0m",
      "\u001b[0;31mValueError\u001b[0m                                Traceback (most recent call last)",
      "Cell \u001b[0;32mIn[58], line 2\u001b[0m\n\u001b[1;32m      1\u001b[0m a \u001b[38;5;241m=\u001b[39m \u001b[38;5;124m\"\u001b[39m\u001b[38;5;124mSumit\u001b[39m\u001b[38;5;124m\"\u001b[39m\n\u001b[0;32m----> 2\u001b[0m \u001b[38;5;28;43mint\u001b[39;49m\u001b[43m(\u001b[49m\u001b[43ma\u001b[49m\u001b[43m)\u001b[49m\n",
      "\u001b[0;31mValueError\u001b[0m: invalid literal for int() with base 10: 'Sumit'"
     ]
    }
   ],
   "source": [
    "a = \"Sumit\"\n",
    "int(a)"
   ]
  },
  {
   "cell_type": "code",
   "execution_count": 59,
   "id": "bdcd3792-2342-4d35-aaa5-b2c1be73f9e3",
   "metadata": {},
   "outputs": [
    {
     "name": "stdout",
     "output_type": "stream",
     "text": [
      "invalid literal for int() with base 10: 'Sumit'\n"
     ]
    }
   ],
   "source": [
    "try :\n",
    "    a = \"Sumit\"\n",
    "    int(a)\n",
    "except Exception as e:\n",
    "    print(e)"
   ]
  },
  {
   "cell_type": "code",
   "execution_count": 61,
   "id": "f73a42a2-5606-40e0-821c-712547b3ce20",
   "metadata": {},
   "outputs": [
    {
     "ename": "FileNotFoundError",
     "evalue": "[Errno 2] No such file or directory: 'test.txt'",
     "output_type": "error",
     "traceback": [
      "\u001b[0;31m---------------------------------------------------------------------------\u001b[0m",
      "\u001b[0;31mFileNotFoundError\u001b[0m                         Traceback (most recent call last)",
      "Cell \u001b[0;32mIn[61], line 2\u001b[0m\n\u001b[1;32m      1\u001b[0m file_name \u001b[38;5;241m=\u001b[39m \u001b[38;5;124m\"\u001b[39m\u001b[38;5;124mtest.txt\u001b[39m\u001b[38;5;124m\"\u001b[39m\n\u001b[0;32m----> 2\u001b[0m f \u001b[38;5;241m=\u001b[39m \u001b[38;5;28;43mopen\u001b[39;49m\u001b[43m(\u001b[49m\u001b[43mfile_name\u001b[49m\u001b[43m)\u001b[49m\n\u001b[1;32m      3\u001b[0m f\u001b[38;5;241m.\u001b[39mread()\n",
      "File \u001b[0;32m/opt/conda/lib/python3.10/site-packages/IPython/core/interactiveshell.py:282\u001b[0m, in \u001b[0;36m_modified_open\u001b[0;34m(file, *args, **kwargs)\u001b[0m\n\u001b[1;32m    275\u001b[0m \u001b[38;5;28;01mif\u001b[39;00m file \u001b[38;5;129;01min\u001b[39;00m {\u001b[38;5;241m0\u001b[39m, \u001b[38;5;241m1\u001b[39m, \u001b[38;5;241m2\u001b[39m}:\n\u001b[1;32m    276\u001b[0m     \u001b[38;5;28;01mraise\u001b[39;00m \u001b[38;5;167;01mValueError\u001b[39;00m(\n\u001b[1;32m    277\u001b[0m         \u001b[38;5;124mf\u001b[39m\u001b[38;5;124m\"\u001b[39m\u001b[38;5;124mIPython won\u001b[39m\u001b[38;5;124m'\u001b[39m\u001b[38;5;124mt let you open fd=\u001b[39m\u001b[38;5;132;01m{\u001b[39;00mfile\u001b[38;5;132;01m}\u001b[39;00m\u001b[38;5;124m by default \u001b[39m\u001b[38;5;124m\"\u001b[39m\n\u001b[1;32m    278\u001b[0m         \u001b[38;5;124m\"\u001b[39m\u001b[38;5;124mas it is likely to crash IPython. If you know what you are doing, \u001b[39m\u001b[38;5;124m\"\u001b[39m\n\u001b[1;32m    279\u001b[0m         \u001b[38;5;124m\"\u001b[39m\u001b[38;5;124myou can use builtins\u001b[39m\u001b[38;5;124m'\u001b[39m\u001b[38;5;124m open.\u001b[39m\u001b[38;5;124m\"\u001b[39m\n\u001b[1;32m    280\u001b[0m     )\n\u001b[0;32m--> 282\u001b[0m \u001b[38;5;28;01mreturn\u001b[39;00m \u001b[43mio_open\u001b[49m\u001b[43m(\u001b[49m\u001b[43mfile\u001b[49m\u001b[43m,\u001b[49m\u001b[43m \u001b[49m\u001b[38;5;241;43m*\u001b[39;49m\u001b[43margs\u001b[49m\u001b[43m,\u001b[49m\u001b[43m \u001b[49m\u001b[38;5;241;43m*\u001b[39;49m\u001b[38;5;241;43m*\u001b[39;49m\u001b[43mkwargs\u001b[49m\u001b[43m)\u001b[49m\n",
      "\u001b[0;31mFileNotFoundError\u001b[0m: [Errno 2] No such file or directory: 'test.txt'"
     ]
    }
   ],
   "source": [
    "file_name = \"test.txt\"\n",
    "f = open(file_name)\n",
    "f.read()"
   ]
  },
  {
   "cell_type": "code",
   "execution_count": 62,
   "id": "a4ee1b1a-39f5-463b-82b7-51a0e6787826",
   "metadata": {},
   "outputs": [
    {
     "name": "stdout",
     "output_type": "stream",
     "text": [
      "[Errno 2] No such file or directory: 'test.txt'\n"
     ]
    }
   ],
   "source": [
    "try:\n",
    "    file_name = \"test.txt\"\n",
    "    f = open(file_name)\n",
    "    f.read()\n",
    "    \n",
    "except Exception as e:\n",
    "    print(e)"
   ]
  },
  {
   "cell_type": "code",
   "execution_count": 64,
   "id": "f0cfeb12-e0fb-4a78-9fdb-260dbb51fff5",
   "metadata": {},
   "outputs": [
    {
     "data": {
      "text/plain": [
       "'I am Awesome!\\n'"
      ]
     },
     "execution_count": 64,
     "metadata": {},
     "output_type": "execute_result"
    }
   ],
   "source": [
    "    file_name = \"test.txt\"\n",
    "    f = open(file_name)\n",
    "    f.read()\n",
    "    \n"
   ]
  },
  {
   "cell_type": "code",
   "execution_count": 65,
   "id": "8da981cd-6032-49dc-8aa9-b9b11901521d",
   "metadata": {},
   "outputs": [
    {
     "ename": "IndentationError",
     "evalue": "unexpected indent (3771535036.py, line 2)",
     "output_type": "error",
     "traceback": [
      "\u001b[0;36m  Cell \u001b[0;32mIn[65], line 2\u001b[0;36m\u001b[0m\n\u001b[0;31m    file_name = \"test.txt\"\u001b[0m\n\u001b[0m    ^\u001b[0m\n\u001b[0;31mIndentationError\u001b[0m\u001b[0;31m:\u001b[0m unexpected indent\n"
     ]
    }
   ],
   "source": [
    "#after putting file inside pro folder\n",
    "    file_name = \"test.txt\"\n",
    "    f = open(file_name)\n",
    "    f.read()"
   ]
  },
  {
   "cell_type": "code",
   "execution_count": 66,
   "id": "db424356-8b30-432b-93cf-b79ef86d4261",
   "metadata": {},
   "outputs": [
    {
     "name": "stdout",
     "output_type": "stream",
     "text": [
      "'24SeptClass (2).ipynb'\n",
      " Abstract_class.ipynb\n",
      " app.py\n",
      "'Best Practice Exception Handling.ipynb'\n",
      "'Buffered Read And Write Other File Methods.ipynb'\n",
      "'Class5_Phython (1).ipynb'\n",
      "'class6_Phython (1).ipynb'\n",
      " class6_Phython.ipynb\n",
      " Class_ExceptionHandling.ipynb\n",
      " Class_Methods.ipynb\n",
      "'Custom Exception Handling.ipynb'\n",
      " Decorator.ipynb\n",
      " ENCAPSULATION.ipynb\n",
      "'Exceptions Handling With Try Except.ipynb'\n",
      "'List Of General Use Exceptions.ipynb'\n",
      "'Logging Debugger.ipynb'\n",
      " MongoDB.ipynb\n",
      " Multiple_Inheritnce.ipynb\n",
      " Multithreading.ipynb\n",
      " order_MVKrsyC9wQLS7P_INvoice.pdf\n",
      " Polymorphism.ipynb\n",
      " \u001b[0m\u001b[01;34mpro\u001b[0m/\n",
      "'Property Decorators Getters, Setters, And Deletes.ipynb'\n",
      "'Reading And Writing Files.ipynb'\n",
      "'Special (Magic Dunder) Methods.ipynb'\n",
      "'Static_method (1).ipynb'\n",
      "'Working With Files.ipynb'\n"
     ]
    }
   ],
   "source": [
    "ls\n"
   ]
  },
  {
   "cell_type": "code",
   "execution_count": 67,
   "id": "81f2885e-6986-4390-878c-25e102528d11",
   "metadata": {},
   "outputs": [
    {
     "data": {
      "text/plain": [
       "'/home/jovyan/work'"
      ]
     },
     "execution_count": 67,
     "metadata": {},
     "output_type": "execute_result"
    }
   ],
   "source": [
    "pwd"
   ]
  },
  {
   "cell_type": "code",
   "execution_count": 68,
   "id": "7e74b1e6-c885-4512-8f76-27855fc73b24",
   "metadata": {},
   "outputs": [
    {
     "name": "stdout",
     "output_type": "stream",
     "text": [
      "/home/jovyan/work/pro\n"
     ]
    }
   ],
   "source": [
    "cd pro\n"
   ]
  },
  {
   "cell_type": "code",
   "execution_count": 69,
   "id": "8be86cb6-7bfb-4f55-87c1-9d345d992abb",
   "metadata": {},
   "outputs": [
    {
     "data": {
      "text/plain": [
       "'I am Awesome!\\n'"
      ]
     },
     "execution_count": 69,
     "metadata": {},
     "output_type": "execute_result"
    }
   ],
   "source": [
    "    file_name = \"test.txt\"\n",
    "    f = open(file_name)\n",
    "    f.read()"
   ]
  },
  {
   "cell_type": "code",
   "execution_count": 70,
   "id": "76503f7f-940c-4f3e-a140-04eca5324d97",
   "metadata": {},
   "outputs": [
    {
     "ename": "SyntaxError",
     "evalue": "invalid syntax (3601522110.py, line 1)",
     "output_type": "error",
     "traceback": [
      "\u001b[0;36m  Cell \u001b[0;32mIn[70], line 1\u001b[0;36m\u001b[0m\n\u001b[0;31m    cd..\u001b[0m\n\u001b[0m       ^\u001b[0m\n\u001b[0;31mSyntaxError\u001b[0m\u001b[0;31m:\u001b[0m invalid syntax\n"
     ]
    }
   ],
   "source": [
    "\n"
   ]
  },
  {
   "cell_type": "code",
   "execution_count": 71,
   "id": "df28a340-9011-4e07-8727-eb15736dc22f",
   "metadata": {},
   "outputs": [
    {
     "name": "stdout",
     "output_type": "stream",
     "text": [
      "/home/jovyan/work\n"
     ]
    }
   ],
   "source": [
    "cd /home/jovyan/work\n"
   ]
  },
  {
   "cell_type": "code",
   "execution_count": 72,
   "id": "b1da23b1-bd9b-4cbc-ac1f-a68cb5458b75",
   "metadata": {},
   "outputs": [
    {
     "data": {
      "text/plain": [
       "'/home/jovyan/work'"
      ]
     },
     "execution_count": 72,
     "metadata": {},
     "output_type": "execute_result"
    }
   ],
   "source": [
    "pwd"
   ]
  },
  {
   "cell_type": "code",
   "execution_count": 73,
   "id": "32b02956-80bb-4286-8435-5a4a95de1096",
   "metadata": {},
   "outputs": [
    {
     "name": "stdout",
     "output_type": "stream",
     "text": [
      "total 428\n",
      "-rw-r--r-- 1 jovyan users 39455 Sep 30 03:49 '24SeptClass (2).ipynb'\n",
      "-rw-r--r-- 1 jovyan users  3334 Sep 30 03:49  Abstract_class.ipynb\n",
      "-rw-r--r-- 1 jovyan users   578 Sep 30 03:49  app.py\n",
      "-rw-r--r-- 1 jovyan users  4245 Sep 30 03:49 'Best Practice Exception Handling.ipynb'\n",
      "-rw-r--r-- 1 jovyan users  2140 Sep 30 03:49 'Buffered Read And Write Other File Methods.ipynb'\n",
      "-rw-r--r-- 1 jovyan users 35755 Sep 30 03:49 'Class5_Phython (1).ipynb'\n",
      "-rw-r--r-- 1 jovyan users 41960 Sep 30 03:49 'class6_Phython (1).ipynb'\n",
      "-rw-r--r-- 1 jovyan users 19146 Sep 30 03:49  class6_Phython.ipynb\n",
      "-rw-r--r-- 1 jovyan users 30375 Sep 30 05:27  Class_ExceptionHandling.ipynb\n",
      "-rw-r--r-- 1 jovyan users 27243 Sep 30 03:49  Class_Methods.ipynb\n",
      "-rw-r--r-- 1 jovyan users  2189 Sep 30 03:49 'Custom Exception Handling.ipynb'\n",
      "-rw-r--r-- 1 jovyan users  5525 Sep 30 03:49  Decorator.ipynb\n",
      "-rw-r--r-- 1 jovyan users 13180 Sep 30 03:49  ENCAPSULATION.ipynb\n",
      "-rw-r--r-- 1 jovyan users 16553 Sep 30 03:49 'Exceptions Handling With Try Except.ipynb'\n",
      "-rw-r--r-- 1 jovyan users  5940 Sep 30 03:49 'List Of General Use Exceptions.ipynb'\n",
      "-rw-r--r-- 1 jovyan users  6837 Sep 30 03:49 'Logging Debugger.ipynb'\n",
      "-rw-r--r-- 1 jovyan users 14074 Sep 30 03:49  MongoDB.ipynb\n",
      "-rw-r--r-- 1 jovyan users  1398 Sep 30 03:49  Multiple_Inheritnce.ipynb\n",
      "-rw-r--r-- 1 jovyan users 18085 Sep 30 03:49  Multithreading.ipynb\n",
      "-rw-r--r-- 1 jovyan users 32948 Sep 30 03:49  order_MVKrsyC9wQLS7P_INvoice.pdf\n",
      "-rw-r--r-- 1 jovyan users  4816 Sep 30 03:49  Polymorphism.ipynb\n",
      "drwxr-xr-x 3 jovyan users  4096 Sep 30 05:24  \u001b[0m\u001b[01;34mpro\u001b[0m/\n",
      "-rw-r--r-- 1 jovyan users 10710 Sep 30 03:49 'Property Decorators Getters, Setters, And Deletes.ipynb'\n",
      "-rw-r--r-- 1 jovyan users  4544 Sep 30 03:49 'Reading And Writing Files.ipynb'\n",
      "-rw-r--r-- 1 jovyan users 10583 Sep 30 03:49 'Special (Magic Dunder) Methods.ipynb'\n",
      "-rw-r--r-- 1 jovyan users  7179 Sep 30 03:49 'Static_method (1).ipynb'\n",
      "-rw-r--r-- 1 jovyan users 13308 Sep 30 03:49 'Working With Files.ipynb'\n"
     ]
    }
   ],
   "source": [
    "ls -l\n"
   ]
  },
  {
   "cell_type": "code",
   "execution_count": 74,
   "id": "7fd0bec5-4904-428a-a96c-4c99c250de88",
   "metadata": {},
   "outputs": [
    {
     "data": {
      "text/plain": [
       "'I am Awesome!\\n'"
      ]
     },
     "execution_count": 74,
     "metadata": {},
     "output_type": "execute_result"
    }
   ],
   "source": [
    "    file_name = \"/home/jovyan/work/pro/test.txt\"\n",
    "    f = open(file_name)\n",
    "    f.read()"
   ]
  },
  {
   "cell_type": "code",
   "execution_count": 78,
   "id": "a2c8a191-ff85-4392-b195-ee499ad2cb13",
   "metadata": {},
   "outputs": [
    {
     "data": {
      "text/plain": [
       "<_io.TextIOWrapper name='/home/jovyan/work/pro/test.txt' mode='r' encoding='UTF-8'>"
      ]
     },
     "execution_count": 78,
     "metadata": {},
     "output_type": "execute_result"
    }
   ],
   "source": [
    "open(\"/home/jovyan/work/pro/test.txt\")"
   ]
  },
  {
   "cell_type": "code",
   "execution_count": 79,
   "id": "5083462a-7acb-4299-a4b8-28b4ce5860c3",
   "metadata": {},
   "outputs": [
    {
     "data": {
      "text/plain": [
       "'/home/jovyan/work'"
      ]
     },
     "execution_count": 79,
     "metadata": {},
     "output_type": "execute_result"
    }
   ],
   "source": [
    "pwd\n"
   ]
  },
  {
   "cell_type": "code",
   "execution_count": 80,
   "id": "a5183c0d-9873-4afa-80a3-5a90280f6f65",
   "metadata": {},
   "outputs": [
    {
     "name": "stdout",
     "output_type": "stream",
     "text": [
      "'24SeptClass (2).ipynb'\n",
      " Abstract_class.ipynb\n",
      " app.py\n",
      "'Best Practice Exception Handling.ipynb'\n",
      "'Buffered Read And Write Other File Methods.ipynb'\n",
      "'Class5_Phython (1).ipynb'\n",
      "'class6_Phython (1).ipynb'\n",
      " class6_Phython.ipynb\n",
      " Class_ExceptionHandling.ipynb\n",
      " Class_Methods.ipynb\n",
      "'Custom Exception Handling.ipynb'\n",
      " Decorator.ipynb\n",
      " ENCAPSULATION.ipynb\n",
      "'Exceptions Handling With Try Except.ipynb'\n",
      "'List Of General Use Exceptions.ipynb'\n",
      "'Logging Debugger.ipynb'\n",
      " MongoDB.ipynb\n",
      " Multiple_Inheritnce.ipynb\n",
      " Multithreading.ipynb\n",
      " order_MVKrsyC9wQLS7P_INvoice.pdf\n",
      " Polymorphism.ipynb\n",
      " \u001b[0m\u001b[01;34mpro\u001b[0m/\n",
      "'Property Decorators Getters, Setters, And Deletes.ipynb'\n",
      "'Reading And Writing Files.ipynb'\n",
      "'Special (Magic Dunder) Methods.ipynb'\n",
      "'Static_method (1).ipynb'\n",
      "'Working With Files.ipynb'\n"
     ]
    }
   ],
   "source": [
    "ls\n"
   ]
  },
  {
   "cell_type": "code",
   "execution_count": 81,
   "id": "b9a89ee1-005d-49bf-89a5-0899c3d8bdaf",
   "metadata": {},
   "outputs": [
    {
     "name": "stdout",
     "output_type": "stream",
     "text": [
      "/home/jovyan/work/pro\n"
     ]
    }
   ],
   "source": [
    "cd pro"
   ]
  },
  {
   "cell_type": "code",
   "execution_count": 82,
   "id": "9b76a6f3-c1bc-4478-bacf-25ca18977897",
   "metadata": {},
   "outputs": [
    {
     "name": "stdout",
     "output_type": "stream",
     "text": [
      "test.txt\n"
     ]
    }
   ],
   "source": [
    "ls\n"
   ]
  },
  {
   "cell_type": "code",
   "execution_count": 83,
   "id": "9b4b37bd-d74e-4024-884e-d4810e6e4270",
   "metadata": {},
   "outputs": [
    {
     "data": {
      "text/plain": [
       "<_io.TextIOWrapper name='test.txt' mode='r' encoding='UTF-8'>"
      ]
     },
     "execution_count": 83,
     "metadata": {},
     "output_type": "execute_result"
    }
   ],
   "source": [
    "open(\"test.txt\")"
   ]
  },
  {
   "cell_type": "code",
   "execution_count": 84,
   "id": "481b75f4-3ab5-48e3-b56f-fc59a2ea0a1d",
   "metadata": {},
   "outputs": [
    {
     "name": "stdin",
     "output_type": "stream",
     "text": [
      "enter a number 0\n"
     ]
    },
    {
     "ename": "NameError",
     "evalue": "name 'n' is not defined",
     "output_type": "error",
     "traceback": [
      "\u001b[0;31m---------------------------------------------------------------------------\u001b[0m",
      "\u001b[0;31mNameError\u001b[0m                                 Traceback (most recent call last)",
      "Cell \u001b[0;32mIn[84], line 2\u001b[0m\n\u001b[1;32m      1\u001b[0m \u001b[38;5;28mint\u001b[39m(\u001b[38;5;28minput\u001b[39m(\u001b[38;5;124m\"\u001b[39m\u001b[38;5;124menter a number\u001b[39m\u001b[38;5;124m\"\u001b[39m))\n\u001b[0;32m----> 2\u001b[0m div \u001b[38;5;241m=\u001b[39m \u001b[38;5;241m342\u001b[39m\u001b[38;5;241m/\u001b[39m\u001b[43mn\u001b[49m\n\u001b[1;32m      3\u001b[0m \u001b[38;5;28mprint\u001b[39m(div)\n",
      "\u001b[0;31mNameError\u001b[0m: name 'n' is not defined"
     ]
    }
   ],
   "source": [
    "int(input(\"enter a number\"))\n",
    "div = 342/n\n",
    "print(div)\n"
   ]
  },
  {
   "cell_type": "code",
   "execution_count": 87,
   "id": "bf3bc097-4b48-4676-bbab-62d78afd483c",
   "metadata": {},
   "outputs": [
    {
     "name": "stdin",
     "output_type": "stream",
     "text": [
      "enter a number 0\n"
     ]
    },
    {
     "ename": "ZeroDivisionError",
     "evalue": "division by zero",
     "output_type": "error",
     "traceback": [
      "\u001b[0;31m---------------------------------------------------------------------------\u001b[0m",
      "\u001b[0;31mZeroDivisionError\u001b[0m                         Traceback (most recent call last)",
      "Cell \u001b[0;32mIn[87], line 3\u001b[0m\n\u001b[1;32m      1\u001b[0m \u001b[38;5;28;01mtry\u001b[39;00m :\n\u001b[1;32m      2\u001b[0m     n\u001b[38;5;241m=\u001b[39m \u001b[38;5;28mint\u001b[39m(\u001b[38;5;28minput\u001b[39m(\u001b[38;5;124m\"\u001b[39m\u001b[38;5;124menter a number\u001b[39m\u001b[38;5;124m\"\u001b[39m))\n\u001b[0;32m----> 3\u001b[0m     div \u001b[38;5;241m=\u001b[39m \u001b[38;5;241;43m342\u001b[39;49m\u001b[38;5;241;43m/\u001b[39;49m\u001b[43mn\u001b[49m\n\u001b[1;32m      4\u001b[0m     \u001b[38;5;28mprint\u001b[39m(div)\n\u001b[1;32m      5\u001b[0m \u001b[38;5;28;01mexcept\u001b[39;00m  \u001b[38;5;167;01mValueError\u001b[39;00m:\n",
      "\u001b[0;31mZeroDivisionError\u001b[0m: division by zero"
     ]
    }
   ],
   "source": [
    "try :\n",
    "    n= int(input(\"enter a number\"))\n",
    "    div = 342/n\n",
    "    print(div)\n",
    "except  ValueError:\n",
    "    print(\"user enter invalid input\")"
   ]
  },
  {
   "cell_type": "code",
   "execution_count": 88,
   "id": "076bed0b-e84e-430e-b423-0a4b466903ba",
   "metadata": {},
   "outputs": [
    {
     "name": "stdin",
     "output_type": "stream",
     "text": [
      "enter a number 0\n"
     ]
    },
    {
     "name": "stdout",
     "output_type": "stream",
     "text": [
      "user entered zero\n"
     ]
    }
   ],
   "source": [
    "try :\n",
    "    n = int(input(\"enter a number\"))\n",
    "    div = 342/n\n",
    "    print(div)\n",
    "except  ValueError:\n",
    "    print(\"user enter invalid input\")\n",
    "except ZeroDivisionError:\n",
    "    print(\"user entered zero\")\n",
    "    "
   ]
  },
  {
   "cell_type": "code",
   "execution_count": 89,
   "id": "89373d82-5795-427a-8432-3ed01c9ea43b",
   "metadata": {},
   "outputs": [
    {
     "name": "stdin",
     "output_type": "stream",
     "text": [
      "enter a number Sumit\n"
     ]
    },
    {
     "name": "stdout",
     "output_type": "stream",
     "text": [
      "user enter invalid input\n"
     ]
    }
   ],
   "source": [
    "try :\n",
    "    n = int(input(\"enter a number\"))\n",
    "    div = 342/n\n",
    "    print(div)\n",
    "except  ValueError:\n",
    "    print(\"user enter invalid input\")\n",
    "except ZeroDivisionError:\n",
    "    print(\"user entered zero\")\n",
    "    "
   ]
  },
  {
   "cell_type": "code",
   "execution_count": 90,
   "id": "604dab47-ef0d-440b-bcb4-7460b966cf21",
   "metadata": {},
   "outputs": [
    {
     "name": "stdin",
     "output_type": "stream",
     "text": [
      "enter a number jack\n"
     ]
    },
    {
     "name": "stdout",
     "output_type": "stream",
     "text": [
      "user enter invalid input\n"
     ]
    }
   ],
   "source": [
    "try:\n",
    "    try :\n",
    "        n = int(input(\"enter a number\"))\n",
    "        div = 342/n\n",
    "        print(div)\n",
    "    except  ValueError:\n",
    "        print(\"user enter invalid input\")\n",
    "except ValueError:\n",
    "    print(\"user entered invalid input\")"
   ]
  },
  {
   "cell_type": "code",
   "execution_count": 97,
   "id": "70d6b694-f142-4361-97c0-0f06d39f8347",
   "metadata": {},
   "outputs": [
    {
     "name": "stdin",
     "output_type": "stream",
     "text": [
      "enter a number 78\n"
     ]
    },
    {
     "name": "stdout",
     "output_type": "stream",
     "text": [
      "4.384615384615385\n"
     ]
    }
   ],
   "source": [
    "try :\n",
    "        n = int(input(\"enter a number\"))\n",
    "        div = 342/n\n",
    "        #print(div)\n",
    "except  Exception:\n",
    "        print(\"user enter invalid input or may be zero\")\n",
    "else:\n",
    "        print(div)"
   ]
  },
  {
   "cell_type": "code",
   "execution_count": 98,
   "id": "76e15dd9-6d2d-4e88-8ceb-1966eafe738d",
   "metadata": {},
   "outputs": [
    {
     "name": "stdin",
     "output_type": "stream",
     "text": [
      "enter a number sumit\n"
     ]
    },
    {
     "name": "stdout",
     "output_type": "stream",
     "text": [
      "user enter invalid input or may be zero\n"
     ]
    }
   ],
   "source": [
    "try :\n",
    "        n = int(input(\"enter a number\"))\n",
    "        div = 342/n\n",
    "        #print(div)\n",
    "except  Exception:\n",
    "        print(\"user enter invalid input or may be zero\")\n",
    "else:\n",
    "        print(div)"
   ]
  },
  {
   "cell_type": "code",
   "execution_count": 99,
   "id": "b86dabcd-5a3d-4255-b8da-1a8584b92a4d",
   "metadata": {},
   "outputs": [],
   "source": [
    "f = open(\"/home/jovyan/work/pro/test.txt\")"
   ]
  },
  {
   "cell_type": "code",
   "execution_count": 100,
   "id": "032c3a00-c069-44ee-a452-abf0432d6409",
   "metadata": {},
   "outputs": [
    {
     "data": {
      "text/plain": [
       "<_io.TextIOWrapper name='/home/jovyan/work/pro/test.txt' mode='r' encoding='UTF-8'>"
      ]
     },
     "execution_count": 100,
     "metadata": {},
     "output_type": "execute_result"
    }
   ],
   "source": [
    "f"
   ]
  },
  {
   "cell_type": "code",
   "execution_count": 101,
   "id": "58a1e92f-407b-490b-8340-068079eb5712",
   "metadata": {},
   "outputs": [
    {
     "data": {
      "text/plain": [
       "'I am Awesome!\\n'"
      ]
     },
     "execution_count": 101,
     "metadata": {},
     "output_type": "execute_result"
    }
   ],
   "source": [
    "f.read()"
   ]
  },
  {
   "cell_type": "code",
   "execution_count": 102,
   "id": "181f92bc-5750-452a-a72f-fd2a0ca7ab1e",
   "metadata": {},
   "outputs": [],
   "source": [
    "f.read()\n",
    "f.close()"
   ]
  },
  {
   "cell_type": "code",
   "execution_count": 103,
   "id": "a4d1a9bd-a115-4962-8b8b-2acdbdf12ffd",
   "metadata": {},
   "outputs": [
    {
     "ename": "UnsupportedOperation",
     "evalue": "not writable",
     "output_type": "error",
     "traceback": [
      "\u001b[0;31m---------------------------------------------------------------------------\u001b[0m",
      "\u001b[0;31mUnsupportedOperation\u001b[0m                      Traceback (most recent call last)",
      "Cell \u001b[0;32mIn[103], line 3\u001b[0m\n\u001b[1;32m      1\u001b[0m f \u001b[38;5;241m=\u001b[39m \u001b[38;5;28mopen\u001b[39m(\u001b[38;5;124m\"\u001b[39m\u001b[38;5;124m/home/jovyan/work/pro/test.txt\u001b[39m\u001b[38;5;124m\"\u001b[39m)\n\u001b[1;32m      2\u001b[0m f\u001b[38;5;241m.\u001b[39mread()\n\u001b[0;32m----> 3\u001b[0m \u001b[43mf\u001b[49m\u001b[38;5;241;43m.\u001b[39;49m\u001b[43mwrite\u001b[49m\u001b[43m(\u001b[49m\u001b[38;5;124;43m\"\u001b[39;49m\u001b[38;5;124;43mDaily progress\u001b[39;49m\u001b[38;5;124;43m\"\u001b[39;49m\u001b[43m)\u001b[49m\n",
      "\u001b[0;31mUnsupportedOperation\u001b[0m: not writable"
     ]
    }
   ],
   "source": [
    "f = open(\"/home/jovyan/work/pro/test.txt\")\n",
    "f.read()\n",
    "f.write(\"Daily progress\")"
   ]
  },
  {
   "cell_type": "code",
   "execution_count": 106,
   "id": "3e3d6101-8f64-48f1-ad07-b4df82fc499e",
   "metadata": {},
   "outputs": [
    {
     "name": "stdout",
     "output_type": "stream",
     "text": [
      "there is some issue\n",
      "file is closed\n"
     ]
    }
   ],
   "source": [
    "try:\n",
    "    f = open(\"/home/jovyan/work/pro/test.txt\")\n",
    "    f.read()\n",
    "    f.write(\"Daily progress\")\n",
    "except Exception :\n",
    "    print(\"there is some issue\")\n",
    "finally:\n",
    "    f.close()\n",
    "    print(\"file is closed\")"
   ]
  },
  {
   "cell_type": "code",
   "execution_count": 111,
   "id": "80293b92-0392-470a-8233-7e126e18d81d",
   "metadata": {},
   "outputs": [
    {
     "name": "stdout",
     "output_type": "stream",
     "text": [
      "there is some issue\n",
      "file is closed\n"
     ]
    }
   ],
   "source": [
    "try:\n",
    "    f = open(\"/home/jovyan/work/pro/test.txt\")\n",
    "    data =  f.write()\n",
    "except Exception :\n",
    "    print(\"there is some issue\")\n",
    "else:\n",
    "    print(data)\n",
    "finally:\n",
    "    f.close()\n",
    "    print(\"file is closed\")"
   ]
  },
  {
   "cell_type": "code",
   "execution_count": 108,
   "id": "bc870cea-10d1-4b3f-a51c-67b6664239f9",
   "metadata": {},
   "outputs": [
    {
     "data": {
      "text/plain": [
       "<_io.TextIOWrapper name='/home/jovyan/work/pro/test.txt' mode='r' encoding='UTF-8'>"
      ]
     },
     "execution_count": 108,
     "metadata": {},
     "output_type": "execute_result"
    }
   ],
   "source": [
    "f"
   ]
  },
  {
   "cell_type": "code",
   "execution_count": 114,
   "id": "0b969b53-8f19-4616-b92b-39bac78a1a61",
   "metadata": {},
   "outputs": [
    {
     "name": "stdout",
     "output_type": "stream",
     "text": [
      "there is some issue\n",
      "file is closed\n"
     ]
    }
   ],
   "source": [
    "try:\n",
    "    f = open(\"/home/jovyan/work/pro/test.txt\")\n",
    "    data =  f.write()\n",
    "except Exception :\n",
    "    \n",
    "    print(\"there is some issue\")\n",
    "else:\n",
    "    print(data)\n",
    "finally:\n",
    "    try:\n",
    "        print(data)\n",
    "    except:\n",
    "        pass\n",
    "    f.close()\n",
    "    print(\"file is closed\")"
   ]
  },
  {
   "cell_type": "code",
   "execution_count": 115,
   "id": "17575c0f-4375-4a5e-b769-5f5752edfc3d",
   "metadata": {},
   "outputs": [
    {
     "data": {
      "text/plain": [
       "<_io.TextIOWrapper name='/home/jovyan/work/pro/test.txt' mode='r' encoding='UTF-8'>"
      ]
     },
     "execution_count": 115,
     "metadata": {},
     "output_type": "execute_result"
    }
   ],
   "source": [
    "f"
   ]
  },
  {
   "cell_type": "code",
   "execution_count": 116,
   "id": "17a34bb5-407f-4263-a506-acd439f6393b",
   "metadata": {},
   "outputs": [
    {
     "name": "stdin",
     "output_type": "stream",
     "text": [
      "entr height of wall -908\n"
     ]
    }
   ],
   "source": [
    "a = int(input(\"entr height of wall\"))"
   ]
  },
  {
   "cell_type": "code",
   "execution_count": 118,
   "id": "1c5b1a13-e50d-4949-b2e2-b7d947d86a0c",
   "metadata": {},
   "outputs": [
    {
     "name": "stdin",
     "output_type": "stream",
     "text": [
      "enter height of wall -87\n"
     ]
    },
    {
     "name": "stdout",
     "output_type": "stream",
     "text": [
      "Entered height is negative\n"
     ]
    }
   ],
   "source": [
    "try:\n",
    "    a = int(input(\"enter height of wall\"))\n",
    "    if a<0:\n",
    "# raise: keyword to define own custom message\n",
    "        raise ValueError(\"Entered height is negative\")\n",
    "except ValueError as V:\n",
    "    print(V)\n",
    "    "
   ]
  },
  {
   "cell_type": "code",
   "execution_count": 119,
   "id": "9fcb0830-5ea7-4bb1-9d87-c250ffb652a7",
   "metadata": {},
   "outputs": [
    {
     "name": "stdin",
     "output_type": "stream",
     "text": [
      "enter height of wall 87\n"
     ]
    }
   ],
   "source": [
    "try:\n",
    "    a = int(input(\"enter height of wall\"))\n",
    "    if a<0:\n",
    "        raise ValueError(\"Entered height is negative\")\n",
    "except ValueError as V:\n",
    "    print(V)"
   ]
  },
  {
   "cell_type": "code",
   "execution_count": 124,
   "id": "951effe9-361e-48f1-b5fb-ab05c9c7104a",
   "metadata": {},
   "outputs": [
    {
     "name": "stdin",
     "output_type": "stream",
     "text": [
      "enter age 18.9\n"
     ]
    },
    {
     "name": "stdout",
     "output_type": "stream",
     "text": [
      "invalid literal for int() with base 10: '18.9'\n"
     ]
    }
   ],
   "source": [
    "try :\n",
    "    age = int(input(\"enter age\"))\n",
    "    if age<0:\n",
    "        raise ValueError(\"user entered a negative age whihc is not valid\")\n",
    "    elif age<18:\n",
    "        raise ValueError(\"user is underage\")\n",
    "    else:\n",
    "        print(\"valid user\")\n",
    "except ValueError as V:\n",
    "    print(V)"
   ]
  },
  {
   "cell_type": "code",
   "execution_count": 125,
   "id": "4de5711f-e53f-4c48-88ea-4deb5354a347",
   "metadata": {},
   "outputs": [
    {
     "name": "stdin",
     "output_type": "stream",
     "text": [
      "enter age 13\n"
     ]
    },
    {
     "ename": "ZeroDivisionError",
     "evalue": "user is underage",
     "output_type": "error",
     "traceback": [
      "\u001b[0;31m---------------------------------------------------------------------------\u001b[0m",
      "\u001b[0;31mZeroDivisionError\u001b[0m                         Traceback (most recent call last)",
      "Cell \u001b[0;32mIn[125], line 6\u001b[0m\n\u001b[1;32m      4\u001b[0m     \u001b[38;5;28;01mraise\u001b[39;00m \u001b[38;5;167;01mValueError\u001b[39;00m(\u001b[38;5;124m\"\u001b[39m\u001b[38;5;124muser entered a negative age whihc is not valid\u001b[39m\u001b[38;5;124m\"\u001b[39m)\n\u001b[1;32m      5\u001b[0m \u001b[38;5;28;01melif\u001b[39;00m age\u001b[38;5;241m<\u001b[39m\u001b[38;5;241m18\u001b[39m:\n\u001b[0;32m----> 6\u001b[0m     \u001b[38;5;28;01mraise\u001b[39;00m \u001b[38;5;167;01mZeroDivisionError\u001b[39;00m(\u001b[38;5;124m\"\u001b[39m\u001b[38;5;124muser is underage\u001b[39m\u001b[38;5;124m\"\u001b[39m)\n\u001b[1;32m      7\u001b[0m \u001b[38;5;28;01melse\u001b[39;00m:\n\u001b[1;32m      8\u001b[0m     \u001b[38;5;28mprint\u001b[39m(\u001b[38;5;124m\"\u001b[39m\u001b[38;5;124mvalid user\u001b[39m\u001b[38;5;124m\"\u001b[39m)\n",
      "\u001b[0;31mZeroDivisionError\u001b[0m: user is underage"
     ]
    }
   ],
   "source": [
    "try :\n",
    "    age = int(input(\"enter age\"))\n",
    "    if age<0:\n",
    "        raise ValueError(\"user entered a negative age whihc is not valid\")\n",
    "    elif age<18:\n",
    "        raise ZeroDivisionError(\"user is underage\")\n",
    "    else:\n",
    "        print(\"valid user\")\n",
    "except ValueError as V:\n",
    "    print(V)"
   ]
  },
  {
   "cell_type": "code",
   "execution_count": 128,
   "id": "32a4a88c-f4ac-4ccb-91f0-9af4e2d866ff",
   "metadata": {},
   "outputs": [
    {
     "name": "stdin",
     "output_type": "stream",
     "text": [
      "enter age -89\n"
     ]
    },
    {
     "name": "stdout",
     "output_type": "stream",
     "text": [
      "user entered a negative age whihc is not valid\n"
     ]
    }
   ],
   "source": [
    "try :\n",
    "    age = int(input(\"enter age\"))\n",
    "    if age<0:\n",
    "        raise ValueError(\"user entered a negative age whihc is not valid\")\n",
    "    elif age<18:\n",
    "        raise Exception(\"user is underage\")\n",
    "    else:\n",
    "        print(\"valid user\")\n",
    "except Exception as a:\n",
    "    print(a)"
   ]
  },
  {
   "cell_type": "code",
   "execution_count": 5,
   "id": "23576550-fe5d-4e88-b293-6d756854eeef",
   "metadata": {},
   "outputs": [],
   "source": [
    "import logging as log"
   ]
  },
  {
   "cell_type": "code",
   "execution_count": 6,
   "id": "63b437ae-b981-4b4d-a9ba-810f68a7585d",
   "metadata": {},
   "outputs": [],
   "source": [
    "log.basicConfig(filename = 'test.log', level = log.INFO)"
   ]
  },
  {
   "cell_type": "code",
   "execution_count": 132,
   "id": "9252c8c6-25ba-46c0-b998-9de00774d31e",
   "metadata": {},
   "outputs": [
    {
     "data": {
      "text/plain": [
       "'/home/jovyan/work/pro'"
      ]
     },
     "execution_count": 132,
     "metadata": {},
     "output_type": "execute_result"
    }
   ],
   "source": [
    "pwd"
   ]
  },
  {
   "cell_type": "code",
   "execution_count": 8,
   "id": "8a04e076-1900-4c85-b088-f7f323b43912",
   "metadata": {},
   "outputs": [],
   "source": [
    "log.info(\"Store a message\")"
   ]
  },
  {
   "cell_type": "code",
   "execution_count": 9,
   "id": "9d93dd49-1820-4a15-8c7a-4ba59641798e",
   "metadata": {},
   "outputs": [],
   "source": [
    "log.debug:(\"debug mode\")"
   ]
  },
  {
   "cell_type": "code",
   "execution_count": 10,
   "id": "82dfbd54-627c-47d5-bd92-7460d06c0012",
   "metadata": {},
   "outputs": [],
   "source": [
    "log.warning:(\"warning mode\")"
   ]
  },
  {
   "cell_type": "code",
   "execution_count": 11,
   "id": "b42b043c-b898-4c7a-b443-f69e43d0ba46",
   "metadata": {},
   "outputs": [],
   "source": [
    "log.error:(\"error mode\")"
   ]
  },
  {
   "cell_type": "code",
   "execution_count": 12,
   "id": "7e2b4f82-d532-497c-8c1e-9ec40d1f7881",
   "metadata": {},
   "outputs": [],
   "source": [
    "log.critical:(\"critical mode\")"
   ]
  },
  {
   "cell_type": "code",
   "execution_count": 1,
   "id": "dc39a627-5e89-427f-8540-2a38f2710f3d",
   "metadata": {},
   "outputs": [
    {
     "ename": "TypeError",
     "evalue": "Level not an integer or a valid string: <module 'logging' from '/opt/conda/lib/python3.10/logging/__init__.py'>",
     "output_type": "error",
     "traceback": [
      "\u001b[0;31m---------------------------------------------------------------------------\u001b[0m",
      "\u001b[0;31mTypeError\u001b[0m                                 Traceback (most recent call last)",
      "Cell \u001b[0;32mIn[1], line 2\u001b[0m\n\u001b[1;32m      1\u001b[0m \u001b[38;5;28;01mimport\u001b[39;00m \u001b[38;5;21;01mlogging\u001b[39;00m\n\u001b[0;32m----> 2\u001b[0m \u001b[43mlogging\u001b[49m\u001b[38;5;241;43m.\u001b[39;49m\u001b[43mbasicConfig\u001b[49m\u001b[43m(\u001b[49m\u001b[43mfilename\u001b[49m\u001b[43m \u001b[49m\u001b[38;5;241;43m=\u001b[39;49m\u001b[43m \u001b[49m\u001b[38;5;124;43m'\u001b[39;49m\u001b[38;5;124;43mtrytest.log\u001b[39;49m\u001b[38;5;124;43m'\u001b[39;49m\u001b[43m,\u001b[49m\u001b[43m \u001b[49m\u001b[43mlevel\u001b[49m\u001b[43m \u001b[49m\u001b[38;5;241;43m=\u001b[39;49m\u001b[43m \u001b[49m\u001b[43mlogging\u001b[49m\u001b[43m,\u001b[49m\u001b[43m \u001b[49m\u001b[38;5;28;43mformat\u001b[39;49m\u001b[43m \u001b[49m\u001b[38;5;241;43m=\u001b[39;49m\u001b[43m \u001b[49m\u001b[38;5;124;43m'\u001b[39;49m\u001b[38;5;132;43;01m%(asctime)s\u001b[39;49;00m\u001b[38;5;124;43m- \u001b[39;49m\u001b[38;5;132;43;01m%(levelname)s\u001b[39;49;00m\u001b[38;5;124;43m- \u001b[39;49m\u001b[38;5;132;43;01m%(message)s\u001b[39;49;00m\u001b[38;5;124;43m'\u001b[39;49m\u001b[43m \u001b[49m\u001b[43m)\u001b[49m\n\u001b[1;32m      3\u001b[0m \u001b[38;5;28;01mtry\u001b[39;00m :\n\u001b[1;32m      4\u001b[0m     logging\u001b[38;5;241m.\u001b[39minfo(\u001b[38;5;124m\"\u001b[39m\u001b[38;5;124mthis is start of my prog\u001b[39m\u001b[38;5;124m\"\u001b[39m)\n",
      "File \u001b[0;32m/opt/conda/lib/python3.10/logging/__init__.py:2059\u001b[0m, in \u001b[0;36mbasicConfig\u001b[0;34m(**kwargs)\u001b[0m\n\u001b[1;32m   2057\u001b[0m level \u001b[38;5;241m=\u001b[39m kwargs\u001b[38;5;241m.\u001b[39mpop(\u001b[38;5;124m\"\u001b[39m\u001b[38;5;124mlevel\u001b[39m\u001b[38;5;124m\"\u001b[39m, \u001b[38;5;28;01mNone\u001b[39;00m)\n\u001b[1;32m   2058\u001b[0m \u001b[38;5;28;01mif\u001b[39;00m level \u001b[38;5;129;01mis\u001b[39;00m \u001b[38;5;129;01mnot\u001b[39;00m \u001b[38;5;28;01mNone\u001b[39;00m:\n\u001b[0;32m-> 2059\u001b[0m     \u001b[43mroot\u001b[49m\u001b[38;5;241;43m.\u001b[39;49m\u001b[43msetLevel\u001b[49m\u001b[43m(\u001b[49m\u001b[43mlevel\u001b[49m\u001b[43m)\u001b[49m\n\u001b[1;32m   2060\u001b[0m \u001b[38;5;28;01mif\u001b[39;00m kwargs:\n\u001b[1;32m   2061\u001b[0m     keys \u001b[38;5;241m=\u001b[39m \u001b[38;5;124m'\u001b[39m\u001b[38;5;124m, \u001b[39m\u001b[38;5;124m'\u001b[39m\u001b[38;5;241m.\u001b[39mjoin(kwargs\u001b[38;5;241m.\u001b[39mkeys())\n",
      "File \u001b[0;32m/opt/conda/lib/python3.10/logging/__init__.py:1452\u001b[0m, in \u001b[0;36mLogger.setLevel\u001b[0;34m(self, level)\u001b[0m\n\u001b[1;32m   1448\u001b[0m \u001b[38;5;28;01mdef\u001b[39;00m \u001b[38;5;21msetLevel\u001b[39m(\u001b[38;5;28mself\u001b[39m, level):\n\u001b[1;32m   1449\u001b[0m     \u001b[38;5;124;03m\"\"\"\u001b[39;00m\n\u001b[1;32m   1450\u001b[0m \u001b[38;5;124;03m    Set the logging level of this logger.  level must be an int or a str.\u001b[39;00m\n\u001b[1;32m   1451\u001b[0m \u001b[38;5;124;03m    \"\"\"\u001b[39;00m\n\u001b[0;32m-> 1452\u001b[0m     \u001b[38;5;28mself\u001b[39m\u001b[38;5;241m.\u001b[39mlevel \u001b[38;5;241m=\u001b[39m \u001b[43m_checkLevel\u001b[49m\u001b[43m(\u001b[49m\u001b[43mlevel\u001b[49m\u001b[43m)\u001b[49m\n\u001b[1;32m   1453\u001b[0m     \u001b[38;5;28mself\u001b[39m\u001b[38;5;241m.\u001b[39mmanager\u001b[38;5;241m.\u001b[39m_clear_cache()\n",
      "File \u001b[0;32m/opt/conda/lib/python3.10/logging/__init__.py:201\u001b[0m, in \u001b[0;36m_checkLevel\u001b[0;34m(level)\u001b[0m\n\u001b[1;32m    199\u001b[0m     rv \u001b[38;5;241m=\u001b[39m _nameToLevel[level]\n\u001b[1;32m    200\u001b[0m \u001b[38;5;28;01melse\u001b[39;00m:\n\u001b[0;32m--> 201\u001b[0m     \u001b[38;5;28;01mraise\u001b[39;00m \u001b[38;5;167;01mTypeError\u001b[39;00m(\u001b[38;5;124m\"\u001b[39m\u001b[38;5;124mLevel not an integer or a valid string: \u001b[39m\u001b[38;5;132;01m%r\u001b[39;00m\u001b[38;5;124m\"\u001b[39m\n\u001b[1;32m    202\u001b[0m                     \u001b[38;5;241m%\u001b[39m (level,))\n\u001b[1;32m    203\u001b[0m \u001b[38;5;28;01mreturn\u001b[39;00m rv\n",
      "\u001b[0;31mTypeError\u001b[0m: Level not an integer or a valid string: <module 'logging' from '/opt/conda/lib/python3.10/logging/__init__.py'>"
     ]
    }
   ],
   "source": [
    "import logging\n",
    "logging.basicConfig(filename = 'trytest.log', level = logging, format = '%(asctime)s- %(levelname)s- %(message)s' )\n",
    "try :\n",
    "    logging.info(\"this is start of my prog\")\n",
    "    logging.info(\"asking user to enter age\")\n",
    "    age = int(input(\"enter age\"))\n",
    "    if age<0:\n",
    "        logging.info(\"cheking negative condition\")\n",
    "        raise ValueError(\"user entered a negative age whihc is not valid\")\n",
    "    elif age<18:\n",
    "        logging.info(\"checking under age\")\n",
    "        raise Exception(\"user is underage\")\n",
    "    else:\n",
    "        \n",
    "        print(\"valid user\")\n",
    "except Exception as e:\n",
    "    #print(e)\n",
    "    logging.error(e)"
   ]
  },
  {
   "cell_type": "code",
   "execution_count": 1,
   "id": "f8d01b6c-c967-4b6f-b1d7-2164b7d9a6c3",
   "metadata": {},
   "outputs": [],
   "source": [
    "import logging\n",
    "logging.basicConfig(filename = 'eventest.log', level = logging.DEBUG, format = '%(asctime)s- %(levelname)s- %(message)s' )\n",
    "\n",
    "l = [4,5,6,7,8,9,0]\n",
    "logging.info(l)\n",
    "l1 = []\n",
    "def even_parser(l):\n",
    "    try:\n",
    "        logging.info(\"inside try block\")\n",
    "        for i  in l :\n",
    "            logging.info(\"inside for loop i = %d\", i)\n",
    "        \n",
    "            if i%2 == 0:\n",
    "                  logging.info(\"check value of i\")       \n",
    "                  l1.append(i)\n",
    "                  logging.info(\"appending value of i= %d\",i)       \n",
    "                \n",
    "        return l1\n",
    "    except :\n",
    "        pass\n"
   ]
  },
  {
   "cell_type": "code",
   "execution_count": null,
   "id": "7b6c0140-feda-4437-b810-dc27fcc1c3e8",
   "metadata": {},
   "outputs": [],
   "source": []
  },
  {
   "cell_type": "code",
   "execution_count": null,
   "id": "44518c45-d5d9-4c1f-afa5-557b072d8ef1",
   "metadata": {},
   "outputs": [],
   "source": []
  }
 ],
 "metadata": {
  "kernelspec": {
   "display_name": "Python 3 (ipykernel)",
   "language": "python",
   "name": "python3"
  },
  "language_info": {
   "codemirror_mode": {
    "name": "ipython",
    "version": 3
   },
   "file_extension": ".py",
   "mimetype": "text/x-python",
   "name": "python",
   "nbconvert_exporter": "python",
   "pygments_lexer": "ipython3",
   "version": "3.10.8"
  }
 },
 "nbformat": 4,
 "nbformat_minor": 5
}
