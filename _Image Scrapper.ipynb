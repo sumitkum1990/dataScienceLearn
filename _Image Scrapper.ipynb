{
 "cells": [
  {
   "cell_type": "code",
   "execution_count": 2,
   "id": "a2a33b73-ce51-40d1-a8f9-3c65d752ba66",
   "metadata": {},
   "outputs": [],
   "source": [
    "import requests\n",
    "from bs4 import BeautifulSoup\n",
    "from urllib.request import urlopen\n",
    "import logging\n",
    "import os"
   ]
  },
  {
   "cell_type": "code",
   "execution_count": 6,
   "id": "a1c24e10-d874-49a0-bbe1-a61a551d385f",
   "metadata": {},
   "outputs": [],
   "source": [
    "save_dir= \"images/\"\n",
    "if not os.path.exists(save_dir):\n",
    "    os.makedirs(save_dir)"
   ]
  },
  {
   "cell_type": "code",
   "execution_count": 7,
   "id": "f6fce33d-1094-454e-b66b-85a9935c17a5",
   "metadata": {},
   "outputs": [],
   "source": [
    "headers = {\"User-Agent\": \"Mozilla/5.0 (Windows NT 10.0; Win64; x64) AppleWebKit/537.36 (KHTML, like Gecko) Chrome/58.0.3029.110 Safari/537.36\"}"
   ]
  },
  {
   "cell_type": "code",
   "execution_count": 8,
   "id": "bb042c86-197e-4844-bb18-d0f1676e3896",
   "metadata": {},
   "outputs": [],
   "source": [
    "query = \"elun musk\"\n",
    "response = requests.get(\"https://www.google.com/search?q={query}&sca_esv=570043172&rlz=1C1AWFC_enAE894AE894&tbm=isch&sxsrf=AM9HkKlPBEXEf-y4qtn3IqCsaSj4FeLo6Q:1696256985148&source=lnms&sa=X&ved=2ahUKEwjGo7DYydeBAxVTT6QEHUxlC4IQ_AUoAnoECAIQBA&biw=1280&bih=595&dpr=1.5\")"
   ]
  },
  {
   "cell_type": "code",
   "execution_count": 9,
   "id": "357e9ce4-c0b1-477e-b8df-4df183f530e8",
   "metadata": {},
   "outputs": [
    {
     "data": {
      "text/plain": [
       "<Response [200]>"
      ]
     },
     "execution_count": 9,
     "metadata": {},
     "output_type": "execute_result"
    }
   ],
   "source": [
    "response"
   ]
  },
  {
   "cell_type": "code",
   "execution_count": 10,
   "id": "e162c387-c4df-482e-8739-2122f865ac68",
   "metadata": {},
   "outputs": [
    {
     "data": {
      "text/plain": [
       "b'<!DOCTYPE html PUBLIC \"-//WAPFORUM//DTD XHTML Mobile 1.0//EN\" \"http://www.wapforum.org/DTD/xhtml-mobile10.dtd\"><html xmlns=\"http://www.w3.org/1999/xhtml\" lang=\"en-IN\"><head><meta content=\"application/xhtml+xml; charset=UTF-8\" http-equiv=\"Content-Type\"/><meta content=\"no-cache\" name=\"Cache-Control\"/><title>{query} - Google Search</title><style>a{text-decoration:none;color:inherit}a:hover{text-decoration:underline}a img{border:0}body{font-family:arial,sans-serif;padding:8px;margin:0 auto;max-width:700px;min-width:240px;}.FbhRzb{border-left:thin solid #dadce0;border-right:thin solid #dadce0;border-top:thin solid #dadce0;height:40px;overflow:hidden}.n692Zd{margin-bottom:10px}.cvifge{height:40px;border-spacing:0}.QvGUP{height:40px;padding:0 8px 0 8px;vertical-align:top}.O4cRJf{height:40px;width:100%;padding:0;padding-right:16px}.O1ePr{height:40px;padding:0;vertical-align:top}.kgJEQe{height:36px;width:98px;vertical-align:top;margin-top:4px}.lXLRf{vertical-align:top}.MhzMZd{border:0;vertical-align:middle;font-size:14px;height:40px;padding:0;width:100%;padding-left:16px}.xB0fq{height:40px;border:none;font-size:14px;background-color:#1a73e8;color:#fff;padding:0 16px;margin:0;vertical-align:top;cursor:pointer}.xB0fq:focus{border:1px solid #1a73e8}.M7pB2{border:thin solid #dadce0;margin:0 0 3px 0;font-size:13px;font-weight:500;height:40px}.euZec{width:100%;height:40px;text-align:center;border-spacing:0}table.euZec td{padding:0;width:25%}.QIqI7{display:inline-block;padding-top:4px;font-weight:bold;color:#4285f4}.EY24We{border-bottom:2px solid #4285f4}.CsQyDc{display:inline-block;color:#70757a}.TuS8Ad{font-size:14px}.HddGcc{padding:8px;color:#70757a}.dzp8ae{font-weight:bold;color:#3c4043}.rEM8G{color:#70757a}.bookcf{table-layout:fixed;width:100%;border-spacing:0}.InWNIe{text-align:center}.uZgmoc{border:thin solid #dadce0;color:#70757a;font-size:14px;text-align:center;table-layout:fixed;width:100%}.frGj1b{display:block;padding:12px 0 12px 0;width:100%}.BnJWBc{text-align:center;padding:6px 0 13px 0;height:35px}.e3goi{vertical-align:top;padding:0;height:180px}.GpQGbf{margin:auto;border-collapse:collapse;border-spacing:0;width:100%}</style></head><body><style>.X6ZCif{color:#202124;font-size:11px;line-height:16px;display:inline-block;padding-top:2px;overflow:hidden;padding-bottom:4px;width:100%}.TwVfHd{border-radius:16px;border:thin solid #dadce0;display:inline-block;padding:8px 8px;margin-right:8px;margin-bottom:4px}.yekiAe{background-color:#dadce0}.jjVJ4e{width:100%}.ezO2md{border:thin solid #dadce0;padding:12px 16px 12px 16px;margin-bottom:10px;font-family:arial,sans-serif}.lIMUZd{font-family:arial,sans-serif}.RntSmf{border-spacing:0}.lgD2Tc{width:100%}.SpelHe{text-align:center}.SpelHe{position:relative}.deHqpb{bottom:0;left:0;margin:auto;position:absolute;right:0;top:0}.kCmkOe{position:relative}.ID6Z3b{background-image:url(https://www.gstatic.com/search_trustx/visibility_off_icon_p0-7d897bf44bafe5436baa9009e8716337.png);background-repeat:no-repeat;background-position:center;background-size:20px}.kCmkOe{width:162px;height:140px;line-height:140px;overflow:\\'hidden\\';text-align:center}.DS1iW{text-align:center;margin:auto;vertical-align:middle;max-width:162px;max-height:140px}.AlD19d{padding-top:2px;padding-bottom:8px;}.fYyStc{word-break:break-word}.ynsChf{display:block;white-space:nowrap;overflow:hidden;text-overflow:ellipsis}.Fj3V3b{color:#1967d2;font-size:14px;line-height:20px}.FrIlee{color:#202124;font-size:11px;line-height:16px}.F9iS2e{color:#70757a;font-size:11px;line-height:16px}.WMQ2Le{color:#70757a;font-size:12px;line-height:16px}.x3G5ab{color:#202124;font-size:12px;line-height:16px}.fuLhoc{color:#1967d2;font-size:16px;line-height:20px}.epoveb{font-size:24px;line-height:28px;font-weight:400;color:#202124}.dXDvrc{color:#0d652d;font-size:14px;line-height:20px;word-wrap:break-word}.dloBPe{font-weight:bold}.YVIcad{color:#70757a}.JkVVdd{color:#ea4335}.oXZRFd{color:#ea4335}.MQHtg{color:#fbbc04}.pyMRrb{color:#1e8e3e}.EtTZid{color:#1e8e3e}.M3vVJe{color:#1967d2}.qXLe6d{display:block}.NHQNef{font-style:italic}.Cb8Z7c{white-space:pre}a.ZWRArf{text-decoration:none}a .CVA68e:hover{text-decoration:underline}</style><div class=\"n692Zd\"><div class=\"BnJWBc\"><a class=\"lXLRf\" href=\"/?sa=X&amp;sca_esv=570043172&amp;rlz=1C1AWFC_enAE894AE894&amp;biw=1280&amp;bih=595&amp;output=images&amp;ie=UTF-8&amp;tbm=isch&amp;ved=0ahUKEwjdqZz5ydeBAxXkSWwGHTk8CVsQPAgC\"><img class=\"kgJEQe\" src=\"/images/branding/searchlogo/1x/googlelogo_desk_heirloom_color_150x55dp.gif\" alt=\"Google\"/></a></div><div class=\"FbhRzb\"><form action=\"/search\"><input name=\"sca_esv\" value=\"570043172\" type=\"hidden\"/><input name=\"rlz\" value=\"1C1AWFC_enAE894AE894\" type=\"hidden\"/><input name=\"biw\" value=\"1280\" type=\"hidden\"/><input name=\"bih\" value=\"595\" type=\"hidden\"/><input name=\"ie\" value=\"ISO-8859-1\" type=\"hidden\"/><input name=\"tbm\" value=\"isch\" type=\"hidden\"/><input name=\"oq\" type=\"hidden\"/><input name=\"aqs\" type=\"hidden\"/><table class=\"cvifge\"><tr><td class=\"O4cRJf\"><input class=\"MhzMZd\" value=\"{query}\" name=\"q\" type=\"text\"/></td><td class=\"O1ePr\"><input class=\"xB0fq\" value=\"Search\" type=\"submit\"/></td></tr></table></form></div><div class=\"M7pB2\"><table class=\"euZec\"><tbody><tr><td><a class=\"CsQyDc\" href=\"/search?q=%7Bquery%7D&amp;sca_esv=570043172&amp;rlz=1C1AWFC_enAE894AE894&amp;biw=1280&amp;bih=595&amp;ie=UTF-8&amp;source=lnms&amp;sa=X&amp;ved=0ahUKEwjdqZz5ydeBAxXkSWwGHTk8CVsQ_AUIBCgA\">ALL</a></td><td><a class=\"CsQyDc\" href=\"/search?q=%7Bquery%7D&amp;sca_esv=570043172&amp;rlz=1C1AWFC_enAE894AE894&amp;biw=1280&amp;bih=595&amp;ie=UTF-8&amp;tbm=vid&amp;source=lnms&amp;sa=X&amp;ved=0ahUKEwjdqZz5ydeBAxXkSWwGHTk8CVsQ_AUIBSgB\">VIDEOS</a></td><td class=\"EY24We\"><span class=\"QIqI7\">IMAGES</span></td><td><a class=\"CsQyDc\" href=\"/search?q=%7Bquery%7D&amp;sca_esv=570043172&amp;rlz=1C1AWFC_enAE894AE894&amp;biw=1280&amp;bih=595&amp;ie=UTF-8&amp;tbm=bks&amp;source=lnms&amp;sa=X&amp;ved=0ahUKEwjdqZz5ydeBAxXkSWwGHTk8CVsQ_AUIBygD\">BOOKS</a></td></tr></tbody></table></div></div><div class=\"X6ZCif\"><a class=\"TwVfHd\" href=\"/search?sca_esv=570043172&amp;rlz=1C1AWFC_enAE894AE894&amp;biw=1280&amp;bih=595&amp;ie=UTF-8&amp;tbm=isch&amp;q=%7Bquery%7D&amp;chips=q:query,g_1:icon&amp;sa=X&amp;ved=0ahUKEwjdqZz5ydeBAxXkSWwGHTk8CVsQ4lYICygA\">icon</a><a class=\"TwVfHd\" href=\"/search?sca_esv=570043172&amp;rlz=1C1AWFC_enAE894AE894&amp;biw=1280&amp;bih=595&amp;ie=UTF-8&amp;tbm=isch&amp;q=%7Bquery%7D&amp;chips=q:query,g_1:database&amp;sa=X&amp;ved=0ahUKEwjdqZz5ydeBAxXkSWwGHTk8CVsQ4lYIDCgB\">database</a><a class=\"TwVfHd\" href=\"/search?sca_esv=570043172&amp;rlz=1C1AWFC_enAE894AE894&amp;biw=1280&amp;bih=595&amp;ie=UTF-8&amp;tbm=isch&amp;q=%7Bquery%7D&amp;chips=q:query,g_1:access&amp;sa=X&amp;ved=0ahUKEwjdqZz5ydeBAxXkSWwGHTk8CVsQ4lYIDSgC\">access</a><a class=\"TwVfHd\" href=\"/search?sca_esv=570043172&amp;rlz=1C1AWFC_enAE894AE894&amp;biw=1280&amp;bih=595&amp;ie=UTF-8&amp;tbm=isch&amp;q=%7Bquery%7D&amp;chips=q:query,g_1:clipart&amp;sa=X&amp;ved=0ahUKEwjdqZz5ydeBAxXkSWwGHTk8CVsQ4lYIDigD\">clipart</a><a class=\"TwVfHd\" href=\"/search?sca_esv=570043172&amp;rlz=1C1AWFC_enAE894AE894&amp;biw=1280&amp;bih=595&amp;ie=UTF-8&amp;tbm=isch&amp;q=%7Bquery%7D&amp;chips=q:query,g_1:question&amp;sa=X&amp;ved=0ahUKEwjdqZz5ydeBAxXkSWwGHTk8CVsQ4lYIDygE\">question</a><a class=\"TwVfHd\" href=\"/search?sca_esv=570043172&amp;rlz=1C1AWFC_enAE894AE894&amp;biw=1280&amp;bih=595&amp;ie=UTF-8&amp;tbm=isch&amp;q=%7Bquery%7D&amp;chips=q:query,g_1:sql&amp;sa=X&amp;ved=0ahUKEwjdqZz5ydeBAxXkSWwGHTk8CVsQ4lYIECgF\">sql</a><a class=\"TwVfHd\" href=\"/search?sca_esv=570043172&amp;rlz=1C1AWFC_enAE894AE894&amp;biw=1280&amp;bih=595&amp;ie=UTF-8&amp;tbm=isch&amp;q=%7Bquery%7D&amp;chips=q:query,g_1:ppt&amp;sa=X&amp;ved=0ahUKEwjdqZz5ydeBAxXkSWwGHTk8CVsQ4lYIESgG\">ppt</a><a class=\"TwVfHd\" href=\"/search?sca_esv=570043172&amp;rlz=1C1AWFC_enAE894AE894&amp;biw=1280&amp;bih=595&amp;ie=UTF-8&amp;tbm=isch&amp;q=%7Bquery%7D&amp;chips=q:query,g_1:excel&amp;sa=X&amp;ved=0ahUKEwjdqZz5ydeBAxXkSWwGHTk8CVsQ4lYIEigH\">excel</a><a class=\"TwVfHd\" href=\"/search?sca_esv=570043172&amp;rlz=1C1AWFC_enAE894AE894&amp;biw=1280&amp;bih=595&amp;ie=UTF-8&amp;tbm=isch&amp;q=%7Bquery%7D&amp;chips=q:query,g_1:select&amp;sa=X&amp;ved=0ahUKEwjdqZz5ydeBAxXkSWwGHTk8CVsQ4lYIEygI\">select</a><a class=\"TwVfHd\" href=\"/search?sca_esv=570043172&amp;rlz=1C1AWFC_enAE894AE894&amp;biw=1280&amp;bih=595&amp;ie=UTF-8&amp;tbm=isch&amp;q=%7Bquery%7D&amp;chips=q:query,g_1:customer&amp;sa=X&amp;ved=0ahUKEwjdqZz5ydeBAxXkSWwGHTk8CVsQ4lYIFCgJ\">customer</a></div><div><table class=\"GpQGbf\"><tr><td class=\"e3goi\" align=\"center\"><div class=\"jjVJ4e\"> <div> <div class=\"lIMUZd\"><div><table class=\"RntSmf\"><tr><td><a href=\"/url?q=https://www.percona.com/blog/asynchronous-query-execution-mysql-5-7-x-plugin/&amp;sa=U&amp;ved=2ahUKEwjdqZz5ydeBAxXkSWwGHTk8CVsQqoUBegQIAhAB&amp;usg=AOvVaw030QMF1LBJtXGZlKWXmp1j\"><div class=\"kCmkOe\"><img class=\"DS1iW\" alt=\"\" src=\"https://encrypted-tbn0.gstatic.com/images?q=tbn:ANd9GcRqCBr7wnAh08aMOHlUh5eQSDQJqcUZBGsZ3Gws9bLv8yr6dSExK5OsU1BcGQ&amp;s\"/></div></a></td></tr><tr><td><a href=\"/url?q=https://www.percona.com/blog/asynchronous-query-execution-mysql-5-7-x-plugin/&amp;sa=U&amp;ved=2ahUKEwjdqZz5ydeBAxXkSWwGHTk8CVsQr4kDegQIAhAC&amp;usg=AOvVaw3bELVmKiQ-AWUFfQeNDjgt\"><div class=\"AlD19d\">  <span class=\"qXLe6d x3G5ab\">  <span class=\"fYyStc\">Asynchronous Query...</span>  </span>   <span class=\"qXLe6d F9iS2e\">  <span class=\"fYyStc\">www.percona.com</span>  </span> </div></a></td></tr></table></div></div> </div> </div></td><td class=\"e3goi\" align=\"center\"><div class=\"jjVJ4e\"> <div> <div class=\"lIMUZd\"><div><table class=\"RntSmf\"><tr><td><a href=\"/url?q=https://www.computerhope.com/jargon/q/query.htm&amp;sa=U&amp;ved=2ahUKEwjdqZz5ydeBAxXkSWwGHTk8CVsQqoUBegQIExAB&amp;usg=AOvVaw39kPkTW9NPUXCfdv5zKetd\"><div class=\"kCmkOe\"><img class=\"DS1iW\" alt=\"\" src=\"https://encrypted-tbn0.gstatic.com/images?q=tbn:ANd9GcTTheiMrWBm4WzFCxsffKjBi8PAcZSLB2RSedZRj-Z0xqdFwmW2GHiem_5opW4&amp;s\"/></div></a></td></tr><tr><td><a href=\"/url?q=https://www.computerhope.com/jargon/q/query.htm&amp;sa=U&amp;ved=2ahUKEwjdqZz5ydeBAxXkSWwGHTk8CVsQr4kDegQIExAC&amp;usg=AOvVaw3MziRPBxhnKpuVRqsxVMfd\"><div class=\"AlD19d\">  <span class=\"qXLe6d x3G5ab\">  <span class=\"fYyStc\">What is a Query?</span>  </span>   <span class=\"qXLe6d F9iS2e\">  <span class=\"fYyStc\">www.computerhope.com</span>  </span> </div></a></td></tr></table></div></div> </div> </div></td><td class=\"e3goi\" align=\"center\"><div class=\"jjVJ4e\"> <div> <div class=\"lIMUZd\"><div><table class=\"RntSmf\"><tr><td><a href=\"/url?q=https://www.techtarget.com/searchdatamanagement/definition/query&amp;sa=U&amp;ved=2ahUKEwjdqZz5ydeBAxXkSWwGHTk8CVsQqoUBegQIEhAB&amp;usg=AOvVaw1xCfTFKyOcOx-4hfv0HHBi\"><div class=\"kCmkOe\"><img class=\"DS1iW\" alt=\"\" src=\"https://encrypted-tbn0.gstatic.com/images?q=tbn:ANd9GcR3ymkdcLRAhGbBJeWqiCH1f2bjDHSqU2i-mAhJ4mYXjfpq_X-sXblHiNrM5w&amp;s\"/></div></a></td></tr><tr><td><a href=\"/url?q=https://www.techtarget.com/searchdatamanagement/definition/query&amp;sa=U&amp;ved=2ahUKEwjdqZz5ydeBAxXkSWwGHTk8CVsQr4kDegQIEhAC&amp;usg=AOvVaw2bkuN5ffAKFJ4FR20Qf_ic\"><div class=\"AlD19d\">  <span class=\"qXLe6d x3G5ab\">  <span class=\"fYyStc\">What is a query? Explore...</span>  </span>   <span class=\"qXLe6d F9iS2e\">  <span class=\"fYyStc\">www.techtarget.com</span>  </span> </div></a></td></tr></table></div></div> </div> </div></td><td class=\"e3goi\" align=\"center\"><div class=\"jjVJ4e\"> <div> <div class=\"lIMUZd\"><div><table class=\"RntSmf\"><tr><td><a href=\"/url?q=https://learn.microsoft.com/en-us/power-query/query-folding-basics&amp;sa=U&amp;ved=2ahUKEwjdqZz5ydeBAxXkSWwGHTk8CVsQqoUBegQIERAB&amp;usg=AOvVaw0VGpyovyPJQ2DiUuII_lp-\"><div class=\"kCmkOe\"><img class=\"DS1iW\" alt=\"\" src=\"https://encrypted-tbn0.gstatic.com/images?q=tbn:ANd9GcQgeKwO0k8vQKqDlBTMFNvvAWWNQdmuOOfr_jHjMCWTyflevZ1EhMe5Cyi-NA&amp;s\"/></div></a></td></tr><tr><td><a href=\"/url?q=https://learn.microsoft.com/en-us/power-query/query-folding-basics&amp;sa=U&amp;ved=2ahUKEwjdqZz5ydeBAxXkSWwGHTk8CVsQr4kDegQIERAC&amp;usg=AOvVaw3rIBTsI9nnvLy6ed18TLcj\"><div class=\"AlD19d\">  <span class=\"qXLe6d x3G5ab\">  <span class=\"fYyStc\">Understanding query...</span>  </span>   <span class=\"qXLe6d F9iS2e\">  <span class=\"fYyStc\">learn.microsoft.com</span>  </span> </div></a></td></tr></table></div></div> </div> </div></td></tr><tr><td class=\"e3goi\" align=\"center\"><div class=\"jjVJ4e\"> <div> <div class=\"lIMUZd\"><div><table class=\"RntSmf\"><tr><td><a href=\"/url?q=https://www.sqlshack.com/learn-to-write-basic-sql-queries/&amp;sa=U&amp;ved=2ahUKEwjdqZz5ydeBAxXkSWwGHTk8CVsQqoUBegQIDxAB&amp;usg=AOvVaw2DxD9DxQPnZLYr7g3geg_j\"><div class=\"kCmkOe\"><img class=\"DS1iW\" alt=\"\" src=\"https://encrypted-tbn0.gstatic.com/images?q=tbn:ANd9GcTLYMMzXgLOjysMHPwQuvwP-rlctC0WTm46uX7JPW0N3HgpMboaO57Ze8cj5KY&amp;s\"/></div></a></td></tr><tr><td><a href=\"/url?q=https://www.sqlshack.com/learn-to-write-basic-sql-queries/&amp;sa=U&amp;ved=2ahUKEwjdqZz5ydeBAxXkSWwGHTk8CVsQr4kDegQIDxAC&amp;usg=AOvVaw3IjtSq8mdwQAPxe-Wc47Jy\"><div class=\"AlD19d\">  <span class=\"qXLe6d x3G5ab\">  <span class=\"fYyStc\">Learn to write basic SQL...</span>  </span>   <span class=\"qXLe6d F9iS2e\">  <span class=\"fYyStc\">www.sqlshack.com</span>  </span> </div></a></td></tr></table></div></div> </div> </div></td><td class=\"e3goi\" align=\"center\"><div class=\"jjVJ4e\"> <div> <div class=\"lIMUZd\"><div><table class=\"RntSmf\"><tr><td><a href=\"/url?q=https://drill.apache.org/docs/query-data-introduction/&amp;sa=U&amp;ved=2ahUKEwjdqZz5ydeBAxXkSWwGHTk8CVsQqoUBegQIDhAB&amp;usg=AOvVaw0HZCllJQiPGVZ3mL4ICEIm\"><div class=\"kCmkOe\"><img class=\"DS1iW\" alt=\"\" src=\"https://encrypted-tbn0.gstatic.com/images?q=tbn:ANd9GcRykdkZEK62QHbWEai7c3M6EBhcJSChUxUs6GzjzWuajAHsNWsJC_Iytrh1hlQ&amp;s\"/></div></a></td></tr><tr><td><a href=\"/url?q=https://drill.apache.org/docs/query-data-introduction/&amp;sa=U&amp;ved=2ahUKEwjdqZz5ydeBAxXkSWwGHTk8CVsQr4kDegQIDhAC&amp;usg=AOvVaw3ApgOZhLZqH-gWwMvTw_NG\"><div class=\"AlD19d\">  <span class=\"qXLe6d x3G5ab\">  <span class=\"fYyStc\">Query Data Introduction -...</span>  </span>   <span class=\"qXLe6d F9iS2e\">  <span class=\"fYyStc\">drill.apache.org</span>  </span> </div></a></td></tr></table></div></div> </div> </div></td><td class=\"e3goi\" align=\"center\"><div class=\"jjVJ4e\"> <div> <div class=\"lIMUZd\"><div><table class=\"RntSmf\"><tr><td><a href=\"/url?q=https://www.wallstreetmojo.com/power-query-in-excel/&amp;sa=U&amp;ved=2ahUKEwjdqZz5ydeBAxXkSWwGHTk8CVsQqoUBegQIEBAB&amp;usg=AOvVaw3DxIDUGPl6LPNlejawQ0Yy\"><div class=\"kCmkOe\"><img class=\"DS1iW\" alt=\"\" src=\"https://encrypted-tbn0.gstatic.com/images?q=tbn:ANd9GcSKSZnnYWheITD2kZNX3os3L9ffZSntRUu7622wX8v1Y5Q0r-pZoP6F1WUulsQ&amp;s\"/></div></a></td></tr><tr><td><a href=\"/url?q=https://www.wallstreetmojo.com/power-query-in-excel/&amp;sa=U&amp;ved=2ahUKEwjdqZz5ydeBAxXkSWwGHTk8CVsQr4kDegQIEBAC&amp;usg=AOvVaw3aIqYyeWVJ3c9xTlQLpByi\"><div class=\"AlD19d\">  <span class=\"qXLe6d x3G5ab\">  <span class=\"fYyStc\">Power Query in Excel -...</span>  </span>   <span class=\"qXLe6d F9iS2e\">  <span class=\"fYyStc\">www.wallstreetmojo.com</span>  </span> </div></a></td></tr></table></div></div> </div> </div></td><td class=\"e3goi\" align=\"center\"><div class=\"jjVJ4e\"> <div> <div class=\"lIMUZd\"><div><table class=\"RntSmf\"><tr><td><a href=\"/url?q=https://www.hostinger.in/tutorials/what-is-a-query&amp;sa=U&amp;ved=2ahUKEwjdqZz5ydeBAxXkSWwGHTk8CVsQqoUBegQICxAB&amp;usg=AOvVaw0qd32IBYSE9iDnzbdS_Gdd\"><div class=\"kCmkOe\"><img class=\"DS1iW\" alt=\"\" src=\"https://encrypted-tbn0.gstatic.com/images?q=tbn:ANd9GcRAm0Yd2HugQd2FefPhjlwvqlqZ2smr2BOpGNfVkv0C4rbl1gzgJ5Re5P-kGfU&amp;s\"/></div></a></td></tr><tr><td><a href=\"/url?q=https://www.hostinger.in/tutorials/what-is-a-query&amp;sa=U&amp;ved=2ahUKEwjdqZz5ydeBAxXkSWwGHTk8CVsQr4kDegQICxAC&amp;usg=AOvVaw2gpNQFAckbp83IuYvWXadr\"><div class=\"AlD19d\">  <span class=\"qXLe6d x3G5ab\">  <span class=\"fYyStc\">What Is a Query? Database...</span>  </span>   <span class=\"qXLe6d F9iS2e\">  <span class=\"fYyStc\">www.hostinger.in</span>  </span> </div></a></td></tr></table></div></div> </div> </div></td></tr><tr><td class=\"e3goi\" align=\"center\"><div class=\"jjVJ4e\"> <div> <div class=\"lIMUZd\"><div><table class=\"RntSmf\"><tr><td><a href=\"/url?q=https://m.youtube.com/watch%3Fv%3DNqjfQswuBug&amp;sa=U&amp;ved=2ahUKEwjdqZz5ydeBAxXkSWwGHTk8CVsQqoUBegQIDRAB&amp;usg=AOvVaw0TcKjN0SstBy_M6K_ws2VS\"><div class=\"kCmkOe\"><img class=\"DS1iW\" alt=\"\" src=\"https://encrypted-tbn0.gstatic.com/images?q=tbn:ANd9GcQ6MwAa-GC7xUXqL9Kb8gzRSF-cYsfFEhqbuieHsn45qWt9a_Y20HPcWklkQdk&amp;s\"/></div></a></td></tr><tr><td><a href=\"/url?q=https://m.youtube.com/watch%3Fv%3DNqjfQswuBug&amp;sa=U&amp;ved=2ahUKEwjdqZz5ydeBAxXkSWwGHTk8CVsQr4kDegQIDRAC&amp;usg=AOvVaw1qoxLyDGG8FG14Xce268gd\"><div class=\"AlD19d\">  <span class=\"qXLe6d x3G5ab\">  <span class=\"fYyStc\">What Is a Query | Explained...</span>  </span>   <span class=\"qXLe6d F9iS2e\">  <span class=\"fYyStc\">m.youtube.com</span>  </span> </div></a></td></tr></table></div></div> </div> </div></td><td class=\"e3goi\" align=\"center\"><div class=\"jjVJ4e\"> <div> <div class=\"lIMUZd\"><div><table class=\"RntSmf\"><tr><td><a href=\"/url?q=https://learn.microsoft.com/en-us/power-query/share-query&amp;sa=U&amp;ved=2ahUKEwjdqZz5ydeBAxXkSWwGHTk8CVsQqoUBegQIDBAB&amp;usg=AOvVaw0-H4s30FZN3wmiddzmrJPu\"><div class=\"kCmkOe\"><img class=\"DS1iW\" alt=\"\" src=\"https://encrypted-tbn0.gstatic.com/images?q=tbn:ANd9GcT5OWLx5sRR0gocKH-EhwyTeb6ozfpnQgAVelSkwkCcm9IJGatwsQFbK_k_sg&amp;s\"/></div></a></td></tr><tr><td><a href=\"/url?q=https://learn.microsoft.com/en-us/power-query/share-query&amp;sa=U&amp;ved=2ahUKEwjdqZz5ydeBAxXkSWwGHTk8CVsQr4kDegQIDBAC&amp;usg=AOvVaw1qHcz12FG3GcsZmBfVkv5H\"><div class=\"AlD19d\">  <span class=\"qXLe6d x3G5ab\">  <span class=\"fYyStc\">Share a query - Power Query...</span>  </span>   <span class=\"qXLe6d F9iS2e\">  <span class=\"fYyStc\">learn.microsoft.com</span>  </span> </div></a></td></tr></table></div></div> </div> </div></td><td class=\"e3goi\" align=\"center\"><div class=\"jjVJ4e\"> <div> <div class=\"lIMUZd\"><div><table class=\"RntSmf\"><tr><td><a href=\"/url?q=https://www.sqlshack.com/learn-sql-sql-query-examples/&amp;sa=U&amp;ved=2ahUKEwjdqZz5ydeBAxXkSWwGHTk8CVsQqoUBegQICRAB&amp;usg=AOvVaw3LldwPrLHCCUToPWcatdly\"><div class=\"kCmkOe\"><img class=\"DS1iW\" alt=\"\" src=\"https://encrypted-tbn0.gstatic.com/images?q=tbn:ANd9GcQUHeIiLLhEKyXM91-jb-HAhgNR7sOiIZFzA2CPXX_qVhujTS_Nhbp7qGNZ5g&amp;s\"/></div></a></td></tr><tr><td><a href=\"/url?q=https://www.sqlshack.com/learn-sql-sql-query-examples/&amp;sa=U&amp;ved=2ahUKEwjdqZz5ydeBAxXkSWwGHTk8CVsQr4kDegQICRAC&amp;usg=AOvVaw0pSsAqd_fweSKYH2etgwxi\"><div class=\"AlD19d\">  <span class=\"qXLe6d x3G5ab\">  <span class=\"fYyStc\">Learn SQL: SQL Query...</span>  </span>   <span class=\"qXLe6d F9iS2e\">  <span class=\"fYyStc\">www.sqlshack.com</span>  </span> </div></a></td></tr></table></div></div> </div> </div></td><td class=\"e3goi\" align=\"center\"><div class=\"jjVJ4e\"> <div> <div class=\"lIMUZd\"><div><table class=\"RntSmf\"><tr><td><a href=\"/url?q=https://docs.inductiveautomation.com/display/DOC79/Database%2BQuery%2BBrowser&amp;sa=U&amp;ved=2ahUKEwjdqZz5ydeBAxXkSWwGHTk8CVsQqoUBegQIChAB&amp;usg=AOvVaw2Vw7Je5Wl3SVl6SDcyxvij\"><div class=\"kCmkOe\"><img class=\"DS1iW\" alt=\"\" src=\"https://encrypted-tbn0.gstatic.com/images?q=tbn:ANd9GcQM_ICkhQBnmoQJTJXKjjXXFSbVqNNrjcLcizshUroVckdGaPgbWSdfWry0oQc&amp;s\"/></div></a></td></tr><tr><td><a href=\"/url?q=https://docs.inductiveautomation.com/display/DOC79/Database%2BQuery%2BBrowser&amp;sa=U&amp;ved=2ahUKEwjdqZz5ydeBAxXkSWwGHTk8CVsQr4kDegQIChAC&amp;usg=AOvVaw22CvcySWKFYEVk1-mnEMND\"><div class=\"AlD19d\">  <span class=\"qXLe6d x3G5ab\">  <span class=\"fYyStc\">Database Query Browser -...</span>  </span>   <span class=\"qXLe6d F9iS2e\">  <span class=\"fYyStc\">docs.inductiveautomation.co...</span>  </span> </div></a></td></tr></table></div></div> </div> </div></td></tr><tr><td class=\"e3goi\" align=\"center\"><div class=\"jjVJ4e\"> <div> <div class=\"lIMUZd\"><div><table class=\"RntSmf\"><tr><td><a href=\"/url?q=https://manifold.net/doc/mfd9/queries.htm&amp;sa=U&amp;ved=2ahUKEwjdqZz5ydeBAxXkSWwGHTk8CVsQqoUBegQIBxAB&amp;usg=AOvVaw0tzTpbYXo2POPZ35IVgNE7\"><div class=\"kCmkOe\"><img class=\"DS1iW\" alt=\"\" src=\"https://encrypted-tbn0.gstatic.com/images?q=tbn:ANd9GcRym2z6cP8ntDpGPNDX6S3rFVeWbQDqs84VI5Q4LzPrUdTqOlZWJU87DnJilQ&amp;s\"/></div></a></td></tr><tr><td><a href=\"/url?q=https://manifold.net/doc/mfd9/queries.htm&amp;sa=U&amp;ved=2ahUKEwjdqZz5ydeBAxXkSWwGHTk8CVsQr4kDegQIBxAC&amp;usg=AOvVaw1jBZqG4DvP_1xMrwEkYXB-\"><div class=\"AlD19d\">  <span class=\"qXLe6d x3G5ab\">  <span class=\"fYyStc\">Queries</span>  </span>   <span class=\"qXLe6d F9iS2e\">  <span class=\"fYyStc\">manifold.net</span>  </span> </div></a></td></tr></table></div></div> </div> </div></td><td class=\"e3goi\" align=\"center\"><div class=\"jjVJ4e\"> <div> <div class=\"lIMUZd\"><div><table class=\"RntSmf\"><tr><td><a href=\"/url?q=https://www.query.ai/federated-search/&amp;sa=U&amp;ved=2ahUKEwjdqZz5ydeBAxXkSWwGHTk8CVsQqoUBegQIAxAB&amp;usg=AOvVaw1FDaiNoND7_yM7-glVMvcL\"><div class=\"kCmkOe\"><img class=\"DS1iW\" alt=\"\" src=\"https://encrypted-tbn0.gstatic.com/images?q=tbn:ANd9GcReOBuoiCYyK6cDGwBQhWHa7ukIl8RxohD1c0B3vhhl1uKSwVuYHe6hkBSi0A&amp;s\"/></div></a></td></tr><tr><td><a href=\"/url?q=https://www.query.ai/federated-search/&amp;sa=U&amp;ved=2ahUKEwjdqZz5ydeBAxXkSWwGHTk8CVsQr4kDegQIAxAC&amp;usg=AOvVaw1IPU7RoNpvlXNlPav5ZoDW\"><div class=\"AlD19d\">  <span class=\"qXLe6d x3G5ab\">  <span class=\"fYyStc\">Federated Search - Query</span>  </span>   <span class=\"qXLe6d F9iS2e\">  <span class=\"fYyStc\">www.query.ai</span>  </span> </div></a></td></tr></table></div></div> </div> </div></td><td class=\"e3goi\" align=\"center\"><div class=\"jjVJ4e\"> <div> <div class=\"lIMUZd\"><div><table class=\"RntSmf\"><tr><td><a href=\"/url?q=https://www.arimetrics.com/en/digital-glossary/query&amp;sa=U&amp;ved=2ahUKEwjdqZz5ydeBAxXkSWwGHTk8CVsQqoUBegQIBhAB&amp;usg=AOvVaw2qpI6FMFa4bzXneKzJp0ag\"><div class=\"kCmkOe\"><img class=\"DS1iW\" alt=\"\" src=\"https://encrypted-tbn0.gstatic.com/images?q=tbn:ANd9GcRBUYGt6CCvSkjgAD8rClK1-PxSoWqnjDd_WeMO_xUmeRQ6OK8QbAJvP7NRXQ&amp;s\"/></div></a></td></tr><tr><td><a href=\"/url?q=https://www.arimetrics.com/en/digital-glossary/query&amp;sa=U&amp;ved=2ahUKEwjdqZz5ydeBAxXkSWwGHTk8CVsQr4kDegQIBhAC&amp;usg=AOvVaw00Z0dXU7sok8Hr8C4EKovx\"><div class=\"AlD19d\">  <span class=\"qXLe6d x3G5ab\">  <span class=\"fYyStc\">What is a Query -...</span>  </span>   <span class=\"qXLe6d F9iS2e\">  <span class=\"fYyStc\">www.arimetrics.com</span>  </span> </div></a></td></tr></table></div></div> </div> </div></td><td class=\"e3goi\" align=\"center\"><div class=\"jjVJ4e\"> <div> <div class=\"lIMUZd\"><div><table class=\"RntSmf\"><tr><td><a href=\"/url?q=https://www.sqlmanager.net/products/tools/querybuilder&amp;sa=U&amp;ved=2ahUKEwjdqZz5ydeBAxXkSWwGHTk8CVsQqoUBegQIBRAB&amp;usg=AOvVaw2Pah7-dZKEGX_NCPKhkvBk\"><div class=\"kCmkOe\"><img class=\"DS1iW\" alt=\"\" src=\"https://encrypted-tbn0.gstatic.com/images?q=tbn:ANd9GcSPWFThk6jJBU3IjhyNX7aQBtRz4z5S-PcUhMtfSPFUD0bpmI7shZweow37IQ&amp;s\"/></div></a></td></tr><tr><td><a href=\"/url?q=https://www.sqlmanager.net/products/tools/querybuilder&amp;sa=U&amp;ved=2ahUKEwjdqZz5ydeBAxXkSWwGHTk8CVsQr4kDegQIBRAC&amp;usg=AOvVaw3sQ-_EWRrK4TKbnp7ozHqa\"><div class=\"AlD19d\">  <span class=\"qXLe6d x3G5ab\">  <span class=\"fYyStc\">Advanced Query Builder for...</span>  </span>   <span class=\"qXLe6d F9iS2e\">  <span class=\"fYyStc\">www.sqlmanager.net</span>  </span> </div></a></td></tr></table></div></div> </div> </div></td></tr><tr><td class=\"e3goi\" align=\"center\"><div class=\"jjVJ4e\"> <div> <div class=\"lIMUZd\"><div><table class=\"RntSmf\"><tr><td><a href=\"/url?q=https://docs.inductiveautomation.com/display/DOC81/Database%2BQuery%2BBrowser&amp;sa=U&amp;ved=2ahUKEwjdqZz5ydeBAxXkSWwGHTk8CVsQqoUBegQIARAB&amp;usg=AOvVaw05gPdJLjchs3sSdaDIq-3s\"><div class=\"kCmkOe\"><img class=\"DS1iW\" alt=\"\" src=\"https://encrypted-tbn0.gstatic.com/images?q=tbn:ANd9GcQn5bc9yOR9fRHkXeUN57kZFCmgs_yNRATdFbpGaFwnAVR1p06Ba93ivzuL9Q&amp;s\"/></div></a></td></tr><tr><td><a href=\"/url?q=https://docs.inductiveautomation.com/display/DOC81/Database%2BQuery%2BBrowser&amp;sa=U&amp;ved=2ahUKEwjdqZz5ydeBAxXkSWwGHTk8CVsQr4kDegQIARAC&amp;usg=AOvVaw2Gn_gWzsE9z8GjbXxH8OIZ\"><div class=\"AlD19d\">  <span class=\"qXLe6d x3G5ab\">  <span class=\"fYyStc\">Database Query Browser -...</span>  </span>   <span class=\"qXLe6d F9iS2e\">  <span class=\"fYyStc\">docs.inductiveautomation.co...</span>  </span> </div></a></td></tr></table></div></div> </div> </div></td><td class=\"e3goi\" align=\"center\"><div class=\"jjVJ4e\"> <div> <div class=\"lIMUZd\"><div><table class=\"RntSmf\"><tr><td><a href=\"/url?q=https://www.ge.com/digital/documentation/meridium/V36000/WebHelp/mergedProjects/WebHelp_Master/mergedProjects/APMFoundation/About_the_Query_Design.htm&amp;sa=U&amp;ved=2ahUKEwjdqZz5ydeBAxXkSWwGHTk8CVsQqoUBegQIABAB&amp;usg=AOvVaw1EuyRbjIAA510qZx1kTrbH\"><div class=\"kCmkOe\"><img class=\"DS1iW\" alt=\"\" src=\"https://encrypted-tbn0.gstatic.com/images?q=tbn:ANd9GcTknNv2CvE8ugs9k55FoXeHvnz5unRLZTjXcn49ndXuuoOtyXo5mWRN2iFhRg&amp;s\"/></div></a></td></tr><tr><td><a href=\"/url?q=https://www.ge.com/digital/documentation/meridium/V36000/WebHelp/mergedProjects/WebHelp_Master/mergedProjects/APMFoundation/About_the_Query_Design.htm&amp;sa=U&amp;ved=2ahUKEwjdqZz5ydeBAxXkSWwGHTk8CVsQr4kDegQIABAC&amp;usg=AOvVaw3aXVepoRs8DrryrnZDbUi1\"><div class=\"AlD19d\">  <span class=\"qXLe6d x3G5ab\">  <span class=\"fYyStc\">The Query Design</span>  </span>   <span class=\"qXLe6d F9iS2e\">  <span class=\"fYyStc\">www.ge.com</span>  </span> </div></a></td></tr></table></div></div> </div> </div></td><td class=\"e3goi\" align=\"center\"><div class=\"jjVJ4e\"> <div> <div class=\"lIMUZd\"><div><table class=\"RntSmf\"><tr><td><a href=\"/url?q=https://www.teachucomp.com/run-a-query-in-access-instructions/&amp;sa=U&amp;ved=2ahUKEwjdqZz5ydeBAxXkSWwGHTk8CVsQqoUBegQIBBAB&amp;usg=AOvVaw2XeTGO4CU2LTYZRA8fpzFw\"><div class=\"kCmkOe\"><img class=\"DS1iW\" alt=\"\" src=\"https://encrypted-tbn0.gstatic.com/images?q=tbn:ANd9GcQVGPVj5P-wNmaz6ho7z2QFOjxXWgTx5NusQ5K215k0NrdC0fOovitwoX9lubs&amp;s\"/></div></a></td></tr><tr><td><a href=\"/url?q=https://www.teachucomp.com/run-a-query-in-access-instructions/&amp;sa=U&amp;ved=2ahUKEwjdqZz5ydeBAxXkSWwGHTk8CVsQr4kDegQIBBAC&amp;usg=AOvVaw36jx4V_9Y7KJ1skll_UM9_\"><div class=\"AlD19d\">  <span class=\"qXLe6d x3G5ab\">  <span class=\"fYyStc\">Run a Query in Access -...</span>  </span>   <span class=\"qXLe6d F9iS2e\">  <span class=\"fYyStc\">www.teachucomp.com</span>  </span> </div></a></td></tr></table></div></div> </div> </div></td><td class=\"e3goi\" align=\"center\"><div class=\"jjVJ4e\"> <div> <div class=\"lIMUZd\"><div><table class=\"RntSmf\"><tr><td><a href=\"/url?q=https://www.metabase.com/docs/latest/questions/native-editor/writing-sql&amp;sa=U&amp;ved=2ahUKEwjdqZz5ydeBAxXkSWwGHTk8CVsQqoUBegQICBAB&amp;usg=AOvVaw39RZHkY_0AkVgb7W-_b92O\"><div class=\"kCmkOe\"><img class=\"DS1iW\" alt=\"\" src=\"https://encrypted-tbn0.gstatic.com/images?q=tbn:ANd9GcTHKONQeGTVZzG79guw3_CDUH8OPYc1L4t-etImStH3fSK18RRQFVOLxU-LSQ&amp;s\"/></div></a></td></tr><tr><td><a href=\"/url?q=https://www.metabase.com/docs/latest/questions/native-editor/writing-sql&amp;sa=U&amp;ved=2ahUKEwjdqZz5ydeBAxXkSWwGHTk8CVsQr4kDegQICBAC&amp;usg=AOvVaw36H6JvATpjn7ATsF2TsOhx\"><div class=\"AlD19d\">  <span class=\"qXLe6d x3G5ab\">  <span class=\"fYyStc\">The SQL editor</span>  </span>   <span class=\"qXLe6d F9iS2e\">  <span class=\"fYyStc\">www.metabase.com</span>  </span> </div></a></td></tr></table></div></div> </div> </div></td></tr></table></div><table class=\"uZgmoc\"><tbody><td><a class=\"frGj1b\" href=\"/search?q=%7Bquery%7D&amp;sca_esv=570043172&amp;rlz=1C1AWFC_enAE894AE894&amp;biw=1280&amp;bih=595&amp;ie=UTF-8&amp;tbm=isch&amp;ei=HtQaZd2iAeSTseMPufik2AU&amp;start=20&amp;sa=N\">Next&nbsp;&gt;</a></td></tbody></table><br/><div class=\"TuS8Ad\" data-ved=\"0ahUKEwjdqZz5ydeBAxXkSWwGHTk8CVsQpyoIUg\"><style>.VYM29{font-weight:bold}</style><div class=\"HddGcc\" align=\"center\"><span class=\"VYM29\">Mumbai, Maharashtra</span><span>&nbsp;-&nbsp;</span><span>From your IP address</span><span>&nbsp;-&nbsp;</span><a href=\"/url?q=https://support.google.com/websearch%3Fp%3Dws_settings_location%26hl%3Den-IN&amp;opi=89978449&amp;sa=U&amp;ved=0ahUKEwjdqZz5ydeBAxXkSWwGHTk8CVsQty4IUw&amp;usg=AOvVaw0-8qQu-DDfQ2CevXqeYmqV\">Learn more</a></div><div align=\"center\"><a class=\"rEM8G\" href=\"/url?q=https://accounts.google.com/ServiceLogin%3Fcontinue%3Dhttps://www.google.com/search%253Fq%253D%25257Bquery%25257D%2526sca_esv%253D570043172%2526rlz%253D1C1AWFC_enAE894AE894%2526tbm%253Disch%2526sxsrf%253DAM9HkKlPBEXEf-y4qtn3IqCsaSj4FeLo6Q:1696256985148%2526source%253Dlnms%2526sa%253DX%2526ved%253D2ahUKEwjGo7DYydeBAxVTT6QEHUxlC4IQ_AUoAnoECAIQBA%2526biw%253D1280%2526bih%253D595%2526dpr%253D1.5%26hl%3Den&amp;opi=89978449&amp;sa=U&amp;ved=0ahUKEwjdqZz5ydeBAxXkSWwGHTk8CVsQxs8CCFQ&amp;usg=AOvVaw2uotvQ94udnRURB3Q7kzTV\">Sign in</a></div><div><table class=\"bookcf\"><tbody class=\"InWNIe\"><tr><td><a class=\"rEM8G\" href=\"https://www.google.com/preferences?hl=en&amp;sa=X&amp;ved=0ahUKEwjdqZz5ydeBAxXkSWwGHTk8CVsQv5YECFU\">Settings</a></td><td><a class=\"rEM8G\" href=\"https://www.google.com/intl/en_in/policies/privacy/\">Privacy</a></td><td><a class=\"rEM8G\" href=\"https://www.google.com/intl/en_in/policies/terms/\">Terms</a></td></tr></tbody></table></div></div><div>  </div></body></html>'"
      ]
     },
     "execution_count": 10,
     "metadata": {},
     "output_type": "execute_result"
    }
   ],
   "source": [
    "response.content"
   ]
  },
  {
   "cell_type": "code",
   "execution_count": 12,
   "id": "3a387baf-015e-4e2d-905e-fef2b08a6e6a",
   "metadata": {},
   "outputs": [],
   "source": [
    "soup = BeautifulSoup(response.content,\"html.parser\")"
   ]
  },
  {
   "cell_type": "code",
   "execution_count": 13,
   "id": "e52c7900-50e7-4a33-9de1-0a911326aedc",
   "metadata": {},
   "outputs": [
    {
     "data": {
      "text/plain": [
       "[<img alt=\"Google\" class=\"kgJEQe\" src=\"/images/branding/searchlogo/1x/googlelogo_desk_heirloom_color_150x55dp.gif\"/>,\n",
       " <img alt=\"\" class=\"DS1iW\" src=\"https://encrypted-tbn0.gstatic.com/images?q=tbn:ANd9GcRqCBr7wnAh08aMOHlUh5eQSDQJqcUZBGsZ3Gws9bLv8yr6dSExK5OsU1BcGQ&amp;s\"/>,\n",
       " <img alt=\"\" class=\"DS1iW\" src=\"https://encrypted-tbn0.gstatic.com/images?q=tbn:ANd9GcTTheiMrWBm4WzFCxsffKjBi8PAcZSLB2RSedZRj-Z0xqdFwmW2GHiem_5opW4&amp;s\"/>,\n",
       " <img alt=\"\" class=\"DS1iW\" src=\"https://encrypted-tbn0.gstatic.com/images?q=tbn:ANd9GcR3ymkdcLRAhGbBJeWqiCH1f2bjDHSqU2i-mAhJ4mYXjfpq_X-sXblHiNrM5w&amp;s\"/>,\n",
       " <img alt=\"\" class=\"DS1iW\" src=\"https://encrypted-tbn0.gstatic.com/images?q=tbn:ANd9GcQgeKwO0k8vQKqDlBTMFNvvAWWNQdmuOOfr_jHjMCWTyflevZ1EhMe5Cyi-NA&amp;s\"/>,\n",
       " <img alt=\"\" class=\"DS1iW\" src=\"https://encrypted-tbn0.gstatic.com/images?q=tbn:ANd9GcTLYMMzXgLOjysMHPwQuvwP-rlctC0WTm46uX7JPW0N3HgpMboaO57Ze8cj5KY&amp;s\"/>,\n",
       " <img alt=\"\" class=\"DS1iW\" src=\"https://encrypted-tbn0.gstatic.com/images?q=tbn:ANd9GcRykdkZEK62QHbWEai7c3M6EBhcJSChUxUs6GzjzWuajAHsNWsJC_Iytrh1hlQ&amp;s\"/>,\n",
       " <img alt=\"\" class=\"DS1iW\" src=\"https://encrypted-tbn0.gstatic.com/images?q=tbn:ANd9GcSKSZnnYWheITD2kZNX3os3L9ffZSntRUu7622wX8v1Y5Q0r-pZoP6F1WUulsQ&amp;s\"/>,\n",
       " <img alt=\"\" class=\"DS1iW\" src=\"https://encrypted-tbn0.gstatic.com/images?q=tbn:ANd9GcRAm0Yd2HugQd2FefPhjlwvqlqZ2smr2BOpGNfVkv0C4rbl1gzgJ5Re5P-kGfU&amp;s\"/>,\n",
       " <img alt=\"\" class=\"DS1iW\" src=\"https://encrypted-tbn0.gstatic.com/images?q=tbn:ANd9GcQ6MwAa-GC7xUXqL9Kb8gzRSF-cYsfFEhqbuieHsn45qWt9a_Y20HPcWklkQdk&amp;s\"/>,\n",
       " <img alt=\"\" class=\"DS1iW\" src=\"https://encrypted-tbn0.gstatic.com/images?q=tbn:ANd9GcT5OWLx5sRR0gocKH-EhwyTeb6ozfpnQgAVelSkwkCcm9IJGatwsQFbK_k_sg&amp;s\"/>,\n",
       " <img alt=\"\" class=\"DS1iW\" src=\"https://encrypted-tbn0.gstatic.com/images?q=tbn:ANd9GcQUHeIiLLhEKyXM91-jb-HAhgNR7sOiIZFzA2CPXX_qVhujTS_Nhbp7qGNZ5g&amp;s\"/>,\n",
       " <img alt=\"\" class=\"DS1iW\" src=\"https://encrypted-tbn0.gstatic.com/images?q=tbn:ANd9GcQM_ICkhQBnmoQJTJXKjjXXFSbVqNNrjcLcizshUroVckdGaPgbWSdfWry0oQc&amp;s\"/>,\n",
       " <img alt=\"\" class=\"DS1iW\" src=\"https://encrypted-tbn0.gstatic.com/images?q=tbn:ANd9GcRym2z6cP8ntDpGPNDX6S3rFVeWbQDqs84VI5Q4LzPrUdTqOlZWJU87DnJilQ&amp;s\"/>,\n",
       " <img alt=\"\" class=\"DS1iW\" src=\"https://encrypted-tbn0.gstatic.com/images?q=tbn:ANd9GcReOBuoiCYyK6cDGwBQhWHa7ukIl8RxohD1c0B3vhhl1uKSwVuYHe6hkBSi0A&amp;s\"/>,\n",
       " <img alt=\"\" class=\"DS1iW\" src=\"https://encrypted-tbn0.gstatic.com/images?q=tbn:ANd9GcRBUYGt6CCvSkjgAD8rClK1-PxSoWqnjDd_WeMO_xUmeRQ6OK8QbAJvP7NRXQ&amp;s\"/>,\n",
       " <img alt=\"\" class=\"DS1iW\" src=\"https://encrypted-tbn0.gstatic.com/images?q=tbn:ANd9GcSPWFThk6jJBU3IjhyNX7aQBtRz4z5S-PcUhMtfSPFUD0bpmI7shZweow37IQ&amp;s\"/>,\n",
       " <img alt=\"\" class=\"DS1iW\" src=\"https://encrypted-tbn0.gstatic.com/images?q=tbn:ANd9GcQn5bc9yOR9fRHkXeUN57kZFCmgs_yNRATdFbpGaFwnAVR1p06Ba93ivzuL9Q&amp;s\"/>,\n",
       " <img alt=\"\" class=\"DS1iW\" src=\"https://encrypted-tbn0.gstatic.com/images?q=tbn:ANd9GcTknNv2CvE8ugs9k55FoXeHvnz5unRLZTjXcn49ndXuuoOtyXo5mWRN2iFhRg&amp;s\"/>,\n",
       " <img alt=\"\" class=\"DS1iW\" src=\"https://encrypted-tbn0.gstatic.com/images?q=tbn:ANd9GcQVGPVj5P-wNmaz6ho7z2QFOjxXWgTx5NusQ5K215k0NrdC0fOovitwoX9lubs&amp;s\"/>,\n",
       " <img alt=\"\" class=\"DS1iW\" src=\"https://encrypted-tbn0.gstatic.com/images?q=tbn:ANd9GcTHKONQeGTVZzG79guw3_CDUH8OPYc1L4t-etImStH3fSK18RRQFVOLxU-LSQ&amp;s\"/>]"
      ]
     },
     "execution_count": 13,
     "metadata": {},
     "output_type": "execute_result"
    }
   ],
   "source": [
    "soup.find_all(\"img\")"
   ]
  },
  {
   "cell_type": "code",
   "execution_count": 14,
   "id": "7ab2f10b-0272-4064-b0c9-29037fc13823",
   "metadata": {},
   "outputs": [],
   "source": [
    "image_tags = soup.find_all(\"img\")"
   ]
  },
  {
   "cell_type": "code",
   "execution_count": 15,
   "id": "7967e09a-1fe2-4b4b-b63d-7483e6c3dda7",
   "metadata": {},
   "outputs": [],
   "source": [
    "del image_tags[0]"
   ]
  },
  {
   "cell_type": "code",
   "execution_count": 16,
   "id": "bed1071b-ad9b-433d-986d-bd8a26e66ea2",
   "metadata": {},
   "outputs": [
    {
     "data": {
      "text/plain": [
       "20"
      ]
     },
     "execution_count": 16,
     "metadata": {},
     "output_type": "execute_result"
    }
   ],
   "source": [
    "len(image_tags)"
   ]
  },
  {
   "cell_type": "code",
   "execution_count": 21,
   "id": "a4a9bbb3-53e2-4d1e-8f84-05dcc8452c73",
   "metadata": {},
   "outputs": [],
   "source": [
    "image_data_mongo = []\n",
    "for i in image_tags:\n",
    "    image_url = i['src']\n",
    "    image_data = requests.get(image_url).content\n",
    "    mydict = {\"index\": image_url, \"image\": image_data}\n",
    "    image_data_mongo.append(mydict)\n",
    "    with open(os.path.join(save_dir,f\"{query}_{image_tags.index(i)}.jpg\"), \"wb\")as f:\n",
    "                           f.write(image_data)"
   ]
  },
  {
   "cell_type": "code",
   "execution_count": null,
   "id": "911e7e4c-694e-42d5-b1c4-620fe3a7951e",
   "metadata": {},
   "outputs": [],
   "source": []
  }
 ],
 "metadata": {
  "kernelspec": {
   "display_name": "Python 3 (ipykernel)",
   "language": "python",
   "name": "python3"
  },
  "language_info": {
   "codemirror_mode": {
    "name": "ipython",
    "version": 3
   },
   "file_extension": ".py",
   "mimetype": "text/x-python",
   "name": "python",
   "nbconvert_exporter": "python",
   "pygments_lexer": "ipython3",
   "version": "3.10.8"
  }
 },
 "nbformat": 4,
 "nbformat_minor": 5
}
