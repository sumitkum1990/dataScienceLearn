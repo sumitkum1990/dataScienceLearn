{
 "cells": [
  {
   "cell_type": "code",
   "execution_count": 1,
   "id": "d9a7772f-27b4-4b19-a8a9-2bcd4048c3ca",
   "metadata": {},
   "outputs": [],
   "source": [
    "def greet():\n",
    "    \n",
    "    message = \"Hello\"\n",
    "    \n",
    "    print(\"local\", message)"
   ]
  },
  {
   "cell_type": "code",
   "execution_count": 2,
   "id": "fc558baa-fb1d-40dd-b64c-5f334bd19d6f",
   "metadata": {},
   "outputs": [
    {
     "name": "stdout",
     "output_type": "stream",
     "text": [
      "local Hello\n"
     ]
    }
   ],
   "source": [
    "greet()"
   ]
  },
  {
   "cell_type": "code",
   "execution_count": 3,
   "id": "8a2964b3-29d3-422b-9ec3-808e195be3a8",
   "metadata": {},
   "outputs": [
    {
     "ename": "NameError",
     "evalue": "name 'message' is not defined",
     "output_type": "error",
     "traceback": [
      "\u001b[0;31m---------------------------------------------------------------------------\u001b[0m",
      "\u001b[0;31mNameError\u001b[0m                                 Traceback (most recent call last)",
      "Cell \u001b[0;32mIn[3], line 7\u001b[0m\n\u001b[1;32m      3\u001b[0m     message \u001b[38;5;241m=\u001b[39m \u001b[38;5;124m\"\u001b[39m\u001b[38;5;124mHello\u001b[39m\u001b[38;5;124m\"\u001b[39m\n\u001b[1;32m      5\u001b[0m     \u001b[38;5;28mprint\u001b[39m(\u001b[38;5;124m\"\u001b[39m\u001b[38;5;124mlocal\u001b[39m\u001b[38;5;124m\"\u001b[39m, message)\n\u001b[0;32m----> 7\u001b[0m \u001b[38;5;28mprint\u001b[39m(\u001b[43mmessage\u001b[49m)\n\u001b[1;32m      8\u001b[0m greet()\n",
      "\u001b[0;31mNameError\u001b[0m: name 'message' is not defined"
     ]
    }
   ],
   "source": [
    "def greet():\n",
    "    \n",
    "    message = \"Hello\"\n",
    "    \n",
    "    print(\"local\", message)\n",
    "\n",
    "print(message)\n",
    "greet()"
   ]
  },
  {
   "cell_type": "code",
   "execution_count": 5,
   "id": "c3fdbe90-a046-4dbf-a319-8855bce0e353",
   "metadata": {},
   "outputs": [
    {
     "ename": "NameError",
     "evalue": "name 'x' is not defined",
     "output_type": "error",
     "traceback": [
      "\u001b[0;31m---------------------------------------------------------------------------\u001b[0m",
      "\u001b[0;31mNameError\u001b[0m                                 Traceback (most recent call last)",
      "Cell \u001b[0;32mIn[5], line 6\u001b[0m\n\u001b[1;32m      3\u001b[0m     y \u001b[38;5;241m=\u001b[39m \u001b[38;5;241m30\u001b[39m\n\u001b[1;32m      4\u001b[0m     \u001b[38;5;28mprint\u001b[39m(x\u001b[38;5;241m+\u001b[39my)\n\u001b[0;32m----> 6\u001b[0m \u001b[38;5;28mprint\u001b[39m(\u001b[43mx\u001b[49m)\n\u001b[1;32m      7\u001b[0m \u001b[38;5;28mprint\u001b[39m(y)\n",
      "\u001b[0;31mNameError\u001b[0m: name 'x' is not defined"
     ]
    }
   ],
   "source": [
    "def add():\n",
    "    x = 20\n",
    "    y = 30\n",
    "    print(x+y)\n",
    "\n",
    "print(x)\n",
    "print(y)"
   ]
  },
  {
   "cell_type": "code",
   "execution_count": 8,
   "id": "4bb2ab36-fc44-433a-89f9-e3c15f079527",
   "metadata": {},
   "outputs": [
    {
     "name": "stdout",
     "output_type": "stream",
     "text": [
      "Phython is fantastic\n",
      "Awesome\n"
     ]
    }
   ],
   "source": [
    "x = \"Awesome\" #global scope\n",
    "\n",
    "def myfunc():\n",
    "    x = \"fantastic\" #Local scope , \n",
    "    #local can access variable inside a function only\n",
    "    print(\"Phython is \"+ x)\n",
    "    \n",
    "myfunc()\n",
    "print(x)"
   ]
  },
  {
   "cell_type": "code",
   "execution_count": null,
   "id": "c981c0bd-b703-4b77-a261-3cdd2b8f521c",
   "metadata": {},
   "outputs": [],
   "source": [
    "x = 20\n",
    "\n",
    "def add():\n",
    "    \n",
    "    y = 30\n",
    "    print(\"local variable y = \", y)\n",
    "    \n",
    "    print(\"global variable x = \",x)\n",
    "    \n",
    "    z = x+y\n",
    "    print(z)\n",
    "    \n",
    "def sub():\n",
    "    m=10\n",
    "    print('local variable m =', m)"
   ]
  },
  {
   "cell_type": "code",
   "execution_count": 9,
   "id": "85ce3626-5bfb-4776-a56d-f6c44e806ab8",
   "metadata": {},
   "outputs": [],
   "source": [
    "x = 20\n",
    "\n",
    "def add():\n",
    "    \n",
    "    y = 30\n",
    "    print(\"local variable y = \", y)\n",
    "    \n",
    "    print(\"global variable x = \",x)\n",
    "    \n",
    "    z = x+y\n",
    "    print(z)"
   ]
  },
  {
   "cell_type": "code",
   "execution_count": 10,
   "id": "aeec6429-4f6f-4790-95ba-60e0665b884e",
   "metadata": {},
   "outputs": [
    {
     "name": "stdout",
     "output_type": "stream",
     "text": [
      "local variable y =  30\n",
      "global variable x =  20\n",
      "50\n"
     ]
    }
   ],
   "source": [
    "add()"
   ]
  },
  {
   "cell_type": "code",
   "execution_count": 11,
   "id": "a18e83f0-34d9-44de-ac62-106293570741",
   "metadata": {},
   "outputs": [],
   "source": [
    "#Phython functional arguments\n"
   ]
  },
  {
   "cell_type": "code",
   "execution_count": 12,
   "id": "bb135670-5589-41e4-b3ce-b8419ddf84d9",
   "metadata": {},
   "outputs": [],
   "source": [
    "def add_number(a,b): # positional argument\n",
    "    sum  = a+b\n",
    "    print(\"sum\", sum)"
   ]
  },
  {
   "cell_type": "code",
   "execution_count": 13,
   "id": "8caa42ee-1e33-428d-b3bf-dc0ed62961ce",
   "metadata": {},
   "outputs": [
    {
     "ename": "TypeError",
     "evalue": "add_number() missing 2 required positional arguments: 'a' and 'b'",
     "output_type": "error",
     "traceback": [
      "\u001b[0;31m---------------------------------------------------------------------------\u001b[0m",
      "\u001b[0;31mTypeError\u001b[0m                                 Traceback (most recent call last)",
      "Cell \u001b[0;32mIn[13], line 1\u001b[0m\n\u001b[0;32m----> 1\u001b[0m \u001b[43madd_number\u001b[49m\u001b[43m(\u001b[49m\u001b[43m)\u001b[49m\n",
      "\u001b[0;31mTypeError\u001b[0m: add_number() missing 2 required positional arguments: 'a' and 'b'"
     ]
    }
   ],
   "source": [
    "add_number()"
   ]
  },
  {
   "cell_type": "code",
   "execution_count": 14,
   "id": "d84927cf-3946-413f-bf5c-c0f6efc0fd68",
   "metadata": {},
   "outputs": [
    {
     "ename": "TypeError",
     "evalue": "add_number() missing 1 required positional argument: 'b'",
     "output_type": "error",
     "traceback": [
      "\u001b[0;31m---------------------------------------------------------------------------\u001b[0m",
      "\u001b[0;31mTypeError\u001b[0m                                 Traceback (most recent call last)",
      "Cell \u001b[0;32mIn[14], line 1\u001b[0m\n\u001b[0;32m----> 1\u001b[0m \u001b[43madd_number\u001b[49m\u001b[43m(\u001b[49m\u001b[38;5;241;43m20\u001b[39;49m\u001b[43m)\u001b[49m\n",
      "\u001b[0;31mTypeError\u001b[0m: add_number() missing 1 required positional argument: 'b'"
     ]
    }
   ],
   "source": [
    "add_number(20)"
   ]
  },
  {
   "cell_type": "code",
   "execution_count": 15,
   "id": "836f842d-bf51-4390-b3a3-c427f84ac420",
   "metadata": {},
   "outputs": [
    {
     "ename": "SyntaxError",
     "evalue": "invalid syntax (2056108637.py, line 1)",
     "output_type": "error",
     "traceback": [
      "\u001b[0;36m  Cell \u001b[0;32mIn[15], line 1\u001b[0;36m\u001b[0m\n\u001b[0;31m    add_number(,)\u001b[0m\n\u001b[0m               ^\u001b[0m\n\u001b[0;31mSyntaxError\u001b[0m\u001b[0;31m:\u001b[0m invalid syntax\n"
     ]
    }
   ],
   "source": [
    "add_number(,)"
   ]
  },
  {
   "cell_type": "code",
   "execution_count": 16,
   "id": "d51ef1a3-f179-4e7c-9edf-27a16c364f12",
   "metadata": {},
   "outputs": [
    {
     "ename": "TypeError",
     "evalue": "add_number() missing 1 required positional argument: 'b'",
     "output_type": "error",
     "traceback": [
      "\u001b[0;31m---------------------------------------------------------------------------\u001b[0m",
      "\u001b[0;31mTypeError\u001b[0m                                 Traceback (most recent call last)",
      "Cell \u001b[0;32mIn[16], line 1\u001b[0m\n\u001b[0;32m----> 1\u001b[0m \u001b[43madd_number\u001b[49m\u001b[43m(\u001b[49m\u001b[38;5;241;43m20\u001b[39;49m\u001b[43m,\u001b[49m\u001b[43m \u001b[49m\u001b[43m)\u001b[49m\n",
      "\u001b[0;31mTypeError\u001b[0m: add_number() missing 1 required positional argument: 'b'"
     ]
    }
   ],
   "source": [
    "add_number(20, )"
   ]
  },
  {
   "cell_type": "code",
   "execution_count": 17,
   "id": "7c4cbbbb-146d-42de-ba3f-c61d947fbf0f",
   "metadata": {},
   "outputs": [
    {
     "ename": "SyntaxError",
     "evalue": "invalid syntax (2136925162.py, line 1)",
     "output_type": "error",
     "traceback": [
      "\u001b[0;36m  Cell \u001b[0;32mIn[17], line 1\u001b[0;36m\u001b[0m\n\u001b[0;31m    add_number( ,78)\u001b[0m\n\u001b[0m                ^\u001b[0m\n\u001b[0;31mSyntaxError\u001b[0m\u001b[0;31m:\u001b[0m invalid syntax\n"
     ]
    }
   ],
   "source": [
    "add_number( ,78)"
   ]
  },
  {
   "cell_type": "code",
   "execution_count": 18,
   "id": "fc2f02bc-2919-49e8-bd98-c785dba80996",
   "metadata": {},
   "outputs": [
    {
     "name": "stdout",
     "output_type": "stream",
     "text": [
      "sum 55\n"
     ]
    }
   ],
   "source": [
    "add_number(23,32)"
   ]
  },
  {
   "cell_type": "code",
   "execution_count": 19,
   "id": "d68b8684-5498-4832-b7f8-acf53e15d6d9",
   "metadata": {},
   "outputs": [],
   "source": [
    "def add(a =4, b =6): # default argument\n",
    "    sum = a+b\n",
    "    print(\"sum\",sum)"
   ]
  },
  {
   "cell_type": "code",
   "execution_count": 20,
   "id": "429527ef-d80c-4905-bd1f-2281934d6c68",
   "metadata": {},
   "outputs": [
    {
     "name": "stdout",
     "output_type": "stream",
     "text": [
      "sum 10\n"
     ]
    }
   ],
   "source": [
    "add()"
   ]
  },
  {
   "cell_type": "code",
   "execution_count": 21,
   "id": "4dfec326-26bd-4256-82d4-f49fa28d6b49",
   "metadata": {},
   "outputs": [],
   "source": [
    "def emp_name(name = \"pwskilss\"):\n",
    "    print(\"my name is \", name)"
   ]
  },
  {
   "cell_type": "code",
   "execution_count": 22,
   "id": "06f27c35-e9a1-465c-948d-b49c67133321",
   "metadata": {},
   "outputs": [
    {
     "name": "stdout",
     "output_type": "stream",
     "text": [
      "my name is  pwskilss\n"
     ]
    }
   ],
   "source": [
    "emp_name()"
   ]
  },
  {
   "cell_type": "code",
   "execution_count": 23,
   "id": "480a9be1-668b-4d9a-9f29-909beb686291",
   "metadata": {},
   "outputs": [],
   "source": [
    "#Keyword arguments"
   ]
  },
  {
   "cell_type": "code",
   "execution_count": 24,
   "id": "de4a03df-413d-45cd-8549-83fc9a91808b",
   "metadata": {},
   "outputs": [],
   "source": [
    "def display_info(first_name, last_name):\n",
    "    print(\"first name\", first_name)\n",
    "    print(\"last name\", last_name)"
   ]
  },
  {
   "cell_type": "code",
   "execution_count": 25,
   "id": "c3e875ec-bb28-499f-8a92-3a2aa0c2dd5b",
   "metadata": {},
   "outputs": [
    {
     "name": "stdout",
     "output_type": "stream",
     "text": [
      "first name pw\n",
      "last name skills\n"
     ]
    }
   ],
   "source": [
    "display_info(first_name = 'pw' , last_name= 'skills')"
   ]
  },
  {
   "cell_type": "code",
   "execution_count": 26,
   "id": "c56366d8-4395-498b-96ff-7455c8e23f87",
   "metadata": {},
   "outputs": [
    {
     "name": "stdout",
     "output_type": "stream",
     "text": [
      "first name pw\n",
      "last name skills\n"
     ]
    }
   ],
   "source": [
    "display_info(  last_name= 'skills', first_name = 'pw')"
   ]
  },
  {
   "cell_type": "code",
   "execution_count": 27,
   "id": "7037ad5c-eadc-47f2-a97a-f548a6a8b3f9",
   "metadata": {},
   "outputs": [],
   "source": [
    "def add(a,b): \n",
    "    sum = a+b\n",
    "    print(\"sum\",sum)"
   ]
  },
  {
   "cell_type": "code",
   "execution_count": 28,
   "id": "d3b8c897-e8ab-41f5-a264-c17a017a066a",
   "metadata": {},
   "outputs": [
    {
     "name": "stdout",
     "output_type": "stream",
     "text": [
      "sum 15\n"
     ]
    }
   ],
   "source": [
    "add( a= 6, b=9)"
   ]
  },
  {
   "cell_type": "code",
   "execution_count": 29,
   "id": "7c669d6c-f5e8-4275-8828-b19a453d56e7",
   "metadata": {},
   "outputs": [
    {
     "name": "stdout",
     "output_type": "stream",
     "text": [
      "sum 6\n"
     ]
    }
   ],
   "source": [
    "add( b= 2, a=4)"
   ]
  },
  {
   "cell_type": "code",
   "execution_count": 33,
   "id": "b560b03f-32c9-4d3a-b580-1d6d7fd95929",
   "metadata": {},
   "outputs": [
    {
     "name": "stdout",
     "output_type": "stream",
     "text": [
      "sum 98.98\n"
     ]
    }
   ],
   "source": [
    "add( a= 89.98, b=9)"
   ]
  },
  {
   "cell_type": "code",
   "execution_count": 34,
   "id": "4b49cd41-b797-448a-ae17-c434f49831b8",
   "metadata": {},
   "outputs": [],
   "source": [
    "#argument"
   ]
  },
  {
   "cell_type": "code",
   "execution_count": 35,
   "id": "a0f1588d-94aa-4e44-a170-f4c6eaeeb06d",
   "metadata": {},
   "outputs": [],
   "source": [
    "#*args and **kargs"
   ]
  },
  {
   "cell_type": "code",
   "execution_count": 44,
   "id": "801184d8-6e65-4c59-a60d-7225736cc5e6",
   "metadata": {},
   "outputs": [],
   "source": [
    "def find_num(*number): # vaiable lenth argument\n",
    "    result = 0\n",
    "    \n",
    "    for num in number:\n",
    "        result = result + num\n",
    "    print(\"sum\", result)"
   ]
  },
  {
   "cell_type": "code",
   "execution_count": 47,
   "id": "eb83d689-a906-44b1-b894-079f586c2e67",
   "metadata": {},
   "outputs": [
    {
     "name": "stdout",
     "output_type": "stream",
     "text": [
      "sum 9\n"
     ]
    }
   ],
   "source": [
    "find_num(2,3,4)"
   ]
  },
  {
   "cell_type": "code",
   "execution_count": 48,
   "id": "d9e099ca-99cb-449c-ac0e-c5433aeb0bf5",
   "metadata": {},
   "outputs": [
    {
     "name": "stdout",
     "output_type": "stream",
     "text": [
      "sum 0\n"
     ]
    }
   ],
   "source": [
    "find_num()"
   ]
  },
  {
   "cell_type": "code",
   "execution_count": 49,
   "id": "d121e29d-25cb-4d0e-a8ad-06d5d2e7f147",
   "metadata": {},
   "outputs": [],
   "source": [
    "def simple(*x):\n",
    "    print(x)"
   ]
  },
  {
   "cell_type": "code",
   "execution_count": 50,
   "id": "1c58d53f-e882-4fc2-8f6e-299debe786ae",
   "metadata": {},
   "outputs": [
    {
     "name": "stdout",
     "output_type": "stream",
     "text": [
      "()\n"
     ]
    }
   ],
   "source": [
    "simple()"
   ]
  },
  {
   "cell_type": "code",
   "execution_count": 51,
   "id": "171ba2a8-50dd-4ae2-ba1d-cd49e796aa50",
   "metadata": {},
   "outputs": [
    {
     "name": "stdout",
     "output_type": "stream",
     "text": [
      "(1, 2, 3)\n"
     ]
    }
   ],
   "source": [
    "simple(1,2,3)"
   ]
  },
  {
   "cell_type": "code",
   "execution_count": 57,
   "id": "18909ee5-53e6-4f42-9b26-16d0dd7961b0",
   "metadata": {},
   "outputs": [],
   "source": [
    "\n",
    "#keyword argument\n",
    "\n",
    "def intro(**data): #can pass any numbero of key, value pari\n",
    "    print(\"data type of an argument\" ,type(data))\n",
    "    \n",
    "    for key,value in data.items():\n",
    "        print(key,value)"
   ]
  },
  {
   "cell_type": "code",
   "execution_count": 58,
   "id": "d0c4d8c2-1cd2-4c08-8773-0ae9f06db90a",
   "metadata": {},
   "outputs": [
    {
     "name": "stdout",
     "output_type": "stream",
     "text": [
      "data type of an argument <class 'dict'>\n",
      "firstname pw\n",
      "lastname skills\n"
     ]
    }
   ],
   "source": [
    "intro(firstname = 'pw', lastname = 'skills')"
   ]
  },
  {
   "cell_type": "code",
   "execution_count": 54,
   "id": "2b9fc093-cf23-4807-b049-54dca4f1e132",
   "metadata": {},
   "outputs": [],
   "source": [
    "x = { 'a':1 , 'b' :2}"
   ]
  },
  {
   "cell_type": "code",
   "execution_count": 56,
   "id": "0fe6f537-0168-45e8-9870-2370adb635bf",
   "metadata": {},
   "outputs": [
    {
     "name": "stdout",
     "output_type": "stream",
     "text": [
      "a 1\n",
      "b 2\n"
     ]
    }
   ],
   "source": [
    "for keys,value in x.items():\n",
    "    print(keys, value)"
   ]
  },
  {
   "cell_type": "code",
   "execution_count": 60,
   "id": "ad107100-9e2f-49f1-867f-a1148c43bc85",
   "metadata": {},
   "outputs": [],
   "source": [
    "def simple(*y):\n",
    "    print(y)"
   ]
  },
  {
   "cell_type": "code",
   "execution_count": 61,
   "id": "292e0140-8d8b-4476-a883-3a67a3966aad",
   "metadata": {},
   "outputs": [
    {
     "name": "stdout",
     "output_type": "stream",
     "text": [
      "(1, 2, 3, 4, 5, 5, 6)\n"
     ]
    }
   ],
   "source": [
    "simple(1,2,3,4,5,5,6)"
   ]
  },
  {
   "cell_type": "code",
   "execution_count": 62,
   "id": "7a0d59c1-f6dd-4b0d-81be-5b267a1de3db",
   "metadata": {},
   "outputs": [],
   "source": [
    "def simple(**x):\n",
    "    print(x)"
   ]
  },
  {
   "cell_type": "code",
   "execution_count": 63,
   "id": "67da91e9-2d6b-459a-b603-f2812a9d79c6",
   "metadata": {},
   "outputs": [
    {
     "name": "stdout",
     "output_type": "stream",
     "text": [
      "{'name': 'Sumit'}\n"
     ]
    }
   ],
   "source": [
    "simple(name = 'Sumit')"
   ]
  },
  {
   "cell_type": "code",
   "execution_count": 64,
   "id": "747382d0-d9e9-436c-ab2b-a34f3814c91b",
   "metadata": {},
   "outputs": [
    {
     "name": "stdout",
     "output_type": "stream",
     "text": [
      "{'name': 'Sumit', 'last': 'Kumar'}\n"
     ]
    }
   ],
   "source": [
    "simple(name = 'Sumit', last = 'Kumar')"
   ]
  },
  {
   "cell_type": "code",
   "execution_count": 65,
   "id": "4e01193f-b6d4-4cfa-b66f-99d213640742",
   "metadata": {},
   "outputs": [
    {
     "name": "stdout",
     "output_type": "stream",
     "text": [
      "{'name': 'Sumit', 'last': 'Kumar', 'age': 33}\n"
     ]
    }
   ],
   "source": [
    "simple(name = 'Sumit', last = 'Kumar', age = 33)"
   ]
  },
  {
   "cell_type": "code",
   "execution_count": 66,
   "id": "e9afddc3-6eb2-4582-a6dc-7fda161294d0",
   "metadata": {},
   "outputs": [],
   "source": [
    "def show_keyvalue(**y):\n",
    "    print(y)"
   ]
  },
  {
   "cell_type": "code",
   "execution_count": 68,
   "id": "781ae003-2d8a-4f69-bb96-14c82e344174",
   "metadata": {},
   "outputs": [
    {
     "name": "stdout",
     "output_type": "stream",
     "text": [
      "{'x': 1, 'y': 2}\n"
     ]
    }
   ],
   "source": [
    "show_keyvalue(x =1, y =2)"
   ]
  },
  {
   "cell_type": "code",
   "execution_count": null,
   "id": "b28af978-f588-4370-a735-58e83dcf011d",
   "metadata": {},
   "outputs": [],
   "source": []
  }
 ],
 "metadata": {
  "kernelspec": {
   "display_name": "Python 3 (ipykernel)",
   "language": "python",
   "name": "python3"
  },
  "language_info": {
   "codemirror_mode": {
    "name": "ipython",
    "version": 3
   },
   "file_extension": ".py",
   "mimetype": "text/x-python",
   "name": "python",
   "nbconvert_exporter": "python",
   "pygments_lexer": "ipython3",
   "version": "3.10.8"
  }
 },
 "nbformat": 4,
 "nbformat_minor": 5
}
