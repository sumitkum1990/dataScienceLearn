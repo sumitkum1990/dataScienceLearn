{
 "cells": [
  {
   "cell_type": "code",
   "execution_count": 4,
   "id": "adc9919d-637f-43f5-ac31-32c53d0a8838",
   "metadata": {},
   "outputs": [],
   "source": [
    "class banckaccount:\n",
    "   #self :reference to class \n",
    "    def openaccount(self, name, email_id):\n",
    "        print(\"open an account by taking name and mail id\")\n",
    "        return name+email_id\n",
    "    \n",
    "    def deposit(self, amount):\n",
    "        print(\"I am trting to deposit anamount in my account\")\n",
    "    \n",
    "    def withdraw(self, amt_with):\n",
    "        print(\"withdrwa the amount\")\n",
    "        \n",
    "    def update_details(self, name_update, emailid_update):\n",
    "        print(\"this function to update my details\")"
   ]
  },
  {
   "cell_type": "code",
   "execution_count": 5,
   "id": "88294196-ccee-4bd1-968b-660c6078c9b8",
   "metadata": {},
   "outputs": [],
   "source": [
    "def openaccount( name, email_id):\n",
    "        print(\"open an account by taking name and mail id\")\n",
    "        return name + email_id\n",
    "    "
   ]
  },
  {
   "cell_type": "code",
   "execution_count": 6,
   "id": "962ef71d-40f9-4d1c-b8ce-a4caf0160552",
   "metadata": {},
   "outputs": [
    {
     "name": "stdout",
     "output_type": "stream",
     "text": [
      "open an account by taking name and mail id\n"
     ]
    },
    {
     "data": {
      "text/plain": [
       "'SumitSumit@gmail.com'"
      ]
     },
     "execution_count": 6,
     "metadata": {},
     "output_type": "execute_result"
    }
   ],
   "source": [
    "openaccount(\"Sumit\", \"Sumit@gmail.com\")"
   ]
  },
  {
   "cell_type": "code",
   "execution_count": 7,
   "id": "f50b3c5b-97ed-4831-b4e2-27e32d8afa55",
   "metadata": {},
   "outputs": [],
   "source": [
    "sumit = banckaccount()\n",
    "#Functions are independent blocks of code that can be called from anywhere, while methods are tied to objects or classes and need an object or class instance to be invoked.\n"
   ]
  },
  {
   "cell_type": "code",
   "execution_count": 8,
   "id": "82358afc-0d4c-4d0b-be48-1dca8a4367b3",
   "metadata": {},
   "outputs": [
    {
     "name": "stdout",
     "output_type": "stream",
     "text": [
      "open an account by taking name and mail id\n"
     ]
    },
    {
     "data": {
      "text/plain": [
       "'SumitSumit@gmail.com'"
      ]
     },
     "execution_count": 8,
     "metadata": {},
     "output_type": "execute_result"
    }
   ],
   "source": [
    "sumit.openaccount(\"Sumit\", \"Sumit@gmail.com\")"
   ]
  },
  {
   "cell_type": "code",
   "execution_count": 13,
   "id": "a2530dfa-2749-4a25-883f-e6d1a27f1f3d",
   "metadata": {},
   "outputs": [],
   "source": [
    "class list_ops:\n",
    "    \n",
    "    def extractfromindex(self, l, index):\n",
    "        return l[index]\n",
    "    \n",
    "    def extract_rane_data(self,l,start,end):\n",
    "        return l[start:end]\n",
    "    \n",
    "    def extract_even(self,l):\n",
    "        l1 = []\n",
    "        for i in l:\n",
    "            if i%2 == 0:\n",
    "                l1.append(i)\n",
    "        return l1"
   ]
  },
  {
   "cell_type": "code",
   "execution_count": 19,
   "id": "13ba58aa-1ffe-4ff3-9b94-6b04fc596add",
   "metadata": {},
   "outputs": [
    {
     "data": {
      "text/plain": [
       "7"
      ]
     },
     "execution_count": 19,
     "metadata": {},
     "output_type": "execute_result"
    }
   ],
   "source": [
    "l = [4,5,6,7,7]\n",
    "l[3]"
   ]
  },
  {
   "cell_type": "code",
   "execution_count": 15,
   "id": "5417d49b-d10f-4065-bce8-46d42116f2e0",
   "metadata": {},
   "outputs": [
    {
     "data": {
      "text/plain": [
       "5"
      ]
     },
     "execution_count": 15,
     "metadata": {},
     "output_type": "execute_result"
    }
   ],
   "source": [
    "first_obj = list_ops()\n",
    "first_obj.extractfromindex([2,3,4,5,6,6,9],3)"
   ]
  },
  {
   "cell_type": "code",
   "execution_count": 16,
   "id": "44c67f62-9edb-49cd-bba6-b7cad070d2a2",
   "metadata": {},
   "outputs": [
    {
     "data": {
      "text/plain": [
       "[2, 3, 4, 5]"
      ]
     },
     "execution_count": 16,
     "metadata": {},
     "output_type": "execute_result"
    }
   ],
   "source": [
    "first_obj.extract_rane_data([2,3,4,5,6,90],0,4)"
   ]
  },
  {
   "cell_type": "code",
   "execution_count": 17,
   "id": "df6aaadb-87b2-49ef-bb51-45383b701015",
   "metadata": {},
   "outputs": [
    {
     "data": {
      "text/plain": [
       "[4, 6]"
      ]
     },
     "execution_count": 17,
     "metadata": {},
     "output_type": "execute_result"
    }
   ],
   "source": [
    "first_obj.extract_even(l)"
   ]
  },
  {
   "cell_type": "code",
   "execution_count": 18,
   "id": "5f423905-3645-4c4f-b732-475e55790f31",
   "metadata": {},
   "outputs": [],
   "source": [
    "class list_ops:\n",
    "    \n",
    "    def extractfromindex(sumit, l, index):\n",
    "        return l[index]\n",
    "    \n",
    "    def extract_rane_data(sumit,l,start,end):\n",
    "        return l[start:end]\n",
    "    \n",
    "    def extract_even(sumit,l):\n",
    "        l1 = []\n",
    "        for i in l:\n",
    "            if i%2 == 0:\n",
    "                l1.append(i)\n",
    "        return l1"
   ]
  },
  {
   "cell_type": "code",
   "execution_count": 20,
   "id": "a4c3bae2-382f-4b02-b3e4-102c265db4ad",
   "metadata": {},
   "outputs": [
    {
     "data": {
      "text/plain": [
       "5"
      ]
     },
     "execution_count": 20,
     "metadata": {},
     "output_type": "execute_result"
    }
   ],
   "source": [
    "first_obj = list_ops()\n",
    "first_obj.extractfromindex([2,3,4,5,6,6,9],3)"
   ]
  },
  {
   "cell_type": "code",
   "execution_count": 30,
   "id": "05b8c236-400d-4be6-8796-76d23f8343c3",
   "metadata": {},
   "outputs": [],
   "source": [
    "class list_ops:\n",
    "    \n",
    "    a = 10\n",
    "    l = [1,2,3,4,5,6]\n",
    "    def extractfromindex(sumit, l, index):\n",
    "        return l[index]\n",
    "    \n",
    "    def extract_rane_data(sumit,l,start,end):\n",
    "        return l[start:end]\n",
    "    \n",
    "    def extract_even(sumit,l):\n",
    "        l1 = []\n",
    "        for i in l:\n",
    "            if i%2 == 0:\n",
    "                l1.append(i)\n",
    "        return l1"
   ]
  },
  {
   "cell_type": "code",
   "execution_count": 22,
   "id": "b450da73-ad92-4fd3-a5ea-8032d755fcaf",
   "metadata": {},
   "outputs": [
    {
     "ename": "AttributeError",
     "evalue": "'list_ops' object has no attribute 'a'",
     "output_type": "error",
     "traceback": [
      "\u001b[0;31m---------------------------------------------------------------------------\u001b[0m",
      "\u001b[0;31mAttributeError\u001b[0m                            Traceback (most recent call last)",
      "Cell \u001b[0;32mIn[22], line 1\u001b[0m\n\u001b[0;32m----> 1\u001b[0m \u001b[43mfirst_obj\u001b[49m\u001b[38;5;241;43m.\u001b[39;49m\u001b[43ma\u001b[49m\n",
      "\u001b[0;31mAttributeError\u001b[0m: 'list_ops' object has no attribute 'a'"
     ]
    }
   ],
   "source": [
    "first_obj"
   ]
  },
  {
   "cell_type": "code",
   "execution_count": 26,
   "id": "8ad132da-e354-424a-af3d-dbb49af56dbe",
   "metadata": {},
   "outputs": [],
   "source": [
    "first_obj = list_ops()\n"
   ]
  },
  {
   "cell_type": "code",
   "execution_count": 24,
   "id": "7390e15d-1645-4601-971c-cfa498459763",
   "metadata": {},
   "outputs": [
    {
     "data": {
      "text/plain": [
       "10"
      ]
     },
     "execution_count": 24,
     "metadata": {},
     "output_type": "execute_result"
    }
   ],
   "source": [
    "first_obj.a"
   ]
  },
  {
   "cell_type": "code",
   "execution_count": 27,
   "id": "b99cdee2-4a63-4ab5-a3ca-a8daa4b8c216",
   "metadata": {},
   "outputs": [
    {
     "data": {
      "text/plain": [
       "[1, 2, 3, 4, 5, 6]"
      ]
     },
     "execution_count": 27,
     "metadata": {},
     "output_type": "execute_result"
    }
   ],
   "source": [
    "first_obj.l"
   ]
  },
  {
   "cell_type": "code",
   "execution_count": 29,
   "id": "9aa052a1-76e1-4597-bcc0-8a2abfb45023",
   "metadata": {},
   "outputs": [
    {
     "data": {
      "text/plain": [
       "5"
      ]
     },
     "execution_count": 29,
     "metadata": {},
     "output_type": "execute_result"
    }
   ],
   "source": [
    "first_obj.extractfromindex((first_obj.l), 4)"
   ]
  },
  {
   "cell_type": "code",
   "execution_count": 31,
   "id": "b749740c-48b5-40f5-aa41-d5774fe61d14",
   "metadata": {},
   "outputs": [],
   "source": [
    "second_obj = list_ops()"
   ]
  },
  {
   "cell_type": "code",
   "execution_count": 32,
   "id": "16178f7e-002f-4699-aef9-94f491abf324",
   "metadata": {},
   "outputs": [
    {
     "data": {
      "text/plain": [
       "[1, 2, 3, 4, 5, 6]"
      ]
     },
     "execution_count": 32,
     "metadata": {},
     "output_type": "execute_result"
    }
   ],
   "source": [
    "second_obj.l"
   ]
  },
  {
   "cell_type": "code",
   "execution_count": 33,
   "id": "ba767f1a-3c50-42a0-86e7-4d59ec9046a0",
   "metadata": {},
   "outputs": [
    {
     "data": {
      "text/plain": [
       "[1, 2, 3, 4, 5, 6]"
      ]
     },
     "execution_count": 33,
     "metadata": {},
     "output_type": "execute_result"
    }
   ],
   "source": [
    "third_obj = list_ops()\n",
    "third_obj.l"
   ]
  },
  {
   "cell_type": "code",
   "execution_count": 34,
   "id": "c217c145-129b-4653-b2e1-31ffd2217c80",
   "metadata": {},
   "outputs": [],
   "source": [
    "class list_ops:\n",
    "    \n",
    "    #a = 10\n",
    "    #l = [1,2,3,4,5,6]\n",
    "    \n",
    "    def __init__(sumit,l):# dunder method\n",
    "        sumit.l=l#class variable\n",
    "    \n",
    "    def extractfromindex(sumit, l, index):\n",
    "        return l[index]\n",
    "    \n",
    "    def extract_rane_data(sumit,l,start,end):\n",
    "        return l[start:end]\n",
    "    \n",
    "    def extract_even(sumit,l):\n",
    "        l1 = []\n",
    "        for i in l:\n",
    "            if i%2 == 0:\n",
    "                l1.append(i)\n",
    "        return l1"
   ]
  },
  {
   "cell_type": "code",
   "execution_count": 37,
   "id": "055d4ee2-f08d-460f-a077-8409aa434749",
   "metadata": {},
   "outputs": [
    {
     "data": {
      "text/plain": [
       "[2, 3, 4, 5, 6, 7, 8]"
      ]
     },
     "execution_count": 37,
     "metadata": {},
     "output_type": "execute_result"
    }
   ],
   "source": [
    "second_obj = list_ops([2,3,4,5,6,7,8])\n",
    "second_obj.l\n"
   ]
  },
  {
   "cell_type": "code",
   "execution_count": 39,
   "id": "09b7f656-29c3-4972-a272-0a59c092b272",
   "metadata": {},
   "outputs": [],
   "source": [
    "class list_ops:\n",
    "    \n",
    "    #a = 10\n",
    "    #l = [1,2,3,4,5,6]\n",
    "    \n",
    "    def __init__(sumit,l):# dunder method\n",
    "        sumit.l1=l#class variable\n",
    "    \n",
    "    def extractfromindex(sumit, l, index):\n",
    "        return l[index]\n",
    "    \n",
    "    def extract_rane_data(sumit,l,start,end):\n",
    "        return l[start:end]\n",
    "    \n",
    "    def extract_even(sumit,l):\n",
    "        l1 = []\n",
    "        for i in l:\n",
    "            if i%2 == 0:\n",
    "                l1.append(i)\n",
    "        return l1"
   ]
  },
  {
   "cell_type": "code",
   "execution_count": 40,
   "id": "195efeac-23cc-4459-ac77-52a85eb4d269",
   "metadata": {},
   "outputs": [
    {
     "ename": "AttributeError",
     "evalue": "'list_ops' object has no attribute 'l'",
     "output_type": "error",
     "traceback": [
      "\u001b[0;31m---------------------------------------------------------------------------\u001b[0m",
      "\u001b[0;31mAttributeError\u001b[0m                            Traceback (most recent call last)",
      "Cell \u001b[0;32mIn[40], line 2\u001b[0m\n\u001b[1;32m      1\u001b[0m second_obj \u001b[38;5;241m=\u001b[39m list_ops([\u001b[38;5;241m2\u001b[39m,\u001b[38;5;241m3\u001b[39m,\u001b[38;5;241m4\u001b[39m,\u001b[38;5;241m5\u001b[39m,\u001b[38;5;241m6\u001b[39m,\u001b[38;5;241m7\u001b[39m,\u001b[38;5;241m8\u001b[39m])\n\u001b[0;32m----> 2\u001b[0m \u001b[43msecond_obj\u001b[49m\u001b[38;5;241;43m.\u001b[39;49m\u001b[43ml\u001b[49m\n",
      "\u001b[0;31mAttributeError\u001b[0m: 'list_ops' object has no attribute 'l'"
     ]
    }
   ],
   "source": [
    "second_obj = list_ops([2,3,4,5,6,7,8])\n",
    "second_obj.l\n"
   ]
  },
  {
   "cell_type": "code",
   "execution_count": 41,
   "id": "ec46493d-b74e-4d7c-881c-cda7e85531dd",
   "metadata": {},
   "outputs": [
    {
     "data": {
      "text/plain": [
       "[2, 3, 4, 5, 6, 7, 8]"
      ]
     },
     "execution_count": 41,
     "metadata": {},
     "output_type": "execute_result"
    }
   ],
   "source": [
    "second_obj.l1"
   ]
  },
  {
   "cell_type": "code",
   "execution_count": 42,
   "id": "b5b14c4b-6dba-4359-aed9-24208431e839",
   "metadata": {},
   "outputs": [],
   "source": [
    "class list_ops:\n",
    "    \n",
    "    #a = 10\n",
    "    #l = [1,2,3,4,5,6]\n",
    "    \n",
    "    def __init__(sumit,l):# dunder method\n",
    "        sumit.l1=l#class variable\n",
    "        sumit.l2= 40\n",
    "        sumit.l3= \"Sumit kumar\"\n",
    "        sumit.l4= [2,3,4,5]\n",
    "        sumit.l5 ={\"key\":\"sumit@gmail.com\"}\n",
    "        \n",
    "        \n",
    "        \n",
    "        \n",
    "    def extractfromindex(sumit, l, index):\n",
    "        return l[index]\n",
    "    \n",
    "    def extract_rane_data(sumit,l,start,end):\n",
    "        return l[start:end]\n",
    "    \n",
    "    def extract_even(sumit,l):\n",
    "        l1 = []\n",
    "        for i in l:\n",
    "            if i%2 == 0:\n",
    "                l1.append(i)\n",
    "        return l1"
   ]
  },
  {
   "cell_type": "code",
   "execution_count": 43,
   "id": "f6eea2ab-5bfa-4b82-9598-d57546567291",
   "metadata": {},
   "outputs": [
    {
     "data": {
      "text/plain": [
       "[2, 3, 4, 5, 6, 7, 8]"
      ]
     },
     "execution_count": 43,
     "metadata": {},
     "output_type": "execute_result"
    }
   ],
   "source": [
    "third_obj = list_ops([2,3,4,5,6,7,8])\n",
    "third_obj.l1"
   ]
  },
  {
   "cell_type": "code",
   "execution_count": 44,
   "id": "49f037e3-a1a7-4a9b-a971-043fb76f566a",
   "metadata": {},
   "outputs": [
    {
     "data": {
      "text/plain": [
       "40"
      ]
     },
     "execution_count": 44,
     "metadata": {},
     "output_type": "execute_result"
    }
   ],
   "source": [
    "third_obj.l2"
   ]
  },
  {
   "cell_type": "code",
   "execution_count": 46,
   "id": "e8219d6e-fd6a-4734-8a2f-dc0dd18aef63",
   "metadata": {},
   "outputs": [
    {
     "data": {
      "text/plain": [
       "'Sumit kumar'"
      ]
     },
     "execution_count": 46,
     "metadata": {},
     "output_type": "execute_result"
    }
   ],
   "source": [
    "third_obj.l3\n"
   ]
  },
  {
   "cell_type": "code",
   "execution_count": 47,
   "id": "f9f6c5cb-6788-4b71-9d5f-39627da7831f",
   "metadata": {},
   "outputs": [
    {
     "data": {
      "text/plain": [
       "[2, 3, 4, 5]"
      ]
     },
     "execution_count": 47,
     "metadata": {},
     "output_type": "execute_result"
    }
   ],
   "source": [
    "third_obj.l4\n"
   ]
  },
  {
   "cell_type": "code",
   "execution_count": 48,
   "id": "94e83d0e-1ce1-4db7-90f1-6abfdc544a43",
   "metadata": {},
   "outputs": [
    {
     "data": {
      "text/plain": [
       "{'key': 'sumit@gmail.com'}"
      ]
     },
     "execution_count": 48,
     "metadata": {},
     "output_type": "execute_result"
    }
   ],
   "source": [
    "third_obj.l5"
   ]
  },
  {
   "cell_type": "code",
   "execution_count": 57,
   "id": "c7833567-c26d-46ce-98de-0ab7692927b5",
   "metadata": {},
   "outputs": [],
   "source": [
    "class book:\n",
    "    \n",
    "    def __init__(self, name, tittle, pageno):\n",
    "        self.name_of_book= name\n",
    "        self.tittle_of_book= tittle\n",
    "        self.page_no= pageno\n",
    "        \n",
    "    \n",
    "    def extract_details(self):\n",
    "        print(self.name_of_book, self.tittle_of_book)\n",
    "        \n",
    "    def print_page(self):\n",
    "        print(self.page_no)"
   ]
  },
  {
   "cell_type": "code",
   "execution_count": 50,
   "id": "a6494717-632b-4299-acbc-a7452c0689a8",
   "metadata": {},
   "outputs": [],
   "source": [
    "sumit = book('data', 'practical dsa',34)"
   ]
  },
  {
   "cell_type": "code",
   "execution_count": 51,
   "id": "31a5c979-358c-450f-bcf4-79dc43c1d290",
   "metadata": {},
   "outputs": [],
   "source": [
    "ronik = book('data scince', 'implemmetation of DS',908)\n",
    "wasim = book('big data ', 'implemmetation of  Big data',654)"
   ]
  },
  {
   "cell_type": "code",
   "execution_count": 52,
   "id": "ad80bd77-d23c-4ff5-9d81-4b37f5c9355e",
   "metadata": {},
   "outputs": [
    {
     "name": "stdout",
     "output_type": "stream",
     "text": [
      "data practical dsa\n"
     ]
    }
   ],
   "source": [
    "sumit.extract_details()"
   ]
  },
  {
   "cell_type": "code",
   "execution_count": 53,
   "id": "7906767d-3303-47ec-9340-196be4eee370",
   "metadata": {},
   "outputs": [
    {
     "data": {
      "text/plain": [
       "34"
      ]
     },
     "execution_count": 53,
     "metadata": {},
     "output_type": "execute_result"
    }
   ],
   "source": [
    "sumit.page_no"
   ]
  },
  {
   "cell_type": "code",
   "execution_count": 54,
   "id": "34138b41-c742-4186-9c93-5bca4f45f587",
   "metadata": {},
   "outputs": [
    {
     "data": {
      "text/plain": [
       "<bound method book.print_page of <__main__.book object at 0x7f64e535bf70>>"
      ]
     },
     "execution_count": 54,
     "metadata": {},
     "output_type": "execute_result"
    }
   ],
   "source": [
    "ronik.print_page"
   ]
  },
  {
   "cell_type": "code",
   "execution_count": 55,
   "id": "aedcb580-319f-4241-b6f5-ab2d4f62de52",
   "metadata": {},
   "outputs": [
    {
     "data": {
      "text/plain": [
       "908"
      ]
     },
     "execution_count": 55,
     "metadata": {},
     "output_type": "execute_result"
    }
   ],
   "source": [
    "ronik.page_no"
   ]
  },
  {
   "cell_type": "code",
   "execution_count": 58,
   "id": "8472f678-d787-4f94-8f47-01741e309389",
   "metadata": {},
   "outputs": [
    {
     "ename": "TypeError",
     "evalue": "book.__init__() missing 3 required positional arguments: 'name', 'tittle', and 'pageno'",
     "output_type": "error",
     "traceback": [
      "\u001b[0;31m---------------------------------------------------------------------------\u001b[0m",
      "\u001b[0;31mTypeError\u001b[0m                                 Traceback (most recent call last)",
      "Cell \u001b[0;32mIn[58], line 1\u001b[0m\n\u001b[0;32m----> 1\u001b[0m student1 \u001b[38;5;241m=\u001b[39m \u001b[43mbook\u001b[49m\u001b[43m(\u001b[49m\u001b[43m)\u001b[49m\n",
      "\u001b[0;31mTypeError\u001b[0m: book.__init__() missing 3 required positional arguments: 'name', 'tittle', and 'pageno'"
     ]
    }
   ],
   "source": [
    "student1 = book()\n"
   ]
  },
  {
   "cell_type": "code",
   "execution_count": 59,
   "id": "fbf5c4b9-4f46-4546-9e00-a01e316b42fc",
   "metadata": {},
   "outputs": [],
   "source": [
    "class gmail_ops:\n",
    "    \n",
    "    def __init__(self, userid, password):#constructor\n",
    "        self.userid = userid\n",
    "        self.password = password\n",
    "        self.url = \"https://mail.google.com/mail/u/0/#inbox\"\n",
    "        \n",
    "    def login(self):\n",
    "        print(\"take userid\"+ self.userid + \"take password\" + self.password + \"hit url\" + self.url)\n",
    "        print(\"login\")\n",
    "        \n",
    "    def reply_mail(self):\n",
    "        print(\"reply mail for\" + self.userid + \" \"+ self.password)\n",
    "    \n",
    "    def reply_mail(self):\n",
    "        print(\"reply mail for\" + self.userid + \" \"+ self.password)\n",
    "    "
   ]
  },
  {
   "cell_type": "code",
   "execution_count": 60,
   "id": "87768493-1d18-4149-be95-ae67643466cd",
   "metadata": {},
   "outputs": [
    {
     "name": "stdout",
     "output_type": "stream",
     "text": [
      "take useriduser1take passworduser1passhit urlhttps://mail.google.com/mail/u/0/#inbox\n",
      "login\n"
     ]
    }
   ],
   "source": [
    "user1  = gmail_ops(\"user1\", \"user1pass\")\n",
    "user1.login()"
   ]
  },
  {
   "cell_type": "code",
   "execution_count": 61,
   "id": "33a5a9cc-c8b4-40c9-a141-66d34c59d035",
   "metadata": {},
   "outputs": [
    {
     "name": "stdout",
     "output_type": "stream",
     "text": [
      "reply mail foruser1 user1pass\n"
     ]
    }
   ],
   "source": [
    "user1.reply_mail()"
   ]
  },
  {
   "cell_type": "code",
   "execution_count": 62,
   "id": "8a9e3474-f6da-46a1-9e27-bf2ecd3a0650",
   "metadata": {},
   "outputs": [
    {
     "name": "stdout",
     "output_type": "stream",
     "text": [
      "reply mail foruser1 user1pass\n"
     ]
    }
   ],
   "source": [
    "user1.reply_mail()"
   ]
  },
  {
   "cell_type": "code",
   "execution_count": 64,
   "id": "53c6970b-e547-459c-887d-a9d0327db614",
   "metadata": {},
   "outputs": [],
   "source": [
    "from functools import reduce\n",
    "\n",
    "class calculator:\n",
    "    \n",
    "    def add(self, *args):\n",
    "        return sum(args)\n",
    "    \n",
    "    def subtraction(self, *args):\n",
    "        \n",
    "        return reduce(lambda a,b : a-b, args)\n",
    "    \n",
    "    def div(self, *args):\n",
    "        return reduce(lambda a,b :a/b, args)"
   ]
  },
  {
   "cell_type": "code",
   "execution_count": 65,
   "id": "50f35ea7-ad32-4307-91b8-5a838cd00762",
   "metadata": {},
   "outputs": [],
   "source": [
    "himanshu = calculator()"
   ]
  },
  {
   "cell_type": "code",
   "execution_count": 67,
   "id": "f76df26e-23dc-4ddf-8526-ed7972cf23b4",
   "metadata": {},
   "outputs": [
    {
     "data": {
      "text/plain": [
       "18"
      ]
     },
     "execution_count": 67,
     "metadata": {},
     "output_type": "execute_result"
    }
   ],
   "source": [
    "himanshu.add(3,4,5,6)"
   ]
  },
  {
   "cell_type": "code",
   "execution_count": 68,
   "id": "a27f284f-37a4-47b7-aa4c-c5b1aca008d0",
   "metadata": {},
   "outputs": [
    {
     "data": {
      "text/plain": [
       "0.0004464285714285714"
      ]
     },
     "execution_count": 68,
     "metadata": {},
     "output_type": "execute_result"
    }
   ],
   "source": [
    "himanshu.div(3,4,5,6,7,8)"
   ]
  },
  {
   "cell_type": "code",
   "execution_count": 69,
   "id": "0002d0c5-9d25-409d-a458-00a903983dd8",
   "metadata": {},
   "outputs": [],
   "source": [
    "karan = calculator()"
   ]
  },
  {
   "cell_type": "code",
   "execution_count": 70,
   "id": "4cc23cd5-d6f6-495d-b90f-f3322b18e4b6",
   "metadata": {},
   "outputs": [
    {
     "data": {
      "text/plain": [
       "-26"
      ]
     },
     "execution_count": 70,
     "metadata": {},
     "output_type": "execute_result"
    }
   ],
   "source": [
    "karan.subtraction(1,2,3,4,5,6,7)"
   ]
  },
  {
   "cell_type": "code",
   "execution_count": 71,
   "id": "52d6efd3-1740-4963-97e7-654884a89e50",
   "metadata": {},
   "outputs": [],
   "source": [
    "from functools import reduce\n",
    "\n",
    "class calculator:\n",
    "    \n",
    "    def __init__(self , username):\n",
    "        self.username = username\n",
    "    \n",
    "    def add(self, *args):\n",
    "        return self.username, sum(args)\n",
    "    \n",
    "    def subtraction(self, *args):\n",
    "        \n",
    "        return self.username, reduce(lambda a,b : a-b, args)\n",
    "    \n",
    "    def div(self, *args):\n",
    "        return self.username, reduce(lambda a,b :a/b, args)"
   ]
  },
  {
   "cell_type": "code",
   "execution_count": 72,
   "id": "7c52a58c-9fc3-43dc-a0b0-cb3bdc90e911",
   "metadata": {},
   "outputs": [],
   "source": [
    "himanshu = calculator(\"chulbul pandey\") "
   ]
  },
  {
   "cell_type": "code",
   "execution_count": 73,
   "id": "9c8d82e4-7e86-4ea0-8101-58e2f9b170b4",
   "metadata": {},
   "outputs": [
    {
     "data": {
      "text/plain": [
       "('chulbul pandey', 24)"
      ]
     },
     "execution_count": 73,
     "metadata": {},
     "output_type": "execute_result"
    }
   ],
   "source": [
    "himanshu.add(12,3,4,5)"
   ]
  },
  {
   "cell_type": "code",
   "execution_count": 75,
   "id": "38b30fe1-ce86-4a8c-b91e-9f5dbfba1463",
   "metadata": {},
   "outputs": [
    {
     "data": {
      "text/plain": [
       "'chulbul pandey'"
      ]
     },
     "execution_count": 75,
     "metadata": {},
     "output_type": "execute_result"
    }
   ],
   "source": [
    "himanshu.username\n"
   ]
  },
  {
   "cell_type": "code",
   "execution_count": 76,
   "id": "b3621ea5-469d-4e93-b630-4be09f9b6aa0",
   "metadata": {},
   "outputs": [
    {
     "data": {
      "text/plain": [
       "('chulbul pandey', -16)"
      ]
     },
     "execution_count": 76,
     "metadata": {},
     "output_type": "execute_result"
    }
   ],
   "source": [
    "himanshu.subtraction(2,3,4,5,6)"
   ]
  },
  {
   "cell_type": "code",
   "execution_count": 77,
   "id": "591be473-dbdf-425c-8716-a33dc1c882c3",
   "metadata": {},
   "outputs": [
    {
     "data": {
      "text/plain": [
       "10"
      ]
     },
     "execution_count": 77,
     "metadata": {},
     "output_type": "execute_result"
    }
   ],
   "source": [
    "karan.add(1,2,3,4)"
   ]
  },
  {
   "cell_type": "code",
   "execution_count": 78,
   "id": "fa9e304a-4c57-48a9-a74a-c94ac9e4d888",
   "metadata": {},
   "outputs": [
    {
     "ename": "TypeError",
     "evalue": "unsupported operand type(s) for +: 'int' and 'str'",
     "output_type": "error",
     "traceback": [
      "\u001b[0;31m---------------------------------------------------------------------------\u001b[0m",
      "\u001b[0;31mTypeError\u001b[0m                                 Traceback (most recent call last)",
      "Cell \u001b[0;32mIn[78], line 1\u001b[0m\n\u001b[0;32m----> 1\u001b[0m \u001b[43mkaran\u001b[49m\u001b[38;5;241;43m.\u001b[39;49m\u001b[43madd\u001b[49m\u001b[43m(\u001b[49m\u001b[38;5;241;43m1\u001b[39;49m\u001b[43m,\u001b[49m\u001b[38;5;241;43m2\u001b[39;49m\u001b[43m,\u001b[49m\u001b[38;5;124;43m\"\u001b[39;49m\u001b[38;5;124;43mabc\u001b[39;49m\u001b[38;5;124;43m\"\u001b[39;49m\u001b[43m,\u001b[49m\u001b[38;5;241;43m3\u001b[39;49m\u001b[43m)\u001b[49m\n",
      "Cell \u001b[0;32mIn[64], line 6\u001b[0m, in \u001b[0;36mcalculator.add\u001b[0;34m(self, *args)\u001b[0m\n\u001b[1;32m      5\u001b[0m \u001b[38;5;28;01mdef\u001b[39;00m \u001b[38;5;21madd\u001b[39m(\u001b[38;5;28mself\u001b[39m, \u001b[38;5;241m*\u001b[39margs):\n\u001b[0;32m----> 6\u001b[0m     \u001b[38;5;28;01mreturn\u001b[39;00m \u001b[38;5;28;43msum\u001b[39;49m\u001b[43m(\u001b[49m\u001b[43margs\u001b[49m\u001b[43m)\u001b[49m\n",
      "\u001b[0;31mTypeError\u001b[0m: unsupported operand type(s) for +: 'int' and 'str'"
     ]
    }
   ],
   "source": [
    "karan.add(1,2,\"abc\",3)"
   ]
  },
  {
   "cell_type": "code",
   "execution_count": 79,
   "id": "b28e3c12-ea91-472f-9f61-2a47621ed67c",
   "metadata": {},
   "outputs": [],
   "source": [
    "from functools import reduce\n",
    "\n",
    "try :\n",
    "class calculator:\n",
    "    except Exception as e :\n",
    "    def __init__(self , username):\n",
    "        self.username = username\n",
    "    \n",
    "    def add(self, *args):\n",
    "        return self.username, sum(args)\n",
    "    \n",
    "    def subtraction(self, *args):\n",
    "        \n",
    "        return self.username, reduce(lambda a,b : a-b, args)\n",
    "    \n",
    "    def div(self, *args):\n",
    "        return self.username, reduce(lambda a,b :a/b, args)"
   ]
  },
  {
   "cell_type": "code",
   "execution_count": null,
   "id": "fcfb9a08-59c2-436b-b31d-5e2bfed97502",
   "metadata": {},
   "outputs": [],
   "source": [
    "try:\n",
    "     f  =  open(\"text8.txt\", 'w')\n",
    "     f.write(\"this is my message\")\n",
    "     f.close()\n",
    "except Exception as e :\n",
    "    print(\"there is some issue with my code\",e)\n",
    "\n",
    "else : # else will only execut if there is no exception in try block\n",
    "        f.close()\n",
    "        print(\"this block will execute once try will execute itself withour an exception\")\n",
    "        \n",
    "finally:    \n",
    "    print(\"Finally alyways execute\")"
   ]
  }
 ],
 "metadata": {
  "kernelspec": {
   "display_name": "Python 3 (ipykernel)",
   "language": "python",
   "name": "python3"
  },
  "language_info": {
   "codemirror_mode": {
    "name": "ipython",
    "version": 3
   },
   "file_extension": ".py",
   "mimetype": "text/x-python",
   "name": "python",
   "nbconvert_exporter": "python",
   "pygments_lexer": "ipython3",
   "version": "3.10.8"
  }
 },
 "nbformat": 4,
 "nbformat_minor": 5
}
